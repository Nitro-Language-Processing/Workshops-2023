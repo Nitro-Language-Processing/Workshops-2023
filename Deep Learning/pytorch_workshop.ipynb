{
  "cells": [
    {
      "cell_type": "markdown",
      "id": "99ab18a4",
      "metadata": {
        "id": "99ab18a4"
      },
      "source": [
        "### What is PyTorch?\n",
        "\n",
        "PyTorch is a Python library used with two purposes:\n",
        "  * represents a replacement for the NumPy library, which can be used by the computational power of components such as GPUs\n",
        "  * contains the implementation of an automatic derivation system, useful for training neural networks"
      ]
    },
    {
      "cell_type": "code",
      "execution_count": null,
      "id": "3545f501",
      "metadata": {
        "id": "3545f501",
        "colab": {
          "base_uri": "https://localhost:8080/"
        },
        "outputId": "ae8b0723-aa27-45ec-8a3d-208f54cb4b28"
      },
      "outputs": [
        {
          "output_type": "stream",
          "name": "stdout",
          "text": [
            "Looking in indexes: https://pypi.org/simple, https://us-python.pkg.dev/colab-wheels/public/simple/\n",
            "Requirement already satisfied: torch in /usr/local/lib/python3.7/dist-packages (1.12.1+cu113)\n",
            "Requirement already satisfied: torchvision in /usr/local/lib/python3.7/dist-packages (0.13.1+cu113)\n",
            "Requirement already satisfied: typing-extensions in /usr/local/lib/python3.7/dist-packages (from torch) (4.1.1)\n",
            "Requirement already satisfied: numpy in /usr/local/lib/python3.7/dist-packages (from torchvision) (1.21.6)\n",
            "Requirement already satisfied: pillow!=8.3.*,>=5.3.0 in /usr/local/lib/python3.7/dist-packages (from torchvision) (7.1.2)\n",
            "Requirement already satisfied: requests in /usr/local/lib/python3.7/dist-packages (from torchvision) (2.23.0)\n",
            "Requirement already satisfied: idna<3,>=2.5 in /usr/local/lib/python3.7/dist-packages (from requests->torchvision) (2.10)\n",
            "Requirement already satisfied: chardet<4,>=3.0.2 in /usr/local/lib/python3.7/dist-packages (from requests->torchvision) (3.0.4)\n",
            "Requirement already satisfied: certifi>=2017.4.17 in /usr/local/lib/python3.7/dist-packages (from requests->torchvision) (2022.9.24)\n",
            "Requirement already satisfied: urllib3!=1.25.0,!=1.25.1,<1.26,>=1.21.1 in /usr/local/lib/python3.7/dist-packages (from requests->torchvision) (1.24.3)\n"
          ]
        }
      ],
      "source": [
        "!pip install torch torchvision"
      ]
    },
    {
      "cell_type": "markdown",
      "id": "929fa470",
      "metadata": {
        "id": "929fa470"
      },
      "source": [
        "## Tensors\n",
        "\n",
        "Tensors are a special data structure, similar to vectors and matrices. Tensors are used in PyTorch to store model input and output, but also model parameters.\n",
        "\n",
        "Tensors are very similar to NumPy arrays, with the difference that they can be processed by GPU or other types of specialized hardware."
      ]
    },
    {
      "cell_type": "code",
      "execution_count": null,
      "id": "c0696ee2",
      "metadata": {
        "id": "c0696ee2"
      },
      "outputs": [],
      "source": [
        "import torch\n",
        "import numpy as np\n",
        "import string\n",
        "\n",
        "import matplotlib.pyplot as plt\n",
        "plt.rcParams.update({'font.size': 16})\n",
        "\n",
        "from tqdm import trange"
      ]
    },
    {
      "cell_type": "markdown",
      "id": "4d2305fe",
      "metadata": {
        "id": "4d2305fe"
      },
      "source": [
        "### Tensors Initialization\n",
        "\n",
        "**Using Python lists**"
      ]
    },
    {
      "cell_type": "code",
      "execution_count": null,
      "id": "84c15fb0",
      "metadata": {
        "id": "84c15fb0",
        "outputId": "e9462728-adcc-48dc-9e25-734f42bb90f0",
        "colab": {
          "base_uri": "https://localhost:8080/"
        }
      },
      "outputs": [
        {
          "output_type": "stream",
          "name": "stdout",
          "text": [
            "tensor([[1, 2],\n",
            "        [3, 4]])\n"
          ]
        }
      ],
      "source": [
        "data = [[1, 2], [3, 4]]\n",
        "t_from_list = torch.tensor(data)\n",
        "print(t_from_list)"
      ]
    },
    {
      "cell_type": "markdown",
      "id": "d2989ee3",
      "metadata": {
        "id": "d2989ee3"
      },
      "source": [
        "**Using NumPy arrays**"
      ]
    },
    {
      "cell_type": "code",
      "execution_count": null,
      "id": "cb7d55ce",
      "metadata": {
        "id": "cb7d55ce",
        "outputId": "90beddb0-6d1c-4396-a472-03a8f14c34fb",
        "colab": {
          "base_uri": "https://localhost:8080/"
        }
      },
      "outputs": [
        {
          "output_type": "stream",
          "name": "stdout",
          "text": [
            "tensor([[1, 2],\n",
            "        [3, 4]])\n"
          ]
        }
      ],
      "source": [
        "np_array = np.array(data)\n",
        "t_from_np = torch.from_numpy(np_array)\n",
        "print(t_from_np)"
      ]
    },
    {
      "cell_type": "markdown",
      "id": "1c8d2d7c",
      "metadata": {
        "id": "1c8d2d7c"
      },
      "source": [
        "**Using another tensor**\n",
        "\n",
        "The new tensor retains the properties (shape + data type) of the original tensor, if not explicitly specified otherwise."
      ]
    },
    {
      "cell_type": "code",
      "execution_count": null,
      "id": "94017d07",
      "metadata": {
        "id": "94017d07",
        "outputId": "98c6e8ed-cd2d-4df2-9a9e-edcc1d4b35fd",
        "colab": {
          "base_uri": "https://localhost:8080/"
        }
      },
      "outputs": [
        {
          "output_type": "stream",
          "name": "stdout",
          "text": [
            "Tensor plin de 1:\n",
            "tensor([[1, 1],\n",
            "        [1, 1]])\n",
            "\n",
            "Tensor random:\n",
            "tensor([[0.0531, 0.8015],\n",
            "        [0.2837, 0.5461]])\n",
            "\n"
          ]
        }
      ],
      "source": [
        "t_ones = torch.ones_like(t_from_list)  # same properties as t_from_list\n",
        "print(f\"Tensor plin de 1:\\n{t_ones}\\n\")\n",
        "\n",
        "t_rand = torch.rand_like(t_from_list, dtype=torch.float)  # overrids the datatype\n",
        "print(f\"Tensor random:\\n{t_rand}\\n\")"
      ]
    },
    {
      "cell_type": "markdown",
      "id": "9cc2f9b7",
      "metadata": {
        "id": "9cc2f9b7"
      },
      "source": [
        "**Using random and costant values**"
      ]
    },
    {
      "cell_type": "code",
      "execution_count": null,
      "id": "205baa85",
      "metadata": {
        "id": "205baa85",
        "outputId": "8a8c6ec3-81c8-4c3f-87fd-20117f01ba12",
        "colab": {
          "base_uri": "https://localhost:8080/"
        }
      },
      "outputs": [
        {
          "output_type": "stream",
          "name": "stdout",
          "text": [
            "Random tensor:\n",
            "tensor([[[0.9149, 0.2065],\n",
            "         [0.5955, 0.9774],\n",
            "         [0.2177, 0.4599]],\n",
            "\n",
            "        [[0.6134, 0.1283],\n",
            "         [0.4947, 0.1102],\n",
            "         [0.8539, 0.6437]]])\n",
            "\n",
            "Ones tensor:\n",
            "tensor([[[1., 1.],\n",
            "         [1., 1.],\n",
            "         [1., 1.]],\n",
            "\n",
            "        [[1., 1.],\n",
            "         [1., 1.],\n",
            "         [1., 1.]]])\n",
            "\n",
            "Zeros tensor:\n",
            "tensor([[[0., 0.],\n",
            "         [0., 0.],\n",
            "         [0., 0.]],\n",
            "\n",
            "        [[0., 0.],\n",
            "         [0., 0.],\n",
            "         [0., 0.]]])\n",
            "\n"
          ]
        }
      ],
      "source": [
        "shape = (2, 3, 2)\n",
        "rand_tensor = torch.rand(shape)\n",
        "ones_tensor = torch.ones(shape)\n",
        "zeros_tensor = torch.zeros(shape)\n",
        "\n",
        "print(f\"Random tensor:\\n{rand_tensor}\\n\")\n",
        "print(f\"Ones tensor:\\n{ones_tensor}\\n\")\n",
        "print(f\"Zeros tensor:\\n{zeros_tensor}\\n\")"
      ]
    },
    {
      "cell_type": "markdown",
      "id": "2787ee9d",
      "metadata": {
        "id": "2787ee9d"
      },
      "source": [
        "### Tensor properties"
      ]
    },
    {
      "cell_type": "code",
      "execution_count": null,
      "id": "16961ff1",
      "metadata": {
        "id": "16961ff1",
        "outputId": "28f06dc6-99eb-45aa-d1b4-5ba4bdcfcb6f",
        "colab": {
          "base_uri": "https://localhost:8080/"
        }
      },
      "outputs": [
        {
          "output_type": "stream",
          "name": "stdout",
          "text": [
            "Shape: torch.Size([3, 4])\n",
            "Tip de date: torch.float32\n",
            "Device: cpu\n"
          ]
        }
      ],
      "source": [
        "tensor = torch.rand(3, 4)\n",
        "\n",
        "print(f\"Shape: {tensor.shape}\")\n",
        "print(f\"Tip de date: {tensor.dtype}\")\n",
        "print(f\"Device: {tensor.device}\")"
      ]
    },
    {
      "cell_type": "markdown",
      "id": "519d5ce8",
      "metadata": {
        "id": "519d5ce8"
      },
      "source": [
        "### Tensors operations\n",
        "\n",
        "You can find [here](https://pytorch.org/docs/stable/torch.html) an exhaustive list of operations (transpositions, indexing, slicing, concatenations, mathematical operations, etc.)\n",
        "\n",
        "All these operations can be done faster with the help of a GPU."
      ]
    },
    {
      "cell_type": "code",
      "execution_count": null,
      "id": "f4acc8ab",
      "metadata": {
        "id": "f4acc8ab",
        "outputId": "e7b5295d-66c2-4d28-b806-590f4cf78051",
        "colab": {
          "base_uri": "https://localhost:8080/"
        }
      },
      "outputs": [
        {
          "output_type": "stream",
          "name": "stdout",
          "text": [
            "The tensor is now stored pe: cuda:0\n"
          ]
        }
      ],
      "source": [
        "# moving the tensor to the GPU if we have one available\n",
        "if torch.cuda.is_available():\n",
        "    tensor = tensor.to(\"cuda\")\n",
        "    print(f\"The tensor is now stored pe: {tensor.device}\")"
      ]
    },
    {
      "cell_type": "markdown",
      "id": "9b10fe48",
      "metadata": {
        "id": "9b10fe48"
      },
      "source": [
        "**Indexing and slicing (similar to NumPy)**"
      ]
    },
    {
      "cell_type": "code",
      "execution_count": null,
      "id": "9a717e83",
      "metadata": {
        "id": "9a717e83",
        "outputId": "3919b074-bbb4-48e4-da4a-2547a134f3c4",
        "colab": {
          "base_uri": "https://localhost:8080/"
        }
      },
      "outputs": [
        {
          "output_type": "stream",
          "name": "stdout",
          "text": [
            "tensor([[1., 1., 1., 1.],\n",
            "        [1., 1., 1., 1.],\n",
            "        [1., 1., 1., 1.],\n",
            "        [1., 1., 1., 1.]])\n",
            "tensor([[1., 0., 1., 1.],\n",
            "        [1., 0., 1., 1.],\n",
            "        [1., 0., 1., 1.],\n",
            "        [1., 0., 1., 1.]])\n"
          ]
        }
      ],
      "source": [
        "tensor = torch.ones(4, 4)\n",
        "print(tensor)\n",
        "tensor[:, 1] = 0\n",
        "print(tensor)"
      ]
    },
    {
      "cell_type": "markdown",
      "id": "1ef6ed5a",
      "metadata": {
        "id": "1ef6ed5a"
      },
      "source": [
        "**Concatenare**"
      ]
    },
    {
      "cell_type": "code",
      "execution_count": null,
      "id": "121cfec3",
      "metadata": {
        "id": "121cfec3",
        "outputId": "5e311b73-95c9-49a4-f7a9-4611ab9d940e",
        "colab": {
          "base_uri": "https://localhost:8080/"
        }
      },
      "outputs": [
        {
          "output_type": "stream",
          "name": "stdout",
          "text": [
            "tensor([[1., 0., 1., 1.],\n",
            "        [1., 0., 1., 1.],\n",
            "        [1., 0., 1., 1.],\n",
            "        [1., 0., 1., 1.],\n",
            "        [1., 0., 1., 1.],\n",
            "        [1., 0., 1., 1.],\n",
            "        [1., 0., 1., 1.],\n",
            "        [1., 0., 1., 1.],\n",
            "        [1., 0., 1., 1.],\n",
            "        [1., 0., 1., 1.],\n",
            "        [1., 0., 1., 1.],\n",
            "        [1., 0., 1., 1.]])\n"
          ]
        }
      ],
      "source": [
        "t1 = torch.cat([tensor, tensor, tensor], dim=0)\n",
        "print(t1)"
      ]
    },
    {
      "cell_type": "markdown",
      "id": "d95c80a8",
      "metadata": {
        "id": "d95c80a8"
      },
      "source": [
        "**Tensor multiplication**"
      ]
    },
    {
      "cell_type": "code",
      "execution_count": null,
      "id": "9a2af9bc",
      "metadata": {
        "id": "9a2af9bc",
        "outputId": "0e50b5bf-a8e3-4409-ac64-8c8df774d200",
        "colab": {
          "base_uri": "https://localhost:8080/"
        }
      },
      "outputs": [
        {
          "output_type": "stream",
          "name": "stdout",
          "text": [
            "tensor.mul(tensor)\n",
            "tensor([[0, 4],\n",
            "        [4, 0],\n",
            "        [4, 4]])\n",
            "\n",
            "tensor * tensor\n",
            "tensor([[0, 4],\n",
            "        [4, 0],\n",
            "        [4, 4]])\n",
            "\n"
          ]
        }
      ],
      "source": [
        "# element-wise multiplication\n",
        "tensor = torch.tensor([[0, 2], [2, 0], [2, 2]])\n",
        "print(f\"tensor.mul(tensor)\\n{tensor.mul(tensor)}\\n\")\n",
        "print(f\"tensor * tensor\\n{tensor* tensor}\\n\")"
      ]
    },
    {
      "cell_type": "code",
      "execution_count": null,
      "id": "093d0c92",
      "metadata": {
        "id": "093d0c92",
        "outputId": "0883bdac-07f2-4f92-c429-123eb4dbab7f",
        "colab": {
          "base_uri": "https://localhost:8080/"
        }
      },
      "outputs": [
        {
          "output_type": "stream",
          "name": "stdout",
          "text": [
            "tensor.matmul(tensor.T)\n",
            "tensor([[4, 0, 4],\n",
            "        [0, 4, 4],\n",
            "        [4, 4, 8]])\n",
            "\n",
            "tensor @ tensor.T\n",
            "tensor([[4, 0, 4],\n",
            "        [0, 4, 4],\n",
            "        [4, 4, 8]])\n",
            "\n"
          ]
        }
      ],
      "source": [
        "# matrix multiplication\n",
        "# multipling the matrix with its transpose (tensor.T)\n",
        "print(f\"tensor.matmul(tensor.T)\\n{tensor.matmul(tensor.T)}\\n\")\n",
        "print(f\"tensor @ tensor.T\\n{tensor @ tensor.T}\\n\")"
      ]
    },
    {
      "cell_type": "markdown",
      "id": "4a24fc07",
      "metadata": {
        "id": "4a24fc07"
      },
      "source": [
        "**In-place operations**\n",
        "\n",
        "The operations that have `_` as a suffix modify the tensor for which they were called. Example: `x.copy_(y)` or `x.t_()` modifies `x`.\n",
        "\n",
        "These methods save memory but bring problems when it comes to the automatic computing of the derivatives of the performed operations (that's why their use is NOT recommended)."
      ]
    },
    {
      "cell_type": "code",
      "execution_count": null,
      "id": "4843ffc4",
      "metadata": {
        "id": "4843ffc4",
        "outputId": "c3df5c0e-cc73-4f91-b299-8eabacb044fd",
        "colab": {
          "base_uri": "https://localhost:8080/"
        }
      },
      "outputs": [
        {
          "output_type": "stream",
          "name": "stdout",
          "text": [
            "tensor([[0, 2],\n",
            "        [2, 0],\n",
            "        [2, 2]]) \n",
            "\n",
            "tensor([[0, 2],\n",
            "        [2, 0],\n",
            "        [2, 2]])\n"
          ]
        }
      ],
      "source": [
        "print(tensor, \"\\n\")\n",
        "tensor.add(5)\n",
        "print(tensor)"
      ]
    },
    {
      "cell_type": "markdown",
      "id": "72bf769b",
      "metadata": {
        "id": "72bf769b"
      },
      "source": [
        "### Link with NumPy\n",
        "\n",
        "A tensor stored on the CPU and a NumPy array can share the same memory in the program, so changes on one are reflected on the other."
      ]
    },
    {
      "cell_type": "code",
      "execution_count": null,
      "id": "9e8fd02f",
      "metadata": {
        "colab": {
          "base_uri": "https://localhost:8080/"
        },
        "id": "9e8fd02f",
        "outputId": "2783662f-0e80-4abc-d2d0-37f0ed2d8446"
      },
      "outputs": [
        {
          "output_type": "stream",
          "name": "stdout",
          "text": [
            "t: tensor([1., 1., 1., 1., 1.])\n",
            "n: [1. 1. 1. 1. 1.]\n",
            "t: tensor([2., 2., 2., 2., 2.])\n",
            "n: [2. 2. 2. 2. 2.]\n"
          ]
        }
      ],
      "source": [
        "# tensor -> np array\n",
        "t = torch.ones(5)\n",
        "print(f\"t: {t}\")\n",
        "n = t.numpy()\n",
        "print(f\"n: {n}\")\n",
        "\n",
        "t.add_(1)\n",
        "print(f\"t: {t}\")\n",
        "print(f\"n: {n}\")"
      ]
    },
    {
      "cell_type": "code",
      "execution_count": null,
      "id": "51f2dfec",
      "metadata": {
        "id": "51f2dfec",
        "colab": {
          "base_uri": "https://localhost:8080/"
        },
        "outputId": "03b9021e-17f4-4e76-fbf4-f8edee4788e2"
      },
      "outputs": [
        {
          "output_type": "stream",
          "name": "stdout",
          "text": [
            "t: tensor([1., 1., 1., 1., 1.], dtype=torch.float64)\n",
            "n: [1. 1. 1. 1. 1.]\n",
            "t: tensor([2., 2., 2., 2., 2.], dtype=torch.float64)\n",
            "n: [2. 2. 2. 2. 2.]\n"
          ]
        }
      ],
      "source": [
        "# np array -> tensor\n",
        "n = np.ones(5)\n",
        "t = torch.from_numpy(n)\n",
        "print(f\"t: {t}\")\n",
        "print(f\"n: {n}\")\n",
        "\n",
        "np.add(n, 1, out=n)\n",
        "print(f\"t: {t}\")\n",
        "print(f\"n: {n}\")"
      ]
    },
    {
      "cell_type": "markdown",
      "id": "ee0963db",
      "metadata": {
        "id": "ee0963db"
      },
      "source": [
        "## autograd torch\n",
        "\n",
        "`torch.autograd` is the automatic derivation engine used by PyTorch to train neural networks.\n",
        "\n",
        "### Neural networks\n",
        "\n",
        "Neural networks (NN - Neural Networks) are a collection of chained functions that are applied to some input data. These functions are defined by parameters (weights and biases), which in PyTorch are stored through tensors.\n",
        "\n",
        "The training of a neural network is done in two steps:\n",
        " - **forward propagation**: the network tries to predict the correct output based on the input data. Pass the input data through the string of functions (the input of the next function is the output of the current function in the list)\n",
        " - **backward propagation**: in this step the network parameters are adjusted proportionally with the error produced by the prediction made in the forward step. This is achieved by going through the list of functions in reverse, starting from the output, computing at each step the derivative of the error in relation to the parameters of the functions (we also call these derivatives gradients), and the parameters are optimized using gradient descent.\n",
        "\n",
        "### Implementation in PyTorch\n",
        "\n",
        "We will try a single training step. We load a pre-trained `resnet18` model used for image classification into $1000$ classes. We create a random tensor for a single image of $64 \\times 64$ pixels with $3$ color channels. We initialize the label of this image with a random tensor of size $(1, 1000)$."
      ]
    },
    {
      "cell_type": "code",
      "execution_count": null,
      "id": "e4224b94",
      "metadata": {
        "id": "e4224b94",
        "colab": {
          "base_uri": "https://localhost:8080/",
          "height": 156,
          "referenced_widgets": [
            "294b6b2907354229840ce3481f3c04da",
            "d7a402a5a0d847cc81f0ee295ae760cf",
            "e16067ed7ba242cb906eb6e9abc1aecc",
            "1a3cf0bd21594c2db24777a0b501fd2a",
            "6ab700494da04dc4ba9bcf40b867ee6e",
            "27f01a2a964d4c308f27b855e450804c",
            "1fb03fb65d284ba7ba2026e29082ea52",
            "cf7f23fac9324aa8a6931b523b44e8da",
            "ea623c3297144c4e8e27dead98b41e38",
            "c6ab648bef7344de8b6228ccc53fe6b6",
            "a359c87360c9472891b6994f87fea551"
          ]
        },
        "outputId": "575a7350-9b68-47f1-fec7-abd5b0d247a3"
      },
      "outputs": [
        {
          "output_type": "stream",
          "name": "stderr",
          "text": [
            "/usr/local/lib/python3.7/dist-packages/torchvision/models/_utils.py:209: UserWarning: The parameter 'pretrained' is deprecated since 0.13 and will be removed in 0.15, please use 'weights' instead.\n",
            "  f\"The parameter '{pretrained_param}' is deprecated since 0.13 and will be removed in 0.15, \"\n",
            "/usr/local/lib/python3.7/dist-packages/torchvision/models/_utils.py:223: UserWarning: Arguments other than a weight enum or `None` for 'weights' are deprecated since 0.13 and will be removed in 0.15. The current behavior is equivalent to passing `weights=ResNet18_Weights.IMAGENET1K_V1`. You can also use `weights=ResNet18_Weights.DEFAULT` to get the most up-to-date weights.\n",
            "  warnings.warn(msg)\n",
            "Downloading: \"https://download.pytorch.org/models/resnet18-f37072fd.pth\" to /root/.cache/torch/hub/checkpoints/resnet18-f37072fd.pth\n"
          ]
        },
        {
          "output_type": "display_data",
          "data": {
            "text/plain": [
              "  0%|          | 0.00/44.7M [00:00<?, ?B/s]"
            ],
            "application/vnd.jupyter.widget-view+json": {
              "version_major": 2,
              "version_minor": 0,
              "model_id": "294b6b2907354229840ce3481f3c04da"
            }
          },
          "metadata": {}
        }
      ],
      "source": [
        "import torchvision\n",
        "\n",
        "# we will consider this model as a black-box for the moment\n",
        "# which receives as input tensors of the form (batch_size, 3, 64, 64)\n",
        "# and returns for each image in the batch the distribution of labels for that image\n",
        "# the form of the output is therefore: (batch_size, 1000)\n",
        "model = torchvision.models.resnet18(pretrained=True)\n",
        "\n",
        "data = torch.rand(1, 3, 64, 64)\n",
        "labels = torch.rand(1, 1000)"
      ]
    },
    {
      "cell_type": "code",
      "execution_count": null,
      "id": "e230da27",
      "metadata": {
        "id": "e230da27",
        "colab": {
          "base_uri": "https://localhost:8080/"
        },
        "outputId": "1e270415-9d74-4ebd-bc24-62abffd2e5d1"
      },
      "outputs": [
        {
          "output_type": "execute_result",
          "data": {
            "text/plain": [
              "tensor([[-6.3009e-01, -3.7614e-01, -5.7177e-01, -1.7536e+00, -7.4531e-01,\n",
              "         -1.6678e-01, -4.6507e-01,  2.5135e-01,  3.3486e-01, -8.0390e-01,\n",
              "         -1.1405e+00, -9.7428e-01, -4.7669e-01, -1.1217e+00, -1.2470e+00,\n",
              "         -9.7035e-01, -9.5477e-01, -2.7423e-01, -6.3479e-01, -8.4609e-01,\n",
              "         -1.6516e+00, -6.7903e-01, -1.6396e+00,  6.9240e-02, -9.4930e-01,\n",
              "         -1.3002e+00, -1.0129e+00, -1.4057e+00, -8.6731e-01, -5.1776e-01,\n",
              "         -9.8138e-01, -8.8535e-01, -5.7461e-01, -5.1450e-01, -2.9502e-01,\n",
              "         -4.5308e-01,  7.2021e-01, -6.7221e-01, -4.6597e-01, -3.2766e-01,\n",
              "         -8.4400e-01, -1.0359e+00, -1.0239e+00, -3.3517e-01, -8.5860e-01,\n",
              "         -3.8299e-01, -9.4966e-01, -4.6048e-01, -1.2705e+00, -1.0223e+00,\n",
              "         -7.2406e-01,  5.9482e-01, -5.2798e-01, -4.8628e-01, -1.4779e-01,\n",
              "         -1.1445e+00, -1.7438e-01, -1.6838e+00, -3.2421e-01, -4.4255e-01,\n",
              "          6.2887e-01,  8.3185e-03, -3.0732e-01,  4.3848e-01, -5.1793e-01,\n",
              "         -3.1276e-01, -1.9648e-01, -2.1379e-01, -8.0540e-01, -1.2973e+00,\n",
              "         -1.6628e+00, -2.7018e-01, -1.3458e+00, -1.7359e-01, -1.1194e+00,\n",
              "         -1.4945e+00, -7.2069e-02, -7.2949e-01, -1.7244e-01,  5.6269e-02,\n",
              "         -8.2190e-01, -1.8925e+00, -1.9306e-01, -7.7949e-01, -4.9451e-01,\n",
              "         -9.5849e-02,  5.4290e-02,  7.3040e-01,  1.4966e-01, -6.8356e-01,\n",
              "         -1.2424e+00, -1.4060e+00, -2.0744e+00, -4.4559e-01,  1.9596e-01,\n",
              "         -2.1788e+00, -6.9518e-01, -4.1120e-01, -1.2264e+00, -2.5673e-01,\n",
              "         -1.0728e+00, -9.1263e-01, -1.0959e+00, -4.6342e-01, -3.6685e-02,\n",
              "         -5.2221e-01, -5.2053e-01, -1.5864e+00, -1.1087e+00, -1.5447e+00,\n",
              "         -1.4897e+00, -8.6615e-01,  6.0416e-01,  7.8152e-02,  2.4785e-01,\n",
              "         -1.2234e+00, -9.6959e-01, -4.5896e-01,  6.8102e-01, -3.5376e-01,\n",
              "         -6.3755e-01, -9.8101e-02,  4.3310e-01,  5.8077e-03,  1.1300e+00,\n",
              "          3.1618e-03,  2.5169e-01, -1.4341e+00, -1.1584e+00, -1.1461e+00,\n",
              "         -1.3296e+00, -1.4958e+00, -1.1368e+00, -1.7040e+00, -6.1678e-01,\n",
              "         -1.4139e+00, -8.5236e-01, -1.1613e+00, -1.3899e+00, -1.5486e+00,\n",
              "         -1.6700e+00, -1.7616e+00, -2.2201e+00, -1.6513e+00, -6.4884e-01,\n",
              "         -3.7538e-01, -1.0000e+00, -1.9321e+00, -1.2214e+00, -1.2129e+00,\n",
              "          3.0858e-01,  1.7940e+00, -8.6058e-01, -1.3102e-01,  3.1301e-01,\n",
              "          3.0075e-01, -2.3811e-01,  1.1371e-01,  7.2342e-01,  2.9452e-01,\n",
              "          3.8401e-01,  9.1727e-01,  6.8112e-01,  9.1365e-01,  5.9647e-01,\n",
              "          6.3086e-03,  2.7583e-01, -4.8019e-02,  8.4444e-01, -1.9772e-01,\n",
              "          2.3363e-02,  1.3021e+00,  6.8471e-01,  6.1093e-01,  5.0201e-01,\n",
              "         -6.2252e-01,  2.0183e-01,  1.4579e-01,  6.5977e-01,  8.5498e-01,\n",
              "          8.6799e-01,  6.9031e-02,  8.8169e-01,  8.9038e-02,  7.1337e-01,\n",
              "          8.7546e-01,  7.4875e-01,  2.7309e-01,  3.1814e-01,  6.9147e-01,\n",
              "         -5.4410e-01,  4.6906e-01,  6.2012e-01,  8.2908e-01, -7.0177e-01,\n",
              "          1.0717e+00,  2.8126e-01,  2.3774e-01,  3.5437e-01,  6.8760e-01,\n",
              "          3.4870e-01,  3.1804e-01,  7.4893e-01,  7.3045e-01,  3.4253e-01,\n",
              "          3.5690e-01, -7.4716e-02,  7.7662e-01,  1.4224e+00,  6.2104e-01,\n",
              "          1.3537e-01,  5.6227e-01,  4.7623e-01,  1.6609e-02,  6.4295e-02,\n",
              "          4.3987e-01, -8.5556e-02,  4.5706e-01, -2.8721e-01,  5.3993e-01,\n",
              "          2.9144e-01, -1.8792e-01,  1.5681e-01,  1.0258e+00,  4.6604e-01,\n",
              "          8.4892e-01,  2.9161e-01,  1.1584e+00, -2.0114e-01,  8.2856e-02,\n",
              "          4.6220e-01,  6.7336e-01,  7.8297e-01, -3.9579e-02,  1.0706e+00,\n",
              "          9.7496e-01,  6.1652e-01,  7.6651e-01,  1.1787e+00,  2.2658e-01,\n",
              "          1.0468e+00,  4.2667e-01,  6.4698e-01,  5.9155e-01, -8.5711e-02,\n",
              "          5.8861e-01,  6.4222e-01,  2.6470e-01,  7.9143e-01,  3.7972e-01,\n",
              "          7.3618e-01,  7.9225e-01, -7.3887e-01,  1.0743e+00,  1.1061e+00,\n",
              "         -3.7892e-01,  5.6152e-01,  6.2470e-01, -9.8855e-02,  2.9463e-01,\n",
              "         -1.0170e-01, -4.0600e-01,  4.8118e-03,  8.6429e-01,  1.0697e+00,\n",
              "          7.6021e-01,  2.3936e-01,  5.3454e-01,  2.9233e-01, -5.7329e-01,\n",
              "         -8.7695e-01, -8.5711e-01, -6.5314e-01,  7.7930e-01, -9.7504e-01,\n",
              "         -9.1461e-01, -1.1012e+00, -8.2614e-01, -1.3105e+00, -7.3211e-01,\n",
              "         -3.9258e-01,  7.5217e-01,  6.4034e-01,  6.1172e-02,  5.1251e-01,\n",
              "          8.5992e-01, -9.4741e-02, -3.0099e-01, -5.5697e-01, -1.6757e+00,\n",
              "         -8.0830e-01, -1.2515e+00, -3.7534e-01, -7.9765e-01, -8.1054e-01,\n",
              "         -8.3518e-01, -8.3897e-01, -1.5164e+00, -2.4467e-01, -1.0582e-01,\n",
              "         -2.0152e+00, -7.3590e-01, -6.7235e-01, -4.1912e-01, -1.1035e+00,\n",
              "         -1.0350e+00,  1.1899e-01, -8.5001e-01, -1.6545e+00, -4.6291e-01,\n",
              "          2.7866e-01, -6.4422e-01, -6.5369e-01, -9.0520e-02,  6.7325e-01,\n",
              "         -6.3078e-01, -8.4195e-01, -1.0109e+00, -1.3531e+00, -6.6611e-01,\n",
              "         -1.7324e+00, -1.1018e+00, -1.5057e+00, -1.6643e+00, -1.6125e+00,\n",
              "         -1.6871e+00, -1.2006e+00,  8.1640e-02, -1.8616e-01, -6.1946e-01,\n",
              "         -1.6865e-01, -4.6885e-01, -4.1756e-02,  3.5414e-01, -6.0646e-01,\n",
              "         -6.7923e-01, -1.5493e+00,  2.1653e-01,  9.0695e-01, -9.7496e-01,\n",
              "         -6.1887e-01,  9.0349e-01, -3.8105e-01, -1.6590e+00, -7.8331e-01,\n",
              "          7.0023e-01, -7.1722e-01, -1.5789e+00, -5.3236e-02, -1.3982e+00,\n",
              "         -1.1912e+00, -2.2435e+00, -1.4239e+00, -8.0657e-01, -6.1786e-01,\n",
              "          5.6532e-01,  1.1018e+00,  4.3367e-02,  6.6324e-01,  5.3701e-01,\n",
              "         -1.7380e-02,  4.0312e-01, -1.4159e-01,  2.5220e-01, -6.2738e-01,\n",
              "         -3.6085e-01, -9.8687e-01, -2.4368e-01, -8.4277e-01, -6.2415e-01,\n",
              "         -3.1688e-01, -7.8373e-02, -3.8255e-01,  6.1382e-02, -1.6856e-01,\n",
              "         -8.7923e-01, -1.2494e+00,  4.4776e-01, -1.8309e-01, -4.7739e-01,\n",
              "          5.3101e-01, -2.6284e-01, -1.0508e-01, -3.0831e-01, -5.9194e-01,\n",
              "         -2.9610e-01, -9.5644e-01, -9.6666e-01, -9.4877e-01, -3.2179e-01,\n",
              "          6.5963e-01,  1.2442e-01, -1.5077e+00, -1.7312e+00, -1.7029e-01,\n",
              "          5.4518e-01, -1.2249e+00, -8.8184e-01,  5.8042e-01, -4.7637e-02,\n",
              "         -1.1982e+00,  4.7922e-01,  3.1528e-02, -2.2654e+00, -1.8339e+00,\n",
              "         -7.0456e-01, -8.6407e-02, -8.5248e-02,  1.3123e-01,  7.7228e-01,\n",
              "         -9.4116e-02,  5.2311e-01,  2.0567e+00,  4.5102e-01,  2.8051e-01,\n",
              "          5.5193e-01,  1.0676e-01,  4.7426e-01,  3.7094e-01,  1.0209e+00,\n",
              "          5.9264e-01,  1.2720e+00, -3.0991e-01,  3.0092e-01,  4.1888e-02,\n",
              "         -1.0937e+00,  3.8593e-02,  1.3092e+00,  1.8434e+00,  6.1894e-01,\n",
              "         -6.8345e-01,  3.0709e-01,  2.0561e-01,  5.9555e-01,  7.7166e-01,\n",
              "          1.0903e+00, -2.7865e-01, -5.1731e-01,  3.9939e-01,  2.6559e-01,\n",
              "          9.2390e-01,  4.7089e-01, -4.1072e-02, -4.4730e-01, -1.3600e-01,\n",
              "          1.9851e-01,  5.1698e-01,  1.2400e+00,  1.1764e+00, -4.2559e-01,\n",
              "          3.3356e-02,  2.8948e-01,  4.1291e-01, -2.5932e-01, -4.2842e-01,\n",
              "          7.0105e-01,  1.3386e+00,  1.2254e+00, -1.7065e-01,  8.7559e-01,\n",
              "         -9.0617e-01,  6.6146e-01,  1.0942e+00,  2.6226e+00,  1.0729e+00,\n",
              "         -4.0497e-01, -1.4090e+00, -3.7412e-01,  8.9970e-02,  1.5050e+00,\n",
              "          1.1305e+00,  5.1894e-01,  4.2477e-01,  8.7683e-01,  7.2373e-02,\n",
              "          7.2552e-02,  3.3731e-03,  3.0253e-01,  8.5250e-01,  4.1988e-01,\n",
              "         -2.1216e-01,  9.4767e-02,  3.1912e-01, -8.6365e-01, -1.1671e+00,\n",
              "          6.3140e-02, -7.7144e-01,  9.8185e-01,  1.4735e+00,  1.0307e+00,\n",
              "          5.5198e-01,  1.1386e+00,  7.5024e-01, -1.1866e+00,  1.0408e+00,\n",
              "         -8.9289e-01,  2.1150e-01, -4.0733e-01, -4.5864e-01,  1.1584e+00,\n",
              "         -1.7333e+00,  3.8568e-01,  1.3160e+00,  5.0648e-01,  1.0362e+00,\n",
              "          1.0459e+00,  1.0784e+00,  7.9063e-01,  3.5370e-01,  2.0660e-01,\n",
              "         -1.0783e+00, -8.0684e-01,  7.1243e-01, -2.3243e-03,  1.0531e+00,\n",
              "          1.8491e+00,  5.2437e-01,  1.1367e-01,  1.3783e+00,  8.2415e-01,\n",
              "         -4.2491e-01,  5.7743e-01,  1.1040e+00,  1.5416e+00,  3.2922e-01,\n",
              "         -9.8017e-01, -4.4083e-02, -5.4440e-01,  2.4658e-01,  3.5042e-01,\n",
              "          7.3847e-01,  3.9395e-02,  1.7552e-01, -8.4707e-01,  4.2584e-01,\n",
              "         -5.0535e-01, -5.3861e-01, -4.4302e-01, -1.6680e-01,  1.2765e+00,\n",
              "         -1.1517e+00,  1.3360e+00,  9.9092e-01,  8.2588e-01,  4.6959e-01,\n",
              "          8.8349e-01,  6.1029e-01, -2.3370e+00, -1.2731e+00,  2.8932e-02,\n",
              "         -6.0757e-01, -1.9087e-01,  5.7519e-01, -2.3548e-01, -1.2481e+00,\n",
              "         -4.4841e-01,  1.5059e-01,  3.8939e-01,  9.4274e-01,  8.5175e-01,\n",
              "          4.4538e-01, -1.2014e-01,  1.0150e+00, -4.7695e-02, -1.2072e+00,\n",
              "         -8.0805e-01, -5.0067e-02,  8.4857e-01,  3.4587e-01, -3.3930e-01,\n",
              "          1.1433e+00,  2.0910e-02,  7.9883e-01, -3.8424e-01,  6.1569e-01,\n",
              "         -8.5118e-02, -7.1739e-01,  8.2812e-01,  1.2368e-01,  2.0994e-03,\n",
              "         -1.1655e-01, -2.6488e-01,  6.4663e-01,  4.8832e-01,  7.7051e-01,\n",
              "          7.0459e-01, -3.4803e-01,  1.7602e+00,  1.4084e+00,  1.2480e+00,\n",
              "         -7.3777e-01,  4.2032e-01, -4.5917e-01,  3.6254e-01,  2.2331e-01,\n",
              "         -3.2319e-01,  1.2221e+00, -3.6973e-01, -8.2453e-01,  6.6321e-01,\n",
              "          2.1148e+00, -2.1349e-01,  2.8513e-01, -5.5569e-01,  5.0660e-01,\n",
              "          2.9720e-01,  1.3740e+00, -5.0216e-01,  6.4164e-01, -1.1927e-01,\n",
              "          1.1609e+00,  9.3563e-01, -4.9751e-01,  4.4012e-01,  2.0163e-01,\n",
              "          6.6245e-01,  1.0284e+00,  4.6281e-01,  1.9559e+00,  9.9673e-01,\n",
              "          9.9377e-01,  9.9419e-01, -1.0747e-01,  3.5150e-01, -2.0662e-01,\n",
              "         -9.6245e-01,  1.0570e+00, -4.0832e-01, -1.3425e+00, -1.4776e-01,\n",
              "          1.6631e-02,  9.6034e-01,  4.9317e-01,  7.8307e-01, -3.8891e-01,\n",
              "          3.9172e-01,  1.1699e+00,  8.2536e-01,  7.1701e-01,  2.4152e-01,\n",
              "         -1.8942e+00,  1.1898e+00, -2.7110e-01,  1.1307e+00,  7.3768e-01,\n",
              "         -9.8853e-01,  6.7763e-01,  7.2473e-01, -7.4192e-01, -1.6936e+00,\n",
              "          6.8200e-01,  2.1675e-01,  6.2839e-01,  7.6419e-01, -7.1741e-02,\n",
              "          6.7829e-01,  1.1952e-01, -5.1721e-02,  1.2535e-01,  5.1796e-01,\n",
              "          1.2132e-01, -1.0184e+00, -5.6898e-02, -1.0177e+00,  7.7130e-01,\n",
              "          2.7924e-01,  1.1105e+00,  1.3027e-01, -7.4886e-01, -2.2171e-01,\n",
              "          4.9099e-01,  1.0877e-01,  1.0021e-01,  5.1316e-01,  1.6767e+00,\n",
              "         -5.1438e-01,  2.0569e+00,  1.0090e+00,  1.0505e+00,  1.3873e-02,\n",
              "          6.1596e-01,  4.1912e-01, -6.4881e-01,  1.8237e-01,  7.6950e-01,\n",
              "         -1.3416e+00, -6.9592e-02, -1.2899e+00, -2.2372e-01, -8.6864e-01,\n",
              "         -6.2252e-01,  8.0932e-01,  9.9650e-01,  1.0331e+00, -7.6699e-01,\n",
              "          9.6628e-01,  1.3684e+00,  4.2639e-01, -4.6201e-01,  2.8301e-02,\n",
              "          2.0467e+00, -1.1069e-01,  1.7145e-02,  3.6502e-01,  8.3670e-01,\n",
              "         -6.4433e-01, -3.4427e-01,  1.5993e-01,  6.4425e-01,  2.9153e-01,\n",
              "          8.5511e-01,  7.1707e-01,  6.3469e-02, -7.4154e-01,  2.7846e-01,\n",
              "         -4.8457e-01,  5.6490e-01, -6.3282e-01, -4.9314e-01,  7.9484e-01,\n",
              "          2.4268e-01,  2.8065e-01,  1.3785e+00,  6.5942e-01, -6.6485e-01,\n",
              "          1.2049e+00, -7.7226e-01, -2.8142e-01,  1.3497e+00, -5.7496e-01,\n",
              "          4.2916e-01,  2.1858e+00, -9.0641e-01,  2.1123e+00, -1.3278e+00,\n",
              "          2.2060e-01, -4.9806e-02,  7.0545e-01,  7.1775e-01, -7.2612e-03,\n",
              "          1.1255e+00,  3.3453e-02,  2.4421e-01,  1.6604e-01,  4.8708e-01,\n",
              "          1.5920e-02, -7.2053e-02,  7.8608e-01,  9.2803e-01,  1.2728e+00,\n",
              "          8.1128e-01,  2.9574e-01,  3.7396e-01,  5.5037e-01,  6.2988e-01,\n",
              "         -4.9695e-01,  1.1028e+00,  7.6802e-02,  1.4919e+00, -2.9799e-01,\n",
              "         -1.1438e-01,  7.6172e-01,  2.1593e-01,  5.4064e-01,  9.3539e-01,\n",
              "          8.4055e-01,  1.8144e-01,  5.3010e-01, -1.4875e-01,  1.3059e+00,\n",
              "          6.4414e-01,  3.2221e-01,  1.6274e+00,  6.0130e-01,  1.0236e+00,\n",
              "          4.3260e-01,  1.3714e-01,  7.1657e-01,  1.2489e+00, -7.4358e-01,\n",
              "         -1.0351e+00, -6.5034e-01,  9.3346e-01,  8.7832e-01,  1.5109e+00,\n",
              "          4.6505e-01,  6.0657e-01,  1.2845e+00,  3.0525e-01, -3.8076e-02,\n",
              "          7.3041e-01,  1.1873e+00,  1.6658e+00,  8.9721e-01,  2.3144e-01,\n",
              "          4.9998e-01,  1.0290e+00,  1.0163e+00, -6.7345e-01,  3.0956e-01,\n",
              "         -1.0384e+00,  1.1903e-01, -8.5305e-01, -1.0186e+00,  9.9383e-01,\n",
              "          1.4060e+00,  5.0627e-01,  2.9843e-01,  1.5086e+00,  9.1401e-02,\n",
              "         -7.3080e-01,  1.2592e+00, -4.3128e-01,  1.7713e+00, -9.1072e-01,\n",
              "         -1.6518e-01,  3.7696e-01, -8.5307e-01,  1.5577e+00,  2.1443e-01,\n",
              "         -1.9312e+00, -1.1362e+00,  2.2464e-01,  5.7363e-01,  8.5952e-01,\n",
              "         -9.9473e-01,  2.5342e-01,  8.9553e-01,  1.3823e+00, -6.4338e-01,\n",
              "          1.1624e+00,  3.3519e-01, -9.0976e-01, -1.2618e+00,  5.9147e-02,\n",
              "          6.0530e-01,  1.5902e+00,  1.6737e+00,  1.0180e+00, -8.2608e-01,\n",
              "          1.4755e+00,  6.8920e-01,  7.6769e-01,  6.2026e-01,  5.3337e-01,\n",
              "          1.3895e+00,  7.9950e-01, -4.7502e-01,  3.2842e-01,  1.1421e+00,\n",
              "          1.3537e+00,  1.0980e+00,  1.6925e+00, -6.3880e-01, -4.4989e-01,\n",
              "          7.7836e-01, -3.6844e-01, -2.4417e-01, -6.1150e-01,  9.2699e-01,\n",
              "         -4.6143e-02,  1.1578e+00,  1.2200e+00,  1.8418e-01, -2.3623e-01,\n",
              "          6.7437e-01,  1.5536e-01,  6.4892e-04,  1.3621e+00, -4.7567e-01,\n",
              "          1.1428e+00, -1.1633e+00,  9.9114e-01, -1.2334e+00, -2.4131e+00,\n",
              "          7.5408e-02,  1.7422e+00, -3.9012e-01, -4.5413e-01,  1.8086e+00,\n",
              "          1.2924e+00, -7.8745e-01,  1.3027e+00,  1.0406e+00, -1.0191e-02,\n",
              "          9.5524e-02, -4.0111e-01, -4.5838e-01, -1.3007e+00, -1.5313e-01,\n",
              "         -2.2272e-01,  9.1458e-03,  5.1595e-01,  1.2393e-01, -9.5903e-01,\n",
              "         -6.9883e-01,  1.1135e+00,  4.0339e-01,  1.9802e+00,  1.8032e+00,\n",
              "         -1.2996e+00, -4.6727e-01,  1.3473e+00,  4.1136e-01,  9.3673e-01,\n",
              "         -1.7304e-01, -4.5010e-01,  1.3541e+00, -8.2134e-01,  7.2730e-01,\n",
              "          1.2859e+00,  8.5857e-01,  8.5464e-01, -6.9650e-01, -1.6435e+00,\n",
              "         -9.8387e-02,  1.1958e-01,  3.7511e-01,  7.1079e-01,  8.3988e-02,\n",
              "         -2.0791e-01,  1.0611e+00, -6.7302e-01,  4.6186e-01, -2.1589e-01,\n",
              "         -9.2704e-01, -1.0179e+00, -3.8019e-01, -1.3551e-01,  1.4018e+00,\n",
              "         -5.4935e-01,  1.7642e-02,  3.0293e-01, -1.8277e+00, -1.6696e-01,\n",
              "         -5.0382e-01,  3.5199e-01,  2.2189e-01,  5.5924e-03, -8.0925e-02,\n",
              "         -5.5959e-01, -7.4959e-01, -3.5787e-01, -7.8629e-02, -5.7236e-01,\n",
              "         -6.7388e-01, -1.1507e+00,  6.2685e-01,  5.6969e-01, -3.8943e-01,\n",
              "         -9.8855e-02, -7.3750e-01, -6.9513e-01, -7.8641e-02,  4.6973e-01,\n",
              "         -5.9521e-01, -5.3036e-01, -4.6606e-01, -1.7929e-01, -9.8742e-01,\n",
              "          1.1849e-01,  4.0510e-02, -4.6601e-01, -1.0390e+00, -1.5435e+00,\n",
              "         -3.9312e-01,  5.7541e-01, -5.7903e-01,  8.6405e-01,  3.5225e-02,\n",
              "          2.9030e-02,  1.0401e+00, -4.3848e-01, -5.8959e-01, -2.1590e+00,\n",
              "          1.0818e+00, -1.5841e+00,  4.5989e-01,  2.2842e-01, -8.0606e-01,\n",
              "         -8.6872e-01,  2.4290e-01,  3.4236e-01, -5.5278e-01, -9.5940e-01,\n",
              "         -1.2299e+00, -2.5471e+00,  1.6279e+00, -3.4515e-01, -9.1695e-01,\n",
              "         -6.5750e-01, -1.5354e+00, -6.8450e-01, -2.2310e+00, -7.4236e-01,\n",
              "         -5.8497e-01, -2.6767e-02, -7.1843e-01,  1.3365e+00,  1.0768e+00]],\n",
              "       grad_fn=<AddmmBackward0>)"
            ]
          },
          "metadata": {},
          "execution_count": 18
        }
      ],
      "source": [
        "# pasul forward\n",
        "prediction = model(data)\n",
        "prediction"
      ]
    },
    {
      "cell_type": "markdown",
      "id": "db5836b9",
      "metadata": {
        "id": "db5836b9"
      },
      "source": [
        "We use the model prediction and the correct label to compute the error (`loss`). The next step is the backpropagation of this error through the network. This is done when we call the `.backword()` method for the tensor containing the error. The `autograd` engine computes and stores the gradients for model parameter rotation in the `.grad` attribute of these parameters."
      ]
    },
    {
      "cell_type": "code",
      "execution_count": null,
      "id": "67f94068",
      "metadata": {
        "id": "67f94068"
      },
      "outputs": [],
      "source": [
        "loss = (prediction - labels).sum()\n",
        "loss.backward()  # backward step"
      ]
    },
    {
      "cell_type": "markdown",
      "id": "6d613272",
      "metadata": {
        "id": "6d613272"
      },
      "source": [
        "Then, we load a parameter optimization algorithm (optimizer), in the present case [SGD](https://towardsdatascience.com/stochastic-gradient-descent-with-momentum-a84097641a5d) (Stochastic Gradient Descent) with a learning rate of $0.01$ and momentum $0.9$.\n",
        "\n",
        "First, we record all the parameters of the model in the optimizer."
      ]
    },
    {
      "cell_type": "code",
      "execution_count": null,
      "id": "4577e17f",
      "metadata": {
        "id": "4577e17f"
      },
      "outputs": [],
      "source": [
        "optim = torch.optim.SGD(model.parameters(), lr=0.01, momentum=0.9)"
      ]
    },
    {
      "cell_type": "markdown",
      "id": "dfcd69f0",
      "metadata": {
        "id": "dfcd69f0"
      },
      "source": [
        "Eventyually, we call `.step()` on the optimizer to initiate the gradient descent algorithm. The optimizer thus adjusts each parameter of the model based on the gradients computed at the backward step."
      ]
    },
    {
      "cell_type": "code",
      "execution_count": null,
      "id": "16cba403",
      "metadata": {
        "id": "16cba403"
      },
      "outputs": [],
      "source": [
        "optim.step()  # gradient descent"
      ]
    },
    {
      "cell_type": "markdown",
      "id": "_o3EqaUROyuZ",
      "metadata": {
        "id": "_o3EqaUROyuZ"
      },
      "source": [
        "[Other](https://pytorch.org/docs/stable/optim.html) useful optimizers."
      ]
    },
    {
      "cell_type": "markdown",
      "id": "08dfc3ef",
      "metadata": {
        "id": "08dfc3ef"
      },
      "source": [
        "### Automatic derivation in Autograd\n",
        "\n",
        "In the following examples we will see how `autograd` collects and computes the gradients. We create two tensors with the `requires_grad` attribute set to `True`. This signals to the autograd engine that all operations involving these tensors must be tracked."
      ]
    },
    {
      "cell_type": "code",
      "execution_count": null,
      "id": "edacb1b4",
      "metadata": {
        "id": "edacb1b4"
      },
      "outputs": [],
      "source": [
        "a = torch.tensor([2., 3.], requires_grad=True)\n",
        "b = torch.tensor([6., 4.], requires_grad=True)"
      ]
    },
    {
      "cell_type": "markdown",
      "id": "4a2c7bea",
      "metadata": {
        "id": "4a2c7bea"
      },
      "source": [
        "We now create a tensor that holds an operation between `a` and `b`.\n",
        "$$Q = 3a^3-b^2$$"
      ]
    },
    {
      "cell_type": "code",
      "execution_count": null,
      "id": "5e8e3da4",
      "metadata": {
        "id": "5e8e3da4",
        "colab": {
          "base_uri": "https://localhost:8080/"
        },
        "outputId": "d4add607-2ce6-4824-9645-8eee2d1d57b9"
      },
      "outputs": [
        {
          "output_type": "execute_result",
          "data": {
            "text/plain": [
              "tensor([-12.,  65.], grad_fn=<SubBackward0>)"
            ]
          },
          "metadata": {},
          "execution_count": 28
        }
      ],
      "source": [
        "Q = 3 * a**3 - b**2\n",
        "Q"
      ]
    },
    {
      "cell_type": "markdown",
      "id": "32c79c1f",
      "metadata": {
        "id": "32c79c1f"
      },
      "source": [
        "If we assume that $a$ and $b$ would be the parameters of a network and $Q$ would be the error, during training we are interested in the derivative of the error in relation to each individual parameter:\n",
        "\n",
        "$$\\frac{\\partial Q}{\\partial a} = 9a^2$$\n",
        "\n",
        "$$\\frac{\\partial Q}{\\partial b} = -2b$$\n",
        "\n",
        "When we call `.backward()` for `Q`, `autograd` computes these gradients and saves them in the `.grad` attribute of the corresponding tensors."
      ]
    },
    {
      "cell_type": "code",
      "source": [
        "Q.backward()"
      ],
      "metadata": {
        "colab": {
          "base_uri": "https://localhost:8080/",
          "height": 311
        },
        "id": "ALebZ6Yy18-T",
        "outputId": "a3e42b43-a06f-4a46-f016-cbc4d4899815"
      },
      "id": "ALebZ6Yy18-T",
      "execution_count": null,
      "outputs": [
        {
          "output_type": "error",
          "ename": "RuntimeError",
          "evalue": "ignored",
          "traceback": [
            "\u001b[0;31m---------------------------------------------------------------------------\u001b[0m",
            "\u001b[0;31mRuntimeError\u001b[0m                              Traceback (most recent call last)",
            "\u001b[0;32m<ipython-input-27-42395d6027c1>\u001b[0m in \u001b[0;36m<module>\u001b[0;34m\u001b[0m\n\u001b[0;32m----> 1\u001b[0;31m \u001b[0mQ\u001b[0m\u001b[0;34m.\u001b[0m\u001b[0mbackward\u001b[0m\u001b[0;34m(\u001b[0m\u001b[0;34m)\u001b[0m\u001b[0;34m\u001b[0m\u001b[0;34m\u001b[0m\u001b[0m\n\u001b[0m",
            "\u001b[0;32m/usr/local/lib/python3.7/dist-packages/torch/_tensor.py\u001b[0m in \u001b[0;36mbackward\u001b[0;34m(self, gradient, retain_graph, create_graph, inputs)\u001b[0m\n\u001b[1;32m    394\u001b[0m                 \u001b[0mcreate_graph\u001b[0m\u001b[0;34m=\u001b[0m\u001b[0mcreate_graph\u001b[0m\u001b[0;34m,\u001b[0m\u001b[0;34m\u001b[0m\u001b[0;34m\u001b[0m\u001b[0m\n\u001b[1;32m    395\u001b[0m                 inputs=inputs)\n\u001b[0;32m--> 396\u001b[0;31m         \u001b[0mtorch\u001b[0m\u001b[0;34m.\u001b[0m\u001b[0mautograd\u001b[0m\u001b[0;34m.\u001b[0m\u001b[0mbackward\u001b[0m\u001b[0;34m(\u001b[0m\u001b[0mself\u001b[0m\u001b[0;34m,\u001b[0m \u001b[0mgradient\u001b[0m\u001b[0;34m,\u001b[0m \u001b[0mretain_graph\u001b[0m\u001b[0;34m,\u001b[0m \u001b[0mcreate_graph\u001b[0m\u001b[0;34m,\u001b[0m \u001b[0minputs\u001b[0m\u001b[0;34m=\u001b[0m\u001b[0minputs\u001b[0m\u001b[0;34m)\u001b[0m\u001b[0;34m\u001b[0m\u001b[0;34m\u001b[0m\u001b[0m\n\u001b[0m\u001b[1;32m    397\u001b[0m \u001b[0;34m\u001b[0m\u001b[0m\n\u001b[1;32m    398\u001b[0m     \u001b[0;32mdef\u001b[0m \u001b[0mregister_hook\u001b[0m\u001b[0;34m(\u001b[0m\u001b[0mself\u001b[0m\u001b[0;34m,\u001b[0m \u001b[0mhook\u001b[0m\u001b[0;34m)\u001b[0m\u001b[0;34m:\u001b[0m\u001b[0;34m\u001b[0m\u001b[0;34m\u001b[0m\u001b[0m\n",
            "\u001b[0;32m/usr/local/lib/python3.7/dist-packages/torch/autograd/__init__.py\u001b[0m in \u001b[0;36mbackward\u001b[0;34m(tensors, grad_tensors, retain_graph, create_graph, grad_variables, inputs)\u001b[0m\n\u001b[1;32m    164\u001b[0m \u001b[0;34m\u001b[0m\u001b[0m\n\u001b[1;32m    165\u001b[0m     \u001b[0mgrad_tensors_\u001b[0m \u001b[0;34m=\u001b[0m \u001b[0m_tensor_or_tensors_to_tuple\u001b[0m\u001b[0;34m(\u001b[0m\u001b[0mgrad_tensors\u001b[0m\u001b[0;34m,\u001b[0m \u001b[0mlen\u001b[0m\u001b[0;34m(\u001b[0m\u001b[0mtensors\u001b[0m\u001b[0;34m)\u001b[0m\u001b[0;34m)\u001b[0m\u001b[0;34m\u001b[0m\u001b[0;34m\u001b[0m\u001b[0m\n\u001b[0;32m--> 166\u001b[0;31m     \u001b[0mgrad_tensors_\u001b[0m \u001b[0;34m=\u001b[0m \u001b[0m_make_grads\u001b[0m\u001b[0;34m(\u001b[0m\u001b[0mtensors\u001b[0m\u001b[0;34m,\u001b[0m \u001b[0mgrad_tensors_\u001b[0m\u001b[0;34m,\u001b[0m \u001b[0mis_grads_batched\u001b[0m\u001b[0;34m=\u001b[0m\u001b[0;32mFalse\u001b[0m\u001b[0;34m)\u001b[0m\u001b[0;34m\u001b[0m\u001b[0;34m\u001b[0m\u001b[0m\n\u001b[0m\u001b[1;32m    167\u001b[0m     \u001b[0;32mif\u001b[0m \u001b[0mretain_graph\u001b[0m \u001b[0;32mis\u001b[0m \u001b[0;32mNone\u001b[0m\u001b[0;34m:\u001b[0m\u001b[0;34m\u001b[0m\u001b[0;34m\u001b[0m\u001b[0m\n\u001b[1;32m    168\u001b[0m         \u001b[0mretain_graph\u001b[0m \u001b[0;34m=\u001b[0m \u001b[0mcreate_graph\u001b[0m\u001b[0;34m\u001b[0m\u001b[0;34m\u001b[0m\u001b[0m\n",
            "\u001b[0;32m/usr/local/lib/python3.7/dist-packages/torch/autograd/__init__.py\u001b[0m in \u001b[0;36m_make_grads\u001b[0;34m(outputs, grads, is_grads_batched)\u001b[0m\n\u001b[1;32m     65\u001b[0m             \u001b[0;32mif\u001b[0m \u001b[0mout\u001b[0m\u001b[0;34m.\u001b[0m\u001b[0mrequires_grad\u001b[0m\u001b[0;34m:\u001b[0m\u001b[0;34m\u001b[0m\u001b[0;34m\u001b[0m\u001b[0m\n\u001b[1;32m     66\u001b[0m                 \u001b[0;32mif\u001b[0m \u001b[0mout\u001b[0m\u001b[0;34m.\u001b[0m\u001b[0mnumel\u001b[0m\u001b[0;34m(\u001b[0m\u001b[0;34m)\u001b[0m \u001b[0;34m!=\u001b[0m \u001b[0;36m1\u001b[0m\u001b[0;34m:\u001b[0m\u001b[0;34m\u001b[0m\u001b[0;34m\u001b[0m\u001b[0m\n\u001b[0;32m---> 67\u001b[0;31m                     \u001b[0;32mraise\u001b[0m \u001b[0mRuntimeError\u001b[0m\u001b[0;34m(\u001b[0m\u001b[0;34m\"grad can be implicitly created only for scalar outputs\"\u001b[0m\u001b[0;34m)\u001b[0m\u001b[0;34m\u001b[0m\u001b[0;34m\u001b[0m\u001b[0m\n\u001b[0m\u001b[1;32m     68\u001b[0m                 \u001b[0mnew_grads\u001b[0m\u001b[0;34m.\u001b[0m\u001b[0mappend\u001b[0m\u001b[0;34m(\u001b[0m\u001b[0mtorch\u001b[0m\u001b[0;34m.\u001b[0m\u001b[0mones_like\u001b[0m\u001b[0;34m(\u001b[0m\u001b[0mout\u001b[0m\u001b[0;34m,\u001b[0m \u001b[0mmemory_format\u001b[0m\u001b[0;34m=\u001b[0m\u001b[0mtorch\u001b[0m\u001b[0;34m.\u001b[0m\u001b[0mpreserve_format\u001b[0m\u001b[0;34m)\u001b[0m\u001b[0;34m)\u001b[0m\u001b[0;34m\u001b[0m\u001b[0;34m\u001b[0m\u001b[0m\n\u001b[1;32m     69\u001b[0m             \u001b[0;32melse\u001b[0m\u001b[0;34m:\u001b[0m\u001b[0;34m\u001b[0m\u001b[0;34m\u001b[0m\u001b[0m\n",
            "\u001b[0;31mRuntimeError\u001b[0m: grad can be implicitly created only for scalar outputs"
          ]
        }
      ]
    },
    {
      "cell_type": "markdown",
      "source": [
        "The issue is that `Q` is not a scalar, and the `autograd` engine can only optimize scalar values. For optimizing `Q` we can aggregate $Q$ in a scalar value and apply `backward` without specifying the initial gradient: `Q.sum().backward()`.\n",
        "\n",
        "\n",
        "\n"
      ],
      "metadata": {
        "id": "q_SJ9SxR2AEz"
      },
      "id": "q_SJ9SxR2AEz"
    },
    {
      "cell_type": "code",
      "source": [
        "# we need to redo the forward pass\n",
        "Q = 3 * a**3 - b**2\n",
        "\n",
        "# aggregating Q in a scalar\n",
        "loss = Q.sum()\n",
        "loss.backward()"
      ],
      "metadata": {
        "id": "CVf_BJ4B2mLY"
      },
      "id": "CVf_BJ4B2mLY",
      "execution_count": null,
      "outputs": []
    },
    {
      "cell_type": "markdown",
      "source": [
        "Alternatively, we can explicitly pass a `gradient` argument to the `Q.backward()` function, since `Q` is a vector `.gradient` is a tensor of the same form as `Q` and represents the derivative of $Q$ with respect to itself:\n",
        "\n",
        "$$\\frac{\\partial Q}{\\partial Q} = 1$$"
      ],
      "metadata": {
        "id": "XdHbibCL2mo8"
      },
      "id": "XdHbibCL2mo8"
    },
    {
      "cell_type": "code",
      "execution_count": null,
      "id": "7488dae6",
      "metadata": {
        "id": "7488dae6"
      },
      "outputs": [],
      "source": [
        "# since the vectors a and b were updated, we need to reinitialize them\n",
        "# to perform this new version and redo the forward pass\n",
        "a = torch.tensor([2., 3.], requires_grad=True)\n",
        "b = torch.tensor([6., 4.], requires_grad=True)\n",
        "\n",
        "Q = 3 * a**3 - b**2"
      ]
    },
    {
      "cell_type": "code",
      "source": [
        "# Q is a vector, so we need to specify the derivative with itself\n",
        "external_grad = torch.tensor([1., 1.])\n",
        "Q.backward(gradient=external_grad)"
      ],
      "metadata": {
        "id": "nffX-ta73lKu"
      },
      "id": "nffX-ta73lKu",
      "execution_count": null,
      "outputs": []
    },
    {
      "cell_type": "markdown",
      "id": "fb8044cb",
      "metadata": {
        "id": "fb8044cb"
      },
      "source": [
        "The gradients of a and b are stored in `a.grad` si `b.grad`."
      ]
    },
    {
      "cell_type": "code",
      "execution_count": null,
      "id": "b114c917",
      "metadata": {
        "id": "b114c917",
        "outputId": "5ccf17e3-36d4-4e99-e5ad-111eb03ff412",
        "colab": {
          "base_uri": "https://localhost:8080/"
        }
      },
      "outputs": [
        {
          "output_type": "stream",
          "name": "stdout",
          "text": [
            "9a^2 = tensor([36., 81.], grad_fn=<MulBackward0>)\n",
            "dQ/da = tensor([36., 81.])\n",
            "\n",
            "-2b = tensor([-12.,  -8.], grad_fn=<MulBackward0>)\n",
            "dQ/db = tensor([-12.,  -8.])\n"
          ]
        }
      ],
      "source": [
        "print(f\"9a^2 = {9 * a ** 2}\")\n",
        "print(f\"dQ/da = {a.grad}\\n\")\n",
        "print(f\"-2b = {-2 * b}\")\n",
        "print(f\"dQ/db = {b.grad}\")"
      ]
    },
    {
      "cell_type": "markdown",
      "id": "142d3729",
      "metadata": {
        "id": "142d3729"
      },
      "source": [
        "### Computation graph\n",
        "\n",
        "Conceptually, `autograd` retains the tensors and all the operations performed on them, together with the intermediate results, in the form of a directed acyclic graph (DAG - Directed Acyclic Graph) in which the nodes are objects of type [Function](https://pytorch.org/docs/stable/autograd.html#torch.autograd.Function). In this DAG, the leaves are the input tensors, and the root/roots are the output tensors. Traversing paths in this graph from roots to leaves.\n",
        "\n",
        "The DAG representation for the earlier computation of `Q` is this:\n",
        "\n",
        "$$Q = 3a^3-b^2$$\n",
        "\n",
        "![](https://pytorch.org/tutorials/_images/dag_autograd.png)\n",
        "\n",
        "\n",
        "\n",
        "\n"
      ]
    },
    {
      "cell_type": "markdown",
      "source": [
        "The gradients can be automatically computed using the \"chain rule\":\n",
        "\n",
        "$$\\frac{dz}{dx} = \\frac{dz}{dy} \\cdot \\frac{dy}{dx}$$\n",
        "\n",
        "In the forward step, `autograd`:\n",
        " * computes the result of the current operation in a tensor\n",
        " * maintains the derived function of this operation in the DAG, in the `.grad_fn` attribute of the resulting tensor\n",
        "\n",
        "The backward step starts when the `.backward()` method is called for a root in the DAG. Then, `autograd`:\n",
        " * computes each gradient using `.grad_fn`\n",
        " * accumulates the gradient in the `.grad` attribute of the respective tensor\n",
        " * using the \"chain rule\" propagate the gradients up to the leaves"
      ],
      "metadata": {
        "id": "GQluoXfi5SQH"
      },
      "id": "GQluoXfi5SQH"
    },
    {
      "cell_type": "code",
      "execution_count": null,
      "id": "af78243d",
      "metadata": {
        "id": "af78243d",
        "outputId": "087fa885-15f4-46d5-b85d-a9becc2220cf",
        "colab": {
          "base_uri": "https://localhost:8080/"
        }
      },
      "outputs": [
        {
          "output_type": "stream",
          "name": "stdout",
          "text": [
            "<SubBackward0 object at 0x7fd4bc6e8c10>\n",
            "((<MulBackward0 object at 0x7fd4bc6e8550>, 0), (<PowBackward0 object at 0x7fd4bc6e8d50>, 0))\n"
          ]
        }
      ],
      "source": [
        "fn = Q.grad_fn\n",
        "print(fn)\n",
        "print(fn.next_functions)"
      ]
    },
    {
      "cell_type": "markdown",
      "id": "b02f5ea4",
      "metadata": {
        "id": "b02f5ea4"
      },
      "source": [
        "### Exclusion from DAG\n",
        "\n",
        "`autograd` tracks the operations performed on all tensors that have `requires_grad=True`. For tensors that do not need gradients, setting this attribute to `False` excludes them from the DAG.\n",
        "\n",
        "The output tensor of an operation will have `requires_grad=True` if at least one input tensor also has `requires_grad=True`."
      ]
    },
    {
      "cell_type": "code",
      "execution_count": null,
      "id": "21b31e6f",
      "metadata": {
        "id": "21b31e6f",
        "outputId": "c5fbdb6f-a68a-4869-9c5c-32a2f4be41ad",
        "colab": {
          "base_uri": "https://localhost:8080/"
        }
      },
      "outputs": [
        {
          "output_type": "stream",
          "name": "stdout",
          "text": [
            "a.requires_grad: False\n",
            "b.requires_grad: True\n"
          ]
        }
      ],
      "source": [
        "x = torch.rand(5, 5)\n",
        "y = torch.rand(5, 5)\n",
        "z = torch.rand((5, 5), requires_grad=True)\n",
        "\n",
        "a = x + y\n",
        "print(f\"a.requires_grad: {a.requires_grad}\")\n",
        "b = x + z\n",
        "print(f\"b.requires_grad: {b.requires_grad}\")"
      ]
    },
    {
      "cell_type": "markdown",
      "id": "54851244",
      "metadata": {
        "id": "54851244"
      },
      "source": [
        "## Steps to train a model\n",
        "\n",
        "We will illustrate the steps to follow if we want to define and train a model for a simple classification problem.\n",
        "\n",
        "First we will define our data, a very small set of data classified into 3 classes."
      ]
    },
    {
      "cell_type": "code",
      "execution_count": null,
      "id": "b1cc36df",
      "metadata": {
        "id": "b1cc36df"
      },
      "outputs": [],
      "source": [
        "dummy_data = {\n",
        "    \"vectors\": [\n",
        "        torch.tensor([0., 0., 0., 0., 0., 0., 2., 3., 4.]),\n",
        "        torch.tensor([0., 0., 0., 0., 0., 0., 4., 2., 5.]),\n",
        "        torch.tensor([0., 0., 0., 0., 0., 0., 7., 9., 1.]),\n",
        "        torch.tensor([0., 0., 0., 4., 5., 2., 0., 0., 0.]),\n",
        "        torch.tensor([0., 0., 0., 2., 4., 6., 0., 0., 0.]),\n",
        "        torch.tensor([0., 0., 0., 2., 3., 5., 0., 0., 0.]),\n",
        "        torch.tensor([2., 9., 6., 0., 0., 0., 0., 0., 0.]),\n",
        "        torch.tensor([6., 5., 4., 0., 0., 0., 0., 0., 0.]),\n",
        "        torch.tensor([7., 7., 4., 0., 0., 0., 0., 0., 0.]),\n",
        "    ],\n",
        "    \"labels\": [0, 0, 0, 1, 1, 1, 2, 2, 2],\n",
        "}"
      ]
    },
    {
      "cell_type": "markdown",
      "id": "aff843bd",
      "metadata": {
        "id": "aff843bd"
      },
      "source": [
        "### PyTorch Dataset\n",
        "\n",
        "We will load our dataset into an object of the [Dataset](https://pytorch.org/docs/stable/data.html?highlight=dataset#torch.utils.data.Dataset) class."
      ]
    },
    {
      "cell_type": "code",
      "execution_count": null,
      "id": "1f9b54ba",
      "metadata": {
        "id": "1f9b54ba"
      },
      "outputs": [],
      "source": [
        "class MyDataset(torch.utils.data.Dataset):\n",
        "    def __init__(self, data):\n",
        "        super().__init__()\n",
        "        self.data = data\n",
        "\n",
        "    # the following two methods must be implemented\n",
        "    def __getitem__(self, k):\n",
        "        \"\"\"Returns the k-th element of the dataset\"\"\"\"\n",
        "        return (\n",
        "            self.data[\"vectors\"][k],\n",
        "            self.data[\"labels\"][k]\n",
        "        )\n",
        "\n",
        "    def __len__(self):\n",
        "        \"\"\"Return the length of the dataset\"\"\"\n",
        "        return len(self.data[\"labels\"])"
      ]
    },
    {
      "cell_type": "code",
      "execution_count": null,
      "id": "e084905b",
      "metadata": {
        "id": "e084905b",
        "outputId": "8359f982-7db7-4580-d680-12946ee4e62d",
        "colab": {
          "base_uri": "https://localhost:8080/"
        }
      },
      "outputs": [
        {
          "output_type": "execute_result",
          "data": {
            "text/plain": [
              "9"
            ]
          },
          "metadata": {},
          "execution_count": 37
        }
      ],
      "source": [
        "dummy_dataset = MyDataset(dummy_data)\n",
        "len(dummy_dataset)"
      ]
    },
    {
      "cell_type": "markdown",
      "id": "9307cbd2",
      "metadata": {
        "id": "9307cbd2"
      },
      "source": [
        "### PyTorch DataLoader\n",
        "\n",
        "During training we want to go through the examples in the dataset and pass them through our network. In practice, several examples are passed through the network before calling the backward step. Such a group is called a batch.\n",
        "\n",
        "The DataLoader is an iterator built starting from the dataset, which groups several examples in batches."
      ]
    },
    {
      "cell_type": "code",
      "execution_count": null,
      "id": "8982b8b3",
      "metadata": {
        "id": "8982b8b3"
      },
      "outputs": [],
      "source": [
        "dummy_dataloader = torch.utils.data.DataLoader(dummy_dataset, batch_size=2, shuffle=True)"
      ]
    },
    {
      "cell_type": "code",
      "execution_count": null,
      "id": "1b50a094",
      "metadata": {
        "id": "1b50a094",
        "outputId": "5bdb6a42-fd7e-4da3-d69a-58eaf3085e02",
        "colab": {
          "base_uri": "https://localhost:8080/"
        }
      },
      "outputs": [
        {
          "output_type": "execute_result",
          "data": {
            "text/plain": [
              "[tensor([[0., 0., 0., 0., 0., 0., 4., 2., 5.],\n",
              "         [0., 0., 0., 2., 3., 5., 0., 0., 0.]]), tensor([0, 1])]"
            ]
          },
          "metadata": {},
          "execution_count": 41
        }
      ],
      "source": [
        "next(iter(dummy_dataloader))"
      ]
    },
    {
      "cell_type": "markdown",
      "id": "9cdde618",
      "metadata": {
        "id": "9cdde618"
      },
      "source": [
        "### Model definition\n",
        "\n",
        "As I said earlier, a model is a chain of functions (or layers). To define a model we implement a class that inherits the `torch.nn.Module` class and implement its constructor in which we define the layers and the `forward` method in which we describe how these layers are applied.\n",
        "\n",
        "We will implement a very simple model: a single linear layer (feed-forward) that receives a vector of size $9$ (the number of features of our data) and returns an output of size $3$ (the number of classes in our problem).\n",
        "\n",
        "A linear layer is an operation of the form $y = A \\cdot x + b$ (where the matrix $A$ represents the weights of the layer, and the vector $b$, the bias)."
      ]
    },
    {
      "cell_type": "code",
      "execution_count": null,
      "id": "6d94d071",
      "metadata": {
        "id": "6d94d071"
      },
      "outputs": [],
      "source": [
        "class Model(torch.nn.Module):\n",
        "    def __init__(self):\n",
        "        super().__init__()\n",
        "        self.linear = torch.nn.Linear(in_features=9, out_features=3)\n",
        "\n",
        "    def forward(self, x):\n",
        "        output = self.linear(x)  # applying the Linear layer\n",
        "        return output"
      ]
    },
    {
      "cell_type": "markdown",
      "id": "fa02e194",
      "metadata": {
        "id": "fa02e194"
      },
      "source": [
        "### Error computing\n",
        "\n",
        "For a vector of size $9$, the model returns one of size $3$. How can we interpret this vector to get the predictions?\n",
        "\n",
        "For example, we could determine the position of the maximum value and say that this is the class predicted by the model"
      ]
    },
    {
      "cell_type": "code",
      "execution_count": null,
      "id": "09ed89a1",
      "metadata": {
        "id": "09ed89a1",
        "outputId": "662e9e1d-fca5-4457-d8b2-743a88409b4b",
        "colab": {
          "base_uri": "https://localhost:8080/"
        }
      },
      "outputs": [
        {
          "output_type": "stream",
          "name": "stdout",
          "text": [
            "Maximum:\t\t tensor(4.)\n",
            "Maximum position:\t tensor(1)\n"
          ]
        }
      ],
      "source": [
        "t = torch.tensor([3., 4., 1.])\n",
        "print(\"Maximum:\\t\\t\", t.max(0)[0])\n",
        "print(\"Maximum position:\\t\", t.max(0)[1])"
      ]
    },
    {
      "cell_type": "markdown",
      "id": "0b9bcfb2",
      "metadata": {
        "id": "0b9bcfb2"
      },
      "source": [
        "However, a better option would be to transform the tensor values into a probability distribution (with what probability does the model assign class $i$ to the example?).\n",
        "\n",
        "A function that computes such a distribution starting from some tensor is the function [*softmax*](https://pytorch.org/docs/stable/generated/torch.nn.functional.softmax.html)."
      ]
    },
    {
      "cell_type": "code",
      "execution_count": null,
      "id": "b9c76396",
      "metadata": {
        "id": "b9c76396",
        "outputId": "cb580a3f-f670-4786-e0fd-6c420aa5e530",
        "colab": {
          "base_uri": "https://localhost:8080/"
        }
      },
      "outputs": [
        {
          "output_type": "stream",
          "name": "stdout",
          "text": [
            "tensor([0.2595, 0.7054, 0.0351])\n"
          ]
        }
      ],
      "source": [
        "print(torch.nn.functional.softmax(t, dim=0))"
      ]
    },
    {
      "cell_type": "markdown",
      "id": "a3d6ac26",
      "metadata": {
        "id": "a3d6ac26"
      },
      "source": [
        "Using the distribution generated by the model and the true labels we can now compute the error. An error function often used for classification is [*cross-entropy*](https://pytorch.org/docs/stable/generated/torch.nn.CrossEntropyLoss.html)."
      ]
    },
    {
      "cell_type": "code",
      "execution_count": null,
      "id": "136b0a47",
      "metadata": {
        "id": "136b0a47",
        "outputId": "08d6cf28-178b-4e3d-c385-d30f47ad8696",
        "colab": {
          "base_uri": "https://localhost:8080/"
        }
      },
      "outputs": [
        {
          "output_type": "stream",
          "name": "stdout",
          "text": [
            "Predicted labels: tensor([1, 0])\n",
            "loss:  tensor(1.2367)\n"
          ]
        }
      ],
      "source": [
        "loss_fn = torch.nn.CrossEntropyLoss()\n",
        "\n",
        "# we assume that this is the output of the model for a batch of 2 examples\n",
        "output = torch.tensor([\n",
        "     [3., 7., 4.],\n",
        "     [4., 2., 3.],\n",
        "])\n",
        "\n",
        "# and we assume that these would be the real labels\n",
        "true_labels = torch.tensor([1, 1])\n",
        "\n",
        "print(\"Predicted labels:\", output.max(1)[1])\n",
        "\n",
        "# the loss function automatically applies softmax over the output of the model\n",
        "# the result is a scalar corresponding to the average error for all examples in the batch\n",
        "print(\"loss: \", loss_fn(output, true_labels))"
      ]
    },
    {
      "cell_type": "markdown",
      "id": "d8b8088f",
      "metadata": {
        "id": "d8b8088f"
      },
      "source": [
        "### Training epoch\n",
        "\n",
        "A training epoch represents going through the dataset (once) and updating the model parameters based on the predictions made."
      ]
    },
    {
      "cell_type": "code",
      "execution_count": null,
      "id": "09ca4e1a",
      "metadata": {
        "id": "09ca4e1a"
      },
      "outputs": [],
      "source": [
        "# wonder if we have a GPU available\n",
        "DEVICE = \"cuda\" if torch.cuda.is_available() else \"cpu\"\n",
        "\n",
        "# initialize the model and move it to the appropriate device\n",
        "model = Model().to(DEVICE)\n",
        "\n",
        "loss_fn = torch.nn.CrossEntropyLoss()\n",
        "optimizer = torch.optim.SGD(model.parameters(), lr=0.01, momentum=0.9)\n",
        "\n",
        "# we set the model in training mode\n",
        "model.train()\n",
        "\n",
        "# we go through the batches using the dataloader\n",
        "for (vectors, labels) in dummy_dataloader:\n",
        "     # move the vectors and labels to the corresponding device\n",
        "     vectors = vectors.to(DEVICE)\n",
        "     labels = labels.to(DEVICE)\n",
        "\n",
        "     # reset the remaining gradients from the previous batch\n",
        "     optimizer.zero_grad()\n",
        "\n",
        "     # we pass the vectors (batch_size x 9) from the batch through the model (forward step)\n",
        "     output = model(vectors) # shape: batch_size x 3\n",
        "\n",
        "     # we compute the loss\n",
        "     loss = loss_fn(output, labels)\n",
        "\n",
        "     # backward step\n",
        "     loss.backward()\n",
        "\n",
        "     # we update the parameters of the model using the optimizer\n",
        "     optimizer.step()"
      ]
    },
    {
      "cell_type": "markdown",
      "id": "f5045644",
      "metadata": {
        "id": "f5045644"
      },
      "source": [
        "Now we can evaluate the model"
      ]
    },
    {
      "cell_type": "code",
      "execution_count": null,
      "id": "a7f6ff81",
      "metadata": {
        "id": "a7f6ff81"
      },
      "outputs": [],
      "source": [
        "# we turn the model into the evaluation mode\n",
        "model.eval()\n",
        "\n",
        "true_labels = []\n",
        "predicted_labels = []\n",
        "mean_loss = 0\n",
        "\n",
        "with torch.no_grad():\n",
        "  for (vectors, labels) in dummy_dataloader:\n",
        "     vectors = vectors.to(DEVICE)\n",
        "     labels = labels.to(DEVICE)\n",
        "\n",
        "     output = model(vectors)\n",
        "     loss = loss_fn(output, labels)\n",
        "\n",
        "     mean_loss += loss.item()\n",
        "     true_labels.extend(labels.tolist())\n",
        "     predicted_labels.extend(output.max(1)[1].tolist())\n",
        "\n",
        "mean_loss /= len(dummy_dataloader)"
      ]
    },
    {
      "cell_type": "code",
      "execution_count": null,
      "id": "fdd5fa88",
      "metadata": {
        "id": "fdd5fa88",
        "outputId": "241597b6-767e-44ed-9bc2-27e6ba05d6a0",
        "colab": {
          "base_uri": "https://localhost:8080/"
        }
      },
      "outputs": [
        {
          "output_type": "stream",
          "name": "stdout",
          "text": [
            "Accuracy: 1.0\n",
            "Mean loss: 0.2556738078594208\n"
          ]
        }
      ],
      "source": [
        "import sklearn.metrics as metrics\n",
        "\n",
        "print(\"Accuracy:\", metrics.accuracy_score(true_labels, predicted_labels))\n",
        "print(\"Mean loss:\", mean_loss)"
      ]
    },
    {
      "cell_type": "markdown",
      "id": "4f4159d6",
      "metadata": {
        "id": "4f4159d6"
      },
      "source": [
        "#### Important!!!\n",
        "\n",
        "Neural networks can quite easily obtain very good performance on the data with which they were trained, but without generalizing (on new data, they obtain very poor performance). We call this case **overfit**.\n",
        "\n",
        "In order to clearly establish the performance of the model in practice, the data is divided into 3 categories:\n",
        " - train: the data on which the model is trained at each epoch\n",
        " - validation: at the end of each epoch we evaluate the performance of the model on these data (unseen during training)\n",
        " - test: once we have trained the best model (selected according to the validation data) the final evaluation is made on this data (also unseen during training)\n",
        "\n",
        "The validation data is used to monitor the performance (loss, accuracy, etc.) of the model at the end of each epoch. We can select, for example, the parameters of the model from the end of the era with the best performance. Also, if we notice that the error on the validation data stagnates or increases while the error on the train data continues to decrease, we can conclude that the model has started to **overfit** the train data."
      ]
    },
    {
      "cell_type": "markdown",
      "id": "83bb84b8",
      "metadata": {
        "id": "83bb84b8"
      },
      "source": [
        "### Chaining several layers\n",
        "\n",
        "For example, we can define several feed-forward (linear) layers and pass the input successively through them."
      ]
    },
    {
      "cell_type": "code",
      "execution_count": null,
      "id": "c551e2f1",
      "metadata": {
        "id": "c551e2f1",
        "outputId": "de48329b-de3b-43eb-f803-f5f710123490",
        "colab": {
          "base_uri": "https://localhost:8080/"
        }
      },
      "outputs": [
        {
          "output_type": "stream",
          "name": "stdout",
          "text": [
            "Input shape: torch.Size([1, 5])\n",
            "Output shape: torch.Size([1, 7])\n"
          ]
        }
      ],
      "source": [
        "t_input = torch.tensor([[1., 2., 3., 4., 5.]])  # the shape is always (batch_size, dim)\n",
        "\n",
        "layer_1 = torch.nn.Linear(5, 8)\n",
        "layer_2 = torch.nn.Linear(8, 4)\n",
        "layer_3 = torch.nn.Linear(4, 7)\n",
        "\n",
        "t_output = layer_1(t_input)\n",
        "t_output = layer_2(t_output)\n",
        "t_output = layer_3(t_output)\n",
        "\n",
        "print(\"Input shape:\", t_input.shape)\n",
        "print(\"Output shape:\", t_output.shape)"
      ]
    },
    {
      "cell_type": "markdown",
      "id": "b11b5728",
      "metadata": {
        "id": "b11b5728"
      },
      "source": [
        "#### Activation functions\n",
        "\n",
        "Activation functions (activation functions / non-linearities) are functions applied to the output of a linear layer. The reason why we need such functions is the fact that a layer transforms the input by applying an affine transformation ($A \\cdot x + b$). Several chained affine transformations are equivalent to a single transformation (there is a `Linear(5, 7)` layer that would do the same transformation above).\n",
        "\n",
        "Thus, by adding more intermediate layers, we do not really increase the complexity of the model. In the case above, without the cross-layer activation function, the model has the same complexity as if it had a single Linear layer, and is very likely to [underfitting](https://www.ibm.com/cloud/learn /underfitting). A model that is not complex enough for the task and fails to learn is an **underfit** model.\n",
        "\n",
        "The activation functions are non-linear functions derivable at all points (possibly with the exception of a finite number of points). Common activation functions are [ReLU](https://pytorch.org/docs/1.11/generated/torch.nn.ReLU.html#torch.nn.ReLU) and [tanh](https://pytorch.org/ docs/1.11/generated/torch.nn.Tanh.html)."
      ]
    },
    {
      "cell_type": "code",
      "execution_count": null,
      "id": "131fba78",
      "metadata": {
        "id": "131fba78",
        "outputId": "c1a6fdd2-6f52-4a78-cf03-ecc554402ebf",
        "colab": {
          "base_uri": "https://localhost:8080/"
        }
      },
      "outputs": [
        {
          "output_type": "stream",
          "name": "stdout",
          "text": [
            "Input shape: torch.Size([1, 5])\n",
            "Output shape: torch.Size([1, 7])\n"
          ]
        }
      ],
      "source": [
        "# x.t @ W1 @ W2 @ w3 = x.t @ W4\n",
        "t_input = torch.tensor([[1., 2., 3., 4., 5.]])  #  the shape is always (batch_size, dim)\n",
        "\n",
        "layer_1 = torch.nn.Linear(5, 8)\n",
        "layer_2 = torch.nn.Linear(8, 4)\n",
        "layer_3 = torch.nn.Linear(4, 7)\n",
        "\n",
        "t_output = layer_1(t_input)\n",
        "t_output = torch.nn.functional.relu(t_output)\n",
        "t_output = layer_2(t_output)\n",
        "t_output = torch.nn.functional.relu(t_output)\n",
        "t_output = layer_3(t_output)\n",
        "\n",
        "print(\"Input shape:\", t_input.shape)\n",
        "print(\"Output shape:\", t_output.shape)"
      ]
    },
    {
      "cell_type": "markdown",
      "id": "483f0156",
      "metadata": {
        "id": "483f0156"
      },
      "source": [
        "We can use the `Sequential` layer to combine several layers into one"
      ]
    },
    {
      "cell_type": "code",
      "execution_count": null,
      "id": "72bc96fb",
      "metadata": {
        "id": "72bc96fb",
        "outputId": "ce2ac41b-8a3f-431e-fe73-f148771edb17",
        "colab": {
          "base_uri": "https://localhost:8080/"
        }
      },
      "outputs": [
        {
          "output_type": "stream",
          "name": "stdout",
          "text": [
            "Input shape: torch.Size([1, 5])\n",
            "Output shape: torch.Size([1, 7])\n"
          ]
        }
      ],
      "source": [
        "t_input = torch.tensor([[1., 2., 3., 4., 5.]])  #  the shape is always (batch_size, dim)\n",
        "\n",
        "seq = torch.nn.Sequential(\n",
        "    torch.nn.Linear(5, 8),\n",
        "    torch.nn.ReLU(),\n",
        "    torch.nn.Linear(8, 4),\n",
        "    torch.nn.ReLU(),\n",
        "    torch.nn.Linear(4, 7),\n",
        ")\n",
        "\n",
        "t_output = seq(t_input)\n",
        "\n",
        "print(\"Input shape:\", t_input.shape)\n",
        "print(\"Output shape:\", t_output.shape)"
      ]
    },
    {
      "cell_type": "markdown",
      "id": "a89a9ec0",
      "metadata": {
        "id": "a89a9ec0"
      },
      "source": [
        "### Dropout\n",
        "\n",
        "The idea comes from Genetics: in reproduction, evolution is archieved using gene swapping. The genes must not be just good with combination with other genes, they need to be universally good.\n",
        "\n",
        "Dropout is a regularization method of neural networks. It can help train more robust networks that can generalize better. The principle of operation is simple:\n",
        "  - during training, each component of a vector passed through this layer is transformed into $0$ with probability $p$, and the rest of the components are scaled by $\\frac{1}{1-p}$\n",
        "  - for inference (evaluation), this layer does not affect the input in any way\n",
        "\n",
        "If the scalling part was not performed for the surviving neurons, the activation values of the neurons that are \"universally good\" will be much higher than without dropout (their mean will be higher)."
      ]
    },
    {
      "cell_type": "markdown",
      "source": [
        "![dropout.jpg](data:image/jpeg;base64,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)"
      ],
      "metadata": {
        "id": "k7wA2bQeePd1"
      },
      "id": "k7wA2bQeePd1"
    },
    {
      "cell_type": "markdown",
      "source": [
        "Since this layer behaves differently when training compared to evaluation, it is important to take care that the model is set in advance in the correct configuration (`model.train()` or `model.eval()`)."
      ],
      "metadata": {
        "id": "LaYRgWbegNat"
      },
      "id": "LaYRgWbegNat"
    },
    {
      "cell_type": "code",
      "execution_count": null,
      "id": "b43dac39",
      "metadata": {
        "id": "b43dac39",
        "outputId": "5861c9dc-fcaa-40a7-e160-11061328b7a7",
        "colab": {
          "base_uri": "https://localhost:8080/"
        }
      },
      "outputs": [
        {
          "output_type": "stream",
          "name": "stdout",
          "text": [
            "Input: tensor([1., 2., 3., 4., 5., 6., 7., 8., 9.])\n",
            "Output: tensor([0., 0., 6., 8., 0., 0., 0., 0., 0.])\n",
            "Output: tensor([ 2.,  4.,  0.,  0.,  0.,  0.,  0., 16.,  0.])\n"
          ]
        }
      ],
      "source": [
        "t = torch.tensor([1., 2., 3., 4., 5., 6., 7., 8., 9.])\n",
        "dropout = torch.nn.Dropout(p=0.5, inplace=False)\n",
        "\n",
        "print(\"Input:\", t)\n",
        "output = dropout(t)\n",
        "print(\"Output:\", output)\n",
        "output = dropout(t)\n",
        "print(\"Output:\", output)"
      ]
    },
    {
      "cell_type": "code",
      "source": [
        "dropout.parameters()"
      ],
      "metadata": {
        "colab": {
          "base_uri": "https://localhost:8080/"
        },
        "id": "0GOZFe97R2S8",
        "outputId": "e966ac68-4783-49b7-c3dc-30b384e1ed83"
      },
      "id": "0GOZFe97R2S8",
      "execution_count": null,
      "outputs": [
        {
          "output_type": "execute_result",
          "data": {
            "text/plain": [
              "[]"
            ]
          },
          "metadata": {},
          "execution_count": 59
        }
      ]
    },
    {
      "cell_type": "markdown",
      "id": "ec29a811",
      "metadata": {
        "id": "ec29a811"
      },
      "source": [
        "### Saving a model"
      ]
    },
    {
      "cell_type": "code",
      "execution_count": null,
      "id": "71817a18",
      "metadata": {
        "id": "71817a18",
        "outputId": "6752cba6-fd2d-487a-8305-13e7af4347f6",
        "colab": {
          "base_uri": "https://localhost:8080/"
        }
      },
      "outputs": [
        {
          "output_type": "execute_result",
          "data": {
            "text/plain": [
              "<All keys matched successfully>"
            ]
          },
          "metadata": {},
          "execution_count": 44
        }
      ],
      "source": [
        "torch.save(model.state_dict(), \"model.pt\") # save model weights\n",
        "model.load_state_dict(torch.load(\"model.pt\")) # load the weights from the file"
      ]
    },
    {
      "cell_type": "code",
      "source": [
        "model.state_dict()"
      ],
      "metadata": {
        "colab": {
          "base_uri": "https://localhost:8080/"
        },
        "id": "vM-tVQI1RiGB",
        "outputId": "f13e10da-e3c2-45ff-bd0a-6353f1f9f54b"
      },
      "id": "vM-tVQI1RiGB",
      "execution_count": null,
      "outputs": [
        {
          "output_type": "execute_result",
          "data": {
            "text/plain": [
              "OrderedDict([('linear.weight',\n",
              "              tensor([[ 0.0655, -0.0775, -0.1262,  0.0646,  0.0856, -0.1404,  0.1631,  0.0528,\n",
              "                       -0.1034],\n",
              "                      [-0.0128, -0.0504, -0.1392,  0.2123,  0.0921,  0.1673, -0.2620, -0.0254,\n",
              "                        0.0040],\n",
              "                      [-0.1159,  0.2714,  0.0597,  0.0829, -0.1771, -0.2509,  0.2630, -0.3114,\n",
              "                       -0.2286]], device='cuda:0')),\n",
              "             ('linear.bias',\n",
              "              tensor([-0.1651,  0.0423, -0.3156], device='cuda:0'))])"
            ]
          },
          "metadata": {},
          "execution_count": 55
        }
      ]
    },
    {
      "cell_type": "markdown",
      "id": "fa2a22eb",
      "metadata": {
        "id": "fa2a22eb"
      },
      "source": [
        "# Tasks\n",
        "\n",
        "Implement a model which is given Romanian lowercased text (from [this dataset](https://github.com/dumitrescustefan/ronec)) and tries to uppercase appropriate letters. To load the dataset, use the following code which imports the data, and splits it into sequences of characters and labels using a sliding window. The following steps will guide you throught the process:"
      ]
    },
    {
      "cell_type": "markdown",
      "id": "9392c7aa",
      "metadata": {
        "id": "9392c7aa"
      },
      "source": [
        "1. Divide the dataset into 80% train, 10% validation and 10% test. Create the three dataloaders corresponding to each split.\n",
        "\n",
        "2. Define a model with at least 3 linear layers, the last of which has the output size equal to the number of classes. Apply an activation function of your choice after each linear layer (except the last one).\n",
        "\n",
        "3. Define the loss function (cross-entropy) and an optimizer (SGD, Adam, etc.).\n",
        "\n",
        "4. Train the model for multiple epochs on the train data. At the end of each epoch, evaluate the performance of the model on the validation data. Monitor at each epoch the average error and the accuracy for the predictions made on the training data and separately on the validation data, so that if you notice the *overfit* situation, you can stop the training.\n",
        "\n",
        "5. Save the model with the best validation error, computed at the end of the respective epoch.\n",
        "\n",
        "6. Plot the evolution of the train error and the validation error at the end of each epoch on the same graph. Plot in another graph the evolution of accuracy on the train and validation data.\n",
        "\n",
        "7. Evaluate the model (error, accuracy, macro-f1, etc.) on the test data.\n",
        "\n",
        "8. Try to add after each layer in the model (except the last one) dropout with a $p$ chosen by you. Analyze if the performance of a model trained in this way is better."
      ]
    },
    {
      "cell_type": "code",
      "source": [
        "!pip install datasets"
      ],
      "metadata": {
        "id": "1xiAZV297hgI"
      },
      "id": "1xiAZV297hgI",
      "execution_count": null,
      "outputs": []
    },
    {
      "cell_type": "code",
      "source": [
        "from datasets import load_dataset\n",
        "ronec = load_dataset(\"ronec\")"
      ],
      "metadata": {
        "colab": {
          "base_uri": "https://localhost:8080/",
          "height": 360,
          "referenced_widgets": [
            "b762b5a1d51e428ea85e5215067c1a13",
            "e9a7924eff23416095a876db05ca787f",
            "036f54e8d1314e788f7891702c9ef63a",
            "c9a4b2abd43a437daa7060e59336e4e0",
            "31170b122942441aa5fce3c2436af5d2",
            "fb775a84294142eba9430ee0493e9f7a",
            "d1457d878bf34883869238d63daae5b8",
            "d4410929524842138cdea1155670a70d",
            "df8924ceb0da4443be3df585fa2ea0b2",
            "5ce88697ed304af5aeb3ea3f53263b3b",
            "bfd0edec8c22465cb65b4aca2d2e5dcc",
            "e84a051e75e74a7ab661074b1d577f9e",
            "a6d51eb080504688a5017fb99e14d81b",
            "b49be00afb9e4319997087ce99a86636",
            "8be86e08ce56405caaff653c58a99466",
            "7f20ee39e446495ab6083350cc553718",
            "e5afc1fff17540ebb1b3f5fbf7b3f021",
            "2e8b57028cc74773b978e8e0ef7552fd",
            "41bb5ca078e84dd394e7a6798c0663ad",
            "580c19caa3374e5090ca70d284e91e17",
            "ce87aff8b21749c99083cc86a4ec6692",
            "9689c83e12774115a84662130ad32f06",
            "a5f24e3d0fc340a4bbc89bd650f940b2",
            "81fce63a59f84ee69145678031498aeb",
            "93403a1de7b34c4bb56582225d826cb7",
            "ed24e809e9914d98a2cb0ab00d9aece3",
            "0f72a34d113e4dc2bcb2c1ec1d84e364",
            "77935e6268f64325994eac865534fca5",
            "421632d407004589a3ff8c6443ce746b",
            "07d9c613498a4d31b52c624472a10bd2",
            "db274ba7539247158a9ef4cbe03d77f1",
            "18315ef966ae45e3abf85ffcd6df3a5a",
            "01e41d51ee6c4eeeaa80fcb414be1d2f",
            "eaaf67e264ae4704aafbf1722cf32482",
            "52fbbc4d82ce44c99cd549383c3a8b21",
            "b0a0db85bbaf44bf8f11bb83321451e6",
            "f036126ec3154a5cb1ec905b7f361c53",
            "6ce70e708f6c45f3bbf9d223eb8933ac",
            "ac1fa13511fb4f66ae10485a3299f027",
            "9e2e32134a5b4bcca71d9785d2b8926f",
            "1972a865d5044683b3c8a622d9514bf6",
            "3919d0c240ad4a8cab3c5a2f420c1055",
            "6d6533866ace437dba25e4cd33bdbcc2",
            "170017e933f846be8f7dd9f473e9198f",
            "658dcf3197ae48e9a80f5c636fbbec3f",
            "d4d17a73d0a54f1cac5883c70ea53fa4",
            "778a501028d4467e9c13bd8af4a93248",
            "a30c2bfa1a3e404eb1291eff48e952c9",
            "1943ed84d55f4067a28f12c382cb2889",
            "01c7c89528e84a9a9cf7d87272c0740d",
            "16d3d95f47d543d38b95a4a744c24012",
            "6e2c45ddbaae4694b6c8f2053d646fca",
            "9e40d356672e41ed83da4a47abe57c3f",
            "5357e2221aa645cf8cd6d5ae6e831cba",
            "922fcbb0982d4541bd0017bce6b87782",
            "060f34b63e954413bc621b56b39dd4a9",
            "9ae649fe45b74570b8284b9ea84f0a2a",
            "e2a904ee99334648a612da6129ec49a9",
            "18b54a1d567a4bb79d4eb90f5525d929",
            "44120f11f928488ea0a1beb99d9f6961",
            "b3a7c70c5d3145329dba0c154ec0aa33",
            "4514f11972c74534bbdd429f28c317a5",
            "89cf1a4e283649d6acbd28430cb40222",
            "cda2f6f53d384587a0e7ba9c0dd502b1",
            "0932dd0fd02a4bc9adae3c9a19b27318",
            "6ce30384355143c8b13f1c7b8a7fc79f",
            "6e469e7ded7a4091b8ab8d050efe787a",
            "e7acaab499d646369b6b51dd7af851c0",
            "4629842610854fa8adb31e2ae36de838",
            "e5b24c86eac846d4ab74f7899e25e13b",
            "01eaa6f863144b5d9a3cc8cd437ed858",
            "ad757049e6954408b524cafddc2dc51d",
            "8ae025b25ac1437faf4c26617705997b",
            "7e29b0e0da2c41f892fd9e524941bc5a",
            "cc06ddf40e204ad199f06ba5457b3a69",
            "0c53ee3b905748afb58a995e70104924",
            "e8f1463e988d407f821df75667d7d2f9",
            "1cc78a5c57ef46f4a20ee889248fc9c6",
            "8992f9919d244bdd8cabcdc0332d3a09",
            "7c5ad73ea1f140038378aa01da909ee4",
            "79ddb8957c46431ca275961ea75d66ab",
            "48d2feac9e094659aa6983cd5b2f0116",
            "d2a1ec7d638143a486d324a228473b1b",
            "2670a679ab544a70a37d5febc02494f0",
            "f82590d1108c47f8b3aceee000f4cf05",
            "c111923521fc43d585a248707d46f5b9",
            "e4266f56af2248d781048cb74814ffa5",
            "e1a08d26490e416daf8b48cc2f1b8439",
            "5f8ecc068ac5472e9c2a6cb01a732034",
            "9f6026640a8b4d559bc0e619e1f6f88e",
            "3f97cfc03d774b7fbc70b755f2aa3a1d",
            "aecd4183e68b4a11b4377a8ca0849b6a",
            "cb0537ae3fb94bdb98da862f783e11d0",
            "a2ff48c1ecdc4eeda05cdf7beadcd2a4",
            "bb9303c2170c48fb84c41884ba22428b",
            "5b844fc8044e4f0f805f9ba3106a6f33",
            "acde018c287941329a7bdc3e2851d2fc",
            "57a27dd3f3d247b1bcea2ea30a13751e",
            "ca401b624c864aa2b92f615dce9a744f",
            "eb6c6f62c41f4a7c8f2d9975a691a776",
            "89de04611c5449f7b512ee9cac61e795",
            "67cb393361e84b908c266ce66611b2ee",
            "526b141cfac040e5a72516db0b150c07",
            "77c42ae84ad143d8a8d22c5379100181",
            "5f0821d317074c5a845642173402f8e5",
            "3515763b47e041c89f96f2f18221b3d5",
            "43d43ca88ae04910b3a15623f56e7177",
            "8dc76ba4f2974b4ea5042e0bc2f28b88",
            "afbf9979c6a94b76bfae06d6ac1f0b70",
            "6ce3f5eac96a47f6bfbf2741bcb13568",
            "2a52d2cc217c44b2ac88be810af7ca06",
            "abfb0c2bb5414a3c83fcd354d7d28dff",
            "7c515bf1c50d40059011ad172c3fea86",
            "61f0dc7ca00a48bfad8856d1e646e338",
            "932593d204d748fbaac6947238d5eb46",
            "65b62f01aeec4eb5a5bcb248dd9e497e",
            "eb574468062646e7b38a22bafbcad595",
            "b9d39ae6e92540e99af6f65304d2d767",
            "3a0595be78a94e409227f3a542adeedd",
            "bccf61f57b0e4058a7a0a2e42365246f",
            "d48f34355f464cd3bbf481269a8482f6"
          ]
        },
        "id": "fIbrze2mUSFc",
        "outputId": "151bcec3-e9da-48af-9eb9-be7ea3d7b459"
      },
      "id": "fIbrze2mUSFc",
      "execution_count": null,
      "outputs": [
        {
          "output_type": "display_data",
          "data": {
            "text/plain": [
              "Downloading builder script:   0%|          | 0.00/6.15k [00:00<?, ?B/s]"
            ],
            "application/vnd.jupyter.widget-view+json": {
              "version_major": 2,
              "version_minor": 0,
              "model_id": "b762b5a1d51e428ea85e5215067c1a13"
            }
          },
          "metadata": {}
        },
        {
          "output_type": "display_data",
          "data": {
            "text/plain": [
              "Downloading metadata:   0%|          | 0.00/2.84k [00:00<?, ?B/s]"
            ],
            "application/vnd.jupyter.widget-view+json": {
              "version_major": 2,
              "version_minor": 0,
              "model_id": "e84a051e75e74a7ab661074b1d577f9e"
            }
          },
          "metadata": {}
        },
        {
          "output_type": "display_data",
          "data": {
            "text/plain": [
              "Downloading readme:   0%|          | 0.00/9.99k [00:00<?, ?B/s]"
            ],
            "application/vnd.jupyter.widget-view+json": {
              "version_major": 2,
              "version_minor": 0,
              "model_id": "a5f24e3d0fc340a4bbc89bd650f940b2"
            }
          },
          "metadata": {}
        },
        {
          "output_type": "stream",
          "name": "stdout",
          "text": [
            "Downloading and preparing dataset ronec/ronec to /root/.cache/huggingface/datasets/ronec/ronec/2.0.0/55ba1e9e3b86dd241289f8e57170ad7a1288a2a81987d9786daf9216f3dffe54...\n"
          ]
        },
        {
          "output_type": "display_data",
          "data": {
            "text/plain": [
              "Downloading data files:   0%|          | 0/3 [00:00<?, ?it/s]"
            ],
            "application/vnd.jupyter.widget-view+json": {
              "version_major": 2,
              "version_minor": 0,
              "model_id": "eaaf67e264ae4704aafbf1722cf32482"
            }
          },
          "metadata": {}
        },
        {
          "output_type": "display_data",
          "data": {
            "text/plain": [
              "Downloading data:   0%|          | 0.00/1.83M [00:00<?, ?B/s]"
            ],
            "application/vnd.jupyter.widget-view+json": {
              "version_major": 2,
              "version_minor": 0,
              "model_id": "658dcf3197ae48e9a80f5c636fbbec3f"
            }
          },
          "metadata": {}
        },
        {
          "output_type": "display_data",
          "data": {
            "text/plain": [
              "Downloading data:   0%|          | 0.00/267k [00:00<?, ?B/s]"
            ],
            "application/vnd.jupyter.widget-view+json": {
              "version_major": 2,
              "version_minor": 0,
              "model_id": "060f34b63e954413bc621b56b39dd4a9"
            }
          },
          "metadata": {}
        },
        {
          "output_type": "display_data",
          "data": {
            "text/plain": [
              "Downloading data:   0%|          | 0.00/401k [00:00<?, ?B/s]"
            ],
            "application/vnd.jupyter.widget-view+json": {
              "version_major": 2,
              "version_minor": 0,
              "model_id": "6e469e7ded7a4091b8ab8d050efe787a"
            }
          },
          "metadata": {}
        },
        {
          "output_type": "display_data",
          "data": {
            "text/plain": [
              "Generating train split:   0%|          | 0/9000 [00:00<?, ? examples/s]"
            ],
            "application/vnd.jupyter.widget-view+json": {
              "version_major": 2,
              "version_minor": 0,
              "model_id": "1cc78a5c57ef46f4a20ee889248fc9c6"
            }
          },
          "metadata": {}
        },
        {
          "output_type": "display_data",
          "data": {
            "text/plain": [
              "Generating validation split:   0%|          | 0/1330 [00:00<?, ? examples/s]"
            ],
            "application/vnd.jupyter.widget-view+json": {
              "version_major": 2,
              "version_minor": 0,
              "model_id": "5f8ecc068ac5472e9c2a6cb01a732034"
            }
          },
          "metadata": {}
        },
        {
          "output_type": "display_data",
          "data": {
            "text/plain": [
              "Generating test split:   0%|          | 0/2000 [00:00<?, ? examples/s]"
            ],
            "application/vnd.jupyter.widget-view+json": {
              "version_major": 2,
              "version_minor": 0,
              "model_id": "eb6c6f62c41f4a7c8f2d9975a691a776"
            }
          },
          "metadata": {}
        },
        {
          "output_type": "stream",
          "name": "stdout",
          "text": [
            "Dataset ronec downloaded and prepared to /root/.cache/huggingface/datasets/ronec/ronec/2.0.0/55ba1e9e3b86dd241289f8e57170ad7a1288a2a81987d9786daf9216f3dffe54. Subsequent calls will reuse this data.\n"
          ]
        },
        {
          "output_type": "display_data",
          "data": {
            "text/plain": [
              "  0%|          | 0/3 [00:00<?, ?it/s]"
            ],
            "application/vnd.jupyter.widget-view+json": {
              "version_major": 2,
              "version_minor": 0,
              "model_id": "2a52d2cc217c44b2ac88be810af7ca06"
            }
          },
          "metadata": {}
        }
      ]
    },
    {
      "cell_type": "markdown",
      "source": [
        "`ronec[train]` is a list of dictionary, in this format:\n",
        "```\n",
        "{\n",
        "  \"id\": 10454,\n",
        "  \"tokens\": [\"Pentru\", \"a\", \"vizita\", \"locația\", \"care\", \"va\", \"fi\", \"pusă\", \"la\", \"dispoziția\", \"reprezentanților\", \"consiliilor\", \"județene\", \",\", \"o\", \"delegație\", \"a\", \"U.N.C.J.R.\", \",\", \"din\", \"care\", \"a\", \"făcut\", \"parte\", \"și\", \"dl\", \"Constantin\", \"Ostaficiuc\", \",\", \"președintele\", \"C.J.T.\", \",\", \"a\", \"fost\", \"prezentă\", \"la\", \"Bruxelles\", \",\", \"între\", \"1-3\", \"martie\", \".\"],\n",
        "  \"ner_tags\": [\"O\", \"O\", \"O\", \"O\", \"O\", \"O\", \"O\", \"O\", \"O\", \"O\", \"B-PERSON\", \"O\", \"O\", \"O\", \"O\", \"O\", \"O\", \"B-ORG\", \"O\", \"O\", \"O\", \"O\", \"O\", \"O\", \"O\", \"B-PERSON\", \"I-PERSON\", \"I-PERSON\", \"I-PERSON\", \"I-PERSON\", \"B-ORG\", \"O\", \"O\", \"O\", \"O\", \"O\", \"B-GPE\", \"O\", \"B-PERIOD\", \"I-PERIOD\", \"I-PERIOD\", \"O\"],\n",
        "  \"ner_ids\": [0, 0, 0, 0, 0, 0, 0, 0, 0, 0, 1, 0, 0, 0, 0, 0, 0, 3, 0, 0, 0, 0, 0, 0, 0, 1, 2, 2, 2, 2, 3, 0, 0, 0, 0, 0, 5, 0, 19, 20, 20, 0],\n",
        "  \"space_after\": [true, true, true, true, true, true, true, true, true, true, true, true, false, true, true, true, true, false, true, true, true, true, true, true, true, true, true, false, true, true, false, true, true, true, true, true, false, true, true, true, false, false]\n",
        "}\n",
        "```\n",
        "\n",
        "We need only the sentences without the punctuation signs."
      ],
      "metadata": {
        "id": "8tx5x_jPW03L"
      },
      "id": "8tx5x_jPW03L"
    },
    {
      "cell_type": "code",
      "source": [
        "dataset = [\n",
        "    ' '.join([token for token in sample[\"tokens\"] if token not in string.punctuation]) \\\n",
        "    for sample in ronec[\"train\"]\n",
        "]\n",
        "len(dataset)"
      ],
      "metadata": {
        "colab": {
          "base_uri": "https://localhost:8080/"
        },
        "id": "wSEnJjwVUv9x",
        "outputId": "75723717-7d31-4370-9b1e-37d382be2137"
      },
      "id": "wSEnJjwVUv9x",
      "execution_count": null,
      "outputs": [
        {
          "output_type": "execute_result",
          "data": {
            "text/plain": [
              "9000"
            ]
          },
          "metadata": {},
          "execution_count": 7
        }
      ]
    },
    {
      "cell_type": "markdown",
      "source": [
        "You can play with these parameters: the alphabet size will be the size of the vocabulary of our model. The sliding window is our sequence and the model will be sequence to vector (seq2vec)."
      ],
      "metadata": {
        "id": "70p75Isl4uyu"
      },
      "id": "70p75Isl4uyu"
    },
    {
      "cell_type": "code",
      "source": [
        "alphabet_size = 32\n",
        "window_size = 10\n",
        "\n",
        "complete_text = ' '.join(dataset)\n",
        "text_size = len(complete_text)"
      ],
      "metadata": {
        "id": "Yvg5E0sqWFc1"
      },
      "id": "Yvg5E0sqWFc1",
      "execution_count": null,
      "outputs": []
    },
    {
      "cell_type": "code",
      "source": [
        "# computing the most frequent characters\n",
        "characters, counts = np.unique(list(complete_text.lower()), return_counts=True)\n",
        "char_count_pairs = list(zip(characters, counts))\n",
        "char_count_pairs.sort(key=lambda item: item[1], reverse=True)"
      ],
      "metadata": {
        "id": "wY-bZX-GycN6"
      },
      "id": "wY-bZX-GycN6",
      "execution_count": null,
      "outputs": []
    },
    {
      "cell_type": "code",
      "source": [
        "# ploting a chart with the most used characters\n",
        "alphabet_pairs = char_count_pairs[:alphabet_size]\n",
        "alphabet_chars, alphabet_counts = zip(*alphabet_pairs)\n",
        "\n",
        "plt.figure(figsize=(18, 7))\n",
        "plt.barh(alphabet_chars, alphabet_counts)\n",
        "plt.tight_layout()"
      ],
      "metadata": {
        "colab": {
          "base_uri": "https://localhost:8080/",
          "height": 500
        },
        "id": "AvG8XPaVy-If",
        "outputId": "a05cfb3a-7859-4a94-de0f-f34443e7dfc9"
      },
      "id": "AvG8XPaVy-If",
      "execution_count": null,
      "outputs": [
        {
          "output_type": "display_data",
          "data": {
            "text/plain": [
              "<Figure size 1296x504 with 1 Axes>"
            ],
            "image/png": "[encoded data removed]"
          },
          "metadata": {
            "needs_background": "light"
          }
        }
      ]
    },
    {
      "cell_type": "code",
      "source": [
        "# Create alphabet_map\n",
        "alphabet_map = {char: idx + 2 for idx, char in enumerate(characters)}\n",
        "alphabet_map['<unk>'] = 0"
      ],
      "metadata": {
        "id": "zV-EFtE4yZHU"
      },
      "id": "zV-EFtE4yZHU",
      "execution_count": null,
      "outputs": []
    },
    {
      "cell_type": "markdown",
      "source": [
        "# Sliding window\n",
        "\n",
        "After obtaining the alphabet map, a sliding window will extract the sequence and the labels, in the following way. Let's took a small example:\n",
        "\n",
        " - text: \"Comisia națională pentru informatică și libertăți CNIL precum și 19 omologi ai acesteia în SUA Germania Australia Marea Britanie\"\n",
        " - window_size = 10\n",
        "\n",
        "| Sliding window                  | Label |\n",
        "|:-------------------------------:|:-----:|\n",
        "| [c, o, m, i, s, i, a,  , n, a]  |   1   |\n",
        "| [o, m, i, s, i, a,  , n, a, ț]  |   0   |\n",
        "| [m, i, s, i, a,  , n, a, ț, i]  |   0   |\n",
        "| [i, s, i, a,  , n, a, ț, i, o]  |   0   |\n",
        "| … | … |\n",
        "| [m, a, r, e, a,  , b, r, i, t]  |   1   |\n",
        "| [a, r, e, a,  , b, r, i, t, a]  |   0   |\n",
        "| [r, e, a,  , b, r, i, t, a, n]  |   0   |\n",
        "| [e, a,  , b, r, i, t, a, n, i]  |   0   |\n",
        "| [a,  , b, r, i, t, a, n, i, e]  |   0   |\n",
        "\n",
        "Additionaly, the characters are encoded as integers with `alphabet_map` previously computed."
      ],
      "metadata": {
        "id": "_g2gnDdM0Aju"
      },
      "id": "_g2gnDdM0Aju"
    },
    {
      "cell_type": "code",
      "source": [
        "# Remap lowercased input characters using the alphabet_map\n",
        "letter_ids = np.zeros(text_size, np.int16)\n",
        "for i in trange(text_size):\n",
        "    char = complete_text[i].lower()\n",
        "    # default unknown id\n",
        "    letter_ids[i] = alphabet_map.get(char, 0)\n",
        "\n",
        "# Generate input batches\n",
        "windows = np.zeros([text_size, window_size], np.int16)\n",
        "labels = np.zeros(text_size, np.uint8)\n",
        "\n",
        "full_data = []\n",
        "for i in trange(text_size - window_size):\n",
        "    windows[i] = letter_ids[i: i + window_size]\n",
        "    labels[i] = complete_text[i].isupper()\n",
        "    full_data.append({\n",
        "        \"windows\": windows,\n",
        "        \"labels\": labels\n",
        "    })\n",
        "\n",
        "len(full_data)"
      ],
      "metadata": {
        "colab": {
          "base_uri": "https://localhost:8080/"
        },
        "id": "LCULznEaXKLz",
        "outputId": "504c4197-e308-4f1b-d5df-4b234abf0631"
      },
      "id": "LCULznEaXKLz",
      "execution_count": null,
      "outputs": [
        {
          "output_type": "stream",
          "name": "stderr",
          "text": [
            "100%|██████████| 2164002/2164002 [00:01<00:00, 1153737.42it/s]\n",
            "100%|██████████| 2163981/2163981 [00:05<00:00, 407906.91it/s]\n"
          ]
        },
        {
          "output_type": "execute_result",
          "data": {
            "text/plain": [
              "2163981"
            ]
          },
          "metadata": {},
          "execution_count": 14
        }
      ]
    },
    {
      "cell_type": "code",
      "source": [
        "# Don't forget about spliting into train and validation\n",
        "# https://scikit-learn.org/stable/modules/generated/sklearn.model_selection.train_test_split.html"
      ],
      "metadata": {
        "id": "fjDjJQNoYufe"
      },
      "id": "fjDjJQNoYufe",
      "execution_count": null,
      "outputs": []
    },
    {
      "cell_type": "code",
      "source": [
        "class UppercaseDataset(torch.utils.data.Dataset):\n",
        "    def __init__(self, ):\n",
        "        super().__init__()\n",
        "\n",
        "    # the following two methods must be implemented\n",
        "    def __getitem__(self, k):\n",
        "        \"\"\"Returns the k-th element of the dataset\"\"\"\"\n",
        "        pass\n",
        "\n",
        "    def __len__(self):\n",
        "        \"\"\"Return the length of the dataset\"\"\"\n",
        "        pass"
      ],
      "metadata": {
        "id": "K-YADNkh64l2"
      },
      "id": "K-YADNkh64l2",
      "execution_count": null,
      "outputs": []
    },
    {
      "cell_type": "code",
      "source": [
        "class UppercaseModel(torch.nn.Module):\n",
        "    def __init__(self):\n",
        "        super().__init__()\n",
        "        # Our recommendation:\n",
        "        # 1. Character Embeddings / One Hot Encoder\n",
        "        # 2. Sequence of Linear layers\n",
        "        # 3. Flatten Layer\n",
        "        # 4. Sequence of Linear layers\n",
        "\n",
        "        # for 1, you can use either word embeddings\n",
        "        # https://pytorch.org/docs/stable/generated/torch.nn.Embedding.html\n",
        "        # either one hot encoders\n",
        "        # https://pytorch.org/docs/stable/generated/torch.nn.functional.one_hot.html\n",
        "\n",
        "    def forward(self, x):\n",
        "        pass"
      ],
      "metadata": {
        "id": "WxnSh7FU-X06"
      },
      "id": "WxnSh7FU-X06",
      "execution_count": null,
      "outputs": []
    },
    {
      "cell_type": "code",
      "source": [],
      "metadata": {
        "id": "DXTtHI1C-mjl"
      },
      "id": "DXTtHI1C-mjl",
      "execution_count": null,
      "outputs": []
    }
  ],
  "metadata": {
    "colab": {
      "collapsed_sections": [
        "4f4159d6"
      ],
      "provenance": []
    },
    "kernelspec": {
      "display_name": "lab-nlp-an3",
      "language": "python",
      "name": "lab-nlp-an3"
    },
    "language_info": {
      "codemirror_mode": {
        "name": "ipython",
        "version": 3
      },
      "file_extension": ".py",
      "mimetype": "text/x-python",
      "name": "python",
      "nbconvert_exporter": "python",
      "pygments_lexer": "ipython3",
      "version": "3.8.10"
    },
    "widgets": {
      "application/vnd.jupyter.widget-state+json": {
        "294b6b2907354229840ce3481f3c04da": {
          "model_module": "@jupyter-widgets/controls",
          "model_name": "HBoxModel",
          "model_module_version": "1.5.0",
          "state": {
            "_dom_classes": [],
            "_model_module": "@jupyter-widgets/controls",
            "_model_module_version": "1.5.0",
            "_model_name": "HBoxModel",
            "_view_count": null,
            "_view_module": "@jupyter-widgets/controls",
            "_view_module_version": "1.5.0",
            "_view_name": "HBoxView",
            "box_style": "",
            "children": [
              "IPY_MODEL_d7a402a5a0d847cc81f0ee295ae760cf",
              "IPY_MODEL_e16067ed7ba242cb906eb6e9abc1aecc",
              "IPY_MODEL_1a3cf0bd21594c2db24777a0b501fd2a"
            ],
            "layout": "IPY_MODEL_6ab700494da04dc4ba9bcf40b867ee6e"
          }
        },
        "d7a402a5a0d847cc81f0ee295ae760cf": {
          "model_module": "@jupyter-widgets/controls",
          "model_name": "HTMLModel",
          "model_module_version": "1.5.0",
          "state": {
            "_dom_classes": [],
            "_model_module": "@jupyter-widgets/controls",
            "_model_module_version": "1.5.0",
            "_model_name": "HTMLModel",
            "_view_count": null,
            "_view_module": "@jupyter-widgets/controls",
            "_view_module_version": "1.5.0",
            "_view_name": "HTMLView",
            "description": "",
            "description_tooltip": null,
            "layout": "IPY_MODEL_27f01a2a964d4c308f27b855e450804c",
            "placeholder": "​",
            "style": "IPY_MODEL_1fb03fb65d284ba7ba2026e29082ea52",
            "value": "100%"
          }
        },
        "e16067ed7ba242cb906eb6e9abc1aecc": {
          "model_module": "@jupyter-widgets/controls",
          "model_name": "FloatProgressModel",
          "model_module_version": "1.5.0",
          "state": {
            "_dom_classes": [],
            "_model_module": "@jupyter-widgets/controls",
            "_model_module_version": "1.5.0",
            "_model_name": "FloatProgressModel",
            "_view_count": null,
            "_view_module": "@jupyter-widgets/controls",
            "_view_module_version": "1.5.0",
            "_view_name": "ProgressView",
            "bar_style": "success",
            "description": "",
            "description_tooltip": null,
            "layout": "IPY_MODEL_cf7f23fac9324aa8a6931b523b44e8da",
            "max": 46830571,
            "min": 0,
            "orientation": "horizontal",
            "style": "IPY_MODEL_ea623c3297144c4e8e27dead98b41e38",
            "value": 46830571
          }
        },
        "1a3cf0bd21594c2db24777a0b501fd2a": {
          "model_module": "@jupyter-widgets/controls",
          "model_name": "HTMLModel",
          "model_module_version": "1.5.0",
          "state": {
            "_dom_classes": [],
            "_model_module": "@jupyter-widgets/controls",
            "_model_module_version": "1.5.0",
            "_model_name": "HTMLModel",
            "_view_count": null,
            "_view_module": "@jupyter-widgets/controls",
            "_view_module_version": "1.5.0",
            "_view_name": "HTMLView",
            "description": "",
            "description_tooltip": null,
            "layout": "IPY_MODEL_c6ab648bef7344de8b6228ccc53fe6b6",
            "placeholder": "​",
            "style": "IPY_MODEL_a359c87360c9472891b6994f87fea551",
            "value": " 44.7M/44.7M [00:00&lt;00:00, 112MB/s]"
          }
        },
        "6ab700494da04dc4ba9bcf40b867ee6e": {
          "model_module": "@jupyter-widgets/base",
          "model_name": "LayoutModel",
          "model_module_version": "1.2.0",
          "state": {
            "_model_module": "@jupyter-widgets/base",
            "_model_module_version": "1.2.0",
            "_model_name": "LayoutModel",
            "_view_count": null,
            "_view_module": "@jupyter-widgets/base",
            "_view_module_version": "1.2.0",
            "_view_name": "LayoutView",
            "align_content": null,
            "align_items": null,
            "align_self": null,
            "border": null,
            "bottom": null,
            "display": null,
            "flex": null,
            "flex_flow": null,
            "grid_area": null,
            "grid_auto_columns": null,
            "grid_auto_flow": null,
            "grid_auto_rows": null,
            "grid_column": null,
            "grid_gap": null,
            "grid_row": null,
            "grid_template_areas": null,
            "grid_template_columns": null,
            "grid_template_rows": null,
            "height": null,
            "justify_content": null,
            "justify_items": null,
            "left": null,
            "margin": null,
            "max_height": null,
            "max_width": null,
            "min_height": null,
            "min_width": null,
            "object_fit": null,
            "object_position": null,
            "order": null,
            "overflow": null,
            "overflow_x": null,
            "overflow_y": null,
            "padding": null,
            "right": null,
            "top": null,
            "visibility": null,
            "width": null
          }
        },
        "27f01a2a964d4c308f27b855e450804c": {
          "model_module": "@jupyter-widgets/base",
          "model_name": "LayoutModel",
          "model_module_version": "1.2.0",
          "state": {
            "_model_module": "@jupyter-widgets/base",
            "_model_module_version": "1.2.0",
            "_model_name": "LayoutModel",
            "_view_count": null,
            "_view_module": "@jupyter-widgets/base",
            "_view_module_version": "1.2.0",
            "_view_name": "LayoutView",
            "align_content": null,
            "align_items": null,
            "align_self": null,
            "border": null,
            "bottom": null,
            "display": null,
            "flex": null,
            "flex_flow": null,
            "grid_area": null,
            "grid_auto_columns": null,
            "grid_auto_flow": null,
            "grid_auto_rows": null,
            "grid_column": null,
            "grid_gap": null,
            "grid_row": null,
            "grid_template_areas": null,
            "grid_template_columns": null,
            "grid_template_rows": null,
            "height": null,
            "justify_content": null,
            "justify_items": null,
            "left": null,
            "margin": null,
            "max_height": null,
            "max_width": null,
            "min_height": null,
            "min_width": null,
            "object_fit": null,
            "object_position": null,
            "order": null,
            "overflow": null,
            "overflow_x": null,
            "overflow_y": null,
            "padding": null,
            "right": null,
            "top": null,
            "visibility": null,
            "width": null
          }
        },
        "1fb03fb65d284ba7ba2026e29082ea52": {
          "model_module": "@jupyter-widgets/controls",
          "model_name": "DescriptionStyleModel",
          "model_module_version": "1.5.0",
          "state": {
            "_model_module": "@jupyter-widgets/controls",
            "_model_module_version": "1.5.0",
            "_model_name": "DescriptionStyleModel",
            "_view_count": null,
            "_view_module": "@jupyter-widgets/base",
            "_view_module_version": "1.2.0",
            "_view_name": "StyleView",
            "description_width": ""
          }
        },
        "cf7f23fac9324aa8a6931b523b44e8da": {
          "model_module": "@jupyter-widgets/base",
          "model_name": "LayoutModel",
          "model_module_version": "1.2.0",
          "state": {
            "_model_module": "@jupyter-widgets/base",
            "_model_module_version": "1.2.0",
            "_model_name": "LayoutModel",
            "_view_count": null,
            "_view_module": "@jupyter-widgets/base",
            "_view_module_version": "1.2.0",
            "_view_name": "LayoutView",
            "align_content": null,
            "align_items": null,
            "align_self": null,
            "border": null,
            "bottom": null,
            "display": null,
            "flex": null,
            "flex_flow": null,
            "grid_area": null,
            "grid_auto_columns": null,
            "grid_auto_flow": null,
            "grid_auto_rows": null,
            "grid_column": null,
            "grid_gap": null,
            "grid_row": null,
            "grid_template_areas": null,
            "grid_template_columns": null,
            "grid_template_rows": null,
            "height": null,
            "justify_content": null,
            "justify_items": null,
            "left": null,
            "margin": null,
            "max_height": null,
            "max_width": null,
            "min_height": null,
            "min_width": null,
            "object_fit": null,
            "object_position": null,
            "order": null,
            "overflow": null,
            "overflow_x": null,
            "overflow_y": null,
            "padding": null,
            "right": null,
            "top": null,
            "visibility": null,
            "width": null
          }
        },
        "ea623c3297144c4e8e27dead98b41e38": {
          "model_module": "@jupyter-widgets/controls",
          "model_name": "ProgressStyleModel",
          "model_module_version": "1.5.0",
          "state": {
            "_model_module": "@jupyter-widgets/controls",
            "_model_module_version": "1.5.0",
            "_model_name": "ProgressStyleModel",
            "_view_count": null,
            "_view_module": "@jupyter-widgets/base",
            "_view_module_version": "1.2.0",
            "_view_name": "StyleView",
            "bar_color": null,
            "description_width": ""
          }
        },
        "c6ab648bef7344de8b6228ccc53fe6b6": {
          "model_module": "@jupyter-widgets/base",
          "model_name": "LayoutModel",
          "model_module_version": "1.2.0",
          "state": {
            "_model_module": "@jupyter-widgets/base",
            "_model_module_version": "1.2.0",
            "_model_name": "LayoutModel",
            "_view_count": null,
            "_view_module": "@jupyter-widgets/base",
            "_view_module_version": "1.2.0",
            "_view_name": "LayoutView",
            "align_content": null,
            "align_items": null,
            "align_self": null,
            "border": null,
            "bottom": null,
            "display": null,
            "flex": null,
            "flex_flow": null,
            "grid_area": null,
            "grid_auto_columns": null,
            "grid_auto_flow": null,
            "grid_auto_rows": null,
            "grid_column": null,
            "grid_gap": null,
            "grid_row": null,
            "grid_template_areas": null,
            "grid_template_columns": null,
            "grid_template_rows": null,
            "height": null,
            "justify_content": null,
            "justify_items": null,
            "left": null,
            "margin": null,
            "max_height": null,
            "max_width": null,
            "min_height": null,
            "min_width": null,
            "object_fit": null,
            "object_position": null,
            "order": null,
            "overflow": null,
            "overflow_x": null,
            "overflow_y": null,
            "padding": null,
            "right": null,
            "top": null,
            "visibility": null,
            "width": null
          }
        },
        "a359c87360c9472891b6994f87fea551": {
          "model_module": "@jupyter-widgets/controls",
          "model_name": "DescriptionStyleModel",
          "model_module_version": "1.5.0",
          "state": {
            "_model_module": "@jupyter-widgets/controls",
            "_model_module_version": "1.5.0",
            "_model_name": "DescriptionStyleModel",
            "_view_count": null,
            "_view_module": "@jupyter-widgets/base",
            "_view_module_version": "1.2.0",
            "_view_name": "StyleView",
            "description_width": ""
          }
        },
        "b762b5a1d51e428ea85e5215067c1a13": {
          "model_module": "@jupyter-widgets/controls",
          "model_name": "HBoxModel",
          "model_module_version": "1.5.0",
          "state": {
            "_dom_classes": [],
            "_model_module": "@jupyter-widgets/controls",
            "_model_module_version": "1.5.0",
            "_model_name": "HBoxModel",
            "_view_count": null,
            "_view_module": "@jupyter-widgets/controls",
            "_view_module_version": "1.5.0",
            "_view_name": "HBoxView",
            "box_style": "",
            "children": [
              "IPY_MODEL_e9a7924eff23416095a876db05ca787f",
              "IPY_MODEL_036f54e8d1314e788f7891702c9ef63a",
              "IPY_MODEL_c9a4b2abd43a437daa7060e59336e4e0"
            ],
            "layout": "IPY_MODEL_31170b122942441aa5fce3c2436af5d2"
          }
        },
        "e9a7924eff23416095a876db05ca787f": {
          "model_module": "@jupyter-widgets/controls",
          "model_name": "HTMLModel",
          "model_module_version": "1.5.0",
          "state": {
            "_dom_classes": [],
            "_model_module": "@jupyter-widgets/controls",
            "_model_module_version": "1.5.0",
            "_model_name": "HTMLModel",
            "_view_count": null,
            "_view_module": "@jupyter-widgets/controls",
            "_view_module_version": "1.5.0",
            "_view_name": "HTMLView",
            "description": "",
            "description_tooltip": null,
            "layout": "IPY_MODEL_fb775a84294142eba9430ee0493e9f7a",
            "placeholder": "​",
            "style": "IPY_MODEL_d1457d878bf34883869238d63daae5b8",
            "value": "Downloading builder script: 100%"
          }
        },
        "036f54e8d1314e788f7891702c9ef63a": {
          "model_module": "@jupyter-widgets/controls",
          "model_name": "FloatProgressModel",
          "model_module_version": "1.5.0",
          "state": {
            "_dom_classes": [],
            "_model_module": "@jupyter-widgets/controls",
            "_model_module_version": "1.5.0",
            "_model_name": "FloatProgressModel",
            "_view_count": null,
            "_view_module": "@jupyter-widgets/controls",
            "_view_module_version": "1.5.0",
            "_view_name": "ProgressView",
            "bar_style": "success",
            "description": "",
            "description_tooltip": null,
            "layout": "IPY_MODEL_d4410929524842138cdea1155670a70d",
            "max": 6149,
            "min": 0,
            "orientation": "horizontal",
            "style": "IPY_MODEL_df8924ceb0da4443be3df585fa2ea0b2",
            "value": 6149
          }
        },
        "c9a4b2abd43a437daa7060e59336e4e0": {
          "model_module": "@jupyter-widgets/controls",
          "model_name": "HTMLModel",
          "model_module_version": "1.5.0",
          "state": {
            "_dom_classes": [],
            "_model_module": "@jupyter-widgets/controls",
            "_model_module_version": "1.5.0",
            "_model_name": "HTMLModel",
            "_view_count": null,
            "_view_module": "@jupyter-widgets/controls",
            "_view_module_version": "1.5.0",
            "_view_name": "HTMLView",
            "description": "",
            "description_tooltip": null,
            "layout": "IPY_MODEL_5ce88697ed304af5aeb3ea3f53263b3b",
            "placeholder": "​",
            "style": "IPY_MODEL_bfd0edec8c22465cb65b4aca2d2e5dcc",
            "value": " 6.15k/6.15k [00:00&lt;00:00, 213kB/s]"
          }
        },
        "31170b122942441aa5fce3c2436af5d2": {
          "model_module": "@jupyter-widgets/base",
          "model_name": "LayoutModel",
          "model_module_version": "1.2.0",
          "state": {
            "_model_module": "@jupyter-widgets/base",
            "_model_module_version": "1.2.0",
            "_model_name": "LayoutModel",
            "_view_count": null,
            "_view_module": "@jupyter-widgets/base",
            "_view_module_version": "1.2.0",
            "_view_name": "LayoutView",
            "align_content": null,
            "align_items": null,
            "align_self": null,
            "border": null,
            "bottom": null,
            "display": null,
            "flex": null,
            "flex_flow": null,
            "grid_area": null,
            "grid_auto_columns": null,
            "grid_auto_flow": null,
            "grid_auto_rows": null,
            "grid_column": null,
            "grid_gap": null,
            "grid_row": null,
            "grid_template_areas": null,
            "grid_template_columns": null,
            "grid_template_rows": null,
            "height": null,
            "justify_content": null,
            "justify_items": null,
            "left": null,
            "margin": null,
            "max_height": null,
            "max_width": null,
            "min_height": null,
            "min_width": null,
            "object_fit": null,
            "object_position": null,
            "order": null,
            "overflow": null,
            "overflow_x": null,
            "overflow_y": null,
            "padding": null,
            "right": null,
            "top": null,
            "visibility": null,
            "width": null
          }
        },
        "fb775a84294142eba9430ee0493e9f7a": {
          "model_module": "@jupyter-widgets/base",
          "model_name": "LayoutModel",
          "model_module_version": "1.2.0",
          "state": {
            "_model_module": "@jupyter-widgets/base",
            "_model_module_version": "1.2.0",
            "_model_name": "LayoutModel",
            "_view_count": null,
            "_view_module": "@jupyter-widgets/base",
            "_view_module_version": "1.2.0",
            "_view_name": "LayoutView",
            "align_content": null,
            "align_items": null,
            "align_self": null,
            "border": null,
            "bottom": null,
            "display": null,
            "flex": null,
            "flex_flow": null,
            "grid_area": null,
            "grid_auto_columns": null,
            "grid_auto_flow": null,
            "grid_auto_rows": null,
            "grid_column": null,
            "grid_gap": null,
            "grid_row": null,
            "grid_template_areas": null,
            "grid_template_columns": null,
            "grid_template_rows": null,
            "height": null,
            "justify_content": null,
            "justify_items": null,
            "left": null,
            "margin": null,
            "max_height": null,
            "max_width": null,
            "min_height": null,
            "min_width": null,
            "object_fit": null,
            "object_position": null,
            "order": null,
            "overflow": null,
            "overflow_x": null,
            "overflow_y": null,
            "padding": null,
            "right": null,
            "top": null,
            "visibility": null,
            "width": null
          }
        },
        "d1457d878bf34883869238d63daae5b8": {
          "model_module": "@jupyter-widgets/controls",
          "model_name": "DescriptionStyleModel",
          "model_module_version": "1.5.0",
          "state": {
            "_model_module": "@jupyter-widgets/controls",
            "_model_module_version": "1.5.0",
            "_model_name": "DescriptionStyleModel",
            "_view_count": null,
            "_view_module": "@jupyter-widgets/base",
            "_view_module_version": "1.2.0",
            "_view_name": "StyleView",
            "description_width": ""
          }
        },
        "d4410929524842138cdea1155670a70d": {
          "model_module": "@jupyter-widgets/base",
          "model_name": "LayoutModel",
          "model_module_version": "1.2.0",
          "state": {
            "_model_module": "@jupyter-widgets/base",
            "_model_module_version": "1.2.0",
            "_model_name": "LayoutModel",
            "_view_count": null,
            "_view_module": "@jupyter-widgets/base",
            "_view_module_version": "1.2.0",
            "_view_name": "LayoutView",
            "align_content": null,
            "align_items": null,
            "align_self": null,
            "border": null,
            "bottom": null,
            "display": null,
            "flex": null,
            "flex_flow": null,
            "grid_area": null,
            "grid_auto_columns": null,
            "grid_auto_flow": null,
            "grid_auto_rows": null,
            "grid_column": null,
            "grid_gap": null,
            "grid_row": null,
            "grid_template_areas": null,
            "grid_template_columns": null,
            "grid_template_rows": null,
            "height": null,
            "justify_content": null,
            "justify_items": null,
            "left": null,
            "margin": null,
            "max_height": null,
            "max_width": null,
            "min_height": null,
            "min_width": null,
            "object_fit": null,
            "object_position": null,
            "order": null,
            "overflow": null,
            "overflow_x": null,
            "overflow_y": null,
            "padding": null,
            "right": null,
            "top": null,
            "visibility": null,
            "width": null
          }
        },
        "df8924ceb0da4443be3df585fa2ea0b2": {
          "model_module": "@jupyter-widgets/controls",
          "model_name": "ProgressStyleModel",
          "model_module_version": "1.5.0",
          "state": {
            "_model_module": "@jupyter-widgets/controls",
            "_model_module_version": "1.5.0",
            "_model_name": "ProgressStyleModel",
            "_view_count": null,
            "_view_module": "@jupyter-widgets/base",
            "_view_module_version": "1.2.0",
            "_view_name": "StyleView",
            "bar_color": null,
            "description_width": ""
          }
        },
        "5ce88697ed304af5aeb3ea3f53263b3b": {
          "model_module": "@jupyter-widgets/base",
          "model_name": "LayoutModel",
          "model_module_version": "1.2.0",
          "state": {
            "_model_module": "@jupyter-widgets/base",
            "_model_module_version": "1.2.0",
            "_model_name": "LayoutModel",
            "_view_count": null,
            "_view_module": "@jupyter-widgets/base",
            "_view_module_version": "1.2.0",
            "_view_name": "LayoutView",
            "align_content": null,
            "align_items": null,
            "align_self": null,
            "border": null,
            "bottom": null,
            "display": null,
            "flex": null,
            "flex_flow": null,
            "grid_area": null,
            "grid_auto_columns": null,
            "grid_auto_flow": null,
            "grid_auto_rows": null,
            "grid_column": null,
            "grid_gap": null,
            "grid_row": null,
            "grid_template_areas": null,
            "grid_template_columns": null,
            "grid_template_rows": null,
            "height": null,
            "justify_content": null,
            "justify_items": null,
            "left": null,
            "margin": null,
            "max_height": null,
            "max_width": null,
            "min_height": null,
            "min_width": null,
            "object_fit": null,
            "object_position": null,
            "order": null,
            "overflow": null,
            "overflow_x": null,
            "overflow_y": null,
            "padding": null,
            "right": null,
            "top": null,
            "visibility": null,
            "width": null
          }
        },
        "bfd0edec8c22465cb65b4aca2d2e5dcc": {
          "model_module": "@jupyter-widgets/controls",
          "model_name": "DescriptionStyleModel",
          "model_module_version": "1.5.0",
          "state": {
            "_model_module": "@jupyter-widgets/controls",
            "_model_module_version": "1.5.0",
            "_model_name": "DescriptionStyleModel",
            "_view_count": null,
            "_view_module": "@jupyter-widgets/base",
            "_view_module_version": "1.2.0",
            "_view_name": "StyleView",
            "description_width": ""
          }
        },
        "e84a051e75e74a7ab661074b1d577f9e": {
          "model_module": "@jupyter-widgets/controls",
          "model_name": "HBoxModel",
          "model_module_version": "1.5.0",
          "state": {
            "_dom_classes": [],
            "_model_module": "@jupyter-widgets/controls",
            "_model_module_version": "1.5.0",
            "_model_name": "HBoxModel",
            "_view_count": null,
            "_view_module": "@jupyter-widgets/controls",
            "_view_module_version": "1.5.0",
            "_view_name": "HBoxView",
            "box_style": "",
            "children": [
              "IPY_MODEL_a6d51eb080504688a5017fb99e14d81b",
              "IPY_MODEL_b49be00afb9e4319997087ce99a86636",
              "IPY_MODEL_8be86e08ce56405caaff653c58a99466"
            ],
            "layout": "IPY_MODEL_7f20ee39e446495ab6083350cc553718"
          }
        },
        "a6d51eb080504688a5017fb99e14d81b": {
          "model_module": "@jupyter-widgets/controls",
          "model_name": "HTMLModel",
          "model_module_version": "1.5.0",
          "state": {
            "_dom_classes": [],
            "_model_module": "@jupyter-widgets/controls",
            "_model_module_version": "1.5.0",
            "_model_name": "HTMLModel",
            "_view_count": null,
            "_view_module": "@jupyter-widgets/controls",
            "_view_module_version": "1.5.0",
            "_view_name": "HTMLView",
            "description": "",
            "description_tooltip": null,
            "layout": "IPY_MODEL_e5afc1fff17540ebb1b3f5fbf7b3f021",
            "placeholder": "​",
            "style": "IPY_MODEL_2e8b57028cc74773b978e8e0ef7552fd",
            "value": "Downloading metadata: 100%"
          }
        },
        "b49be00afb9e4319997087ce99a86636": {
          "model_module": "@jupyter-widgets/controls",
          "model_name": "FloatProgressModel",
          "model_module_version": "1.5.0",
          "state": {
            "_dom_classes": [],
            "_model_module": "@jupyter-widgets/controls",
            "_model_module_version": "1.5.0",
            "_model_name": "FloatProgressModel",
            "_view_count": null,
            "_view_module": "@jupyter-widgets/controls",
            "_view_module_version": "1.5.0",
            "_view_name": "ProgressView",
            "bar_style": "success",
            "description": "",
            "description_tooltip": null,
            "layout": "IPY_MODEL_41bb5ca078e84dd394e7a6798c0663ad",
            "max": 2837,
            "min": 0,
            "orientation": "horizontal",
            "style": "IPY_MODEL_580c19caa3374e5090ca70d284e91e17",
            "value": 2837
          }
        },
        "8be86e08ce56405caaff653c58a99466": {
          "model_module": "@jupyter-widgets/controls",
          "model_name": "HTMLModel",
          "model_module_version": "1.5.0",
          "state": {
            "_dom_classes": [],
            "_model_module": "@jupyter-widgets/controls",
            "_model_module_version": "1.5.0",
            "_model_name": "HTMLModel",
            "_view_count": null,
            "_view_module": "@jupyter-widgets/controls",
            "_view_module_version": "1.5.0",
            "_view_name": "HTMLView",
            "description": "",
            "description_tooltip": null,
            "layout": "IPY_MODEL_ce87aff8b21749c99083cc86a4ec6692",
            "placeholder": "​",
            "style": "IPY_MODEL_9689c83e12774115a84662130ad32f06",
            "value": " 2.84k/2.84k [00:00&lt;00:00, 114kB/s]"
          }
        },
        "7f20ee39e446495ab6083350cc553718": {
          "model_module": "@jupyter-widgets/base",
          "model_name": "LayoutModel",
          "model_module_version": "1.2.0",
          "state": {
            "_model_module": "@jupyter-widgets/base",
            "_model_module_version": "1.2.0",
            "_model_name": "LayoutModel",
            "_view_count": null,
            "_view_module": "@jupyter-widgets/base",
            "_view_module_version": "1.2.0",
            "_view_name": "LayoutView",
            "align_content": null,
            "align_items": null,
            "align_self": null,
            "border": null,
            "bottom": null,
            "display": null,
            "flex": null,
            "flex_flow": null,
            "grid_area": null,
            "grid_auto_columns": null,
            "grid_auto_flow": null,
            "grid_auto_rows": null,
            "grid_column": null,
            "grid_gap": null,
            "grid_row": null,
            "grid_template_areas": null,
            "grid_template_columns": null,
            "grid_template_rows": null,
            "height": null,
            "justify_content": null,
            "justify_items": null,
            "left": null,
            "margin": null,
            "max_height": null,
            "max_width": null,
            "min_height": null,
            "min_width": null,
            "object_fit": null,
            "object_position": null,
            "order": null,
            "overflow": null,
            "overflow_x": null,
            "overflow_y": null,
            "padding": null,
            "right": null,
            "top": null,
            "visibility": null,
            "width": null
          }
        },
        "e5afc1fff17540ebb1b3f5fbf7b3f021": {
          "model_module": "@jupyter-widgets/base",
          "model_name": "LayoutModel",
          "model_module_version": "1.2.0",
          "state": {
            "_model_module": "@jupyter-widgets/base",
            "_model_module_version": "1.2.0",
            "_model_name": "LayoutModel",
            "_view_count": null,
            "_view_module": "@jupyter-widgets/base",
            "_view_module_version": "1.2.0",
            "_view_name": "LayoutView",
            "align_content": null,
            "align_items": null,
            "align_self": null,
            "border": null,
            "bottom": null,
            "display": null,
            "flex": null,
            "flex_flow": null,
            "grid_area": null,
            "grid_auto_columns": null,
            "grid_auto_flow": null,
            "grid_auto_rows": null,
            "grid_column": null,
            "grid_gap": null,
            "grid_row": null,
            "grid_template_areas": null,
            "grid_template_columns": null,
            "grid_template_rows": null,
            "height": null,
            "justify_content": null,
            "justify_items": null,
            "left": null,
            "margin": null,
            "max_height": null,
            "max_width": null,
            "min_height": null,
            "min_width": null,
            "object_fit": null,
            "object_position": null,
            "order": null,
            "overflow": null,
            "overflow_x": null,
            "overflow_y": null,
            "padding": null,
            "right": null,
            "top": null,
            "visibility": null,
            "width": null
          }
        },
        "2e8b57028cc74773b978e8e0ef7552fd": {
          "model_module": "@jupyter-widgets/controls",
          "model_name": "DescriptionStyleModel",
          "model_module_version": "1.5.0",
          "state": {
            "_model_module": "@jupyter-widgets/controls",
            "_model_module_version": "1.5.0",
            "_model_name": "DescriptionStyleModel",
            "_view_count": null,
            "_view_module": "@jupyter-widgets/base",
            "_view_module_version": "1.2.0",
            "_view_name": "StyleView",
            "description_width": ""
          }
        },
        "41bb5ca078e84dd394e7a6798c0663ad": {
          "model_module": "@jupyter-widgets/base",
          "model_name": "LayoutModel",
          "model_module_version": "1.2.0",
          "state": {
            "_model_module": "@jupyter-widgets/base",
            "_model_module_version": "1.2.0",
            "_model_name": "LayoutModel",
            "_view_count": null,
            "_view_module": "@jupyter-widgets/base",
            "_view_module_version": "1.2.0",
            "_view_name": "LayoutView",
            "align_content": null,
            "align_items": null,
            "align_self": null,
            "border": null,
            "bottom": null,
            "display": null,
            "flex": null,
            "flex_flow": null,
            "grid_area": null,
            "grid_auto_columns": null,
            "grid_auto_flow": null,
            "grid_auto_rows": null,
            "grid_column": null,
            "grid_gap": null,
            "grid_row": null,
            "grid_template_areas": null,
            "grid_template_columns": null,
            "grid_template_rows": null,
            "height": null,
            "justify_content": null,
            "justify_items": null,
            "left": null,
            "margin": null,
            "max_height": null,
            "max_width": null,
            "min_height": null,
            "min_width": null,
            "object_fit": null,
            "object_position": null,
            "order": null,
            "overflow": null,
            "overflow_x": null,
            "overflow_y": null,
            "padding": null,
            "right": null,
            "top": null,
            "visibility": null,
            "width": null
          }
        },
        "580c19caa3374e5090ca70d284e91e17": {
          "model_module": "@jupyter-widgets/controls",
          "model_name": "ProgressStyleModel",
          "model_module_version": "1.5.0",
          "state": {
            "_model_module": "@jupyter-widgets/controls",
            "_model_module_version": "1.5.0",
            "_model_name": "ProgressStyleModel",
            "_view_count": null,
            "_view_module": "@jupyter-widgets/base",
            "_view_module_version": "1.2.0",
            "_view_name": "StyleView",
            "bar_color": null,
            "description_width": ""
          }
        },
        "ce87aff8b21749c99083cc86a4ec6692": {
          "model_module": "@jupyter-widgets/base",
          "model_name": "LayoutModel",
          "model_module_version": "1.2.0",
          "state": {
            "_model_module": "@jupyter-widgets/base",
            "_model_module_version": "1.2.0",
            "_model_name": "LayoutModel",
            "_view_count": null,
            "_view_module": "@jupyter-widgets/base",
            "_view_module_version": "1.2.0",
            "_view_name": "LayoutView",
            "align_content": null,
            "align_items": null,
            "align_self": null,
            "border": null,
            "bottom": null,
            "display": null,
            "flex": null,
            "flex_flow": null,
            "grid_area": null,
            "grid_auto_columns": null,
            "grid_auto_flow": null,
            "grid_auto_rows": null,
            "grid_column": null,
            "grid_gap": null,
            "grid_row": null,
            "grid_template_areas": null,
            "grid_template_columns": null,
            "grid_template_rows": null,
            "height": null,
            "justify_content": null,
            "justify_items": null,
            "left": null,
            "margin": null,
            "max_height": null,
            "max_width": null,
            "min_height": null,
            "min_width": null,
            "object_fit": null,
            "object_position": null,
            "order": null,
            "overflow": null,
            "overflow_x": null,
            "overflow_y": null,
            "padding": null,
            "right": null,
            "top": null,
            "visibility": null,
            "width": null
          }
        },
        "9689c83e12774115a84662130ad32f06": {
          "model_module": "@jupyter-widgets/controls",
          "model_name": "DescriptionStyleModel",
          "model_module_version": "1.5.0",
          "state": {
            "_model_module": "@jupyter-widgets/controls",
            "_model_module_version": "1.5.0",
            "_model_name": "DescriptionStyleModel",
            "_view_count": null,
            "_view_module": "@jupyter-widgets/base",
            "_view_module_version": "1.2.0",
            "_view_name": "StyleView",
            "description_width": ""
          }
        },
        "a5f24e3d0fc340a4bbc89bd650f940b2": {
          "model_module": "@jupyter-widgets/controls",
          "model_name": "HBoxModel",
          "model_module_version": "1.5.0",
          "state": {
            "_dom_classes": [],
            "_model_module": "@jupyter-widgets/controls",
            "_model_module_version": "1.5.0",
            "_model_name": "HBoxModel",
            "_view_count": null,
            "_view_module": "@jupyter-widgets/controls",
            "_view_module_version": "1.5.0",
            "_view_name": "HBoxView",
            "box_style": "",
            "children": [
              "IPY_MODEL_81fce63a59f84ee69145678031498aeb",
              "IPY_MODEL_93403a1de7b34c4bb56582225d826cb7",
              "IPY_MODEL_ed24e809e9914d98a2cb0ab00d9aece3"
            ],
            "layout": "IPY_MODEL_0f72a34d113e4dc2bcb2c1ec1d84e364"
          }
        },
        "81fce63a59f84ee69145678031498aeb": {
          "model_module": "@jupyter-widgets/controls",
          "model_name": "HTMLModel",
          "model_module_version": "1.5.0",
          "state": {
            "_dom_classes": [],
            "_model_module": "@jupyter-widgets/controls",
            "_model_module_version": "1.5.0",
            "_model_name": "HTMLModel",
            "_view_count": null,
            "_view_module": "@jupyter-widgets/controls",
            "_view_module_version": "1.5.0",
            "_view_name": "HTMLView",
            "description": "",
            "description_tooltip": null,
            "layout": "IPY_MODEL_77935e6268f64325994eac865534fca5",
            "placeholder": "​",
            "style": "IPY_MODEL_421632d407004589a3ff8c6443ce746b",
            "value": "Downloading readme: 100%"
          }
        },
        "93403a1de7b34c4bb56582225d826cb7": {
          "model_module": "@jupyter-widgets/controls",
          "model_name": "FloatProgressModel",
          "model_module_version": "1.5.0",
          "state": {
            "_dom_classes": [],
            "_model_module": "@jupyter-widgets/controls",
            "_model_module_version": "1.5.0",
            "_model_name": "FloatProgressModel",
            "_view_count": null,
            "_view_module": "@jupyter-widgets/controls",
            "_view_module_version": "1.5.0",
            "_view_name": "ProgressView",
            "bar_style": "success",
            "description": "",
            "description_tooltip": null,
            "layout": "IPY_MODEL_07d9c613498a4d31b52c624472a10bd2",
            "max": 9987,
            "min": 0,
            "orientation": "horizontal",
            "style": "IPY_MODEL_db274ba7539247158a9ef4cbe03d77f1",
            "value": 9987
          }
        },
        "ed24e809e9914d98a2cb0ab00d9aece3": {
          "model_module": "@jupyter-widgets/controls",
          "model_name": "HTMLModel",
          "model_module_version": "1.5.0",
          "state": {
            "_dom_classes": [],
            "_model_module": "@jupyter-widgets/controls",
            "_model_module_version": "1.5.0",
            "_model_name": "HTMLModel",
            "_view_count": null,
            "_view_module": "@jupyter-widgets/controls",
            "_view_module_version": "1.5.0",
            "_view_name": "HTMLView",
            "description": "",
            "description_tooltip": null,
            "layout": "IPY_MODEL_18315ef966ae45e3abf85ffcd6df3a5a",
            "placeholder": "​",
            "style": "IPY_MODEL_01e41d51ee6c4eeeaa80fcb414be1d2f",
            "value": " 9.99k/9.99k [00:00&lt;00:00, 307kB/s]"
          }
        },
        "0f72a34d113e4dc2bcb2c1ec1d84e364": {
          "model_module": "@jupyter-widgets/base",
          "model_name": "LayoutModel",
          "model_module_version": "1.2.0",
          "state": {
            "_model_module": "@jupyter-widgets/base",
            "_model_module_version": "1.2.0",
            "_model_name": "LayoutModel",
            "_view_count": null,
            "_view_module": "@jupyter-widgets/base",
            "_view_module_version": "1.2.0",
            "_view_name": "LayoutView",
            "align_content": null,
            "align_items": null,
            "align_self": null,
            "border": null,
            "bottom": null,
            "display": null,
            "flex": null,
            "flex_flow": null,
            "grid_area": null,
            "grid_auto_columns": null,
            "grid_auto_flow": null,
            "grid_auto_rows": null,
            "grid_column": null,
            "grid_gap": null,
            "grid_row": null,
            "grid_template_areas": null,
            "grid_template_columns": null,
            "grid_template_rows": null,
            "height": null,
            "justify_content": null,
            "justify_items": null,
            "left": null,
            "margin": null,
            "max_height": null,
            "max_width": null,
            "min_height": null,
            "min_width": null,
            "object_fit": null,
            "object_position": null,
            "order": null,
            "overflow": null,
            "overflow_x": null,
            "overflow_y": null,
            "padding": null,
            "right": null,
            "top": null,
            "visibility": null,
            "width": null
          }
        },
        "77935e6268f64325994eac865534fca5": {
          "model_module": "@jupyter-widgets/base",
          "model_name": "LayoutModel",
          "model_module_version": "1.2.0",
          "state": {
            "_model_module": "@jupyter-widgets/base",
            "_model_module_version": "1.2.0",
            "_model_name": "LayoutModel",
            "_view_count": null,
            "_view_module": "@jupyter-widgets/base",
            "_view_module_version": "1.2.0",
            "_view_name": "LayoutView",
            "align_content": null,
            "align_items": null,
            "align_self": null,
            "border": null,
            "bottom": null,
            "display": null,
            "flex": null,
            "flex_flow": null,
            "grid_area": null,
            "grid_auto_columns": null,
            "grid_auto_flow": null,
            "grid_auto_rows": null,
            "grid_column": null,
            "grid_gap": null,
            "grid_row": null,
            "grid_template_areas": null,
            "grid_template_columns": null,
            "grid_template_rows": null,
            "height": null,
            "justify_content": null,
            "justify_items": null,
            "left": null,
            "margin": null,
            "max_height": null,
            "max_width": null,
            "min_height": null,
            "min_width": null,
            "object_fit": null,
            "object_position": null,
            "order": null,
            "overflow": null,
            "overflow_x": null,
            "overflow_y": null,
            "padding": null,
            "right": null,
            "top": null,
            "visibility": null,
            "width": null
          }
        },
        "421632d407004589a3ff8c6443ce746b": {
          "model_module": "@jupyter-widgets/controls",
          "model_name": "DescriptionStyleModel",
          "model_module_version": "1.5.0",
          "state": {
            "_model_module": "@jupyter-widgets/controls",
            "_model_module_version": "1.5.0",
            "_model_name": "DescriptionStyleModel",
            "_view_count": null,
            "_view_module": "@jupyter-widgets/base",
            "_view_module_version": "1.2.0",
            "_view_name": "StyleView",
            "description_width": ""
          }
        },
        "07d9c613498a4d31b52c624472a10bd2": {
          "model_module": "@jupyter-widgets/base",
          "model_name": "LayoutModel",
          "model_module_version": "1.2.0",
          "state": {
            "_model_module": "@jupyter-widgets/base",
            "_model_module_version": "1.2.0",
            "_model_name": "LayoutModel",
            "_view_count": null,
            "_view_module": "@jupyter-widgets/base",
            "_view_module_version": "1.2.0",
            "_view_name": "LayoutView",
            "align_content": null,
            "align_items": null,
            "align_self": null,
            "border": null,
            "bottom": null,
            "display": null,
            "flex": null,
            "flex_flow": null,
            "grid_area": null,
            "grid_auto_columns": null,
            "grid_auto_flow": null,
            "grid_auto_rows": null,
            "grid_column": null,
            "grid_gap": null,
            "grid_row": null,
            "grid_template_areas": null,
            "grid_template_columns": null,
            "grid_template_rows": null,
            "height": null,
            "justify_content": null,
            "justify_items": null,
            "left": null,
            "margin": null,
            "max_height": null,
            "max_width": null,
            "min_height": null,
            "min_width": null,
            "object_fit": null,
            "object_position": null,
            "order": null,
            "overflow": null,
            "overflow_x": null,
            "overflow_y": null,
            "padding": null,
            "right": null,
            "top": null,
            "visibility": null,
            "width": null
          }
        },
        "db274ba7539247158a9ef4cbe03d77f1": {
          "model_module": "@jupyter-widgets/controls",
          "model_name": "ProgressStyleModel",
          "model_module_version": "1.5.0",
          "state": {
            "_model_module": "@jupyter-widgets/controls",
            "_model_module_version": "1.5.0",
            "_model_name": "ProgressStyleModel",
            "_view_count": null,
            "_view_module": "@jupyter-widgets/base",
            "_view_module_version": "1.2.0",
            "_view_name": "StyleView",
            "bar_color": null,
            "description_width": ""
          }
        },
        "18315ef966ae45e3abf85ffcd6df3a5a": {
          "model_module": "@jupyter-widgets/base",
          "model_name": "LayoutModel",
          "model_module_version": "1.2.0",
          "state": {
            "_model_module": "@jupyter-widgets/base",
            "_model_module_version": "1.2.0",
            "_model_name": "LayoutModel",
            "_view_count": null,
            "_view_module": "@jupyter-widgets/base",
            "_view_module_version": "1.2.0",
            "_view_name": "LayoutView",
            "align_content": null,
            "align_items": null,
            "align_self": null,
            "border": null,
            "bottom": null,
            "display": null,
            "flex": null,
            "flex_flow": null,
            "grid_area": null,
            "grid_auto_columns": null,
            "grid_auto_flow": null,
            "grid_auto_rows": null,
            "grid_column": null,
            "grid_gap": null,
            "grid_row": null,
            "grid_template_areas": null,
            "grid_template_columns": null,
            "grid_template_rows": null,
            "height": null,
            "justify_content": null,
            "justify_items": null,
            "left": null,
            "margin": null,
            "max_height": null,
            "max_width": null,
            "min_height": null,
            "min_width": null,
            "object_fit": null,
            "object_position": null,
            "order": null,
            "overflow": null,
            "overflow_x": null,
            "overflow_y": null,
            "padding": null,
            "right": null,
            "top": null,
            "visibility": null,
            "width": null
          }
        },
        "01e41d51ee6c4eeeaa80fcb414be1d2f": {
          "model_module": "@jupyter-widgets/controls",
          "model_name": "DescriptionStyleModel",
          "model_module_version": "1.5.0",
          "state": {
            "_model_module": "@jupyter-widgets/controls",
            "_model_module_version": "1.5.0",
            "_model_name": "DescriptionStyleModel",
            "_view_count": null,
            "_view_module": "@jupyter-widgets/base",
            "_view_module_version": "1.2.0",
            "_view_name": "StyleView",
            "description_width": ""
          }
        },
        "eaaf67e264ae4704aafbf1722cf32482": {
          "model_module": "@jupyter-widgets/controls",
          "model_name": "HBoxModel",
          "model_module_version": "1.5.0",
          "state": {
            "_dom_classes": [],
            "_model_module": "@jupyter-widgets/controls",
            "_model_module_version": "1.5.0",
            "_model_name": "HBoxModel",
            "_view_count": null,
            "_view_module": "@jupyter-widgets/controls",
            "_view_module_version": "1.5.0",
            "_view_name": "HBoxView",
            "box_style": "",
            "children": [
              "IPY_MODEL_52fbbc4d82ce44c99cd549383c3a8b21",
              "IPY_MODEL_b0a0db85bbaf44bf8f11bb83321451e6",
              "IPY_MODEL_f036126ec3154a5cb1ec905b7f361c53"
            ],
            "layout": "IPY_MODEL_6ce70e708f6c45f3bbf9d223eb8933ac"
          }
        },
        "52fbbc4d82ce44c99cd549383c3a8b21": {
          "model_module": "@jupyter-widgets/controls",
          "model_name": "HTMLModel",
          "model_module_version": "1.5.0",
          "state": {
            "_dom_classes": [],
            "_model_module": "@jupyter-widgets/controls",
            "_model_module_version": "1.5.0",
            "_model_name": "HTMLModel",
            "_view_count": null,
            "_view_module": "@jupyter-widgets/controls",
            "_view_module_version": "1.5.0",
            "_view_name": "HTMLView",
            "description": "",
            "description_tooltip": null,
            "layout": "IPY_MODEL_ac1fa13511fb4f66ae10485a3299f027",
            "placeholder": "​",
            "style": "IPY_MODEL_9e2e32134a5b4bcca71d9785d2b8926f",
            "value": "Downloading data files: 100%"
          }
        },
        "b0a0db85bbaf44bf8f11bb83321451e6": {
          "model_module": "@jupyter-widgets/controls",
          "model_name": "FloatProgressModel",
          "model_module_version": "1.5.0",
          "state": {
            "_dom_classes": [],
            "_model_module": "@jupyter-widgets/controls",
            "_model_module_version": "1.5.0",
            "_model_name": "FloatProgressModel",
            "_view_count": null,
            "_view_module": "@jupyter-widgets/controls",
            "_view_module_version": "1.5.0",
            "_view_name": "ProgressView",
            "bar_style": "success",
            "description": "",
            "description_tooltip": null,
            "layout": "IPY_MODEL_1972a865d5044683b3c8a622d9514bf6",
            "max": 3,
            "min": 0,
            "orientation": "horizontal",
            "style": "IPY_MODEL_3919d0c240ad4a8cab3c5a2f420c1055",
            "value": 3
          }
        },
        "f036126ec3154a5cb1ec905b7f361c53": {
          "model_module": "@jupyter-widgets/controls",
          "model_name": "HTMLModel",
          "model_module_version": "1.5.0",
          "state": {
            "_dom_classes": [],
            "_model_module": "@jupyter-widgets/controls",
            "_model_module_version": "1.5.0",
            "_model_name": "HTMLModel",
            "_view_count": null,
            "_view_module": "@jupyter-widgets/controls",
            "_view_module_version": "1.5.0",
            "_view_name": "HTMLView",
            "description": "",
            "description_tooltip": null,
            "layout": "IPY_MODEL_6d6533866ace437dba25e4cd33bdbcc2",
            "placeholder": "​",
            "style": "IPY_MODEL_170017e933f846be8f7dd9f473e9198f",
            "value": " 3/3 [00:01&lt;00:00,  1.71it/s]"
          }
        },
        "6ce70e708f6c45f3bbf9d223eb8933ac": {
          "model_module": "@jupyter-widgets/base",
          "model_name": "LayoutModel",
          "model_module_version": "1.2.0",
          "state": {
            "_model_module": "@jupyter-widgets/base",
            "_model_module_version": "1.2.0",
            "_model_name": "LayoutModel",
            "_view_count": null,
            "_view_module": "@jupyter-widgets/base",
            "_view_module_version": "1.2.0",
            "_view_name": "LayoutView",
            "align_content": null,
            "align_items": null,
            "align_self": null,
            "border": null,
            "bottom": null,
            "display": null,
            "flex": null,
            "flex_flow": null,
            "grid_area": null,
            "grid_auto_columns": null,
            "grid_auto_flow": null,
            "grid_auto_rows": null,
            "grid_column": null,
            "grid_gap": null,
            "grid_row": null,
            "grid_template_areas": null,
            "grid_template_columns": null,
            "grid_template_rows": null,
            "height": null,
            "justify_content": null,
            "justify_items": null,
            "left": null,
            "margin": null,
            "max_height": null,
            "max_width": null,
            "min_height": null,
            "min_width": null,
            "object_fit": null,
            "object_position": null,
            "order": null,
            "overflow": null,
            "overflow_x": null,
            "overflow_y": null,
            "padding": null,
            "right": null,
            "top": null,
            "visibility": null,
            "width": null
          }
        },
        "ac1fa13511fb4f66ae10485a3299f027": {
          "model_module": "@jupyter-widgets/base",
          "model_name": "LayoutModel",
          "model_module_version": "1.2.0",
          "state": {
            "_model_module": "@jupyter-widgets/base",
            "_model_module_version": "1.2.0",
            "_model_name": "LayoutModel",
            "_view_count": null,
            "_view_module": "@jupyter-widgets/base",
            "_view_module_version": "1.2.0",
            "_view_name": "LayoutView",
            "align_content": null,
            "align_items": null,
            "align_self": null,
            "border": null,
            "bottom": null,
            "display": null,
            "flex": null,
            "flex_flow": null,
            "grid_area": null,
            "grid_auto_columns": null,
            "grid_auto_flow": null,
            "grid_auto_rows": null,
            "grid_column": null,
            "grid_gap": null,
            "grid_row": null,
            "grid_template_areas": null,
            "grid_template_columns": null,
            "grid_template_rows": null,
            "height": null,
            "justify_content": null,
            "justify_items": null,
            "left": null,
            "margin": null,
            "max_height": null,
            "max_width": null,
            "min_height": null,
            "min_width": null,
            "object_fit": null,
            "object_position": null,
            "order": null,
            "overflow": null,
            "overflow_x": null,
            "overflow_y": null,
            "padding": null,
            "right": null,
            "top": null,
            "visibility": null,
            "width": null
          }
        },
        "9e2e32134a5b4bcca71d9785d2b8926f": {
          "model_module": "@jupyter-widgets/controls",
          "model_name": "DescriptionStyleModel",
          "model_module_version": "1.5.0",
          "state": {
            "_model_module": "@jupyter-widgets/controls",
            "_model_module_version": "1.5.0",
            "_model_name": "DescriptionStyleModel",
            "_view_count": null,
            "_view_module": "@jupyter-widgets/base",
            "_view_module_version": "1.2.0",
            "_view_name": "StyleView",
            "description_width": ""
          }
        },
        "1972a865d5044683b3c8a622d9514bf6": {
          "model_module": "@jupyter-widgets/base",
          "model_name": "LayoutModel",
          "model_module_version": "1.2.0",
          "state": {
            "_model_module": "@jupyter-widgets/base",
            "_model_module_version": "1.2.0",
            "_model_name": "LayoutModel",
            "_view_count": null,
            "_view_module": "@jupyter-widgets/base",
            "_view_module_version": "1.2.0",
            "_view_name": "LayoutView",
            "align_content": null,
            "align_items": null,
            "align_self": null,
            "border": null,
            "bottom": null,
            "display": null,
            "flex": null,
            "flex_flow": null,
            "grid_area": null,
            "grid_auto_columns": null,
            "grid_auto_flow": null,
            "grid_auto_rows": null,
            "grid_column": null,
            "grid_gap": null,
            "grid_row": null,
            "grid_template_areas": null,
            "grid_template_columns": null,
            "grid_template_rows": null,
            "height": null,
            "justify_content": null,
            "justify_items": null,
            "left": null,
            "margin": null,
            "max_height": null,
            "max_width": null,
            "min_height": null,
            "min_width": null,
            "object_fit": null,
            "object_position": null,
            "order": null,
            "overflow": null,
            "overflow_x": null,
            "overflow_y": null,
            "padding": null,
            "right": null,
            "top": null,
            "visibility": null,
            "width": null
          }
        },
        "3919d0c240ad4a8cab3c5a2f420c1055": {
          "model_module": "@jupyter-widgets/controls",
          "model_name": "ProgressStyleModel",
          "model_module_version": "1.5.0",
          "state": {
            "_model_module": "@jupyter-widgets/controls",
            "_model_module_version": "1.5.0",
            "_model_name": "ProgressStyleModel",
            "_view_count": null,
            "_view_module": "@jupyter-widgets/base",
            "_view_module_version": "1.2.0",
            "_view_name": "StyleView",
            "bar_color": null,
            "description_width": ""
          }
        },
        "6d6533866ace437dba25e4cd33bdbcc2": {
          "model_module": "@jupyter-widgets/base",
          "model_name": "LayoutModel",
          "model_module_version": "1.2.0",
          "state": {
            "_model_module": "@jupyter-widgets/base",
            "_model_module_version": "1.2.0",
            "_model_name": "LayoutModel",
            "_view_count": null,
            "_view_module": "@jupyter-widgets/base",
            "_view_module_version": "1.2.0",
            "_view_name": "LayoutView",
            "align_content": null,
            "align_items": null,
            "align_self": null,
            "border": null,
            "bottom": null,
            "display": null,
            "flex": null,
            "flex_flow": null,
            "grid_area": null,
            "grid_auto_columns": null,
            "grid_auto_flow": null,
            "grid_auto_rows": null,
            "grid_column": null,
            "grid_gap": null,
            "grid_row": null,
            "grid_template_areas": null,
            "grid_template_columns": null,
            "grid_template_rows": null,
            "height": null,
            "justify_content": null,
            "justify_items": null,
            "left": null,
            "margin": null,
            "max_height": null,
            "max_width": null,
            "min_height": null,
            "min_width": null,
            "object_fit": null,
            "object_position": null,
            "order": null,
            "overflow": null,
            "overflow_x": null,
            "overflow_y": null,
            "padding": null,
            "right": null,
            "top": null,
            "visibility": null,
            "width": null
          }
        },
        "170017e933f846be8f7dd9f473e9198f": {
          "model_module": "@jupyter-widgets/controls",
          "model_name": "DescriptionStyleModel",
          "model_module_version": "1.5.0",
          "state": {
            "_model_module": "@jupyter-widgets/controls",
            "_model_module_version": "1.5.0",
            "_model_name": "DescriptionStyleModel",
            "_view_count": null,
            "_view_module": "@jupyter-widgets/base",
            "_view_module_version": "1.2.0",
            "_view_name": "StyleView",
            "description_width": ""
          }
        },
        "658dcf3197ae48e9a80f5c636fbbec3f": {
          "model_module": "@jupyter-widgets/controls",
          "model_name": "HBoxModel",
          "model_module_version": "1.5.0",
          "state": {
            "_dom_classes": [],
            "_model_module": "@jupyter-widgets/controls",
            "_model_module_version": "1.5.0",
            "_model_name": "HBoxModel",
            "_view_count": null,
            "_view_module": "@jupyter-widgets/controls",
            "_view_module_version": "1.5.0",
            "_view_name": "HBoxView",
            "box_style": "",
            "children": [
              "IPY_MODEL_d4d17a73d0a54f1cac5883c70ea53fa4",
              "IPY_MODEL_778a501028d4467e9c13bd8af4a93248",
              "IPY_MODEL_a30c2bfa1a3e404eb1291eff48e952c9"
            ],
            "layout": "IPY_MODEL_1943ed84d55f4067a28f12c382cb2889"
          }
        },
        "d4d17a73d0a54f1cac5883c70ea53fa4": {
          "model_module": "@jupyter-widgets/controls",
          "model_name": "HTMLModel",
          "model_module_version": "1.5.0",
          "state": {
            "_dom_classes": [],
            "_model_module": "@jupyter-widgets/controls",
            "_model_module_version": "1.5.0",
            "_model_name": "HTMLModel",
            "_view_count": null,
            "_view_module": "@jupyter-widgets/controls",
            "_view_module_version": "1.5.0",
            "_view_name": "HTMLView",
            "description": "",
            "description_tooltip": null,
            "layout": "IPY_MODEL_01c7c89528e84a9a9cf7d87272c0740d",
            "placeholder": "​",
            "style": "IPY_MODEL_16d3d95f47d543d38b95a4a744c24012",
            "value": "Downloading data: "
          }
        },
        "778a501028d4467e9c13bd8af4a93248": {
          "model_module": "@jupyter-widgets/controls",
          "model_name": "FloatProgressModel",
          "model_module_version": "1.5.0",
          "state": {
            "_dom_classes": [],
            "_model_module": "@jupyter-widgets/controls",
            "_model_module_version": "1.5.0",
            "_model_name": "FloatProgressModel",
            "_view_count": null,
            "_view_module": "@jupyter-widgets/controls",
            "_view_module_version": "1.5.0",
            "_view_name": "ProgressView",
            "bar_style": "success",
            "description": "",
            "description_tooltip": null,
            "layout": "IPY_MODEL_6e2c45ddbaae4694b6c8f2053d646fca",
            "max": 1825677,
            "min": 0,
            "orientation": "horizontal",
            "style": "IPY_MODEL_9e40d356672e41ed83da4a47abe57c3f",
            "value": 1825677
          }
        },
        "a30c2bfa1a3e404eb1291eff48e952c9": {
          "model_module": "@jupyter-widgets/controls",
          "model_name": "HTMLModel",
          "model_module_version": "1.5.0",
          "state": {
            "_dom_classes": [],
            "_model_module": "@jupyter-widgets/controls",
            "_model_module_version": "1.5.0",
            "_model_name": "HTMLModel",
            "_view_count": null,
            "_view_module": "@jupyter-widgets/controls",
            "_view_module_version": "1.5.0",
            "_view_name": "HTMLView",
            "description": "",
            "description_tooltip": null,
            "layout": "IPY_MODEL_5357e2221aa645cf8cd6d5ae6e831cba",
            "placeholder": "​",
            "style": "IPY_MODEL_922fcbb0982d4541bd0017bce6b87782",
            "value": " 10.8M/? [00:00&lt;00:00, 50.5MB/s]"
          }
        },
        "1943ed84d55f4067a28f12c382cb2889": {
          "model_module": "@jupyter-widgets/base",
          "model_name": "LayoutModel",
          "model_module_version": "1.2.0",
          "state": {
            "_model_module": "@jupyter-widgets/base",
            "_model_module_version": "1.2.0",
            "_model_name": "LayoutModel",
            "_view_count": null,
            "_view_module": "@jupyter-widgets/base",
            "_view_module_version": "1.2.0",
            "_view_name": "LayoutView",
            "align_content": null,
            "align_items": null,
            "align_self": null,
            "border": null,
            "bottom": null,
            "display": null,
            "flex": null,
            "flex_flow": null,
            "grid_area": null,
            "grid_auto_columns": null,
            "grid_auto_flow": null,
            "grid_auto_rows": null,
            "grid_column": null,
            "grid_gap": null,
            "grid_row": null,
            "grid_template_areas": null,
            "grid_template_columns": null,
            "grid_template_rows": null,
            "height": null,
            "justify_content": null,
            "justify_items": null,
            "left": null,
            "margin": null,
            "max_height": null,
            "max_width": null,
            "min_height": null,
            "min_width": null,
            "object_fit": null,
            "object_position": null,
            "order": null,
            "overflow": null,
            "overflow_x": null,
            "overflow_y": null,
            "padding": null,
            "right": null,
            "top": null,
            "visibility": null,
            "width": null
          }
        },
        "01c7c89528e84a9a9cf7d87272c0740d": {
          "model_module": "@jupyter-widgets/base",
          "model_name": "LayoutModel",
          "model_module_version": "1.2.0",
          "state": {
            "_model_module": "@jupyter-widgets/base",
            "_model_module_version": "1.2.0",
            "_model_name": "LayoutModel",
            "_view_count": null,
            "_view_module": "@jupyter-widgets/base",
            "_view_module_version": "1.2.0",
            "_view_name": "LayoutView",
            "align_content": null,
            "align_items": null,
            "align_self": null,
            "border": null,
            "bottom": null,
            "display": null,
            "flex": null,
            "flex_flow": null,
            "grid_area": null,
            "grid_auto_columns": null,
            "grid_auto_flow": null,
            "grid_auto_rows": null,
            "grid_column": null,
            "grid_gap": null,
            "grid_row": null,
            "grid_template_areas": null,
            "grid_template_columns": null,
            "grid_template_rows": null,
            "height": null,
            "justify_content": null,
            "justify_items": null,
            "left": null,
            "margin": null,
            "max_height": null,
            "max_width": null,
            "min_height": null,
            "min_width": null,
            "object_fit": null,
            "object_position": null,
            "order": null,
            "overflow": null,
            "overflow_x": null,
            "overflow_y": null,
            "padding": null,
            "right": null,
            "top": null,
            "visibility": null,
            "width": null
          }
        },
        "16d3d95f47d543d38b95a4a744c24012": {
          "model_module": "@jupyter-widgets/controls",
          "model_name": "DescriptionStyleModel",
          "model_module_version": "1.5.0",
          "state": {
            "_model_module": "@jupyter-widgets/controls",
            "_model_module_version": "1.5.0",
            "_model_name": "DescriptionStyleModel",
            "_view_count": null,
            "_view_module": "@jupyter-widgets/base",
            "_view_module_version": "1.2.0",
            "_view_name": "StyleView",
            "description_width": ""
          }
        },
        "6e2c45ddbaae4694b6c8f2053d646fca": {
          "model_module": "@jupyter-widgets/base",
          "model_name": "LayoutModel",
          "model_module_version": "1.2.0",
          "state": {
            "_model_module": "@jupyter-widgets/base",
            "_model_module_version": "1.2.0",
            "_model_name": "LayoutModel",
            "_view_count": null,
            "_view_module": "@jupyter-widgets/base",
            "_view_module_version": "1.2.0",
            "_view_name": "LayoutView",
            "align_content": null,
            "align_items": null,
            "align_self": null,
            "border": null,
            "bottom": null,
            "display": null,
            "flex": null,
            "flex_flow": null,
            "grid_area": null,
            "grid_auto_columns": null,
            "grid_auto_flow": null,
            "grid_auto_rows": null,
            "grid_column": null,
            "grid_gap": null,
            "grid_row": null,
            "grid_template_areas": null,
            "grid_template_columns": null,
            "grid_template_rows": null,
            "height": null,
            "justify_content": null,
            "justify_items": null,
            "left": null,
            "margin": null,
            "max_height": null,
            "max_width": null,
            "min_height": null,
            "min_width": null,
            "object_fit": null,
            "object_position": null,
            "order": null,
            "overflow": null,
            "overflow_x": null,
            "overflow_y": null,
            "padding": null,
            "right": null,
            "top": null,
            "visibility": null,
            "width": null
          }
        },
        "9e40d356672e41ed83da4a47abe57c3f": {
          "model_module": "@jupyter-widgets/controls",
          "model_name": "ProgressStyleModel",
          "model_module_version": "1.5.0",
          "state": {
            "_model_module": "@jupyter-widgets/controls",
            "_model_module_version": "1.5.0",
            "_model_name": "ProgressStyleModel",
            "_view_count": null,
            "_view_module": "@jupyter-widgets/base",
            "_view_module_version": "1.2.0",
            "_view_name": "StyleView",
            "bar_color": null,
            "description_width": ""
          }
        },
        "5357e2221aa645cf8cd6d5ae6e831cba": {
          "model_module": "@jupyter-widgets/base",
          "model_name": "LayoutModel",
          "model_module_version": "1.2.0",
          "state": {
            "_model_module": "@jupyter-widgets/base",
            "_model_module_version": "1.2.0",
            "_model_name": "LayoutModel",
            "_view_count": null,
            "_view_module": "@jupyter-widgets/base",
            "_view_module_version": "1.2.0",
            "_view_name": "LayoutView",
            "align_content": null,
            "align_items": null,
            "align_self": null,
            "border": null,
            "bottom": null,
            "display": null,
            "flex": null,
            "flex_flow": null,
            "grid_area": null,
            "grid_auto_columns": null,
            "grid_auto_flow": null,
            "grid_auto_rows": null,
            "grid_column": null,
            "grid_gap": null,
            "grid_row": null,
            "grid_template_areas": null,
            "grid_template_columns": null,
            "grid_template_rows": null,
            "height": null,
            "justify_content": null,
            "justify_items": null,
            "left": null,
            "margin": null,
            "max_height": null,
            "max_width": null,
            "min_height": null,
            "min_width": null,
            "object_fit": null,
            "object_position": null,
            "order": null,
            "overflow": null,
            "overflow_x": null,
            "overflow_y": null,
            "padding": null,
            "right": null,
            "top": null,
            "visibility": null,
            "width": null
          }
        },
        "922fcbb0982d4541bd0017bce6b87782": {
          "model_module": "@jupyter-widgets/controls",
          "model_name": "DescriptionStyleModel",
          "model_module_version": "1.5.0",
          "state": {
            "_model_module": "@jupyter-widgets/controls",
            "_model_module_version": "1.5.0",
            "_model_name": "DescriptionStyleModel",
            "_view_count": null,
            "_view_module": "@jupyter-widgets/base",
            "_view_module_version": "1.2.0",
            "_view_name": "StyleView",
            "description_width": ""
          }
        },
        "060f34b63e954413bc621b56b39dd4a9": {
          "model_module": "@jupyter-widgets/controls",
          "model_name": "HBoxModel",
          "model_module_version": "1.5.0",
          "state": {
            "_dom_classes": [],
            "_model_module": "@jupyter-widgets/controls",
            "_model_module_version": "1.5.0",
            "_model_name": "HBoxModel",
            "_view_count": null,
            "_view_module": "@jupyter-widgets/controls",
            "_view_module_version": "1.5.0",
            "_view_name": "HBoxView",
            "box_style": "",
            "children": [
              "IPY_MODEL_9ae649fe45b74570b8284b9ea84f0a2a",
              "IPY_MODEL_e2a904ee99334648a612da6129ec49a9",
              "IPY_MODEL_18b54a1d567a4bb79d4eb90f5525d929"
            ],
            "layout": "IPY_MODEL_44120f11f928488ea0a1beb99d9f6961"
          }
        },
        "9ae649fe45b74570b8284b9ea84f0a2a": {
          "model_module": "@jupyter-widgets/controls",
          "model_name": "HTMLModel",
          "model_module_version": "1.5.0",
          "state": {
            "_dom_classes": [],
            "_model_module": "@jupyter-widgets/controls",
            "_model_module_version": "1.5.0",
            "_model_name": "HTMLModel",
            "_view_count": null,
            "_view_module": "@jupyter-widgets/controls",
            "_view_module_version": "1.5.0",
            "_view_name": "HTMLView",
            "description": "",
            "description_tooltip": null,
            "layout": "IPY_MODEL_b3a7c70c5d3145329dba0c154ec0aa33",
            "placeholder": "​",
            "style": "IPY_MODEL_4514f11972c74534bbdd429f28c317a5",
            "value": "Downloading data: "
          }
        },
        "e2a904ee99334648a612da6129ec49a9": {
          "model_module": "@jupyter-widgets/controls",
          "model_name": "FloatProgressModel",
          "model_module_version": "1.5.0",
          "state": {
            "_dom_classes": [],
            "_model_module": "@jupyter-widgets/controls",
            "_model_module_version": "1.5.0",
            "_model_name": "FloatProgressModel",
            "_view_count": null,
            "_view_module": "@jupyter-widgets/controls",
            "_view_module_version": "1.5.0",
            "_view_name": "ProgressView",
            "bar_style": "success",
            "description": "",
            "description_tooltip": null,
            "layout": "IPY_MODEL_89cf1a4e283649d6acbd28430cb40222",
            "max": 266872,
            "min": 0,
            "orientation": "horizontal",
            "style": "IPY_MODEL_cda2f6f53d384587a0e7ba9c0dd502b1",
            "value": 266872
          }
        },
        "18b54a1d567a4bb79d4eb90f5525d929": {
          "model_module": "@jupyter-widgets/controls",
          "model_name": "HTMLModel",
          "model_module_version": "1.5.0",
          "state": {
            "_dom_classes": [],
            "_model_module": "@jupyter-widgets/controls",
            "_model_module_version": "1.5.0",
            "_model_name": "HTMLModel",
            "_view_count": null,
            "_view_module": "@jupyter-widgets/controls",
            "_view_module_version": "1.5.0",
            "_view_name": "HTMLView",
            "description": "",
            "description_tooltip": null,
            "layout": "IPY_MODEL_0932dd0fd02a4bc9adae3c9a19b27318",
            "placeholder": "​",
            "style": "IPY_MODEL_6ce30384355143c8b13f1c7b8a7fc79f",
            "value": " 1.57M/? [00:00&lt;00:00, 29.2MB/s]"
          }
        },
        "44120f11f928488ea0a1beb99d9f6961": {
          "model_module": "@jupyter-widgets/base",
          "model_name": "LayoutModel",
          "model_module_version": "1.2.0",
          "state": {
            "_model_module": "@jupyter-widgets/base",
            "_model_module_version": "1.2.0",
            "_model_name": "LayoutModel",
            "_view_count": null,
            "_view_module": "@jupyter-widgets/base",
            "_view_module_version": "1.2.0",
            "_view_name": "LayoutView",
            "align_content": null,
            "align_items": null,
            "align_self": null,
            "border": null,
            "bottom": null,
            "display": null,
            "flex": null,
            "flex_flow": null,
            "grid_area": null,
            "grid_auto_columns": null,
            "grid_auto_flow": null,
            "grid_auto_rows": null,
            "grid_column": null,
            "grid_gap": null,
            "grid_row": null,
            "grid_template_areas": null,
            "grid_template_columns": null,
            "grid_template_rows": null,
            "height": null,
            "justify_content": null,
            "justify_items": null,
            "left": null,
            "margin": null,
            "max_height": null,
            "max_width": null,
            "min_height": null,
            "min_width": null,
            "object_fit": null,
            "object_position": null,
            "order": null,
            "overflow": null,
            "overflow_x": null,
            "overflow_y": null,
            "padding": null,
            "right": null,
            "top": null,
            "visibility": null,
            "width": null
          }
        },
        "b3a7c70c5d3145329dba0c154ec0aa33": {
          "model_module": "@jupyter-widgets/base",
          "model_name": "LayoutModel",
          "model_module_version": "1.2.0",
          "state": {
            "_model_module": "@jupyter-widgets/base",
            "_model_module_version": "1.2.0",
            "_model_name": "LayoutModel",
            "_view_count": null,
            "_view_module": "@jupyter-widgets/base",
            "_view_module_version": "1.2.0",
            "_view_name": "LayoutView",
            "align_content": null,
            "align_items": null,
            "align_self": null,
            "border": null,
            "bottom": null,
            "display": null,
            "flex": null,
            "flex_flow": null,
            "grid_area": null,
            "grid_auto_columns": null,
            "grid_auto_flow": null,
            "grid_auto_rows": null,
            "grid_column": null,
            "grid_gap": null,
            "grid_row": null,
            "grid_template_areas": null,
            "grid_template_columns": null,
            "grid_template_rows": null,
            "height": null,
            "justify_content": null,
            "justify_items": null,
            "left": null,
            "margin": null,
            "max_height": null,
            "max_width": null,
            "min_height": null,
            "min_width": null,
            "object_fit": null,
            "object_position": null,
            "order": null,
            "overflow": null,
            "overflow_x": null,
            "overflow_y": null,
            "padding": null,
            "right": null,
            "top": null,
            "visibility": null,
            "width": null
          }
        },
        "4514f11972c74534bbdd429f28c317a5": {
          "model_module": "@jupyter-widgets/controls",
          "model_name": "DescriptionStyleModel",
          "model_module_version": "1.5.0",
          "state": {
            "_model_module": "@jupyter-widgets/controls",
            "_model_module_version": "1.5.0",
            "_model_name": "DescriptionStyleModel",
            "_view_count": null,
            "_view_module": "@jupyter-widgets/base",
            "_view_module_version": "1.2.0",
            "_view_name": "StyleView",
            "description_width": ""
          }
        },
        "89cf1a4e283649d6acbd28430cb40222": {
          "model_module": "@jupyter-widgets/base",
          "model_name": "LayoutModel",
          "model_module_version": "1.2.0",
          "state": {
            "_model_module": "@jupyter-widgets/base",
            "_model_module_version": "1.2.0",
            "_model_name": "LayoutModel",
            "_view_count": null,
            "_view_module": "@jupyter-widgets/base",
            "_view_module_version": "1.2.0",
            "_view_name": "LayoutView",
            "align_content": null,
            "align_items": null,
            "align_self": null,
            "border": null,
            "bottom": null,
            "display": null,
            "flex": null,
            "flex_flow": null,
            "grid_area": null,
            "grid_auto_columns": null,
            "grid_auto_flow": null,
            "grid_auto_rows": null,
            "grid_column": null,
            "grid_gap": null,
            "grid_row": null,
            "grid_template_areas": null,
            "grid_template_columns": null,
            "grid_template_rows": null,
            "height": null,
            "justify_content": null,
            "justify_items": null,
            "left": null,
            "margin": null,
            "max_height": null,
            "max_width": null,
            "min_height": null,
            "min_width": null,
            "object_fit": null,
            "object_position": null,
            "order": null,
            "overflow": null,
            "overflow_x": null,
            "overflow_y": null,
            "padding": null,
            "right": null,
            "top": null,
            "visibility": null,
            "width": null
          }
        },
        "cda2f6f53d384587a0e7ba9c0dd502b1": {
          "model_module": "@jupyter-widgets/controls",
          "model_name": "ProgressStyleModel",
          "model_module_version": "1.5.0",
          "state": {
            "_model_module": "@jupyter-widgets/controls",
            "_model_module_version": "1.5.0",
            "_model_name": "ProgressStyleModel",
            "_view_count": null,
            "_view_module": "@jupyter-widgets/base",
            "_view_module_version": "1.2.0",
            "_view_name": "StyleView",
            "bar_color": null,
            "description_width": ""
          }
        },
        "0932dd0fd02a4bc9adae3c9a19b27318": {
          "model_module": "@jupyter-widgets/base",
          "model_name": "LayoutModel",
          "model_module_version": "1.2.0",
          "state": {
            "_model_module": "@jupyter-widgets/base",
            "_model_module_version": "1.2.0",
            "_model_name": "LayoutModel",
            "_view_count": null,
            "_view_module": "@jupyter-widgets/base",
            "_view_module_version": "1.2.0",
            "_view_name": "LayoutView",
            "align_content": null,
            "align_items": null,
            "align_self": null,
            "border": null,
            "bottom": null,
            "display": null,
            "flex": null,
            "flex_flow": null,
            "grid_area": null,
            "grid_auto_columns": null,
            "grid_auto_flow": null,
            "grid_auto_rows": null,
            "grid_column": null,
            "grid_gap": null,
            "grid_row": null,
            "grid_template_areas": null,
            "grid_template_columns": null,
            "grid_template_rows": null,
            "height": null,
            "justify_content": null,
            "justify_items": null,
            "left": null,
            "margin": null,
            "max_height": null,
            "max_width": null,
            "min_height": null,
            "min_width": null,
            "object_fit": null,
            "object_position": null,
            "order": null,
            "overflow": null,
            "overflow_x": null,
            "overflow_y": null,
            "padding": null,
            "right": null,
            "top": null,
            "visibility": null,
            "width": null
          }
        },
        "6ce30384355143c8b13f1c7b8a7fc79f": {
          "model_module": "@jupyter-widgets/controls",
          "model_name": "DescriptionStyleModel",
          "model_module_version": "1.5.0",
          "state": {
            "_model_module": "@jupyter-widgets/controls",
            "_model_module_version": "1.5.0",
            "_model_name": "DescriptionStyleModel",
            "_view_count": null,
            "_view_module": "@jupyter-widgets/base",
            "_view_module_version": "1.2.0",
            "_view_name": "StyleView",
            "description_width": ""
          }
        },
        "6e469e7ded7a4091b8ab8d050efe787a": {
          "model_module": "@jupyter-widgets/controls",
          "model_name": "HBoxModel",
          "model_module_version": "1.5.0",
          "state": {
            "_dom_classes": [],
            "_model_module": "@jupyter-widgets/controls",
            "_model_module_version": "1.5.0",
            "_model_name": "HBoxModel",
            "_view_count": null,
            "_view_module": "@jupyter-widgets/controls",
            "_view_module_version": "1.5.0",
            "_view_name": "HBoxView",
            "box_style": "",
            "children": [
              "IPY_MODEL_e7acaab499d646369b6b51dd7af851c0",
              "IPY_MODEL_4629842610854fa8adb31e2ae36de838",
              "IPY_MODEL_e5b24c86eac846d4ab74f7899e25e13b"
            ],
            "layout": "IPY_MODEL_01eaa6f863144b5d9a3cc8cd437ed858"
          }
        },
        "e7acaab499d646369b6b51dd7af851c0": {
          "model_module": "@jupyter-widgets/controls",
          "model_name": "HTMLModel",
          "model_module_version": "1.5.0",
          "state": {
            "_dom_classes": [],
            "_model_module": "@jupyter-widgets/controls",
            "_model_module_version": "1.5.0",
            "_model_name": "HTMLModel",
            "_view_count": null,
            "_view_module": "@jupyter-widgets/controls",
            "_view_module_version": "1.5.0",
            "_view_name": "HTMLView",
            "description": "",
            "description_tooltip": null,
            "layout": "IPY_MODEL_ad757049e6954408b524cafddc2dc51d",
            "placeholder": "​",
            "style": "IPY_MODEL_8ae025b25ac1437faf4c26617705997b",
            "value": "Downloading data: "
          }
        },
        "4629842610854fa8adb31e2ae36de838": {
          "model_module": "@jupyter-widgets/controls",
          "model_name": "FloatProgressModel",
          "model_module_version": "1.5.0",
          "state": {
            "_dom_classes": [],
            "_model_module": "@jupyter-widgets/controls",
            "_model_module_version": "1.5.0",
            "_model_name": "FloatProgressModel",
            "_view_count": null,
            "_view_module": "@jupyter-widgets/controls",
            "_view_module_version": "1.5.0",
            "_view_name": "ProgressView",
            "bar_style": "success",
            "description": "",
            "description_tooltip": null,
            "layout": "IPY_MODEL_7e29b0e0da2c41f892fd9e524941bc5a",
            "max": 401300,
            "min": 0,
            "orientation": "horizontal",
            "style": "IPY_MODEL_cc06ddf40e204ad199f06ba5457b3a69",
            "value": 401300
          }
        },
        "e5b24c86eac846d4ab74f7899e25e13b": {
          "model_module": "@jupyter-widgets/controls",
          "model_name": "HTMLModel",
          "model_module_version": "1.5.0",
          "state": {
            "_dom_classes": [],
            "_model_module": "@jupyter-widgets/controls",
            "_model_module_version": "1.5.0",
            "_model_name": "HTMLModel",
            "_view_count": null,
            "_view_module": "@jupyter-widgets/controls",
            "_view_module_version": "1.5.0",
            "_view_name": "HTMLView",
            "description": "",
            "description_tooltip": null,
            "layout": "IPY_MODEL_0c53ee3b905748afb58a995e70104924",
            "placeholder": "​",
            "style": "IPY_MODEL_e8f1463e988d407f821df75667d7d2f9",
            "value": " 2.36M/? [00:00&lt;00:00, 23.9MB/s]"
          }
        },
        "01eaa6f863144b5d9a3cc8cd437ed858": {
          "model_module": "@jupyter-widgets/base",
          "model_name": "LayoutModel",
          "model_module_version": "1.2.0",
          "state": {
            "_model_module": "@jupyter-widgets/base",
            "_model_module_version": "1.2.0",
            "_model_name": "LayoutModel",
            "_view_count": null,
            "_view_module": "@jupyter-widgets/base",
            "_view_module_version": "1.2.0",
            "_view_name": "LayoutView",
            "align_content": null,
            "align_items": null,
            "align_self": null,
            "border": null,
            "bottom": null,
            "display": null,
            "flex": null,
            "flex_flow": null,
            "grid_area": null,
            "grid_auto_columns": null,
            "grid_auto_flow": null,
            "grid_auto_rows": null,
            "grid_column": null,
            "grid_gap": null,
            "grid_row": null,
            "grid_template_areas": null,
            "grid_template_columns": null,
            "grid_template_rows": null,
            "height": null,
            "justify_content": null,
            "justify_items": null,
            "left": null,
            "margin": null,
            "max_height": null,
            "max_width": null,
            "min_height": null,
            "min_width": null,
            "object_fit": null,
            "object_position": null,
            "order": null,
            "overflow": null,
            "overflow_x": null,
            "overflow_y": null,
            "padding": null,
            "right": null,
            "top": null,
            "visibility": null,
            "width": null
          }
        },
        "ad757049e6954408b524cafddc2dc51d": {
          "model_module": "@jupyter-widgets/base",
          "model_name": "LayoutModel",
          "model_module_version": "1.2.0",
          "state": {
            "_model_module": "@jupyter-widgets/base",
            "_model_module_version": "1.2.0",
            "_model_name": "LayoutModel",
            "_view_count": null,
            "_view_module": "@jupyter-widgets/base",
            "_view_module_version": "1.2.0",
            "_view_name": "LayoutView",
            "align_content": null,
            "align_items": null,
            "align_self": null,
            "border": null,
            "bottom": null,
            "display": null,
            "flex": null,
            "flex_flow": null,
            "grid_area": null,
            "grid_auto_columns": null,
            "grid_auto_flow": null,
            "grid_auto_rows": null,
            "grid_column": null,
            "grid_gap": null,
            "grid_row": null,
            "grid_template_areas": null,
            "grid_template_columns": null,
            "grid_template_rows": null,
            "height": null,
            "justify_content": null,
            "justify_items": null,
            "left": null,
            "margin": null,
            "max_height": null,
            "max_width": null,
            "min_height": null,
            "min_width": null,
            "object_fit": null,
            "object_position": null,
            "order": null,
            "overflow": null,
            "overflow_x": null,
            "overflow_y": null,
            "padding": null,
            "right": null,
            "top": null,
            "visibility": null,
            "width": null
          }
        },
        "8ae025b25ac1437faf4c26617705997b": {
          "model_module": "@jupyter-widgets/controls",
          "model_name": "DescriptionStyleModel",
          "model_module_version": "1.5.0",
          "state": {
            "_model_module": "@jupyter-widgets/controls",
            "_model_module_version": "1.5.0",
            "_model_name": "DescriptionStyleModel",
            "_view_count": null,
            "_view_module": "@jupyter-widgets/base",
            "_view_module_version": "1.2.0",
            "_view_name": "StyleView",
            "description_width": ""
          }
        },
        "7e29b0e0da2c41f892fd9e524941bc5a": {
          "model_module": "@jupyter-widgets/base",
          "model_name": "LayoutModel",
          "model_module_version": "1.2.0",
          "state": {
            "_model_module": "@jupyter-widgets/base",
            "_model_module_version": "1.2.0",
            "_model_name": "LayoutModel",
            "_view_count": null,
            "_view_module": "@jupyter-widgets/base",
            "_view_module_version": "1.2.0",
            "_view_name": "LayoutView",
            "align_content": null,
            "align_items": null,
            "align_self": null,
            "border": null,
            "bottom": null,
            "display": null,
            "flex": null,
            "flex_flow": null,
            "grid_area": null,
            "grid_auto_columns": null,
            "grid_auto_flow": null,
            "grid_auto_rows": null,
            "grid_column": null,
            "grid_gap": null,
            "grid_row": null,
            "grid_template_areas": null,
            "grid_template_columns": null,
            "grid_template_rows": null,
            "height": null,
            "justify_content": null,
            "justify_items": null,
            "left": null,
            "margin": null,
            "max_height": null,
            "max_width": null,
            "min_height": null,
            "min_width": null,
            "object_fit": null,
            "object_position": null,
            "order": null,
            "overflow": null,
            "overflow_x": null,
            "overflow_y": null,
            "padding": null,
            "right": null,
            "top": null,
            "visibility": null,
            "width": null
          }
        },
        "cc06ddf40e204ad199f06ba5457b3a69": {
          "model_module": "@jupyter-widgets/controls",
          "model_name": "ProgressStyleModel",
          "model_module_version": "1.5.0",
          "state": {
            "_model_module": "@jupyter-widgets/controls",
            "_model_module_version": "1.5.0",
            "_model_name": "ProgressStyleModel",
            "_view_count": null,
            "_view_module": "@jupyter-widgets/base",
            "_view_module_version": "1.2.0",
            "_view_name": "StyleView",
            "bar_color": null,
            "description_width": ""
          }
        },
        "0c53ee3b905748afb58a995e70104924": {
          "model_module": "@jupyter-widgets/base",
          "model_name": "LayoutModel",
          "model_module_version": "1.2.0",
          "state": {
            "_model_module": "@jupyter-widgets/base",
            "_model_module_version": "1.2.0",
            "_model_name": "LayoutModel",
            "_view_count": null,
            "_view_module": "@jupyter-widgets/base",
            "_view_module_version": "1.2.0",
            "_view_name": "LayoutView",
            "align_content": null,
            "align_items": null,
            "align_self": null,
            "border": null,
            "bottom": null,
            "display": null,
            "flex": null,
            "flex_flow": null,
            "grid_area": null,
            "grid_auto_columns": null,
            "grid_auto_flow": null,
            "grid_auto_rows": null,
            "grid_column": null,
            "grid_gap": null,
            "grid_row": null,
            "grid_template_areas": null,
            "grid_template_columns": null,
            "grid_template_rows": null,
            "height": null,
            "justify_content": null,
            "justify_items": null,
            "left": null,
            "margin": null,
            "max_height": null,
            "max_width": null,
            "min_height": null,
            "min_width": null,
            "object_fit": null,
            "object_position": null,
            "order": null,
            "overflow": null,
            "overflow_x": null,
            "overflow_y": null,
            "padding": null,
            "right": null,
            "top": null,
            "visibility": null,
            "width": null
          }
        },
        "e8f1463e988d407f821df75667d7d2f9": {
          "model_module": "@jupyter-widgets/controls",
          "model_name": "DescriptionStyleModel",
          "model_module_version": "1.5.0",
          "state": {
            "_model_module": "@jupyter-widgets/controls",
            "_model_module_version": "1.5.0",
            "_model_name": "DescriptionStyleModel",
            "_view_count": null,
            "_view_module": "@jupyter-widgets/base",
            "_view_module_version": "1.2.0",
            "_view_name": "StyleView",
            "description_width": ""
          }
        },
        "1cc78a5c57ef46f4a20ee889248fc9c6": {
          "model_module": "@jupyter-widgets/controls",
          "model_name": "HBoxModel",
          "model_module_version": "1.5.0",
          "state": {
            "_dom_classes": [],
            "_model_module": "@jupyter-widgets/controls",
            "_model_module_version": "1.5.0",
            "_model_name": "HBoxModel",
            "_view_count": null,
            "_view_module": "@jupyter-widgets/controls",
            "_view_module_version": "1.5.0",
            "_view_name": "HBoxView",
            "box_style": "",
            "children": [
              "IPY_MODEL_8992f9919d244bdd8cabcdc0332d3a09",
              "IPY_MODEL_7c5ad73ea1f140038378aa01da909ee4",
              "IPY_MODEL_79ddb8957c46431ca275961ea75d66ab"
            ],
            "layout": "IPY_MODEL_48d2feac9e094659aa6983cd5b2f0116"
          }
        },
        "8992f9919d244bdd8cabcdc0332d3a09": {
          "model_module": "@jupyter-widgets/controls",
          "model_name": "HTMLModel",
          "model_module_version": "1.5.0",
          "state": {
            "_dom_classes": [],
            "_model_module": "@jupyter-widgets/controls",
            "_model_module_version": "1.5.0",
            "_model_name": "HTMLModel",
            "_view_count": null,
            "_view_module": "@jupyter-widgets/controls",
            "_view_module_version": "1.5.0",
            "_view_name": "HTMLView",
            "description": "",
            "description_tooltip": null,
            "layout": "IPY_MODEL_d2a1ec7d638143a486d324a228473b1b",
            "placeholder": "​",
            "style": "IPY_MODEL_2670a679ab544a70a37d5febc02494f0",
            "value": "Generating train split: 100%"
          }
        },
        "7c5ad73ea1f140038378aa01da909ee4": {
          "model_module": "@jupyter-widgets/controls",
          "model_name": "FloatProgressModel",
          "model_module_version": "1.5.0",
          "state": {
            "_dom_classes": [],
            "_model_module": "@jupyter-widgets/controls",
            "_model_module_version": "1.5.0",
            "_model_name": "FloatProgressModel",
            "_view_count": null,
            "_view_module": "@jupyter-widgets/controls",
            "_view_module_version": "1.5.0",
            "_view_name": "ProgressView",
            "bar_style": "",
            "description": "",
            "description_tooltip": null,
            "layout": "IPY_MODEL_f82590d1108c47f8b3aceee000f4cf05",
            "max": 9000,
            "min": 0,
            "orientation": "horizontal",
            "style": "IPY_MODEL_c111923521fc43d585a248707d46f5b9",
            "value": 9000
          }
        },
        "79ddb8957c46431ca275961ea75d66ab": {
          "model_module": "@jupyter-widgets/controls",
          "model_name": "HTMLModel",
          "model_module_version": "1.5.0",
          "state": {
            "_dom_classes": [],
            "_model_module": "@jupyter-widgets/controls",
            "_model_module_version": "1.5.0",
            "_model_name": "HTMLModel",
            "_view_count": null,
            "_view_module": "@jupyter-widgets/controls",
            "_view_module_version": "1.5.0",
            "_view_name": "HTMLView",
            "description": "",
            "description_tooltip": null,
            "layout": "IPY_MODEL_e4266f56af2248d781048cb74814ffa5",
            "placeholder": "​",
            "style": "IPY_MODEL_e1a08d26490e416daf8b48cc2f1b8439",
            "value": " 9000/9000 [00:27&lt;00:00, 866.37 examples/s]"
          }
        },
        "48d2feac9e094659aa6983cd5b2f0116": {
          "model_module": "@jupyter-widgets/base",
          "model_name": "LayoutModel",
          "model_module_version": "1.2.0",
          "state": {
            "_model_module": "@jupyter-widgets/base",
            "_model_module_version": "1.2.0",
            "_model_name": "LayoutModel",
            "_view_count": null,
            "_view_module": "@jupyter-widgets/base",
            "_view_module_version": "1.2.0",
            "_view_name": "LayoutView",
            "align_content": null,
            "align_items": null,
            "align_self": null,
            "border": null,
            "bottom": null,
            "display": null,
            "flex": null,
            "flex_flow": null,
            "grid_area": null,
            "grid_auto_columns": null,
            "grid_auto_flow": null,
            "grid_auto_rows": null,
            "grid_column": null,
            "grid_gap": null,
            "grid_row": null,
            "grid_template_areas": null,
            "grid_template_columns": null,
            "grid_template_rows": null,
            "height": null,
            "justify_content": null,
            "justify_items": null,
            "left": null,
            "margin": null,
            "max_height": null,
            "max_width": null,
            "min_height": null,
            "min_width": null,
            "object_fit": null,
            "object_position": null,
            "order": null,
            "overflow": null,
            "overflow_x": null,
            "overflow_y": null,
            "padding": null,
            "right": null,
            "top": null,
            "visibility": "hidden",
            "width": null
          }
        },
        "d2a1ec7d638143a486d324a228473b1b": {
          "model_module": "@jupyter-widgets/base",
          "model_name": "LayoutModel",
          "model_module_version": "1.2.0",
          "state": {
            "_model_module": "@jupyter-widgets/base",
            "_model_module_version": "1.2.0",
            "_model_name": "LayoutModel",
            "_view_count": null,
            "_view_module": "@jupyter-widgets/base",
            "_view_module_version": "1.2.0",
            "_view_name": "LayoutView",
            "align_content": null,
            "align_items": null,
            "align_self": null,
            "border": null,
            "bottom": null,
            "display": null,
            "flex": null,
            "flex_flow": null,
            "grid_area": null,
            "grid_auto_columns": null,
            "grid_auto_flow": null,
            "grid_auto_rows": null,
            "grid_column": null,
            "grid_gap": null,
            "grid_row": null,
            "grid_template_areas": null,
            "grid_template_columns": null,
            "grid_template_rows": null,
            "height": null,
            "justify_content": null,
            "justify_items": null,
            "left": null,
            "margin": null,
            "max_height": null,
            "max_width": null,
            "min_height": null,
            "min_width": null,
            "object_fit": null,
            "object_position": null,
            "order": null,
            "overflow": null,
            "overflow_x": null,
            "overflow_y": null,
            "padding": null,
            "right": null,
            "top": null,
            "visibility": null,
            "width": null
          }
        },
        "2670a679ab544a70a37d5febc02494f0": {
          "model_module": "@jupyter-widgets/controls",
          "model_name": "DescriptionStyleModel",
          "model_module_version": "1.5.0",
          "state": {
            "_model_module": "@jupyter-widgets/controls",
            "_model_module_version": "1.5.0",
            "_model_name": "DescriptionStyleModel",
            "_view_count": null,
            "_view_module": "@jupyter-widgets/base",
            "_view_module_version": "1.2.0",
            "_view_name": "StyleView",
            "description_width": ""
          }
        },
        "f82590d1108c47f8b3aceee000f4cf05": {
          "model_module": "@jupyter-widgets/base",
          "model_name": "LayoutModel",
          "model_module_version": "1.2.0",
          "state": {
            "_model_module": "@jupyter-widgets/base",
            "_model_module_version": "1.2.0",
            "_model_name": "LayoutModel",
            "_view_count": null,
            "_view_module": "@jupyter-widgets/base",
            "_view_module_version": "1.2.0",
            "_view_name": "LayoutView",
            "align_content": null,
            "align_items": null,
            "align_self": null,
            "border": null,
            "bottom": null,
            "display": null,
            "flex": null,
            "flex_flow": null,
            "grid_area": null,
            "grid_auto_columns": null,
            "grid_auto_flow": null,
            "grid_auto_rows": null,
            "grid_column": null,
            "grid_gap": null,
            "grid_row": null,
            "grid_template_areas": null,
            "grid_template_columns": null,
            "grid_template_rows": null,
            "height": null,
            "justify_content": null,
            "justify_items": null,
            "left": null,
            "margin": null,
            "max_height": null,
            "max_width": null,
            "min_height": null,
            "min_width": null,
            "object_fit": null,
            "object_position": null,
            "order": null,
            "overflow": null,
            "overflow_x": null,
            "overflow_y": null,
            "padding": null,
            "right": null,
            "top": null,
            "visibility": null,
            "width": null
          }
        },
        "c111923521fc43d585a248707d46f5b9": {
          "model_module": "@jupyter-widgets/controls",
          "model_name": "ProgressStyleModel",
          "model_module_version": "1.5.0",
          "state": {
            "_model_module": "@jupyter-widgets/controls",
            "_model_module_version": "1.5.0",
            "_model_name": "ProgressStyleModel",
            "_view_count": null,
            "_view_module": "@jupyter-widgets/base",
            "_view_module_version": "1.2.0",
            "_view_name": "StyleView",
            "bar_color": null,
            "description_width": ""
          }
        },
        "e4266f56af2248d781048cb74814ffa5": {
          "model_module": "@jupyter-widgets/base",
          "model_name": "LayoutModel",
          "model_module_version": "1.2.0",
          "state": {
            "_model_module": "@jupyter-widgets/base",
            "_model_module_version": "1.2.0",
            "_model_name": "LayoutModel",
            "_view_count": null,
            "_view_module": "@jupyter-widgets/base",
            "_view_module_version": "1.2.0",
            "_view_name": "LayoutView",
            "align_content": null,
            "align_items": null,
            "align_self": null,
            "border": null,
            "bottom": null,
            "display": null,
            "flex": null,
            "flex_flow": null,
            "grid_area": null,
            "grid_auto_columns": null,
            "grid_auto_flow": null,
            "grid_auto_rows": null,
            "grid_column": null,
            "grid_gap": null,
            "grid_row": null,
            "grid_template_areas": null,
            "grid_template_columns": null,
            "grid_template_rows": null,
            "height": null,
            "justify_content": null,
            "justify_items": null,
            "left": null,
            "margin": null,
            "max_height": null,
            "max_width": null,
            "min_height": null,
            "min_width": null,
            "object_fit": null,
            "object_position": null,
            "order": null,
            "overflow": null,
            "overflow_x": null,
            "overflow_y": null,
            "padding": null,
            "right": null,
            "top": null,
            "visibility": null,
            "width": null
          }
        },
        "e1a08d26490e416daf8b48cc2f1b8439": {
          "model_module": "@jupyter-widgets/controls",
          "model_name": "DescriptionStyleModel",
          "model_module_version": "1.5.0",
          "state": {
            "_model_module": "@jupyter-widgets/controls",
            "_model_module_version": "1.5.0",
            "_model_name": "DescriptionStyleModel",
            "_view_count": null,
            "_view_module": "@jupyter-widgets/base",
            "_view_module_version": "1.2.0",
            "_view_name": "StyleView",
            "description_width": ""
          }
        },
        "5f8ecc068ac5472e9c2a6cb01a732034": {
          "model_module": "@jupyter-widgets/controls",
          "model_name": "HBoxModel",
          "model_module_version": "1.5.0",
          "state": {
            "_dom_classes": [],
            "_model_module": "@jupyter-widgets/controls",
            "_model_module_version": "1.5.0",
            "_model_name": "HBoxModel",
            "_view_count": null,
            "_view_module": "@jupyter-widgets/controls",
            "_view_module_version": "1.5.0",
            "_view_name": "HBoxView",
            "box_style": "",
            "children": [
              "IPY_MODEL_9f6026640a8b4d559bc0e619e1f6f88e",
              "IPY_MODEL_3f97cfc03d774b7fbc70b755f2aa3a1d",
              "IPY_MODEL_aecd4183e68b4a11b4377a8ca0849b6a"
            ],
            "layout": "IPY_MODEL_cb0537ae3fb94bdb98da862f783e11d0"
          }
        },
        "9f6026640a8b4d559bc0e619e1f6f88e": {
          "model_module": "@jupyter-widgets/controls",
          "model_name": "HTMLModel",
          "model_module_version": "1.5.0",
          "state": {
            "_dom_classes": [],
            "_model_module": "@jupyter-widgets/controls",
            "_model_module_version": "1.5.0",
            "_model_name": "HTMLModel",
            "_view_count": null,
            "_view_module": "@jupyter-widgets/controls",
            "_view_module_version": "1.5.0",
            "_view_name": "HTMLView",
            "description": "",
            "description_tooltip": null,
            "layout": "IPY_MODEL_a2ff48c1ecdc4eeda05cdf7beadcd2a4",
            "placeholder": "​",
            "style": "IPY_MODEL_bb9303c2170c48fb84c41884ba22428b",
            "value": "Generating validation split: 100%"
          }
        },
        "3f97cfc03d774b7fbc70b755f2aa3a1d": {
          "model_module": "@jupyter-widgets/controls",
          "model_name": "FloatProgressModel",
          "model_module_version": "1.5.0",
          "state": {
            "_dom_classes": [],
            "_model_module": "@jupyter-widgets/controls",
            "_model_module_version": "1.5.0",
            "_model_name": "FloatProgressModel",
            "_view_count": null,
            "_view_module": "@jupyter-widgets/controls",
            "_view_module_version": "1.5.0",
            "_view_name": "ProgressView",
            "bar_style": "",
            "description": "",
            "description_tooltip": null,
            "layout": "IPY_MODEL_5b844fc8044e4f0f805f9ba3106a6f33",
            "max": 1330,
            "min": 0,
            "orientation": "horizontal",
            "style": "IPY_MODEL_acde018c287941329a7bdc3e2851d2fc",
            "value": 1330
          }
        },
        "aecd4183e68b4a11b4377a8ca0849b6a": {
          "model_module": "@jupyter-widgets/controls",
          "model_name": "HTMLModel",
          "model_module_version": "1.5.0",
          "state": {
            "_dom_classes": [],
            "_model_module": "@jupyter-widgets/controls",
            "_model_module_version": "1.5.0",
            "_model_name": "HTMLModel",
            "_view_count": null,
            "_view_module": "@jupyter-widgets/controls",
            "_view_module_version": "1.5.0",
            "_view_name": "HTMLView",
            "description": "",
            "description_tooltip": null,
            "layout": "IPY_MODEL_57a27dd3f3d247b1bcea2ea30a13751e",
            "placeholder": "​",
            "style": "IPY_MODEL_ca401b624c864aa2b92f615dce9a744f",
            "value": " 1330/1330 [00:13&lt;00:00, 557.83 examples/s]"
          }
        },
        "cb0537ae3fb94bdb98da862f783e11d0": {
          "model_module": "@jupyter-widgets/base",
          "model_name": "LayoutModel",
          "model_module_version": "1.2.0",
          "state": {
            "_model_module": "@jupyter-widgets/base",
            "_model_module_version": "1.2.0",
            "_model_name": "LayoutModel",
            "_view_count": null,
            "_view_module": "@jupyter-widgets/base",
            "_view_module_version": "1.2.0",
            "_view_name": "LayoutView",
            "align_content": null,
            "align_items": null,
            "align_self": null,
            "border": null,
            "bottom": null,
            "display": null,
            "flex": null,
            "flex_flow": null,
            "grid_area": null,
            "grid_auto_columns": null,
            "grid_auto_flow": null,
            "grid_auto_rows": null,
            "grid_column": null,
            "grid_gap": null,
            "grid_row": null,
            "grid_template_areas": null,
            "grid_template_columns": null,
            "grid_template_rows": null,
            "height": null,
            "justify_content": null,
            "justify_items": null,
            "left": null,
            "margin": null,
            "max_height": null,
            "max_width": null,
            "min_height": null,
            "min_width": null,
            "object_fit": null,
            "object_position": null,
            "order": null,
            "overflow": null,
            "overflow_x": null,
            "overflow_y": null,
            "padding": null,
            "right": null,
            "top": null,
            "visibility": "hidden",
            "width": null
          }
        },
        "a2ff48c1ecdc4eeda05cdf7beadcd2a4": {
          "model_module": "@jupyter-widgets/base",
          "model_name": "LayoutModel",
          "model_module_version": "1.2.0",
          "state": {
            "_model_module": "@jupyter-widgets/base",
            "_model_module_version": "1.2.0",
            "_model_name": "LayoutModel",
            "_view_count": null,
            "_view_module": "@jupyter-widgets/base",
            "_view_module_version": "1.2.0",
            "_view_name": "LayoutView",
            "align_content": null,
            "align_items": null,
            "align_self": null,
            "border": null,
            "bottom": null,
            "display": null,
            "flex": null,
            "flex_flow": null,
            "grid_area": null,
            "grid_auto_columns": null,
            "grid_auto_flow": null,
            "grid_auto_rows": null,
            "grid_column": null,
            "grid_gap": null,
            "grid_row": null,
            "grid_template_areas": null,
            "grid_template_columns": null,
            "grid_template_rows": null,
            "height": null,
            "justify_content": null,
            "justify_items": null,
            "left": null,
            "margin": null,
            "max_height": null,
            "max_width": null,
            "min_height": null,
            "min_width": null,
            "object_fit": null,
            "object_position": null,
            "order": null,
            "overflow": null,
            "overflow_x": null,
            "overflow_y": null,
            "padding": null,
            "right": null,
            "top": null,
            "visibility": null,
            "width": null
          }
        },
        "bb9303c2170c48fb84c41884ba22428b": {
          "model_module": "@jupyter-widgets/controls",
          "model_name": "DescriptionStyleModel",
          "model_module_version": "1.5.0",
          "state": {
            "_model_module": "@jupyter-widgets/controls",
            "_model_module_version": "1.5.0",
            "_model_name": "DescriptionStyleModel",
            "_view_count": null,
            "_view_module": "@jupyter-widgets/base",
            "_view_module_version": "1.2.0",
            "_view_name": "StyleView",
            "description_width": ""
          }
        },
        "5b844fc8044e4f0f805f9ba3106a6f33": {
          "model_module": "@jupyter-widgets/base",
          "model_name": "LayoutModel",
          "model_module_version": "1.2.0",
          "state": {
            "_model_module": "@jupyter-widgets/base",
            "_model_module_version": "1.2.0",
            "_model_name": "LayoutModel",
            "_view_count": null,
            "_view_module": "@jupyter-widgets/base",
            "_view_module_version": "1.2.0",
            "_view_name": "LayoutView",
            "align_content": null,
            "align_items": null,
            "align_self": null,
            "border": null,
            "bottom": null,
            "display": null,
            "flex": null,
            "flex_flow": null,
            "grid_area": null,
            "grid_auto_columns": null,
            "grid_auto_flow": null,
            "grid_auto_rows": null,
            "grid_column": null,
            "grid_gap": null,
            "grid_row": null,
            "grid_template_areas": null,
            "grid_template_columns": null,
            "grid_template_rows": null,
            "height": null,
            "justify_content": null,
            "justify_items": null,
            "left": null,
            "margin": null,
            "max_height": null,
            "max_width": null,
            "min_height": null,
            "min_width": null,
            "object_fit": null,
            "object_position": null,
            "order": null,
            "overflow": null,
            "overflow_x": null,
            "overflow_y": null,
            "padding": null,
            "right": null,
            "top": null,
            "visibility": null,
            "width": null
          }
        },
        "acde018c287941329a7bdc3e2851d2fc": {
          "model_module": "@jupyter-widgets/controls",
          "model_name": "ProgressStyleModel",
          "model_module_version": "1.5.0",
          "state": {
            "_model_module": "@jupyter-widgets/controls",
            "_model_module_version": "1.5.0",
            "_model_name": "ProgressStyleModel",
            "_view_count": null,
            "_view_module": "@jupyter-widgets/base",
            "_view_module_version": "1.2.0",
            "_view_name": "StyleView",
            "bar_color": null,
            "description_width": ""
          }
        },
        "57a27dd3f3d247b1bcea2ea30a13751e": {
          "model_module": "@jupyter-widgets/base",
          "model_name": "LayoutModel",
          "model_module_version": "1.2.0",
          "state": {
            "_model_module": "@jupyter-widgets/base",
            "_model_module_version": "1.2.0",
            "_model_name": "LayoutModel",
            "_view_count": null,
            "_view_module": "@jupyter-widgets/base",
            "_view_module_version": "1.2.0",
            "_view_name": "LayoutView",
            "align_content": null,
            "align_items": null,
            "align_self": null,
            "border": null,
            "bottom": null,
            "display": null,
            "flex": null,
            "flex_flow": null,
            "grid_area": null,
            "grid_auto_columns": null,
            "grid_auto_flow": null,
            "grid_auto_rows": null,
            "grid_column": null,
            "grid_gap": null,
            "grid_row": null,
            "grid_template_areas": null,
            "grid_template_columns": null,
            "grid_template_rows": null,
            "height": null,
            "justify_content": null,
            "justify_items": null,
            "left": null,
            "margin": null,
            "max_height": null,
            "max_width": null,
            "min_height": null,
            "min_width": null,
            "object_fit": null,
            "object_position": null,
            "order": null,
            "overflow": null,
            "overflow_x": null,
            "overflow_y": null,
            "padding": null,
            "right": null,
            "top": null,
            "visibility": null,
            "width": null
          }
        },
        "ca401b624c864aa2b92f615dce9a744f": {
          "model_module": "@jupyter-widgets/controls",
          "model_name": "DescriptionStyleModel",
          "model_module_version": "1.5.0",
          "state": {
            "_model_module": "@jupyter-widgets/controls",
            "_model_module_version": "1.5.0",
            "_model_name": "DescriptionStyleModel",
            "_view_count": null,
            "_view_module": "@jupyter-widgets/base",
            "_view_module_version": "1.2.0",
            "_view_name": "StyleView",
            "description_width": ""
          }
        },
        "eb6c6f62c41f4a7c8f2d9975a691a776": {
          "model_module": "@jupyter-widgets/controls",
          "model_name": "HBoxModel",
          "model_module_version": "1.5.0",
          "state": {
            "_dom_classes": [],
            "_model_module": "@jupyter-widgets/controls",
            "_model_module_version": "1.5.0",
            "_model_name": "HBoxModel",
            "_view_count": null,
            "_view_module": "@jupyter-widgets/controls",
            "_view_module_version": "1.5.0",
            "_view_name": "HBoxView",
            "box_style": "",
            "children": [
              "IPY_MODEL_89de04611c5449f7b512ee9cac61e795",
              "IPY_MODEL_67cb393361e84b908c266ce66611b2ee",
              "IPY_MODEL_526b141cfac040e5a72516db0b150c07"
            ],
            "layout": "IPY_MODEL_77c42ae84ad143d8a8d22c5379100181"
          }
        },
        "89de04611c5449f7b512ee9cac61e795": {
          "model_module": "@jupyter-widgets/controls",
          "model_name": "HTMLModel",
          "model_module_version": "1.5.0",
          "state": {
            "_dom_classes": [],
            "_model_module": "@jupyter-widgets/controls",
            "_model_module_version": "1.5.0",
            "_model_name": "HTMLModel",
            "_view_count": null,
            "_view_module": "@jupyter-widgets/controls",
            "_view_module_version": "1.5.0",
            "_view_name": "HTMLView",
            "description": "",
            "description_tooltip": null,
            "layout": "IPY_MODEL_5f0821d317074c5a845642173402f8e5",
            "placeholder": "​",
            "style": "IPY_MODEL_3515763b47e041c89f96f2f18221b3d5",
            "value": "Generating test split: 100%"
          }
        },
        "67cb393361e84b908c266ce66611b2ee": {
          "model_module": "@jupyter-widgets/controls",
          "model_name": "FloatProgressModel",
          "model_module_version": "1.5.0",
          "state": {
            "_dom_classes": [],
            "_model_module": "@jupyter-widgets/controls",
            "_model_module_version": "1.5.0",
            "_model_name": "FloatProgressModel",
            "_view_count": null,
            "_view_module": "@jupyter-widgets/controls",
            "_view_module_version": "1.5.0",
            "_view_name": "ProgressView",
            "bar_style": "",
            "description": "",
            "description_tooltip": null,
            "layout": "IPY_MODEL_43d43ca88ae04910b3a15623f56e7177",
            "max": 2000,
            "min": 0,
            "orientation": "horizontal",
            "style": "IPY_MODEL_8dc76ba4f2974b4ea5042e0bc2f28b88",
            "value": 2000
          }
        },
        "526b141cfac040e5a72516db0b150c07": {
          "model_module": "@jupyter-widgets/controls",
          "model_name": "HTMLModel",
          "model_module_version": "1.5.0",
          "state": {
            "_dom_classes": [],
            "_model_module": "@jupyter-widgets/controls",
            "_model_module_version": "1.5.0",
            "_model_name": "HTMLModel",
            "_view_count": null,
            "_view_module": "@jupyter-widgets/controls",
            "_view_module_version": "1.5.0",
            "_view_name": "HTMLView",
            "description": "",
            "description_tooltip": null,
            "layout": "IPY_MODEL_afbf9979c6a94b76bfae06d6ac1f0b70",
            "placeholder": "​",
            "style": "IPY_MODEL_6ce3f5eac96a47f6bfbf2741bcb13568",
            "value": " 2000/2000 [00:18&lt;00:00, 1007.89 examples/s]"
          }
        },
        "77c42ae84ad143d8a8d22c5379100181": {
          "model_module": "@jupyter-widgets/base",
          "model_name": "LayoutModel",
          "model_module_version": "1.2.0",
          "state": {
            "_model_module": "@jupyter-widgets/base",
            "_model_module_version": "1.2.0",
            "_model_name": "LayoutModel",
            "_view_count": null,
            "_view_module": "@jupyter-widgets/base",
            "_view_module_version": "1.2.0",
            "_view_name": "LayoutView",
            "align_content": null,
            "align_items": null,
            "align_self": null,
            "border": null,
            "bottom": null,
            "display": null,
            "flex": null,
            "flex_flow": null,
            "grid_area": null,
            "grid_auto_columns": null,
            "grid_auto_flow": null,
            "grid_auto_rows": null,
            "grid_column": null,
            "grid_gap": null,
            "grid_row": null,
            "grid_template_areas": null,
            "grid_template_columns": null,
            "grid_template_rows": null,
            "height": null,
            "justify_content": null,
            "justify_items": null,
            "left": null,
            "margin": null,
            "max_height": null,
            "max_width": null,
            "min_height": null,
            "min_width": null,
            "object_fit": null,
            "object_position": null,
            "order": null,
            "overflow": null,
            "overflow_x": null,
            "overflow_y": null,
            "padding": null,
            "right": null,
            "top": null,
            "visibility": "hidden",
            "width": null
          }
        },
        "5f0821d317074c5a845642173402f8e5": {
          "model_module": "@jupyter-widgets/base",
          "model_name": "LayoutModel",
          "model_module_version": "1.2.0",
          "state": {
            "_model_module": "@jupyter-widgets/base",
            "_model_module_version": "1.2.0",
            "_model_name": "LayoutModel",
            "_view_count": null,
            "_view_module": "@jupyter-widgets/base",
            "_view_module_version": "1.2.0",
            "_view_name": "LayoutView",
            "align_content": null,
            "align_items": null,
            "align_self": null,
            "border": null,
            "bottom": null,
            "display": null,
            "flex": null,
            "flex_flow": null,
            "grid_area": null,
            "grid_auto_columns": null,
            "grid_auto_flow": null,
            "grid_auto_rows": null,
            "grid_column": null,
            "grid_gap": null,
            "grid_row": null,
            "grid_template_areas": null,
            "grid_template_columns": null,
            "grid_template_rows": null,
            "height": null,
            "justify_content": null,
            "justify_items": null,
            "left": null,
            "margin": null,
            "max_height": null,
            "max_width": null,
            "min_height": null,
            "min_width": null,
            "object_fit": null,
            "object_position": null,
            "order": null,
            "overflow": null,
            "overflow_x": null,
            "overflow_y": null,
            "padding": null,
            "right": null,
            "top": null,
            "visibility": null,
            "width": null
          }
        },
        "3515763b47e041c89f96f2f18221b3d5": {
          "model_module": "@jupyter-widgets/controls",
          "model_name": "DescriptionStyleModel",
          "model_module_version": "1.5.0",
          "state": {
            "_model_module": "@jupyter-widgets/controls",
            "_model_module_version": "1.5.0",
            "_model_name": "DescriptionStyleModel",
            "_view_count": null,
            "_view_module": "@jupyter-widgets/base",
            "_view_module_version": "1.2.0",
            "_view_name": "StyleView",
            "description_width": ""
          }
        },
        "43d43ca88ae04910b3a15623f56e7177": {
          "model_module": "@jupyter-widgets/base",
          "model_name": "LayoutModel",
          "model_module_version": "1.2.0",
          "state": {
            "_model_module": "@jupyter-widgets/base",
            "_model_module_version": "1.2.0",
            "_model_name": "LayoutModel",
            "_view_count": null,
            "_view_module": "@jupyter-widgets/base",
            "_view_module_version": "1.2.0",
            "_view_name": "LayoutView",
            "align_content": null,
            "align_items": null,
            "align_self": null,
            "border": null,
            "bottom": null,
            "display": null,
            "flex": null,
            "flex_flow": null,
            "grid_area": null,
            "grid_auto_columns": null,
            "grid_auto_flow": null,
            "grid_auto_rows": null,
            "grid_column": null,
            "grid_gap": null,
            "grid_row": null,
            "grid_template_areas": null,
            "grid_template_columns": null,
            "grid_template_rows": null,
            "height": null,
            "justify_content": null,
            "justify_items": null,
            "left": null,
            "margin": null,
            "max_height": null,
            "max_width": null,
            "min_height": null,
            "min_width": null,
            "object_fit": null,
            "object_position": null,
            "order": null,
            "overflow": null,
            "overflow_x": null,
            "overflow_y": null,
            "padding": null,
            "right": null,
            "top": null,
            "visibility": null,
            "width": null
          }
        },
        "8dc76ba4f2974b4ea5042e0bc2f28b88": {
          "model_module": "@jupyter-widgets/controls",
          "model_name": "ProgressStyleModel",
          "model_module_version": "1.5.0",
          "state": {
            "_model_module": "@jupyter-widgets/controls",
            "_model_module_version": "1.5.0",
            "_model_name": "ProgressStyleModel",
            "_view_count": null,
            "_view_module": "@jupyter-widgets/base",
            "_view_module_version": "1.2.0",
            "_view_name": "StyleView",
            "bar_color": null,
            "description_width": ""
          }
        },
        "afbf9979c6a94b76bfae06d6ac1f0b70": {
          "model_module": "@jupyter-widgets/base",
          "model_name": "LayoutModel",
          "model_module_version": "1.2.0",
          "state": {
            "_model_module": "@jupyter-widgets/base",
            "_model_module_version": "1.2.0",
            "_model_name": "LayoutModel",
            "_view_count": null,
            "_view_module": "@jupyter-widgets/base",
            "_view_module_version": "1.2.0",
            "_view_name": "LayoutView",
            "align_content": null,
            "align_items": null,
            "align_self": null,
            "border": null,
            "bottom": null,
            "display": null,
            "flex": null,
            "flex_flow": null,
            "grid_area": null,
            "grid_auto_columns": null,
            "grid_auto_flow": null,
            "grid_auto_rows": null,
            "grid_column": null,
            "grid_gap": null,
            "grid_row": null,
            "grid_template_areas": null,
            "grid_template_columns": null,
            "grid_template_rows": null,
            "height": null,
            "justify_content": null,
            "justify_items": null,
            "left": null,
            "margin": null,
            "max_height": null,
            "max_width": null,
            "min_height": null,
            "min_width": null,
            "object_fit": null,
            "object_position": null,
            "order": null,
            "overflow": null,
            "overflow_x": null,
            "overflow_y": null,
            "padding": null,
            "right": null,
            "top": null,
            "visibility": null,
            "width": null
          }
        },
        "6ce3f5eac96a47f6bfbf2741bcb13568": {
          "model_module": "@jupyter-widgets/controls",
          "model_name": "DescriptionStyleModel",
          "model_module_version": "1.5.0",
          "state": {
            "_model_module": "@jupyter-widgets/controls",
            "_model_module_version": "1.5.0",
            "_model_name": "DescriptionStyleModel",
            "_view_count": null,
            "_view_module": "@jupyter-widgets/base",
            "_view_module_version": "1.2.0",
            "_view_name": "StyleView",
            "description_width": ""
          }
        },
        "2a52d2cc217c44b2ac88be810af7ca06": {
          "model_module": "@jupyter-widgets/controls",
          "model_name": "HBoxModel",
          "model_module_version": "1.5.0",
          "state": {
            "_dom_classes": [],
            "_model_module": "@jupyter-widgets/controls",
            "_model_module_version": "1.5.0",
            "_model_name": "HBoxModel",
            "_view_count": null,
            "_view_module": "@jupyter-widgets/controls",
            "_view_module_version": "1.5.0",
            "_view_name": "HBoxView",
            "box_style": "",
            "children": [
              "IPY_MODEL_abfb0c2bb5414a3c83fcd354d7d28dff",
              "IPY_MODEL_7c515bf1c50d40059011ad172c3fea86",
              "IPY_MODEL_61f0dc7ca00a48bfad8856d1e646e338"
            ],
            "layout": "IPY_MODEL_932593d204d748fbaac6947238d5eb46"
          }
        },
        "abfb0c2bb5414a3c83fcd354d7d28dff": {
          "model_module": "@jupyter-widgets/controls",
          "model_name": "HTMLModel",
          "model_module_version": "1.5.0",
          "state": {
            "_dom_classes": [],
            "_model_module": "@jupyter-widgets/controls",
            "_model_module_version": "1.5.0",
            "_model_name": "HTMLModel",
            "_view_count": null,
            "_view_module": "@jupyter-widgets/controls",
            "_view_module_version": "1.5.0",
            "_view_name": "HTMLView",
            "description": "",
            "description_tooltip": null,
            "layout": "IPY_MODEL_65b62f01aeec4eb5a5bcb248dd9e497e",
            "placeholder": "​",
            "style": "IPY_MODEL_eb574468062646e7b38a22bafbcad595",
            "value": "100%"
          }
        },
        "7c515bf1c50d40059011ad172c3fea86": {
          "model_module": "@jupyter-widgets/controls",
          "model_name": "FloatProgressModel",
          "model_module_version": "1.5.0",
          "state": {
            "_dom_classes": [],
            "_model_module": "@jupyter-widgets/controls",
            "_model_module_version": "1.5.0",
            "_model_name": "FloatProgressModel",
            "_view_count": null,
            "_view_module": "@jupyter-widgets/controls",
            "_view_module_version": "1.5.0",
            "_view_name": "ProgressView",
            "bar_style": "success",
            "description": "",
            "description_tooltip": null,
            "layout": "IPY_MODEL_b9d39ae6e92540e99af6f65304d2d767",
            "max": 3,
            "min": 0,
            "orientation": "horizontal",
            "style": "IPY_MODEL_3a0595be78a94e409227f3a542adeedd",
            "value": 3
          }
        },
        "61f0dc7ca00a48bfad8856d1e646e338": {
          "model_module": "@jupyter-widgets/controls",
          "model_name": "HTMLModel",
          "model_module_version": "1.5.0",
          "state": {
            "_dom_classes": [],
            "_model_module": "@jupyter-widgets/controls",
            "_model_module_version": "1.5.0",
            "_model_name": "HTMLModel",
            "_view_count": null,
            "_view_module": "@jupyter-widgets/controls",
            "_view_module_version": "1.5.0",
            "_view_name": "HTMLView",
            "description": "",
            "description_tooltip": null,
            "layout": "IPY_MODEL_bccf61f57b0e4058a7a0a2e42365246f",
            "placeholder": "​",
            "style": "IPY_MODEL_d48f34355f464cd3bbf481269a8482f6",
            "value": " 3/3 [00:00&lt;00:00, 33.47it/s]"
          }
        },
        "932593d204d748fbaac6947238d5eb46": {
          "model_module": "@jupyter-widgets/base",
          "model_name": "LayoutModel",
          "model_module_version": "1.2.0",
          "state": {
            "_model_module": "@jupyter-widgets/base",
            "_model_module_version": "1.2.0",
            "_model_name": "LayoutModel",
            "_view_count": null,
            "_view_module": "@jupyter-widgets/base",
            "_view_module_version": "1.2.0",
            "_view_name": "LayoutView",
            "align_content": null,
            "align_items": null,
            "align_self": null,
            "border": null,
            "bottom": null,
            "display": null,
            "flex": null,
            "flex_flow": null,
            "grid_area": null,
            "grid_auto_columns": null,
            "grid_auto_flow": null,
            "grid_auto_rows": null,
            "grid_column": null,
            "grid_gap": null,
            "grid_row": null,
            "grid_template_areas": null,
            "grid_template_columns": null,
            "grid_template_rows": null,
            "height": null,
            "justify_content": null,
            "justify_items": null,
            "left": null,
            "margin": null,
            "max_height": null,
            "max_width": null,
            "min_height": null,
            "min_width": null,
            "object_fit": null,
            "object_position": null,
            "order": null,
            "overflow": null,
            "overflow_x": null,
            "overflow_y": null,
            "padding": null,
            "right": null,
            "top": null,
            "visibility": null,
            "width": null
          }
        },
        "65b62f01aeec4eb5a5bcb248dd9e497e": {
          "model_module": "@jupyter-widgets/base",
          "model_name": "LayoutModel",
          "model_module_version": "1.2.0",
          "state": {
            "_model_module": "@jupyter-widgets/base",
            "_model_module_version": "1.2.0",
            "_model_name": "LayoutModel",
            "_view_count": null,
            "_view_module": "@jupyter-widgets/base",
            "_view_module_version": "1.2.0",
            "_view_name": "LayoutView",
            "align_content": null,
            "align_items": null,
            "align_self": null,
            "border": null,
            "bottom": null,
            "display": null,
            "flex": null,
            "flex_flow": null,
            "grid_area": null,
            "grid_auto_columns": null,
            "grid_auto_flow": null,
            "grid_auto_rows": null,
            "grid_column": null,
            "grid_gap": null,
            "grid_row": null,
            "grid_template_areas": null,
            "grid_template_columns": null,
            "grid_template_rows": null,
            "height": null,
            "justify_content": null,
            "justify_items": null,
            "left": null,
            "margin": null,
            "max_height": null,
            "max_width": null,
            "min_height": null,
            "min_width": null,
            "object_fit": null,
            "object_position": null,
            "order": null,
            "overflow": null,
            "overflow_x": null,
            "overflow_y": null,
            "padding": null,
            "right": null,
            "top": null,
            "visibility": null,
            "width": null
          }
        },
        "eb574468062646e7b38a22bafbcad595": {
          "model_module": "@jupyter-widgets/controls",
          "model_name": "DescriptionStyleModel",
          "model_module_version": "1.5.0",
          "state": {
            "_model_module": "@jupyter-widgets/controls",
            "_model_module_version": "1.5.0",
            "_model_name": "DescriptionStyleModel",
            "_view_count": null,
            "_view_module": "@jupyter-widgets/base",
            "_view_module_version": "1.2.0",
            "_view_name": "StyleView",
            "description_width": ""
          }
        },
        "b9d39ae6e92540e99af6f65304d2d767": {
          "model_module": "@jupyter-widgets/base",
          "model_name": "LayoutModel",
          "model_module_version": "1.2.0",
          "state": {
            "_model_module": "@jupyter-widgets/base",
            "_model_module_version": "1.2.0",
            "_model_name": "LayoutModel",
            "_view_count": null,
            "_view_module": "@jupyter-widgets/base",
            "_view_module_version": "1.2.0",
            "_view_name": "LayoutView",
            "align_content": null,
            "align_items": null,
            "align_self": null,
            "border": null,
            "bottom": null,
            "display": null,
            "flex": null,
            "flex_flow": null,
            "grid_area": null,
            "grid_auto_columns": null,
            "grid_auto_flow": null,
            "grid_auto_rows": null,
            "grid_column": null,
            "grid_gap": null,
            "grid_row": null,
            "grid_template_areas": null,
            "grid_template_columns": null,
            "grid_template_rows": null,
            "height": null,
            "justify_content": null,
            "justify_items": null,
            "left": null,
            "margin": null,
            "max_height": null,
            "max_width": null,
            "min_height": null,
            "min_width": null,
            "object_fit": null,
            "object_position": null,
            "order": null,
            "overflow": null,
            "overflow_x": null,
            "overflow_y": null,
            "padding": null,
            "right": null,
            "top": null,
            "visibility": null,
            "width": null
          }
        },
        "3a0595be78a94e409227f3a542adeedd": {
          "model_module": "@jupyter-widgets/controls",
          "model_name": "ProgressStyleModel",
          "model_module_version": "1.5.0",
          "state": {
            "_model_module": "@jupyter-widgets/controls",
            "_model_module_version": "1.5.0",
            "_model_name": "ProgressStyleModel",
            "_view_count": null,
            "_view_module": "@jupyter-widgets/base",
            "_view_module_version": "1.2.0",
            "_view_name": "StyleView",
            "bar_color": null,
            "description_width": ""
          }
        },
        "bccf61f57b0e4058a7a0a2e42365246f": {
          "model_module": "@jupyter-widgets/base",
          "model_name": "LayoutModel",
          "model_module_version": "1.2.0",
          "state": {
            "_model_module": "@jupyter-widgets/base",
            "_model_module_version": "1.2.0",
            "_model_name": "LayoutModel",
            "_view_count": null,
            "_view_module": "@jupyter-widgets/base",
            "_view_module_version": "1.2.0",
            "_view_name": "LayoutView",
            "align_content": null,
            "align_items": null,
            "align_self": null,
            "border": null,
            "bottom": null,
            "display": null,
            "flex": null,
            "flex_flow": null,
            "grid_area": null,
            "grid_auto_columns": null,
            "grid_auto_flow": null,
            "grid_auto_rows": null,
            "grid_column": null,
            "grid_gap": null,
            "grid_row": null,
            "grid_template_areas": null,
            "grid_template_columns": null,
            "grid_template_rows": null,
            "height": null,
            "justify_content": null,
            "justify_items": null,
            "left": null,
            "margin": null,
            "max_height": null,
            "max_width": null,
            "min_height": null,
            "min_width": null,
            "object_fit": null,
            "object_position": null,
            "order": null,
            "overflow": null,
            "overflow_x": null,
            "overflow_y": null,
            "padding": null,
            "right": null,
            "top": null,
            "visibility": null,
            "width": null
          }
        },
        "d48f34355f464cd3bbf481269a8482f6": {
          "model_module": "@jupyter-widgets/controls",
          "model_name": "DescriptionStyleModel",
          "model_module_version": "1.5.0",
          "state": {
            "_model_module": "@jupyter-widgets/controls",
            "_model_module_version": "1.5.0",
            "_model_name": "DescriptionStyleModel",
            "_view_count": null,
            "_view_module": "@jupyter-widgets/base",
            "_view_module_version": "1.2.0",
            "_view_name": "StyleView",
            "description_width": ""
          }
        }
      }
    },
    "gpuClass": "standard"
  },
  "nbformat": 4,
  "nbformat_minor": 5
}