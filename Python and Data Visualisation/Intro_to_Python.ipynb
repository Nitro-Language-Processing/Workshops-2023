{
  "nbformat": 4,
  "nbformat_minor": 0,
  "metadata": {
    "colab": {
      "provenance": []
    },
    "kernelspec": {
      "name": "python3",
      "display_name": "Python 3"
    },
    "language_info": {
      "name": "python"
    }
  },
  "cells": [
    {
      "cell_type": "markdown",
      "source": [
        "# Introducere în Python"
      ],
      "metadata": {
        "id": "b47E7k5mdXr0"
      }
    },
    {
      "cell_type": "markdown",
      "source": [
        "## Informații generale"
      ],
      "metadata": {
        "id": "lsgprG9wd3Hy"
      }
    },
    {
      "cell_type": "markdown",
      "source": [
        "Toate variabilele din Python sunt considerate obiecte:"
      ],
      "metadata": {
        "id": "iPEvybcFde9l"
      }
    },
    {
      "cell_type": "code",
      "source": [
        "my_int = 1\n",
        "my_float = 2.0\n",
        "my_string = \"my string\"\n",
        "my_bool = True"
      ],
      "metadata": {
        "id": "wAQwBwyCdb6j"
      },
      "execution_count": null,
      "outputs": []
    },
    {
      "cell_type": "markdown",
      "source": [
        "Putem afisa folosind functia print():"
      ],
      "metadata": {
        "id": "DA-swy02dh3S"
      }
    },
    {
      "cell_type": "code",
      "source": [
        "print(my_int)\n",
        "print('nlp')\n",
        "print(13)\n",
        "print('----------------')"
      ],
      "metadata": {
        "colab": {
          "base_uri": "https://localhost:8080/"
        },
        "id": "-tRglPpvdkQv",
        "outputId": "1c99687e-e769-40a8-89c4-7e25ff3a8aa7"
      },
      "execution_count": null,
      "outputs": [
        {
          "output_type": "stream",
          "name": "stdout",
          "text": [
            "1\n",
            "nlp\n",
            "13\n",
            "----------------\n"
          ]
        }
      ]
    },
    {
      "cell_type": "markdown",
      "source": [
        "Fiecare obiect are un tip, chiar dacă nu trebuie declarat:"
      ],
      "metadata": {
        "id": "4kC4iv8adnzG"
      }
    },
    {
      "cell_type": "code",
      "source": [
        "print(f\"{my_int} - {type(my_int)}\")\n",
        "print(f\"{my_float} - {type(my_float)}\")\n",
        "print(f\"{my_string} - {type(my_string)}\")\n",
        "print(f\"{my_bool} - {type(my_bool)}\")"
      ],
      "metadata": {
        "colab": {
          "base_uri": "https://localhost:8080/"
        },
        "id": "dXbZ6gwFdsee",
        "outputId": "f83a6378-877c-43cd-c127-87df771b4989"
      },
      "execution_count": null,
      "outputs": [
        {
          "output_type": "stream",
          "name": "stdout",
          "text": [
            "1 - <class 'int'>\n",
            "2.0 - <class 'float'>\n",
            "my string - <class 'str'>\n",
            "True - <class 'bool'>\n"
          ]
        }
      ]
    },
    {
      "cell_type": "markdown",
      "source": [
        "Litera 'f' inaintea unui string formateaza acel string si permite scrierea valorilor unor variabile.\n",
        "\n",
        "De exemplu: a scrie f\"{a} + {b} = {a + b}\" este echivalent cu a scrie str(a) + \" \" + str(b) + \" = \" + str(a + b)\n",
        "\n",
        "Unde str() converteste variabilele din tipul lor in string"
      ],
      "metadata": {
        "id": "iJh9pnLodvct"
      }
    },
    {
      "cell_type": "markdown",
      "source": [
        "## Sintaxă"
      ],
      "metadata": {
        "id": "xuRRq1c6fQFx"
      }
    },
    {
      "cell_type": "markdown",
      "source": [
        "Operatorii sunt similari cu cei din majoritatea limbajelor de programare:"
      ],
      "metadata": {
        "id": "jCefFPRNfWQ2"
      }
    },
    {
      "cell_type": "code",
      "source": [
        "a = 5\n",
        "b = 2\n",
        "\n",
        "print(f\"{a} + {b} = {a + b}\")\n",
        "print(f\"{a} - {b} = {a - b}\")\n",
        "print(f\"{a} * {b} = {a * b}\")\n",
        "print(f\"{a} / {b} = {a / b}\")\n",
        "print(f\"{a} % {b} = {a % b}\")"
      ],
      "metadata": {
        "colab": {
          "base_uri": "https://localhost:8080/"
        },
        "id": "vLuhQFkffRoR",
        "outputId": "a78be330-4303-4be6-edfe-5c9916e9ac16"
      },
      "execution_count": null,
      "outputs": [
        {
          "output_type": "stream",
          "name": "stdout",
          "text": [
            "5 + 2 = 7\n",
            "5 - 2 = 3\n",
            "5 * 2 = 10\n",
            "5 / 2 = 2.5\n",
            "5 % 2 = 1\n"
          ]
        }
      ]
    },
    {
      "cell_type": "markdown",
      "source": [
        "Avem, în plus, ridicarea la putere și împărțirea întreagă:"
      ],
      "metadata": {
        "id": "6P2i6re2fgpA"
      }
    },
    {
      "cell_type": "code",
      "source": [
        "print(f\"{a} ** {b} = {a ** b}\")\n",
        "print(f\"{a} // {b} = {a // b}\")"
      ],
      "metadata": {
        "colab": {
          "base_uri": "https://localhost:8080/"
        },
        "id": "vnM2gdtAflPd",
        "outputId": "d9b13f07-fe66-45d9-e2e4-35fe796d70e4"
      },
      "execution_count": null,
      "outputs": [
        {
          "output_type": "stream",
          "name": "stdout",
          "text": [
            "5 ** 2 = 25\n",
            "5 // 2 = 2\n"
          ]
        }
      ]
    },
    {
      "cell_type": "markdown",
      "source": [
        "Indentarea este foarte importantă. În locul acoladelor din C++, aici avem sintagme de forma:"
      ],
      "metadata": {
        "id": "0gNDWY4RfoP2"
      }
    },
    {
      "cell_type": "code",
      "source": [
        "if a % 3 == 0:\n",
        "  print(\"Restul 0\")"
      ],
      "metadata": {
        "id": "ZMn0ZD-7fnn-"
      },
      "execution_count": null,
      "outputs": []
    },
    {
      "cell_type": "markdown",
      "source": [
        "Desigur, putem avea mai multe cazuri:"
      ],
      "metadata": {
        "id": "E6oK2VLAf7uN"
      }
    },
    {
      "cell_type": "code",
      "source": [
        "if a % 3 == 0:\n",
        "  print(\"Restul 0\")\n",
        "elif a % 3 == 1:\n",
        "  print(\"Restul 1\")\n",
        "else:\n",
        "  print(\"Restul 2\")"
      ],
      "metadata": {
        "colab": {
          "base_uri": "https://localhost:8080/"
        },
        "id": "Fny2fSFLf_Pc",
        "outputId": "d54da39c-b25d-45ee-e990-f59896b1a0ff"
      },
      "execution_count": null,
      "outputs": [
        {
          "output_type": "stream",
          "name": "stdout",
          "text": [
            "Restul 2\n"
          ]
        }
      ]
    },
    {
      "cell_type": "markdown",
      "source": [
        "## Operații repetitive"
      ],
      "metadata": {
        "id": "xWnracgZg1a9"
      }
    },
    {
      "cell_type": "markdown",
      "source": [
        "### Cu număr cunoscut de pași (for)"
      ],
      "metadata": {
        "id": "smLKPcJOh2mf"
      }
    },
    {
      "cell_type": "code",
      "source": [
        "for i in range(4, 10):\n",
        "  print(i)"
      ],
      "metadata": {
        "colab": {
          "base_uri": "https://localhost:8080/"
        },
        "id": "cYyTLX_shITt",
        "outputId": "d8d153f4-8806-49a0-8707-99fa9556142a"
      },
      "execution_count": null,
      "outputs": [
        {
          "output_type": "stream",
          "name": "stdout",
          "text": [
            "4\n",
            "5\n",
            "6\n",
            "7\n",
            "8\n",
            "9\n"
          ]
        }
      ]
    },
    {
      "cell_type": "markdown",
      "source": [
        "Observați utilizarea funcției _range_ pentru a stabili intervalul. Aceasta are ca parametri _start_, _end_ și _step_ (default 1) și iterează de la start până la end - 1.\n",
        "\n",
        "Pentru a itera descrescător, putem porni de la un _start_ mai mare decât _end_ cu pas negativ (aici -1):"
      ],
      "metadata": {
        "id": "Ubd-kpeBhMPp"
      }
    },
    {
      "cell_type": "code",
      "source": [
        "for i in range(10, 4, -1):\n",
        "  print(i)"
      ],
      "metadata": {
        "colab": {
          "base_uri": "https://localhost:8080/"
        },
        "id": "ApfSdSBQhlO1",
        "outputId": "eaf83524-2049-4ddd-db8d-a147d4823137"
      },
      "execution_count": null,
      "outputs": [
        {
          "output_type": "stream",
          "name": "stdout",
          "text": [
            "10\n",
            "9\n",
            "8\n",
            "7\n",
            "6\n",
            "5\n"
          ]
        }
      ]
    },
    {
      "cell_type": "markdown",
      "source": [
        "### Cu număr necunoscut de pași (while)"
      ],
      "metadata": {
        "id": "xbYt1I0phyru"
      }
    },
    {
      "cell_type": "code",
      "source": [
        "i = 4\n",
        "while i < 10:\n",
        "  print(i)\n",
        "  i += 1"
      ],
      "metadata": {
        "colab": {
          "base_uri": "https://localhost:8080/"
        },
        "id": "whacI4BMiDVz",
        "outputId": "2a5b1255-14d8-41aa-fa67-c35bb825c60e"
      },
      "execution_count": null,
      "outputs": [
        {
          "output_type": "stream",
          "name": "stdout",
          "text": [
            "4\n",
            "5\n",
            "6\n",
            "7\n",
            "8\n",
            "9\n"
          ]
        }
      ]
    },
    {
      "cell_type": "markdown",
      "source": [
        "Python nu are definită instrucțiunea _do ... while_, dar aceasta poate fi simulată:"
      ],
      "metadata": {
        "id": "repiaHKthqxx"
      }
    },
    {
      "cell_type": "code",
      "source": [
        "i = 4\n",
        "while True:\n",
        "  print(i)\n",
        "  i += 1\n",
        "\n",
        "  if i >= 10:\n",
        "    break"
      ],
      "metadata": {
        "colab": {
          "base_uri": "https://localhost:8080/"
        },
        "id": "TC4tcDyIiR9l",
        "outputId": "11dfc4c0-ace8-44fd-83f1-b98df7401594"
      },
      "execution_count": null,
      "outputs": [
        {
          "output_type": "stream",
          "name": "stdout",
          "text": [
            "4\n",
            "5\n",
            "6\n",
            "7\n",
            "8\n",
            "9\n"
          ]
        }
      ]
    },
    {
      "cell_type": "markdown",
      "source": [
        "## Operații cu șiruri de caractere"
      ],
      "metadata": {
        "id": "XfBk3T8dyBHw"
      }
    },
    {
      "cell_type": "markdown",
      "source": [
        "Șirurile de caractere se scriu între ghilimele sau apostrof (de exemplu \"sir\").\n",
        "\n",
        "Putem scrie un șir pe mai multe rânduri daca folosim 3 apostrofuri sau 3 ghilimele la inceput și la finalul lui.\n",
        "\n",
        "**Atenție:** dacă am deschis șirul cu apostrof sau ghlimele trebuie să îl închidem cu același tip de semn!\n",
        "\n",
        "Putem accesa caracterele unui șir direct prin indici. Șirurile sunt immutable, așadar putem accesa un caracter prin indice, dar nu îl putem modifica. Prin urmare, metodele șirurilor nu modifică șirul pe care se aplică ci returnează un șir nou.\n"
      ],
      "metadata": {
        "id": "dm1xM5o_yHmq"
      }
    },
    {
      "cell_type": "markdown",
      "source": [
        "Dacă adunăm două șiruri obținem concatenarea lor:"
      ],
      "metadata": {
        "id": "Wr7CcQOGyJ0k"
      }
    },
    {
      "cell_type": "code",
      "source": [
        "\"py\" + \"thon\""
      ],
      "metadata": {
        "colab": {
          "base_uri": "https://localhost:8080/",
          "height": 36
        },
        "id": "OpbpwUvByLdz",
        "outputId": "25a938f4-caa9-465b-e5ca-17897ace2ff7"
      },
      "execution_count": null,
      "outputs": [
        {
          "output_type": "execute_result",
          "data": {
            "text/plain": [
              "'python'"
            ],
            "application/vnd.google.colaboratory.intrinsic+json": {
              "type": "string"
            }
          },
          "metadata": {},
          "execution_count": 1
        }
      ]
    },
    {
      "cell_type": "markdown",
      "source": [
        "Dacă înmulțim un șir cu un număr n, obținem un șir nou în care se repetă șirul inițial de n ori:"
      ],
      "metadata": {
        "id": "ijtiw-GGyN-4"
      }
    },
    {
      "cell_type": "code",
      "source": [
        "\"abc\" * 5"
      ],
      "metadata": {
        "colab": {
          "base_uri": "https://localhost:8080/",
          "height": 36
        },
        "id": "r6W16qWjyNSK",
        "outputId": "5b0b78ef-b337-47e7-9c85-912d60a346c9"
      },
      "execution_count": null,
      "outputs": [
        {
          "output_type": "execute_result",
          "data": {
            "text/plain": [
              "'abcabcabcabcabc'"
            ],
            "application/vnd.google.colaboratory.intrinsic+json": {
              "type": "string"
            }
          },
          "metadata": {},
          "execution_count": 2
        }
      ]
    },
    {
      "cell_type": "markdown",
      "source": [
        "Putem concatena elementele unei liste de șiruri de caractere folosind funcția _join_:"
      ],
      "metadata": {
        "id": "9qrVAV9F5mCe"
      }
    },
    {
      "cell_type": "code",
      "source": [
        "\"->\".join(['a', 'b', 'c'])"
      ],
      "metadata": {
        "id": "Me7_1AUS5pId"
      },
      "execution_count": null,
      "outputs": []
    },
    {
      "cell_type": "markdown",
      "source": [
        "### Metode utile"
      ],
      "metadata": {
        "id": "NYTV7jcVyShr"
      }
    },
    {
      "cell_type": "markdown",
      "source": [
        "Eliminarea spațiilor din capete:"
      ],
      "metadata": {
        "id": "QbJxW5kHyl8N"
      }
    },
    {
      "cell_type": "code",
      "source": [
        "sir = \" abc \""
      ],
      "metadata": {
        "id": "E-qPXG-lyn8G"
      },
      "execution_count": null,
      "outputs": []
    },
    {
      "cell_type": "code",
      "source": [
        "sir.lstrip()"
      ],
      "metadata": {
        "colab": {
          "base_uri": "https://localhost:8080/",
          "height": 36
        },
        "id": "ILqPu8TkyrI6",
        "outputId": "ebdc9ffa-bda2-42e6-f20b-7ebec7667d38"
      },
      "execution_count": null,
      "outputs": [
        {
          "output_type": "execute_result",
          "data": {
            "text/plain": [
              "'abc '"
            ],
            "application/vnd.google.colaboratory.intrinsic+json": {
              "type": "string"
            }
          },
          "metadata": {},
          "execution_count": 4
        }
      ]
    },
    {
      "cell_type": "code",
      "source": [
        "sir.rstrip()"
      ],
      "metadata": {
        "colab": {
          "base_uri": "https://localhost:8080/",
          "height": 36
        },
        "id": "URJhjf_TytRn",
        "outputId": "f92a953d-e2b1-4a43-dff4-aae22204954a"
      },
      "execution_count": null,
      "outputs": [
        {
          "output_type": "execute_result",
          "data": {
            "text/plain": [
              "' abc'"
            ],
            "application/vnd.google.colaboratory.intrinsic+json": {
              "type": "string"
            }
          },
          "metadata": {},
          "execution_count": 5
        }
      ]
    },
    {
      "cell_type": "code",
      "source": [
        "sir.strip()"
      ],
      "metadata": {
        "colab": {
          "base_uri": "https://localhost:8080/",
          "height": 36
        },
        "id": "g8iidtzvywzb",
        "outputId": "b0337e85-000d-439c-ea35-0a0022134875"
      },
      "execution_count": null,
      "outputs": [
        {
          "output_type": "execute_result",
          "data": {
            "text/plain": [
              "'abc'"
            ],
            "application/vnd.google.colaboratory.intrinsic+json": {
              "type": "string"
            }
          },
          "metadata": {},
          "execution_count": 6
        }
      ]
    },
    {
      "cell_type": "markdown",
      "source": [
        "Creează o listă cu subșirurile șirului inițial"
      ],
      "metadata": {
        "id": "N-NZWjKyy5e0"
      }
    },
    {
      "cell_type": "code",
      "source": [
        "\"ab#cd#efgh#\".split(\"#\")"
      ],
      "metadata": {
        "colab": {
          "base_uri": "https://localhost:8080/"
        },
        "id": "Csvd73G4yxSU",
        "outputId": "a7469c9f-1681-4006-e8eb-6ecf31517697"
      },
      "execution_count": null,
      "outputs": [
        {
          "output_type": "execute_result",
          "data": {
            "text/plain": [
              "['ab', 'cd', 'efgh', '']"
            ]
          },
          "metadata": {},
          "execution_count": 7
        }
      ]
    },
    {
      "cell_type": "markdown",
      "source": [
        "## Operații cu liste"
      ],
      "metadata": {
        "id": "BxDyG1QczAEy"
      }
    },
    {
      "cell_type": "markdown",
      "source": [
        "Listele sunt seturi ordonate de elemente și se enumeră între paranteze pătrate.\n",
        "\n",
        "Dacă adunăm două liste obținem concatenarea lor:"
      ],
      "metadata": {
        "id": "z4fa9m-rzDJG"
      }
    },
    {
      "cell_type": "code",
      "source": [
        "[1,2] + [3,4]"
      ],
      "metadata": {
        "colab": {
          "base_uri": "https://localhost:8080/"
        },
        "id": "PgY8UAysy74J",
        "outputId": "4417cdcc-defa-4320-d404-18635390c1c3"
      },
      "execution_count": null,
      "outputs": [
        {
          "output_type": "execute_result",
          "data": {
            "text/plain": [
              "[1, 2, 3, 4]"
            ]
          },
          "metadata": {},
          "execution_count": 8
        }
      ]
    },
    {
      "cell_type": "markdown",
      "source": [
        "Dacă înmulțim o listă cu un număr n, obținem o listă nouă în care se repetă șirul inițial de n ori:"
      ],
      "metadata": {
        "id": "FcvIEvhNzF3h"
      }
    },
    {
      "cell_type": "code",
      "source": [
        "[1,2] * 4"
      ],
      "metadata": {
        "colab": {
          "base_uri": "https://localhost:8080/"
        },
        "id": "99hI4LZEzHSU",
        "outputId": "bfb7e9e5-7ffc-4d44-c2ed-e4e3f93fd5a6"
      },
      "execution_count": null,
      "outputs": [
        {
          "output_type": "execute_result",
          "data": {
            "text/plain": [
              "[1, 2, 1, 2, 1, 2, 1, 2]"
            ]
          },
          "metadata": {},
          "execution_count": 9
        }
      ]
    },
    {
      "cell_type": "markdown",
      "source": [
        "### Crearea unei liste"
      ],
      "metadata": {
        "id": "APnKJaPnzMcO"
      }
    },
    {
      "cell_type": "markdown",
      "source": [
        "Se enumeră elementele între paranteze drepte, sau se folosește constructorul list care primește un obiect prin care se poate itera (precum un sir de caractere)"
      ],
      "metadata": {
        "id": "D323R66OzTgJ"
      }
    },
    {
      "cell_type": "code",
      "source": [
        "l1 = [1,2,3]\n",
        "l2 = list(\"abc\")\n",
        "print(l1)\n",
        "print(l2)"
      ],
      "metadata": {
        "colab": {
          "base_uri": "https://localhost:8080/"
        },
        "id": "OYpMj74ezV97",
        "outputId": "2601f3ad-4b58-4ab7-e7c7-eee68872ed72"
      },
      "execution_count": null,
      "outputs": [
        {
          "output_type": "stream",
          "name": "stdout",
          "text": [
            "[1, 2, 3]\n",
            "['a', 'b', 'c']\n"
          ]
        }
      ]
    },
    {
      "cell_type": "markdown",
      "source": [
        "### Lungimea unei liste"
      ],
      "metadata": {
        "id": "EfB-NNklzdZi"
      }
    },
    {
      "cell_type": "markdown",
      "source": [
        "Lungimea unei liste se calculează cu _len(lista)_. De exemplu:"
      ],
      "metadata": {
        "id": "jKRBtFZQzhCP"
      }
    },
    {
      "cell_type": "code",
      "source": [
        "len([10, 5, 1])"
      ],
      "metadata": {
        "colab": {
          "base_uri": "https://localhost:8080/"
        },
        "id": "bHc7TuY8iSRX",
        "outputId": "bfffada1-1a1c-4dce-9c96-1ff499b5f822"
      },
      "execution_count": null,
      "outputs": [
        {
          "output_type": "execute_result",
          "data": {
            "text/plain": [
              "3"
            ]
          },
          "metadata": {},
          "execution_count": 15
        }
      ]
    },
    {
      "cell_type": "markdown",
      "source": [
        "### Indicii unei liste"
      ],
      "metadata": {
        "id": "ZGiVbtl7ziFK"
      }
    },
    {
      "cell_type": "markdown",
      "source": [
        "Indicii unei liste încep de la 0. Pentru lista _l = [10,5,1]_, _l[0]_ este 10, iar _l[2]_ este 1.\n",
        "\n",
        "Putem folosi și indici negativi. Indicii negativi îi putem considera pornind de la drepta spre stânga începând cu -1, și tot avansând cu 1 spre stânga.\n",
        "\n",
        "De exemplu, pentru lista de mai sus, _l[-1]_ este 1, _l[-2]_ este 5 și _l[-3]_ este 10."
      ],
      "metadata": {
        "id": "_F47D6ExzlYR"
      }
    },
    {
      "cell_type": "markdown",
      "source": [
        "### Subliste"
      ],
      "metadata": {
        "id": "fi7yKrSRznrn"
      }
    },
    {
      "cell_type": "markdown",
      "source": [
        "Pentru a obține o sublistă dintr-o listă putem folosi notația _l[inidiceStart:indiceFinal]_ care va oferi sublista cu elementele din lista inițială cuprinse între pozițiile _indiceStart_ inclusiv și _indiceFinal_ exclusiv.\n",
        "\n",
        "Dacă dorim un mod de parcurgere a listei diferit de cel implicit, pentru a crea sublista, putem adăuga și parametrul de iterare: _l[inidiceStart:indiceFinal:iterator]_.\n",
        "\n",
        "Astfel se va porni de la indicele de Start, punând elementul corespunzător în sublistă, si la _indiceStart_ se va aduna apoi iteratorul, generând urmatorul element din sublistă. Procedeul se va repeta până se ajunge la un indice mai mare sau egal cu indicele final (pentru această ultimă valoare care depășește limita dată de indicele final nu se mai generează element în sublistă).\n",
        "\n",
        "Oricare dintre cele trei argumente ale scrierilor _l[inidiceStart:indiceFinal]_ și _l[inidiceStart:indiceFinal:iterator]_ poate lipsi, caz în care se iau valorile implicite - _indiceStart_ ia valoarea 0, _indiceFinal_ ia lungimea listei și iteratorul devine 1.\n",
        "\n",
        "Exemple de utilizări ale acestor scrieri:"
      ],
      "metadata": {
        "id": "a_pkDI6yzpKo"
      }
    },
    {
      "cell_type": "code",
      "source": [
        "l = list(range(10))\n",
        "l"
      ],
      "metadata": {
        "colab": {
          "base_uri": "https://localhost:8080/"
        },
        "id": "_DZH2BW-zbGC",
        "outputId": "2d04b318-5cfe-4303-ea52-44135d7915e8"
      },
      "execution_count": null,
      "outputs": [
        {
          "output_type": "execute_result",
          "data": {
            "text/plain": [
              "[0, 1, 2, 3, 4, 5, 6, 7, 8, 9]"
            ]
          },
          "metadata": {},
          "execution_count": 3
        }
      ]
    },
    {
      "cell_type": "code",
      "source": [
        "l[-1]"
      ],
      "metadata": {
        "colab": {
          "base_uri": "https://localhost:8080/"
        },
        "id": "PCwOt6_1bZJE",
        "outputId": "00782df3-6bd0-4725-ab19-0dda8b72445b"
      },
      "execution_count": null,
      "outputs": [
        {
          "output_type": "execute_result",
          "data": {
            "text/plain": [
              "9"
            ]
          },
          "metadata": {},
          "execution_count": 4
        }
      ]
    },
    {
      "cell_type": "code",
      "source": [
        "l[2:8]"
      ],
      "metadata": {
        "colab": {
          "base_uri": "https://localhost:8080/"
        },
        "id": "47V3Bswxzv5x",
        "outputId": "ea5cf991-721c-4aac-c7b0-5c3c9b667e0e"
      },
      "execution_count": null,
      "outputs": [
        {
          "output_type": "execute_result",
          "data": {
            "text/plain": [
              "[2, 3, 4, 5, 6, 7]"
            ]
          },
          "metadata": {},
          "execution_count": 12
        }
      ]
    },
    {
      "cell_type": "code",
      "source": [
        "l[2:8:2]"
      ],
      "metadata": {
        "colab": {
          "base_uri": "https://localhost:8080/"
        },
        "id": "rH6YYAePzxai",
        "outputId": "50f32714-a49a-4ca4-8a7a-05586cf74419"
      },
      "execution_count": null,
      "outputs": [
        {
          "output_type": "execute_result",
          "data": {
            "text/plain": [
              "[2, 4, 6]"
            ]
          },
          "metadata": {},
          "execution_count": 13
        }
      ]
    },
    {
      "cell_type": "code",
      "source": [
        "l[-1:-7]"
      ],
      "metadata": {
        "colab": {
          "base_uri": "https://localhost:8080/"
        },
        "id": "MZ0Dn945zzBK",
        "outputId": "1cd5e237-5a13-4fb9-cf93-004e770095c5"
      },
      "execution_count": null,
      "outputs": [
        {
          "output_type": "execute_result",
          "data": {
            "text/plain": [
              "[]"
            ]
          },
          "metadata": {},
          "execution_count": 14
        }
      ]
    },
    {
      "cell_type": "code",
      "source": [
        "l[-1:-7:-1]"
      ],
      "metadata": {
        "colab": {
          "base_uri": "https://localhost:8080/"
        },
        "id": "CK2Pkwooz0eB",
        "outputId": "2a9c9f28-14ff-40f9-d714-c5a81a035f2f"
      },
      "execution_count": null,
      "outputs": [
        {
          "output_type": "execute_result",
          "data": {
            "text/plain": [
              "[9, 8, 7, 6, 5, 4]"
            ]
          },
          "metadata": {},
          "execution_count": 15
        }
      ]
    },
    {
      "cell_type": "code",
      "source": [
        "l[8:2:-1]"
      ],
      "metadata": {
        "colab": {
          "base_uri": "https://localhost:8080/"
        },
        "id": "fjSmGoUzz2qz",
        "outputId": "dcd4bb84-6e92-4ea8-d7ab-6ee870cc9fc5"
      },
      "execution_count": null,
      "outputs": [
        {
          "output_type": "execute_result",
          "data": {
            "text/plain": [
              "[8, 7, 6, 5, 4, 3]"
            ]
          },
          "metadata": {},
          "execution_count": 16
        }
      ]
    },
    {
      "cell_type": "code",
      "source": [
        "l[:5]"
      ],
      "metadata": {
        "colab": {
          "base_uri": "https://localhost:8080/"
        },
        "id": "LeHZgidOz38w",
        "outputId": "62d45560-b2c5-4f5c-d4db-baf9be36de8f"
      },
      "execution_count": null,
      "outputs": [
        {
          "output_type": "execute_result",
          "data": {
            "text/plain": [
              "[0, 1, 2, 3, 4]"
            ]
          },
          "metadata": {},
          "execution_count": 17
        }
      ]
    },
    {
      "cell_type": "code",
      "source": [
        "l[4:]"
      ],
      "metadata": {
        "colab": {
          "base_uri": "https://localhost:8080/"
        },
        "id": "Zq8Tpz5Iz5oz",
        "outputId": "566b33f2-8560-46af-97df-e59c539c9959"
      },
      "execution_count": null,
      "outputs": [
        {
          "output_type": "execute_result",
          "data": {
            "text/plain": [
              "[4, 5, 6, 7, 8, 9]"
            ]
          },
          "metadata": {},
          "execution_count": 18
        }
      ]
    },
    {
      "cell_type": "code",
      "source": [
        "l[:]"
      ],
      "metadata": {
        "colab": {
          "base_uri": "https://localhost:8080/"
        },
        "id": "WOF04I0rz6XD",
        "outputId": "926a71ce-a9ea-4d9a-c732-d2ff3ab44e0c"
      },
      "execution_count": null,
      "outputs": [
        {
          "output_type": "execute_result",
          "data": {
            "text/plain": [
              "[0, 1, 2, 3, 4, 5, 6, 7, 8, 9]"
            ]
          },
          "metadata": {},
          "execution_count": 19
        }
      ]
    },
    {
      "cell_type": "code",
      "source": [
        "l[::-1]"
      ],
      "metadata": {
        "colab": {
          "base_uri": "https://localhost:8080/"
        },
        "id": "WmvkMJRXz7XE",
        "outputId": "f9ba703f-f748-446c-df15-4047e6bad546"
      },
      "execution_count": null,
      "outputs": [
        {
          "output_type": "execute_result",
          "data": {
            "text/plain": [
              "[9, 8, 7, 6, 5, 4, 3, 2, 1, 0]"
            ]
          },
          "metadata": {},
          "execution_count": 20
        }
      ]
    },
    {
      "cell_type": "markdown",
      "source": [
        "Observați că putem folosi și indici negativi, dar dacă vrem o parcurgere de la dreapta la stânga, trebuie să folosim un iterator negativ."
      ],
      "metadata": {
        "id": "hmKs_V9P0DoF"
      }
    },
    {
      "cell_type": "markdown",
      "source": [
        "### Iterarea printr-o listă"
      ],
      "metadata": {
        "id": "u4hVvI8k0FbZ"
      }
    },
    {
      "cell_type": "code",
      "source": [
        "def proceseaza(x):\n",
        "  return x + 1"
      ],
      "metadata": {
        "id": "ZjVZ2O3c0mDe"
      },
      "execution_count": null,
      "outputs": []
    },
    {
      "cell_type": "markdown",
      "source": [
        "Putem itera în mai multe moduri.\n",
        "Operatorul in permite iterarea prin fiecare element al listei fără a cunoaște indicele elementului:"
      ],
      "metadata": {
        "id": "yp1U_YiH0dda"
      }
    },
    {
      "cell_type": "code",
      "source": [
        "for elem in l:\n",
        "  proceseaza(elem)"
      ],
      "metadata": {
        "id": "STBKGXBWz80h"
      },
      "execution_count": null,
      "outputs": []
    },
    {
      "cell_type": "markdown",
      "source": [
        "Dacă avem nevoie și de indicele elementului putem parcurge lista folosindu-ne de accesul direct al elementului prin indice - insă nu e recomandată această parcurgere când modificăm lista în acest mod (adăugăm sau ștergem elemente), deoarece trebuie să fim atenți la actualizarea indicelui."
      ],
      "metadata": {
        "id": "oTF2EvWL0iUv"
      }
    },
    {
      "cell_type": "code",
      "source": [
        "for i in range(len(l)):\n",
        "  proceseaza(l[i])"
      ],
      "metadata": {
        "id": "bg25aEqg0f1i"
      },
      "execution_count": null,
      "outputs": []
    },
    {
      "cell_type": "markdown",
      "source": [
        "Putem itera printr-o listă folosind _enumerate(lista)_ care este un generator prin care obținem pe rând tupluri de forma _(indice, lista[indice])_ - indicele din listă și elementul corespunzător acestuia."
      ],
      "metadata": {
        "id": "__Qu_6hE0qv4"
      }
    },
    {
      "cell_type": "code",
      "source": [
        "for i, elem in enumerate(l):\n",
        "  proceseaza(elem)"
      ],
      "metadata": {
        "id": "yP1ohWcP0u3C"
      },
      "execution_count": null,
      "outputs": []
    },
    {
      "cell_type": "markdown",
      "source": [
        "### Matrici"
      ],
      "metadata": {
        "id": "Al55RhPn0wGu"
      }
    },
    {
      "cell_type": "markdown",
      "source": [
        "În Python nu avem în mod direct o structură pentru matrici (printre modulele implicite), în schimb putem simula o matrice printr-o listă de liste.\n",
        "\n",
        "De exemplu:"
      ],
      "metadata": {
        "id": "POa42ffR0xtC"
      }
    },
    {
      "cell_type": "code",
      "source": [
        "l = [[1, 2, 3], [4, 5, 6]]"
      ],
      "metadata": {
        "id": "RR7NmxES0xGp"
      },
      "execution_count": null,
      "outputs": []
    },
    {
      "cell_type": "markdown",
      "source": [
        "este o matrice de 2 linii și 3 coloane."
      ],
      "metadata": {
        "id": "ckK7_0e4016v"
      }
    },
    {
      "cell_type": "markdown",
      "source": [
        "### Adăugarea elementelor într-o listă"
      ],
      "metadata": {
        "id": "Foxq5VKs03ai"
      }
    },
    {
      "cell_type": "markdown",
      "source": [
        "La finalul listei - metoda _append(element)_:"
      ],
      "metadata": {
        "id": "Khw5HgLJ05dR"
      }
    },
    {
      "cell_type": "code",
      "source": [
        "l = [10, 7, 3, 5]\n",
        "l.append(2)\n",
        "print(l)"
      ],
      "metadata": {
        "colab": {
          "base_uri": "https://localhost:8080/"
        },
        "id": "lsG5MHMm07Qw",
        "outputId": "73ea7f7a-4c2b-401c-e040-b9dfa427bb32"
      },
      "execution_count": null,
      "outputs": [
        {
          "output_type": "stream",
          "name": "stdout",
          "text": [
            "[10, 7, 3, 5, 2]\n"
          ]
        }
      ]
    },
    {
      "cell_type": "markdown",
      "source": [
        "La o poziție dată - metoda _insert(indice, element)_:"
      ],
      "metadata": {
        "id": "vNwkagg_09La"
      }
    },
    {
      "cell_type": "code",
      "source": [
        "l = [10, 7, 3, 5]\n",
        "l.insert(1, 122)\n",
        "print(l)"
      ],
      "metadata": {
        "colab": {
          "base_uri": "https://localhost:8080/"
        },
        "id": "HIL1jE_n1A3i",
        "outputId": "6955d390-1b16-4480-8e29-2601889056c1"
      },
      "execution_count": null,
      "outputs": [
        {
          "output_type": "stream",
          "name": "stdout",
          "text": [
            "[10, 122, 7, 3, 5]\n"
          ]
        }
      ]
    },
    {
      "cell_type": "markdown",
      "source": [
        "### Ștergerea elementelor dintr-o listă"
      ],
      "metadata": {
        "id": "f_Ni2nyx0-x_"
      }
    },
    {
      "cell_type": "markdown",
      "source": [
        "Se folosește metoda pop(indice) care șterge din listă elementul de pe poziția dată. Utilizarea fără argumente este echivalentă apelării cu indicele _-1_, așadar va șterge ultimul element."
      ],
      "metadata": {
        "id": "bWK_dPeT1MD7"
      }
    },
    {
      "cell_type": "code",
      "source": [
        "l = [10, 7, 3, 5]\n",
        "l.pop(2)\n",
        "print(l)"
      ],
      "metadata": {
        "colab": {
          "base_uri": "https://localhost:8080/"
        },
        "id": "KFwvQ9c21ICA",
        "outputId": "6d118bcb-2937-4e4c-e207-1f0ce365483d"
      },
      "execution_count": null,
      "outputs": [
        {
          "output_type": "stream",
          "name": "stdout",
          "text": [
            "[10, 7, 5]\n"
          ]
        }
      ]
    },
    {
      "cell_type": "markdown",
      "source": [
        "Fără parametri:"
      ],
      "metadata": {
        "id": "J15_tqm31O_G"
      }
    },
    {
      "cell_type": "code",
      "source": [
        "l = [10, 7, 3, 5]\n",
        "l.pop()\n",
        "print(l)"
      ],
      "metadata": {
        "colab": {
          "base_uri": "https://localhost:8080/"
        },
        "id": "Zc84a_RY1Ryk",
        "outputId": "e9ad4d30-f135-4bde-db59-f953be7a83f2"
      },
      "execution_count": null,
      "outputs": [
        {
          "output_type": "stream",
          "name": "stdout",
          "text": [
            "[10, 7, 3]\n"
          ]
        }
      ]
    },
    {
      "cell_type": "markdown",
      "source": [
        "Putem șterge un anumit element cu metoda _remove(element)_:"
      ],
      "metadata": {
        "id": "F4FrHfGN1TpN"
      }
    },
    {
      "cell_type": "code",
      "source": [
        "l = [10, 7, 3, 5]\n",
        "l.remove(7)\n",
        "print(l)"
      ],
      "metadata": {
        "colab": {
          "base_uri": "https://localhost:8080/"
        },
        "id": "bbcu3Cv51VNp",
        "outputId": "2e9e08ae-8065-489a-bbfb-b67437a08a3f"
      },
      "execution_count": null,
      "outputs": [
        {
          "output_type": "stream",
          "name": "stdout",
          "text": [
            "[10, 3, 5]\n"
          ]
        }
      ]
    },
    {
      "cell_type": "markdown",
      "source": [
        "### Sortarea unei liste"
      ],
      "metadata": {
        "id": "j3REnJx21XSL"
      }
    },
    {
      "cell_type": "markdown",
      "source": [
        "Sortarea unei liste se poate face simplu prin metoda _sort()_:"
      ],
      "metadata": {
        "id": "BcKDBjEe1Ziq"
      }
    },
    {
      "cell_type": "code",
      "source": [
        "l = [2, 1, 10, 4, 100, 17, 23]\n",
        "l.sort()\n",
        "print(l)"
      ],
      "metadata": {
        "colab": {
          "base_uri": "https://localhost:8080/"
        },
        "id": "WzYq3EmV1aiB",
        "outputId": "a40e7dd0-30d4-4955-b49c-20a135ee8892"
      },
      "execution_count": null,
      "outputs": [
        {
          "output_type": "stream",
          "name": "stdout",
          "text": [
            "[1, 2, 4, 10, 17, 23, 100]\n"
          ]
        }
      ]
    },
    {
      "cell_type": "markdown",
      "source": [
        "Sortarea implicită este cea crescătoare. Pentru a sorta descrescător, putem folosi parametrul reverse al funcției sort cu valoarea True:"
      ],
      "metadata": {
        "id": "Jdh0ASPR1csa"
      }
    },
    {
      "cell_type": "code",
      "source": [
        "l = [2, 1, 10, 4, 100, 17, 23]\n",
        "l.sort(reverse = True)\n",
        "print(l)"
      ],
      "metadata": {
        "colab": {
          "base_uri": "https://localhost:8080/"
        },
        "id": "pIhpvaNq1eAj",
        "outputId": "bd06c5cd-b5f4-487a-914e-5d340ddb9c3b"
      },
      "execution_count": null,
      "outputs": [
        {
          "output_type": "stream",
          "name": "stdout",
          "text": [
            "[100, 23, 17, 10, 4, 2, 1]\n"
          ]
        }
      ]
    },
    {
      "cell_type": "markdown",
      "source": [
        "Putem sorta oricum dorim folosind aceeași funcție. De exemplu, pentru sortarea după ultima cifră a numerelor vom folosi funcția lambda:"
      ],
      "metadata": {
        "id": "s58cehG-1iUN"
      }
    },
    {
      "cell_type": "code",
      "source": [
        "l = [2, 1, 10, 4, 100, 17, 23]\n",
        "l.sort(key = lambda x: x % 10)\n",
        "print(l)"
      ],
      "metadata": {
        "colab": {
          "base_uri": "https://localhost:8080/"
        },
        "id": "GLamx1gF1hwz",
        "outputId": "023c5424-80b5-46e2-d2cd-eeebc05974c5"
      },
      "execution_count": null,
      "outputs": [
        {
          "output_type": "stream",
          "name": "stdout",
          "text": [
            "[10, 100, 1, 2, 23, 4, 17]\n"
          ]
        }
      ]
    },
    {
      "cell_type": "markdown",
      "source": [
        "### Modificarea listei în timpul parcurgerii"
      ],
      "metadata": {
        "id": "rENQ_iM61kq8"
      }
    },
    {
      "cell_type": "markdown",
      "source": [
        "Dacă dorim să modificăm o listă (de exemplu să ștergem toate elementele pare) este comună **următoarea greșeală**:"
      ],
      "metadata": {
        "id": "OZzrs6HR1mrS"
      }
    },
    {
      "cell_type": "code",
      "source": [
        "l = [3, 2, 4, 5, 10, 12]\n",
        "for i in range(len(l)):\n",
        "  if l[i] % 2 == 0:\n",
        "    l.pop(i)\n",
        "    i -= 1"
      ],
      "metadata": {
        "colab": {
          "base_uri": "https://localhost:8080/",
          "height": 269
        },
        "id": "-0VEflTk1gV5",
        "outputId": "48d5eeff-e040-4d3f-8daf-19b897194365"
      },
      "execution_count": null,
      "outputs": [
        {
          "output_type": "stream",
          "name": "stdout",
          "text": [
            "1 2\n",
            "3 10\n"
          ]
        },
        {
          "output_type": "error",
          "ename": "IndexError",
          "evalue": "ignored",
          "traceback": [
            "\u001b[0;31m---------------------------------------------------------------------------\u001b[0m",
            "\u001b[0;31mIndexError\u001b[0m                                Traceback (most recent call last)",
            "\u001b[0;32m<ipython-input-4-2ff85a8985d8>\u001b[0m in \u001b[0;36m<module>\u001b[0;34m\u001b[0m\n\u001b[1;32m      1\u001b[0m \u001b[0ml\u001b[0m \u001b[0;34m=\u001b[0m \u001b[0;34m[\u001b[0m\u001b[0;36m3\u001b[0m\u001b[0;34m,\u001b[0m \u001b[0;36m2\u001b[0m\u001b[0;34m,\u001b[0m \u001b[0;36m4\u001b[0m\u001b[0;34m,\u001b[0m \u001b[0;36m5\u001b[0m\u001b[0;34m,\u001b[0m \u001b[0;36m10\u001b[0m\u001b[0;34m,\u001b[0m \u001b[0;36m12\u001b[0m\u001b[0;34m]\u001b[0m\u001b[0;34m\u001b[0m\u001b[0;34m\u001b[0m\u001b[0m\n\u001b[1;32m      2\u001b[0m \u001b[0;32mfor\u001b[0m \u001b[0mi\u001b[0m \u001b[0;32min\u001b[0m \u001b[0mrange\u001b[0m\u001b[0;34m(\u001b[0m\u001b[0mlen\u001b[0m\u001b[0;34m(\u001b[0m\u001b[0ml\u001b[0m\u001b[0;34m)\u001b[0m\u001b[0;34m)\u001b[0m\u001b[0;34m:\u001b[0m\u001b[0;34m\u001b[0m\u001b[0;34m\u001b[0m\u001b[0m\n\u001b[0;32m----> 3\u001b[0;31m     \u001b[0;32mif\u001b[0m \u001b[0ml\u001b[0m\u001b[0;34m[\u001b[0m\u001b[0mi\u001b[0m\u001b[0;34m]\u001b[0m \u001b[0;34m%\u001b[0m \u001b[0;36m2\u001b[0m \u001b[0;34m==\u001b[0m \u001b[0;36m0\u001b[0m\u001b[0;34m:\u001b[0m\u001b[0;34m\u001b[0m\u001b[0;34m\u001b[0m\u001b[0m\n\u001b[0m\u001b[1;32m      4\u001b[0m         \u001b[0mprint\u001b[0m \u001b[0;34m(\u001b[0m\u001b[0mi\u001b[0m\u001b[0;34m,\u001b[0m \u001b[0ml\u001b[0m\u001b[0;34m[\u001b[0m\u001b[0mi\u001b[0m\u001b[0;34m]\u001b[0m\u001b[0;34m)\u001b[0m\u001b[0;34m\u001b[0m\u001b[0;34m\u001b[0m\u001b[0m\n\u001b[1;32m      5\u001b[0m         \u001b[0ml\u001b[0m\u001b[0;34m.\u001b[0m\u001b[0mpop\u001b[0m\u001b[0;34m(\u001b[0m\u001b[0mi\u001b[0m\u001b[0;34m)\u001b[0m\u001b[0;34m\u001b[0m\u001b[0;34m\u001b[0m\u001b[0m\n",
            "\u001b[0;31mIndexError\u001b[0m: list index out of range"
          ]
        }
      ]
    },
    {
      "cell_type": "markdown",
      "source": [
        "Vom primi o eroare penru metoda pop() care va da un \"IndexError: list index out of range\" pentru că i-ul nu este decrementat la ștergerea elementului, ci continuă parcurgerea range-ului."
      ],
      "metadata": {
        "id": "0tJWwQW21wyr"
      }
    },
    {
      "cell_type": "markdown",
      "source": [
        "**O altă greșeală:**"
      ],
      "metadata": {
        "id": "jSSZZwk81xwZ"
      }
    },
    {
      "cell_type": "code",
      "source": [
        "l = [3, 2, 4, 5, 10, 12]\n",
        "for elem in l:\n",
        "    if elem % 2==0:\n",
        "        l.remove(elem)\n",
        "print(l)"
      ],
      "metadata": {
        "colab": {
          "base_uri": "https://localhost:8080/"
        },
        "id": "kxSJVw1M1sub",
        "outputId": "66d93f13-2bd5-4ee1-839b-11de842f15b9"
      },
      "execution_count": null,
      "outputs": [
        {
          "output_type": "stream",
          "name": "stdout",
          "text": [
            "[3, 4, 5, 12]\n"
          ]
        }
      ]
    },
    {
      "cell_type": "markdown",
      "source": [
        "Chiar dacă acum programul se oprește, nici acest caz nu este corect deoarece i-ul nu este actualizat și sare peste elemente."
      ],
      "metadata": {
        "id": "KNl2FmlKveqr"
      }
    },
    {
      "cell_type": "markdown",
      "source": [
        "**Modul corect.** Sunt mai multe moduri prin care putem realiza cerința de mai sus, având grijă să nu sărim elementele. De exemplu, putem folosi while - în felul acesta limita pentru i nu mai e rigidă, precalculată, cum era în cazul lui range:\n"
      ],
      "metadata": {
        "id": "-ABRSx5h13s_"
      }
    },
    {
      "cell_type": "code",
      "source": [
        "l = [3, 2, 4, 5, 10, 12]\n",
        "i = 0\n",
        "while i < len(l):\n",
        "    if l[i] % 2 == 0:\n",
        "        l.pop(i)\n",
        "        i -= 1\n",
        "    i += 1\n",
        "print(l)"
      ],
      "metadata": {
        "colab": {
          "base_uri": "https://localhost:8080/"
        },
        "id": "IYvZ-tBS11c-",
        "outputId": "2b4deeb6-7405-4159-a484-060477ac2608"
      },
      "execution_count": null,
      "outputs": [
        {
          "output_type": "stream",
          "name": "stdout",
          "text": [
            "[3, 5]\n"
          ]
        }
      ]
    },
    {
      "cell_type": "markdown",
      "source": [
        "**Modul corect și elegant.** Folosind comprehensions:"
      ],
      "metadata": {
        "id": "kjEOoiN4170L"
      }
    },
    {
      "cell_type": "code",
      "source": [
        "l = [3, 2, 4, 5, 10, 12]\n",
        "rez = [x for x in l if x % 2 == 1]\n",
        "print(rez)"
      ],
      "metadata": {
        "colab": {
          "base_uri": "https://localhost:8080/"
        },
        "id": "-cVyhRt-1_88",
        "outputId": "159a8205-8fc8-44eb-f099-8d61849a0444"
      },
      "execution_count": null,
      "outputs": [
        {
          "output_type": "stream",
          "name": "stdout",
          "text": [
            "[3, 5]\n"
          ]
        }
      ]
    },
    {
      "cell_type": "markdown",
      "source": [
        "## Operații cu dicționare"
      ],
      "metadata": {
        "id": "ylFw7U861_Zb"
      }
    },
    {
      "cell_type": "markdown",
      "source": [
        "Dicționarele reprezintă un set de perechi de chei și valori asociate. Cheile sunt unice în dicționar și trebuie să fie de tip immutable (pot fi stringuri, numere, tupluri etc., dar nu pot fi liste).\n",
        "\n",
        "Pentru a crea un dicționar vid, folosim:"
      ],
      "metadata": {
        "id": "q8xzgZWb2Ezx"
      }
    },
    {
      "cell_type": "code",
      "source": [
        "d = {}"
      ],
      "metadata": {
        "id": "Yi9A7Bif2GIl"
      },
      "execution_count": null,
      "outputs": []
    },
    {
      "cell_type": "markdown",
      "source": [
        "Pentru a adăuga chei noi în dicționar, putem pur și simplu să le atribuinduim o valoare. Sintaxa este: _dictionar[cheie] = valoare_."
      ],
      "metadata": {
        "id": "Z6MeIHYo2HRT"
      }
    },
    {
      "cell_type": "code",
      "source": [
        "d[\"a\"] = 100\n",
        "d[\"b\"] = 200\n",
        "d[\"c\"] = 300\n",
        "print(d)"
      ],
      "metadata": {
        "colab": {
          "base_uri": "https://localhost:8080/"
        },
        "id": "KKC06MHh2IzS",
        "outputId": "c146d1b4-db10-40f7-cb78-95aef519b252"
      },
      "execution_count": null,
      "outputs": [
        {
          "output_type": "stream",
          "name": "stdout",
          "text": [
            "{'a': 100, 'b': 200, 'c': 300}\n"
          ]
        }
      ]
    },
    {
      "cell_type": "markdown",
      "source": [
        "Pentru a itera printr-un dicționar putem folosi operatorul _in_:"
      ],
      "metadata": {
        "id": "dRStV1UU2MRt"
      }
    },
    {
      "cell_type": "code",
      "source": [
        "for k in d:\n",
        "    print(k, d[k])"
      ],
      "metadata": {
        "colab": {
          "base_uri": "https://localhost:8080/"
        },
        "id": "AXxWryk72M0w",
        "outputId": "9f7ae413-1d52-4b9b-e1a5-bc1435a756df"
      },
      "execution_count": null,
      "outputs": [
        {
          "output_type": "stream",
          "name": "stdout",
          "text": [
            "a 100\n",
            "b 200\n",
            "c 300\n"
          ]
        }
      ]
    },
    {
      "cell_type": "markdown",
      "source": [
        "Pentru a verifica dacă o cheie se găsește într-un dicționar, putem folosi același operator:"
      ],
      "metadata": {
        "id": "qVQDSxWgyHW6"
      }
    },
    {
      "cell_type": "code",
      "source": [
        "print(\"a\" in d)\n",
        "print(100 in d)"
      ],
      "metadata": {
        "colab": {
          "base_uri": "https://localhost:8080/"
        },
        "id": "NN6syghgyKlE",
        "outputId": "26a30d1d-0328-4866-a8a1-4f36d2a2df48"
      },
      "execution_count": null,
      "outputs": [
        {
          "output_type": "stream",
          "name": "stdout",
          "text": [
            "True\n",
            "False\n"
          ]
        }
      ]
    },
    {
      "cell_type": "markdown",
      "source": [
        "sau să folosim metoda _items()_ care returnează o listă cu tupluri de forma _(cheie, valoare)_:"
      ],
      "metadata": {
        "id": "3G97Cae22PY4"
      }
    },
    {
      "cell_type": "code",
      "source": [
        "for k, v in d.items():\n",
        "    print(k, v)"
      ],
      "metadata": {
        "colab": {
          "base_uri": "https://localhost:8080/"
        },
        "id": "HJGfJ5zB2P5K",
        "outputId": "2724144a-31cb-469e-b044-10237c1e69b9"
      },
      "execution_count": null,
      "outputs": [
        {
          "output_type": "stream",
          "name": "stdout",
          "text": [
            "a 100\n",
            "b 200\n",
            "c 300\n"
          ]
        }
      ]
    },
    {
      "cell_type": "markdown",
      "source": [
        "Pentru a obține lista de chei putem folosi metoda _keys()_ iar pentru lista de valori metoda _values()_."
      ],
      "metadata": {
        "id": "UXkVgg8n2Wv0"
      }
    },
    {
      "cell_type": "markdown",
      "source": [
        "## Mulțimi"
      ],
      "metadata": {
        "id": "qu1TvbSE2ZWI"
      }
    },
    {
      "cell_type": "markdown",
      "source": [
        "Mulțimile reprezintă seturi de elemente **neordonate** care nu acceptă duplicate."
      ],
      "metadata": {
        "id": "sNkfBM7L2byH"
      }
    },
    {
      "cell_type": "markdown",
      "source": [
        "### Crearea unei mulțimi"
      ],
      "metadata": {
        "id": "pZnepYI_2dOg"
      }
    },
    {
      "cell_type": "code",
      "source": [
        "multime_vida = set()\n",
        "multime = {2, 3, 10, 8}\n",
        "print(multime)"
      ],
      "metadata": {
        "colab": {
          "base_uri": "https://localhost:8080/"
        },
        "id": "yp2vDQVW2T1h",
        "outputId": "ffa4f1be-eddc-4026-95fa-bb81727507cc"
      },
      "execution_count": null,
      "outputs": [
        {
          "output_type": "stream",
          "name": "stdout",
          "text": [
            "{8, 3, 10, 2}\n"
          ]
        }
      ]
    },
    {
      "cell_type": "markdown",
      "source": [
        "Observați că nu s-a păstrat ordinea din inițializarea mulțimii, fiindcă mulțimile sunt neordonate."
      ],
      "metadata": {
        "id": "Iz8T0Ese2ghY"
      }
    },
    {
      "cell_type": "code",
      "source": [
        "multime.append(5)"
      ],
      "metadata": {
        "colab": {
          "base_uri": "https://localhost:8080/",
          "height": 165
        },
        "id": "v2ZLYFUmcj6r",
        "outputId": "fddc68c2-9f97-4edb-8acb-4be60830908b"
      },
      "execution_count": null,
      "outputs": [
        {
          "output_type": "error",
          "ename": "AttributeError",
          "evalue": "ignored",
          "traceback": [
            "\u001b[0;31m---------------------------------------------------------------------------\u001b[0m",
            "\u001b[0;31mAttributeError\u001b[0m                            Traceback (most recent call last)",
            "\u001b[0;32m<ipython-input-6-d9f9d4b08355>\u001b[0m in \u001b[0;36m<module>\u001b[0;34m\u001b[0m\n\u001b[0;32m----> 1\u001b[0;31m \u001b[0mmultime\u001b[0m\u001b[0;34m.\u001b[0m\u001b[0mappend\u001b[0m\u001b[0;34m(\u001b[0m\u001b[0;36m5\u001b[0m\u001b[0;34m)\u001b[0m\u001b[0;34m\u001b[0m\u001b[0;34m\u001b[0m\u001b[0m\n\u001b[0m",
            "\u001b[0;31mAttributeError\u001b[0m: 'set' object has no attribute 'append'"
          ]
        }
      ]
    },
    {
      "cell_type": "markdown",
      "source": [
        "### Cardinalul unei mulțimi"
      ],
      "metadata": {
        "id": "6cRTFcWL2i8A"
      }
    },
    {
      "cell_type": "markdown",
      "source": [
        "Pentru a obține cardinalul unei mulțimi se folosește funcția _len()_. De exemplu:"
      ],
      "metadata": {
        "id": "7bw8w9Dk2lGP"
      }
    },
    {
      "cell_type": "code",
      "source": [
        "len({2, 4, 10})"
      ],
      "metadata": {
        "colab": {
          "base_uri": "https://localhost:8080/"
        },
        "id": "6M75-YAQykyG",
        "outputId": "98c75256-6f80-40a7-93b3-b8ca88a8ca97"
      },
      "execution_count": null,
      "outputs": [
        {
          "output_type": "execute_result",
          "data": {
            "text/plain": [
              "3"
            ]
          },
          "metadata": {},
          "execution_count": 12
        }
      ]
    },
    {
      "cell_type": "markdown",
      "source": [
        "## List comprehensions"
      ],
      "metadata": {
        "id": "JYhTAx2Y2msC"
      }
    },
    {
      "cell_type": "markdown",
      "source": [
        "Au sintaxa de forma:\n",
        "\n",
        "_[expresie for element in obiect_iterabil]_\n",
        "\n",
        "caz in care se va genera o listă cu același număr de elemente precum obiectul iterabil\n",
        "\n",
        "sau\n",
        "\n",
        "_[expresie for element in obiect_iterabil if conditie]_\n",
        "\n",
        "caz în care va avea în listă doar elementele din obiectul iterabil care îndeplinesc condiția."
      ],
      "metadata": {
        "id": "Oo7uamcA2oGn"
      }
    },
    {
      "cell_type": "markdown",
      "source": [
        "Exemple:"
      ],
      "metadata": {
        "id": "r-VFNooV26PI"
      }
    },
    {
      "cell_type": "code",
      "source": [
        "l = [2, 7, 5, 23, 10]"
      ],
      "metadata": {
        "id": "3gK9qg3Y2_zV"
      },
      "execution_count": null,
      "outputs": []
    },
    {
      "cell_type": "markdown",
      "source": [
        "Lista cu dublul elementelor lui l:"
      ],
      "metadata": {
        "id": "EPj4iPr_zYS3"
      }
    },
    {
      "cell_type": "code",
      "source": [
        "l1 = [2*x for x in l]\n",
        "l1"
      ],
      "metadata": {
        "colab": {
          "base_uri": "https://localhost:8080/"
        },
        "id": "-lpJVjET3Irt",
        "outputId": "1e291d31-22ea-400f-c9ce-dc3e24c16482"
      },
      "execution_count": null,
      "outputs": [
        {
          "output_type": "execute_result",
          "data": {
            "text/plain": [
              "[4, 14, 10, 46, 20]"
            ]
          },
          "metadata": {},
          "execution_count": 44
        }
      ]
    },
    {
      "cell_type": "markdown",
      "source": [
        "Lista cu perechile de vecini din l:"
      ],
      "metadata": {
        "id": "W4B_YmpuzcZU"
      }
    },
    {
      "cell_type": "code",
      "source": [
        "l2 = [[l[i], l[i + 1]] for i in range(len(l) - 1)]\n",
        "l2"
      ],
      "metadata": {
        "colab": {
          "base_uri": "https://localhost:8080/"
        },
        "id": "3YfgkH0A3JgI",
        "outputId": "bcb46d5c-45d1-45af-9ab5-a09d61acb071"
      },
      "execution_count": null,
      "outputs": [
        {
          "output_type": "execute_result",
          "data": {
            "text/plain": [
              "[[2, 7], [7, 5], [5, 23], [23, 10]]"
            ]
          },
          "metadata": {},
          "execution_count": 45
        }
      ]
    },
    {
      "cell_type": "markdown",
      "source": [
        "Lista produsului cartezian:"
      ],
      "metadata": {
        "id": "Kp0rTAaWzg5L"
      }
    },
    {
      "cell_type": "code",
      "source": [
        "l3 = [[x, y] for x in l for y in l]\n",
        "l3"
      ],
      "metadata": {
        "colab": {
          "base_uri": "https://localhost:8080/"
        },
        "id": "lZq6PxVJ3MYL",
        "outputId": "530c11de-4f25-46d5-e213-40b87fe52d18"
      },
      "execution_count": null,
      "outputs": [
        {
          "output_type": "execute_result",
          "data": {
            "text/plain": [
              "[[2, 2],\n",
              " [2, 7],\n",
              " [2, 5],\n",
              " [2, 23],\n",
              " [2, 10],\n",
              " [7, 2],\n",
              " [7, 7],\n",
              " [7, 5],\n",
              " [7, 23],\n",
              " [7, 10],\n",
              " [5, 2],\n",
              " [5, 7],\n",
              " [5, 5],\n",
              " [5, 23],\n",
              " [5, 10],\n",
              " [23, 2],\n",
              " [23, 7],\n",
              " [23, 5],\n",
              " [23, 23],\n",
              " [23, 10],\n",
              " [10, 2],\n",
              " [10, 7],\n",
              " [10, 5],\n",
              " [10, 23],\n",
              " [10, 10]]"
            ]
          },
          "metadata": {},
          "execution_count": 46
        }
      ]
    },
    {
      "cell_type": "markdown",
      "source": [
        "Lista elementelor pare:"
      ],
      "metadata": {
        "id": "jpZHSNcyzlYU"
      }
    },
    {
      "cell_type": "code",
      "source": [
        "l4 = [x for x in l if x % 2 == 0]\n",
        "l4"
      ],
      "metadata": {
        "colab": {
          "base_uri": "https://localhost:8080/"
        },
        "id": "1hvwsEp-3WmO",
        "outputId": "611e394e-d89c-433b-ac2a-cf46aa83ea9e"
      },
      "execution_count": null,
      "outputs": [
        {
          "output_type": "execute_result",
          "data": {
            "text/plain": [
              "[2, 10]"
            ]
          },
          "metadata": {},
          "execution_count": 47
        }
      ]
    },
    {
      "cell_type": "markdown",
      "source": [
        "### Crearea unei matrici folosind comprehensions"
      ],
      "metadata": {
        "id": "WmP8js6d2_OC"
      }
    },
    {
      "cell_type": "markdown",
      "source": [
        "Putem folosi un comprehension cu _for_ dublu.\n",
        "\n",
        "De exemplu dacă dorim o matrice formată doar din 0-uri:"
      ],
      "metadata": {
        "id": "eYhnZdNm3dB_"
      }
    },
    {
      "cell_type": "code",
      "source": [
        "l = [[0] * 5 for _ in range(10)]\n",
        "print(l)"
      ],
      "metadata": {
        "colab": {
          "base_uri": "https://localhost:8080/"
        },
        "id": "3_VNkTbi3aFR",
        "outputId": "2c252c70-1ba0-4383-c291-cbc0e20c84d9"
      },
      "execution_count": null,
      "outputs": [
        {
          "output_type": "stream",
          "name": "stdout",
          "text": [
            "[[0, 0, 0, 0, 0], [0, 0, 0, 0, 0], [0, 0, 0, 0, 0], [0, 0, 0, 0, 0], [0, 0, 0, 0, 0], [0, 0, 0, 0, 0], [0, 0, 0, 0, 0], [0, 0, 0, 0, 0], [0, 0, 0, 0, 0], [0, 0, 0, 0, 0]]\n"
          ]
        }
      ]
    },
    {
      "cell_type": "markdown",
      "source": [
        "**Atenție,** frecvent se face greșeala următoare:"
      ],
      "metadata": {
        "id": "bgFqkuOS3lyN"
      }
    },
    {
      "cell_type": "code",
      "source": [
        "l = [[0] * 5] * 10\n",
        "print(l)\n",
        "l[0][0] = 111\n",
        "print(l)"
      ],
      "metadata": {
        "colab": {
          "base_uri": "https://localhost:8080/"
        },
        "id": "ajH2gKkK3iij",
        "outputId": "35be3cac-8f35-4dc4-bbe8-1483abe31e40"
      },
      "execution_count": null,
      "outputs": [
        {
          "output_type": "stream",
          "name": "stdout",
          "text": [
            "[[0, 0, 0, 0, 0], [0, 0, 0, 0, 0], [0, 0, 0, 0, 0], [0, 0, 0, 0, 0], [0, 0, 0, 0, 0], [0, 0, 0, 0, 0], [0, 0, 0, 0, 0], [0, 0, 0, 0, 0], [0, 0, 0, 0, 0], [0, 0, 0, 0, 0]]\n",
            "[[111, 0, 0, 0, 0], [111, 0, 0, 0, 0], [111, 0, 0, 0, 0], [111, 0, 0, 0, 0], [111, 0, 0, 0, 0], [111, 0, 0, 0, 0], [111, 0, 0, 0, 0], [111, 0, 0, 0, 0], [111, 0, 0, 0, 0], [111, 0, 0, 0, 0]]\n"
          ]
        }
      ]
    },
    {
      "cell_type": "markdown",
      "source": [
        "Observați cum s-a schimbat primul element în fiecare listă?\n",
        "\n",
        "Atunci cand apelăm _lista \\* n_, unde n e un număr natural nenul, se copiază elemente din listă de n ori. Problema apare când avem o listă de obiecte, deoarece se copiază referențele către acele obiecte. Practic am avut _[ lista_de_0] \\* 10_, care a dus la o listă cu 10 referințe către aceeași lista de 0-uri, deci când am schimbat primul element din prima listă am văzut modificarea în toate cele 10 liste fiindcă de fapt **sunt toate același obiect.**"
      ],
      "metadata": {
        "id": "1OYv8D143xv0"
      }
    },
    {
      "cell_type": "code",
      "source": [
        "import copy\n",
        "\n",
        "a = copy.deepcopy(l)\n",
        "a"
      ],
      "metadata": {
        "colab": {
          "base_uri": "https://localhost:8080/"
        },
        "id": "H1OkG9dydf-T",
        "outputId": "00aac35e-4344-42b1-cb04-5e2339123fd9"
      },
      "execution_count": null,
      "outputs": [
        {
          "output_type": "execute_result",
          "data": {
            "text/plain": [
              "[0, 1, 2, 3, 4, 5, 6, 7, 8, 9]"
            ]
          },
          "metadata": {},
          "execution_count": 7
        }
      ]
    },
    {
      "cell_type": "markdown",
      "source": [
        "## Operații cu fișiere"
      ],
      "metadata": {
        "id": "aGi1ZGSy308t"
      }
    },
    {
      "cell_type": "markdown",
      "source": [
        "Pentru a deschide un fișier folosim metoda _open(cale\\_fisier, mod\\_deschidere)_.\n",
        "\n",
        "De exemplu, pentru a citi fisierul input.txt, putem folosi:"
      ],
      "metadata": {
        "id": "d2RGrN4s33Ql"
      }
    },
    {
      "cell_type": "code",
      "source": [
        "f = open(\"input.txt\", \"r\")\n",
        "sir = f.read()"
      ],
      "metadata": {
        "id": "0fJFAQcN3tgR"
      },
      "execution_count": null,
      "outputs": []
    },
    {
      "cell_type": "markdown",
      "source": [
        "caz în care vom avea în șir tot conținutul fișierului.\n",
        "\n",
        "O altă variantă este să folosim metoda _readlines()_ care returnează o listă de stringuri cu liniile fișierului."
      ],
      "metadata": {
        "id": "GKauuc7o39Bd"
      }
    },
    {
      "cell_type": "markdown",
      "source": [
        "Pentru a scrie într-un fișier putem deschide fișierul cu \"w\" pentru a fi suprascris, sau cu \"a\" pentru a adăuga la final de fișier.\n",
        "\n",
        "Pentru a scrie într-un fișier putem folosi metoda _write()_."
      ],
      "metadata": {
        "id": "f14jy45g4Bsk"
      }
    },
    {
      "cell_type": "markdown",
      "source": [
        "## Clase"
      ],
      "metadata": {
        "id": "ysmpLtqP4Rcz"
      }
    },
    {
      "cell_type": "markdown",
      "source": [
        "Pentru a defini o clasă folosim cuvântul cheie class, urmat de numele clasei.\n",
        "\n",
        "Clasele au o metodă specială prin care se construiesc instanțele clasei, numită *\\_\\_init__*. În această funcție vom trimite argumentele necesare pentru a completa proprietățile noii instanțe a clasei.\n",
        "\n",
        "Orice metodă proprie instanțelor are ca prim parametru chiar o referință către instanță respectivă (metoda *\\_\\_init__* nu face excepție). De obicei acest prim parametru este numit self, dar nu este obligatoriu. Parametrul self nu va avea un argument corespunzător în apelul metodei, practic metodele se apelează cu argumente corespunzătoare tuturor parametrilor (mai puțin self).\n",
        "\n",
        "Proprietățile de instanță nu se definesc direct în clasă, ci sunt create în constructor atunci când le folosim numele prima oară. De exemplu, putem face o inițializare: _self.proprietate = valoare_."
      ],
      "metadata": {
        "id": "bBn4I-vD4S-L"
      }
    },
    {
      "cell_type": "code",
      "source": [
        "class Cls:\n",
        "  def __init__(self, aa, bb):\n",
        "    self.a = aa\n",
        "    self.b = bb\n",
        "  def incrementeaza_a(self):\n",
        "    self.a += 1\n",
        "\n",
        "\n",
        "c1 = Cls(2,5)\n",
        "c1.incrementeaza_a()\n",
        "print(c1.a)"
      ],
      "metadata": {
        "colab": {
          "base_uri": "https://localhost:8080/"
        },
        "id": "4OJtuWGq4D-M",
        "outputId": "7460f2bf-fc60-4e20-bae9-b76dcf4de612"
      },
      "execution_count": null,
      "outputs": [
        {
          "output_type": "stream",
          "name": "stdout",
          "text": [
            "3\n"
          ]
        }
      ]
    },
    {
      "cell_type": "markdown",
      "source": [
        "Observați cum în exemplul de mai jos, la crearea instanței _c1_, s-au dat valori doar pentru parametrii _aa_ și _bb_ din *\\_\\_init__*, primul parametru fiind self, pentru care nu se oferă argument. Metoda _incrementeaza_a()_ nu se apelează cu argumente deoarece are ca unic parametru self (adică instanța)."
      ],
      "metadata": {
        "id": "x2IgD6f24hYA"
      }
    },
    {
      "cell_type": "markdown",
      "source": [
        "Pentru a asigura o afișare frumoasă a elementelor dintr-o clasă putem defini metodele *\\_\\_str__* și *\\_\\_repr__*, ambele având ca rol returnarea unui string reprezentativ pentru instanța curentă.\n",
        "\n",
        "**Când apelăm _print(obiect)_ se scrie ce returnează *\\_\\_str__*. Când apelăm _print(lista_de_obiecte)_ se afișează lista aplicând *\\_\\_repr__* pentru fiecare obiect.**\n",
        "\n",
        "Dacă apelăm _str(obiect)_ obținem stringul returnat de *\\_\\_str__*, iar cu _repr(obiect)_ stringul returnat de *\\_\\_repr__*."
      ],
      "metadata": {
        "id": "67LuLaBR4jjh"
      }
    },
    {
      "cell_type": "code",
      "source": [
        "class Cls:\n",
        "  n = 100\n",
        "  def __init__(self, aa, bb):\n",
        "    self.a = aa\n",
        "    self.b = bb\n",
        "\n",
        "  def __str__(self):\n",
        "    return \"a = {} b = {}\".format(self.a, self.b)\n",
        "  def __repr__(self):\n",
        "    return \"({}, {})\".format(self.a, self.b)"
      ],
      "metadata": {
        "id": "yK2mZCsv4zOl"
      },
      "execution_count": null,
      "outputs": []
    },
    {
      "cell_type": "code",
      "source": [
        "c1 = Cls(2, 5)\n",
        "print(c1)"
      ],
      "metadata": {
        "colab": {
          "base_uri": "https://localhost:8080/"
        },
        "id": "iYfg4LPm5aAx",
        "outputId": "2e53a5a5-d168-460b-f0b0-b7c33f0d170b"
      },
      "execution_count": null,
      "outputs": [
        {
          "output_type": "stream",
          "name": "stdout",
          "text": [
            "a=2 b=5\n"
          ]
        }
      ]
    },
    {
      "cell_type": "code",
      "source": [
        "print(str(c1))"
      ],
      "metadata": {
        "colab": {
          "base_uri": "https://localhost:8080/"
        },
        "id": "SSqIBcAq5bn2",
        "outputId": "13cdd7de-4a7a-4502-896f-c2019b5d6df4"
      },
      "execution_count": null,
      "outputs": [
        {
          "output_type": "stream",
          "name": "stdout",
          "text": [
            "a=2 b=5\n"
          ]
        }
      ]
    },
    {
      "cell_type": "code",
      "source": [
        "print(repr(c1))"
      ],
      "metadata": {
        "colab": {
          "base_uri": "https://localhost:8080/"
        },
        "id": "alMI1rk-5ctG",
        "outputId": "d5ec1bad-3280-4c64-ef50-ac9e3b9bdcff"
      },
      "execution_count": null,
      "outputs": [
        {
          "output_type": "stream",
          "name": "stdout",
          "text": [
            "(2, 5)\n"
          ]
        }
      ]
    },
    {
      "cell_type": "code",
      "source": [
        "c2 = Cls(3, 3)\n",
        "c3 = Cls(4, 1)\n",
        "print([c1, c2, c3])"
      ],
      "metadata": {
        "colab": {
          "base_uri": "https://localhost:8080/"
        },
        "id": "er6bmJ1T411a",
        "outputId": "9fac9388-5667-43a4-dbce-f26eb339ca0e"
      },
      "execution_count": null,
      "outputs": [
        {
          "output_type": "stream",
          "name": "stdout",
          "text": [
            "[(2, 5), (3, 3), (4, 1)]\n"
          ]
        }
      ]
    },
    {
      "cell_type": "markdown",
      "source": [
        "### Operatori"
      ],
      "metadata": {
        "id": "6KtxLT_a5A-g"
      }
    },
    {
      "cell_type": "markdown",
      "source": [
        "Se pot defini operatori pentru elementele unei clase. De exemplu, putem defini operatori de egalitate sau care să determine dacă un element se află într-o relație de ordine față de altul.\n",
        "\n",
        "Pentru clasa de mai sus am putea considera că elementele se ordonează întâi după proprietatea a, apoi după b. Avem operatorii:\n",
        "* *\\_\\_eq__* operația de egalitate\n",
        "* *\\_\\_lt__* operatorul \"<\"\n",
        "* *\\_\\_le__* operatorul \"<=\"\n",
        "* *\\_\\_gt__* operatorul \">\"\n",
        "* *\\_\\_ge__* operatorul pentru \">=\""
      ],
      "metadata": {
        "id": "5mVPzDfl5F22"
      }
    },
    {
      "cell_type": "code",
      "source": [
        "class Cls:\n",
        "  def __init__(self, aa, bb):\n",
        "    self.a = aa\n",
        "    self.b = bb\n",
        "  def __eq__(self, elem):\n",
        "    return (self.a, self.b) == (elem.a, elem.b)\n",
        "  def __lt__(self, elem):\n",
        "    return (self.a, self.b) < (elem.a, elem.b)\n",
        "  def __le__(self, elem):\n",
        "    return (self.a, self.b) <= (elem.a, elem.b)\n",
        "  def __gt__(self, elem):\n",
        "    return (self.a, self.b) > (elem.a, elem.b)\n",
        "  def __ge__(self, elem):\n",
        "    return (self.a, self.b) >= (elem.a, elem.b)\n",
        "\n",
        "c1 = Cls(2,5)\n",
        "c2 = Cls(2,5)\n",
        "c3 = Cls(2,4)"
      ],
      "metadata": {
        "id": "Y42_zZvb5B7_"
      },
      "execution_count": null,
      "outputs": []
    },
    {
      "cell_type": "code",
      "source": [
        "print(c1 < c3)"
      ],
      "metadata": {
        "colab": {
          "base_uri": "https://localhost:8080/"
        },
        "id": "5ba0CZgJ5TGU",
        "outputId": "b1bc813c-39fc-4221-f02e-36d5e91731b7"
      },
      "execution_count": null,
      "outputs": [
        {
          "output_type": "stream",
          "name": "stdout",
          "text": [
            "False\n"
          ]
        }
      ]
    },
    {
      "cell_type": "code",
      "source": [
        "print(c1 >= c3)"
      ],
      "metadata": {
        "colab": {
          "base_uri": "https://localhost:8080/"
        },
        "id": "LkePjbeo5T3h",
        "outputId": "bc875fd1-9926-4cea-deb2-ebb5c049d315"
      },
      "execution_count": null,
      "outputs": [
        {
          "output_type": "stream",
          "name": "stdout",
          "text": [
            "True\n"
          ]
        }
      ]
    },
    {
      "cell_type": "markdown",
      "source": [
        "### Proprietăți și metode de clasă"
      ],
      "metadata": {
        "id": "IbRJIPHB5fp0"
      }
    },
    {
      "cell_type": "markdown",
      "source": [
        "Proprietățile clasei se definesc direct în clasă, de obicei la început.\n",
        "\n",
        "Funcțiile obișnuite se numesc metode de instanțiere.\n",
        "\n",
        "Metodele de clasă vor fi precedate de decoratorul _@classmethod_.\n",
        "\n",
        "Instanțele pot accesa proprietăți și metode de clasă.\n",
        "\n",
        "În momentul în care o instanță încearcă să modifice o proprietate de clasă prin scrierea *instanta.proprietate_clasa = valoare*, nu se va modifica proprietatea clasei ci se va crea o proprietate a instanței cu acelasi nume. Din acel moment instanța nu mai poate accesa (în mod direct) decât propia proprietate cu acel nume:"
      ],
      "metadata": {
        "id": "CqndowXg5g4u"
      }
    },
    {
      "cell_type": "code",
      "source": [
        "class Cls:\n",
        "  n = 100\n",
        "  def __init__(self, aa, bb):\n",
        "    self.a = aa\n",
        "    self.b = bb\n",
        "\n",
        "  @classmethod\n",
        "  def incrementeaza_n(cls):\n",
        "    cls.n += 1"
      ],
      "metadata": {
        "id": "-df6iy7L5Vyg"
      },
      "execution_count": null,
      "outputs": []
    },
    {
      "cell_type": "code",
      "source": [
        "print(Cls.n)"
      ],
      "metadata": {
        "colab": {
          "base_uri": "https://localhost:8080/"
        },
        "id": "sfRB28lh5UrJ",
        "outputId": "dbf1a0d6-59b0-4a5e-c52f-ecdf8fd9db5b"
      },
      "execution_count": null,
      "outputs": [
        {
          "output_type": "stream",
          "name": "stdout",
          "text": [
            "100\n"
          ]
        }
      ]
    },
    {
      "cell_type": "code",
      "source": [
        "c1 = Cls(2, 5)\n",
        "print(c1.n)"
      ],
      "metadata": {
        "colab": {
          "base_uri": "https://localhost:8080/"
        },
        "id": "SCQuIor65sxq",
        "outputId": "375fe104-db77-4c93-cf96-d2e6c8851afb"
      },
      "execution_count": null,
      "outputs": [
        {
          "output_type": "stream",
          "name": "stdout",
          "text": [
            "100\n"
          ]
        }
      ]
    },
    {
      "cell_type": "code",
      "source": [
        "c1.n = 17\n",
        "print(c1.n)\n",
        "print(Cls.n)"
      ],
      "metadata": {
        "colab": {
          "base_uri": "https://localhost:8080/"
        },
        "id": "bpRV_ZUV5u_C",
        "outputId": "40929cb4-2369-4e44-fdf5-4906e766138f"
      },
      "execution_count": null,
      "outputs": [
        {
          "output_type": "stream",
          "name": "stdout",
          "text": [
            "17\n",
            "100\n"
          ]
        }
      ]
    },
    {
      "cell_type": "code",
      "source": [
        "c2 = Cls(2,5)\n",
        "print(c2.n)\n",
        "print(Cls.n)"
      ],
      "metadata": {
        "colab": {
          "base_uri": "https://localhost:8080/"
        },
        "id": "ueobqQ085wgQ",
        "outputId": "3069c35c-eaf5-4716-95b7-27dfa0eb7838"
      },
      "execution_count": null,
      "outputs": [
        {
          "output_type": "stream",
          "name": "stdout",
          "text": [
            "100\n",
            "100\n"
          ]
        }
      ]
    },
    {
      "cell_type": "code",
      "source": [
        "Cls.incrementeaza_n()\n",
        "print(c1.n)\n",
        "print(Cls.n)"
      ],
      "metadata": {
        "colab": {
          "base_uri": "https://localhost:8080/"
        },
        "id": "MooG0dBR5ydt",
        "outputId": "152c3c1d-f7a5-4305-e5e7-0164f1d91e74"
      },
      "execution_count": null,
      "outputs": [
        {
          "output_type": "stream",
          "name": "stdout",
          "text": [
            "17\n",
            "101\n"
          ]
        }
      ]
    },
    {
      "cell_type": "code",
      "source": [
        "c1.incrementeaza_n()\n",
        "print(c1.n)\n",
        "print(c2.n)\n",
        "print(Cls.n)"
      ],
      "metadata": {
        "colab": {
          "base_uri": "https://localhost:8080/"
        },
        "id": "kw0XsKlm59Hj",
        "outputId": "57558144-f75e-4563-dc58-cabf8b9c5dca"
      },
      "execution_count": null,
      "outputs": [
        {
          "output_type": "stream",
          "name": "stdout",
          "text": [
            "17\n",
            "102\n",
            "102\n"
          ]
        }
      ]
    },
    {
      "cell_type": "markdown",
      "source": [
        "### Modulul math"
      ],
      "metadata": {
        "id": "2NWDriju6ad5"
      }
    },
    {
      "cell_type": "markdown",
      "source": [
        "Modulul math este folosit pentru funcții matematice utilizate frecvent:\n",
        "* _floor(numar)_ - returneaza partea întreagă inferioară\n",
        "* _ceil(numar)_ - returnează partea întreagă superioară\n",
        "* _sqrt(numar)_ - returnează rădăcina pătrată a numărului\n",
        "* funcții trigonometrice: _sin(numar)_, _cos(numar)_ etc."
      ],
      "metadata": {
        "id": "qvQJ06976c0n"
      }
    },
    {
      "cell_type": "markdown",
      "source": [
        "### Modulul time"
      ],
      "metadata": {
        "id": "r07MLt8u6iGh"
      }
    },
    {
      "cell_type": "markdown",
      "source": [
        "Uneori avem nevoie să calculăm cât a durat o anumită zonă de cod. Pentru asta putem folosi funcția time() din modulul time. Exemplu:"
      ],
      "metadata": {
        "id": "crXIHbkW6jnn"
      }
    },
    {
      "cell_type": "code",
      "source": [
        "import time\n",
        "\n",
        "t1 = time.time()\n",
        "# zona de cod pentru care dorim sa calculam timpul\n",
        "t2 = time.time()\n",
        "print(t2 - t1)  # in secunde"
      ],
      "metadata": {
        "colab": {
          "base_uri": "https://localhost:8080/"
        },
        "id": "dAl9cWvX6GrL",
        "outputId": "ed93b52e-14c8-44af-bfdd-2282f5ac7d6c"
      },
      "execution_count": null,
      "outputs": [
        {
          "output_type": "stream",
          "name": "stdout",
          "text": [
            "2.5987625122070312e-05\n"
          ]
        }
      ]
    }
  ]
}