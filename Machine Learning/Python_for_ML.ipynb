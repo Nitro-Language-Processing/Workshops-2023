{
  "nbformat": 4,
  "nbformat_minor": 0,
  "metadata": {
    "colab": {
      "provenance": []
    },
    "kernelspec": {
      "name": "python3",
      "display_name": "Python 3"
    },
    "language_info": {
      "name": "python"
    }
  },
  "cells": [
    {
      "cell_type": "markdown",
      "source": [
        "# Python pentru ML"
      ],
      "metadata": {
        "id": "rUJfZyMNbWGy"
      }
    },
    {
      "cell_type": "code",
      "source": [
        "from google.colab import drive\n",
        "drive.mount('/content/drive/')"
      ],
      "metadata": {
        "colab": {
          "base_uri": "https://localhost:8080/"
        },
        "id": "YB7ghb9BzWMu",
        "outputId": "e347fde4-c053-4e45-cc0b-ce2c69372e41"
      },
      "execution_count": null,
      "outputs": [
        {
          "output_type": "stream",
          "name": "stdout",
          "text": [
            "Drive already mounted at /content/drive/; to attempt to forcibly remount, call drive.mount(\"/content/drive/\", force_remount=True).\n"
          ]
        }
      ]
    },
    {
      "cell_type": "code",
      "source": [
        "import os\n",
        "os.chdir(\"/content/drive/MyDrive/2nd Edition -- 2023/Workshops\")"
      ],
      "metadata": {
        "id": "tiIX__CP5OE1"
      },
      "execution_count": null,
      "outputs": []
    },
    {
      "cell_type": "markdown",
      "source": [
        "## NumPy"
      ],
      "metadata": {
        "id": "ooV1gkgInwJf"
      }
    },
    {
      "cell_type": "markdown",
      "source": [
        "Numpy vine de la \"numerical python\". Este un modul Python folosit pentru calculul optimizat și paralelizarea operațiilor între numpy array-uri. Librăria este scrisă în C pentru a fi mai rapidă. O moștenire a limbajului C o reprezintă chiar tipurile de date pe care le poate avea un numpy array"
      ],
      "metadata": {
        "id": "TaLMTU6BpDMa"
      }
    },
    {
      "cell_type": "code",
      "source": [
        "import numpy as np"
      ],
      "metadata": {
        "id": "IaYe2iE6pEMK"
      },
      "execution_count": null,
      "outputs": []
    },
    {
      "cell_type": "markdown",
      "source": [
        "Putem inițializa un numpy array folosind o listă din Python:"
      ],
      "metadata": {
        "id": "FKUwSFT-pMyq"
      }
    },
    {
      "cell_type": "code",
      "source": [
        "a = np.array([1, 2, 3], dtype='int')\n",
        "\n",
        "print(a)\n",
        "print(type(a))\n",
        "print(a.dtype)\n",
        "print(a.shape)\n",
        "print(a[0])"
      ],
      "metadata": {
        "colab": {
          "base_uri": "https://localhost:8080/"
        },
        "id": "HVTJgoHMpOFq",
        "outputId": "79bd771c-bd8b-46e6-bb46-b8fa9f4dfa59"
      },
      "execution_count": null,
      "outputs": [
        {
          "output_type": "stream",
          "name": "stdout",
          "text": [
            "[1 2 3]\n",
            "<class 'numpy.ndarray'>\n",
            "int64\n",
            "(3,)\n",
            "1\n"
          ]
        }
      ]
    },
    {
      "cell_type": "markdown",
      "source": [
        "Sau putem folosi funcții predefinite. _np.zeros()_ creează un vector conținând numai 0:"
      ],
      "metadata": {
        "id": "AF537CEXpZ4h"
      }
    },
    {
      "cell_type": "code",
      "source": [
        "zero_array = np.zeros((3, 2))\n",
        "print(zero_array)"
      ],
      "metadata": {
        "colab": {
          "base_uri": "https://localhost:8080/"
        },
        "id": "XzvdgTJGpqTI",
        "outputId": "78d35565-5e92-4fa4-ad49-2e97bb5973a7"
      },
      "execution_count": null,
      "outputs": [
        {
          "output_type": "stream",
          "name": "stdout",
          "text": [
            "[[0. 0.]\n",
            " [0. 0.]\n",
            " [0. 0.]]\n"
          ]
        }
      ]
    },
    {
      "cell_type": "markdown",
      "source": [
        "_np.full()_ creează un vector constant:"
      ],
      "metadata": {
        "id": "-NOoA7h4R2RQ"
      }
    },
    {
      "cell_type": "code",
      "source": [
        "constant_array = np.full((2, 2), 8)\n",
        "print(constant_array)"
      ],
      "metadata": {
        "colab": {
          "base_uri": "https://localhost:8080/"
        },
        "id": "eucN_efEpd14",
        "outputId": "aab495d6-9b07-489f-ce9d-7af1854a7499"
      },
      "execution_count": null,
      "outputs": [
        {
          "output_type": "stream",
          "name": "stdout",
          "text": [
            "[[8 8]\n",
            " [8 8]]\n"
          ]
        }
      ]
    },
    {
      "cell_type": "markdown",
      "source": [
        "_np.random()_ creează un vector cu valori aleatoare uniform distribuite între [0, 1):"
      ],
      "metadata": {
        "id": "uCFbYXGxSAl8"
      }
    },
    {
      "cell_type": "code",
      "source": [
        "random_array = np.random.random((1, 2))\n",
        "print(random_array)"
      ],
      "metadata": {
        "colab": {
          "base_uri": "https://localhost:8080/"
        },
        "id": "BSxKb-1HpuDQ",
        "outputId": "ee3eb349-2f96-4d82-8245-94900bdfcd65"
      },
      "execution_count": null,
      "outputs": [
        {
          "output_type": "stream",
          "name": "stdout",
          "text": [
            "[[0.92506287 0.99602784]]\n"
          ]
        }
      ]
    },
    {
      "cell_type": "markdown",
      "source": [
        "_np.linspace()_ creează un vector de elemente egal depărtate din intervalul [0, 1], în care primul element e 0 și ultimul element e 1:"
      ],
      "metadata": {
        "id": "GytKPve1SHW3"
      }
    },
    {
      "cell_type": "code",
      "source": [
        "eqdist_array = np.linspace(0, 1, 100)\n",
        "print(eqdist_array)"
      ],
      "metadata": {
        "colab": {
          "base_uri": "https://localhost:8080/"
        },
        "id": "qRYyQA43p0aK",
        "outputId": "08ca4444-0e8e-4210-97a6-64dc2bf263b4"
      },
      "execution_count": null,
      "outputs": [
        {
          "output_type": "stream",
          "name": "stdout",
          "text": [
            "[0.         0.01010101 0.02020202 0.03030303 0.04040404 0.05050505\n",
            " 0.06060606 0.07070707 0.08080808 0.09090909 0.1010101  0.11111111\n",
            " 0.12121212 0.13131313 0.14141414 0.15151515 0.16161616 0.17171717\n",
            " 0.18181818 0.19191919 0.2020202  0.21212121 0.22222222 0.23232323\n",
            " 0.24242424 0.25252525 0.26262626 0.27272727 0.28282828 0.29292929\n",
            " 0.3030303  0.31313131 0.32323232 0.33333333 0.34343434 0.35353535\n",
            " 0.36363636 0.37373737 0.38383838 0.39393939 0.4040404  0.41414141\n",
            " 0.42424242 0.43434343 0.44444444 0.45454545 0.46464646 0.47474747\n",
            " 0.48484848 0.49494949 0.50505051 0.51515152 0.52525253 0.53535354\n",
            " 0.54545455 0.55555556 0.56565657 0.57575758 0.58585859 0.5959596\n",
            " 0.60606061 0.61616162 0.62626263 0.63636364 0.64646465 0.65656566\n",
            " 0.66666667 0.67676768 0.68686869 0.6969697  0.70707071 0.71717172\n",
            " 0.72727273 0.73737374 0.74747475 0.75757576 0.76767677 0.77777778\n",
            " 0.78787879 0.7979798  0.80808081 0.81818182 0.82828283 0.83838384\n",
            " 0.84848485 0.85858586 0.86868687 0.87878788 0.88888889 0.8989899\n",
            " 0.90909091 0.91919192 0.92929293 0.93939394 0.94949495 0.95959596\n",
            " 0.96969697 0.97979798 0.98989899 1.        ]\n"
          ]
        }
      ]
    },
    {
      "cell_type": "markdown",
      "source": [
        "## Filtre"
      ],
      "metadata": {
        "id": "ceT3uGoJWN1A"
      }
    },
    {
      "cell_type": "markdown",
      "source": [
        "Uneori este util să putem filtra o submulțime a unui array. Putem face acest lucru folosind slice-uri pe liste, prin liste de indici sau chiar prin condiții dependente de valori:"
      ],
      "metadata": {
        "id": "YzZ8KipUqr6R"
      }
    },
    {
      "cell_type": "code",
      "source": [
        "array_to_slice = np.array([[1, 2, 3, 4], [5, 6, 7, 8], [9, 10, 11, 12]])\n",
        "slice = array_to_slice[:, 0:3]\n",
        "print(slice)"
      ],
      "metadata": {
        "colab": {
          "base_uri": "https://localhost:8080/"
        },
        "id": "WsqQuu0TqyRO",
        "outputId": "1ab5edb6-2218-4d51-9d73-4c7cb26c2e79"
      },
      "execution_count": null,
      "outputs": [
        {
          "output_type": "stream",
          "name": "stdout",
          "text": [
            "[[ 1  2  3]\n",
            " [ 5  6  7]\n",
            " [ 9 10 11]]\n"
          ]
        }
      ]
    },
    {
      "cell_type": "code",
      "source": [
        "slice[0][0] = 20\n",
        "\n",
        "print(slice)\n",
        "print()\n",
        "print(array_to_slice)"
      ],
      "metadata": {
        "colab": {
          "base_uri": "https://localhost:8080/"
        },
        "id": "gJ_iX819TNrY",
        "outputId": "0829804b-32a3-41f4-9069-baba9d7533e5"
      },
      "execution_count": null,
      "outputs": [
        {
          "output_type": "stream",
          "name": "stdout",
          "text": [
            "[[20  2  3]\n",
            " [ 5  6  7]\n",
            " [ 9 10 11]]\n",
            "\n",
            "[[20  2  3  4]\n",
            " [ 5  6  7  8]\n",
            " [ 9 10 11 12]]\n"
          ]
        }
      ]
    },
    {
      "cell_type": "markdown",
      "source": [
        "**Atenție!** Modificarea listei _slice_ duce automat la modificarea listei *array_to_slice*. Pentru a evita acest lucru submulțimea poate fi copiată:"
      ],
      "metadata": {
        "id": "joRJJTxgq97p"
      }
    },
    {
      "cell_type": "code",
      "source": [
        "slice_copy = np.copy(array_to_slice[:, 0:3])\n",
        "slice_copy[0][0] = 100\n",
        "\n",
        "print(slice_copy, '\\n\\n', array_to_slice)"
      ],
      "metadata": {
        "colab": {
          "base_uri": "https://localhost:8080/"
        },
        "id": "HlDXLBFzrGzw",
        "outputId": "8b242592-fe79-4049-8b0d-32bd6718479b"
      },
      "execution_count": null,
      "outputs": [
        {
          "output_type": "stream",
          "name": "stdout",
          "text": [
            "[[100   2   3]\n",
            " [  5   6   7]\n",
            " [  9  10  11]] \n",
            "\n",
            " [[20  2  3  4]\n",
            " [ 5  6  7  8]\n",
            " [ 9 10 11 12]]\n"
          ]
        }
      ]
    },
    {
      "cell_type": "markdown",
      "source": [
        "Pentru a selecta toate elementele mai mari ca 10 dintr-o listă oarecare:"
      ],
      "metadata": {
        "id": "0oYzgtARVkDQ"
      }
    },
    {
      "cell_type": "code",
      "source": [
        "bool_comp = [i for line in array_to_slice for i in line if i > 10]\n",
        "bool_comp"
      ],
      "metadata": {
        "colab": {
          "base_uri": "https://localhost:8080/"
        },
        "id": "8dpwhcXZrjGG",
        "outputId": "430f6565-f219-46b3-e715-5ced1f2ef678"
      },
      "execution_count": null,
      "outputs": [
        {
          "output_type": "execute_result",
          "data": {
            "text/plain": [
              "[20, 11, 12]"
            ]
          },
          "metadata": {},
          "execution_count": 32
        }
      ]
    },
    {
      "cell_type": "markdown",
      "source": [
        "Pentru a selecta toate elementele mai mari ca 10 dintr-un numpy array:"
      ],
      "metadata": {
        "id": "CeXqq98GrM1O"
      }
    },
    {
      "cell_type": "code",
      "source": [
        "bool_idx = (array_to_slice > 10)\n",
        "print(bool_idx)"
      ],
      "metadata": {
        "colab": {
          "base_uri": "https://localhost:8080/"
        },
        "id": "9U4_hy5VrOWp",
        "outputId": "7e27d557-190b-41f4-a4cf-a992d482cef5"
      },
      "execution_count": null,
      "outputs": [
        {
          "output_type": "stream",
          "name": "stdout",
          "text": [
            "[[ True False False False]\n",
            " [False False False False]\n",
            " [False False  True  True]]\n"
          ]
        }
      ]
    },
    {
      "cell_type": "markdown",
      "source": [
        "Rezultatul este o matrice de aceeași dimensiune ca *array_to_slice* în care fiecare element constă într-o valoare bool astfel:\n",
        "- True, dacă elementul corespunzator din *array_to_slice* > 10\n",
        "- False, dacă elementul corespunzator din *array_to_slice* <= 10\n",
        "\n",
        "Acum ne putem folosi direct de matricea de boolene formată pentru a identifica numerele mai mari ca 10:"
      ],
      "metadata": {
        "id": "6DWikSXRrTBc"
      }
    },
    {
      "cell_type": "code",
      "source": [
        "print(array_to_slice[bool_idx])"
      ],
      "metadata": {
        "colab": {
          "base_uri": "https://localhost:8080/"
        },
        "id": "pu5ztuNbrfQs",
        "outputId": "387e53c4-0781-4487-ad01-925732966954"
      },
      "execution_count": null,
      "outputs": [
        {
          "output_type": "stream",
          "name": "stdout",
          "text": [
            "[20 11 12]\n"
          ]
        }
      ]
    },
    {
      "cell_type": "markdown",
      "source": [
        "Acest lucru este echivalent cu a scrie:"
      ],
      "metadata": {
        "id": "SaWFglWoVR4j"
      }
    },
    {
      "cell_type": "code",
      "source": [
        "print(array_to_slice[array_to_slice > 10])"
      ],
      "metadata": {
        "colab": {
          "base_uri": "https://localhost:8080/"
        },
        "id": "iUmtgbZMVUuS",
        "outputId": "91b3249a-af4d-4cf4-ee75-b9b51f45a6e3"
      },
      "execution_count": null,
      "outputs": [
        {
          "output_type": "stream",
          "name": "stdout",
          "text": [
            "[20 11 12]\n"
          ]
        }
      ]
    },
    {
      "cell_type": "markdown",
      "source": [
        "## Operații"
      ],
      "metadata": {
        "id": "8nsy8AX0WGa3"
      }
    },
    {
      "cell_type": "markdown",
      "source": [
        "Operațiile matematice de bază sunt disponibile atât ca funcții numpy cât și ca operatori. Ele sunt aplicate element cu element:"
      ],
      "metadata": {
        "id": "4QX3cyx5rtoV"
      }
    },
    {
      "cell_type": "code",
      "source": [
        "x = np.array([[1, 2], [3, 4]], dtype=np.float64)\n",
        "y = np.array([[5, 6], [7, 8]], dtype=np.float64)"
      ],
      "metadata": {
        "id": "MaPWzdFBru9i"
      },
      "execution_count": null,
      "outputs": []
    },
    {
      "cell_type": "markdown",
      "source": [
        "Suma element cu element:"
      ],
      "metadata": {
        "id": "VKo0nQuIrwuB"
      }
    },
    {
      "cell_type": "code",
      "source": [
        "print(x + y)\n",
        "print(np.add(x, y))"
      ],
      "metadata": {
        "colab": {
          "base_uri": "https://localhost:8080/"
        },
        "id": "UEH6QYf4rzaN",
        "outputId": "c425a489-b55c-4100-fb67-b144542880c7"
      },
      "execution_count": null,
      "outputs": [
        {
          "output_type": "stream",
          "name": "stdout",
          "text": [
            "[[ 6.  8.]\n",
            " [10. 12.]]\n",
            "[[ 6.  8.]\n",
            " [10. 12.]]\n"
          ]
        }
      ]
    },
    {
      "cell_type": "markdown",
      "source": [
        "Înmulțirea:"
      ],
      "metadata": {
        "id": "TZvXTIRwr5oF"
      }
    },
    {
      "cell_type": "code",
      "source": [
        "print(np.matmul(x, y))"
      ],
      "metadata": {
        "colab": {
          "base_uri": "https://localhost:8080/"
        },
        "id": "kJ_hpPL0r4T5",
        "outputId": "b907ebf1-2121-442d-c357-4a966a8aeb69"
      },
      "execution_count": null,
      "outputs": [
        {
          "output_type": "stream",
          "name": "stdout",
          "text": [
            "[[19. 22.]\n",
            " [43. 50.]]\n"
          ]
        }
      ]
    },
    {
      "cell_type": "markdown",
      "source": [
        "Transpusa unei matrice:"
      ],
      "metadata": {
        "id": "UYU77XuIr61p"
      }
    },
    {
      "cell_type": "code",
      "source": [
        "print(x.T)"
      ],
      "metadata": {
        "colab": {
          "base_uri": "https://localhost:8080/"
        },
        "id": "2WsIDpAfr9jE",
        "outputId": "97ec11d6-b65e-4026-b4e9-e33b212fcc9f"
      },
      "execution_count": null,
      "outputs": [
        {
          "output_type": "stream",
          "name": "stdout",
          "text": [
            "[[1. 3.]\n",
            " [2. 4.]]\n"
          ]
        }
      ]
    },
    {
      "cell_type": "markdown",
      "source": [
        "Inversa:"
      ],
      "metadata": {
        "id": "yN_5geKor_J1"
      }
    },
    {
      "cell_type": "code",
      "source": [
        "print(np.linalg.inv(x))"
      ],
      "metadata": {
        "colab": {
          "base_uri": "https://localhost:8080/"
        },
        "id": "IDPhfi5Ir_td",
        "outputId": "ec9f034f-5443-4690-fcea-f438b5dc63f5"
      },
      "execution_count": null,
      "outputs": [
        {
          "output_type": "stream",
          "name": "stdout",
          "text": [
            "[[-2.   1. ]\n",
            " [ 1.5 -0.5]]\n"
          ]
        }
      ]
    },
    {
      "cell_type": "markdown",
      "source": [
        "Până acum am făcut operații pe matrice complete, dar Numpy dispune și de funcții care ne permit să realizăm operații pe o anumită dimensiune."
      ],
      "metadata": {
        "id": "nqX3VOS0sDtz"
      }
    },
    {
      "cell_type": "markdown",
      "source": [
        "Suma tuturor elementelor:"
      ],
      "metadata": {
        "id": "H2iJhSP9sGRo"
      }
    },
    {
      "cell_type": "code",
      "source": [
        "print(np.sum(x))"
      ],
      "metadata": {
        "colab": {
          "base_uri": "https://localhost:8080/"
        },
        "id": "e4Kx1yaScich",
        "outputId": "1cbf8ed7-4308-4dcd-e521-82fb4879eb78"
      },
      "execution_count": null,
      "outputs": [
        {
          "output_type": "stream",
          "name": "stdout",
          "text": [
            "10.0\n"
          ]
        }
      ]
    },
    {
      "cell_type": "markdown",
      "source": [
        "Suma pe coloane:"
      ],
      "metadata": {
        "id": "L0mAZF5Mcfg6"
      }
    },
    {
      "cell_type": "code",
      "source": [
        "print(np.sum(x, axis=0))"
      ],
      "metadata": {
        "colab": {
          "base_uri": "https://localhost:8080/"
        },
        "id": "U13nnw0EcjKK",
        "outputId": "285416ff-a75a-49af-8752-daa0784299fc"
      },
      "execution_count": null,
      "outputs": [
        {
          "output_type": "stream",
          "name": "stdout",
          "text": [
            "[4. 6.]\n"
          ]
        }
      ]
    },
    {
      "cell_type": "markdown",
      "source": [
        "Suma pe linii:"
      ],
      "metadata": {
        "id": "ZVBkO9rfchG_"
      }
    },
    {
      "cell_type": "code",
      "source": [
        "print(np.sum(x, axis=1))"
      ],
      "metadata": {
        "colab": {
          "base_uri": "https://localhost:8080/"
        },
        "id": "o1S2UJ0ZsHys",
        "outputId": "0bf1b812-6cc4-435c-c524-24a5bf0a9d8f"
      },
      "execution_count": null,
      "outputs": [
        {
          "output_type": "stream",
          "name": "stdout",
          "text": [
            "[3. 7.]\n"
          ]
        }
      ]
    },
    {
      "cell_type": "markdown",
      "source": [
        "Putem specifica și mai multe axe pe care să facem operațiile:"
      ],
      "metadata": {
        "id": "nQFNokU3sJfW"
      }
    },
    {
      "cell_type": "code",
      "source": [
        "print(np.sum(x, axis=(0, 1)))"
      ],
      "metadata": {
        "colab": {
          "base_uri": "https://localhost:8080/"
        },
        "id": "L34DwHx1sMNy",
        "outputId": "f19ea31c-e879-4080-84a0-1ce791ca6e1f"
      },
      "execution_count": null,
      "outputs": [
        {
          "output_type": "stream",
          "name": "stdout",
          "text": [
            "10.0\n"
          ]
        }
      ]
    },
    {
      "cell_type": "markdown",
      "source": [
        "Evident, suma nu este unica operație la care avem acces. Printre altele, mai avem media:"
      ],
      "metadata": {
        "id": "PJh-F4qoc0WX"
      }
    },
    {
      "cell_type": "code",
      "source": [
        "print(np.mean(x, axis=0))"
      ],
      "metadata": {
        "colab": {
          "base_uri": "https://localhost:8080/"
        },
        "id": "ew9Koxq4sPKn",
        "outputId": "c5ef3cc8-810c-4162-b102-0ed47e463280"
      },
      "execution_count": null,
      "outputs": [
        {
          "output_type": "stream",
          "name": "stdout",
          "text": [
            "[2. 3.]\n"
          ]
        }
      ]
    },
    {
      "cell_type": "markdown",
      "source": [
        "și indexul elementului maxim:"
      ],
      "metadata": {
        "id": "qS8Lf_y4sQx1"
      }
    },
    {
      "cell_type": "code",
      "source": [
        "print(np.argmax(x, axis=1))"
      ],
      "metadata": {
        "colab": {
          "base_uri": "https://localhost:8080/"
        },
        "id": "CSQImiZFsS0B",
        "outputId": "7f26b5dc-0796-419a-eb27-f28349672a1d"
      },
      "execution_count": null,
      "outputs": [
        {
          "output_type": "stream",
          "name": "stdout",
          "text": [
            "[1 1]\n"
          ]
        }
      ]
    },
    {
      "cell_type": "markdown",
      "source": [
        "## Pandas"
      ],
      "metadata": {
        "id": "iE7rrt86nyo2"
      }
    },
    {
      "cell_type": "markdown",
      "source": [
        "Pandas vine de la \"Python Data Analysis Library\". Este un modul folosit pentru lucrul cu date tabulare. Obiectul de lucru de data aceasta nu mai este numpy array-ul, care poate avea până la n dimensiuni, ci dataframe-ul. Dataframe-ul este practic un tabel cu mai multe rânduri și coloane. Vom considera fiecare coloană ca fiind un feature, o trăsătură a datelor cu care lucrăm, iar fiecare rând/linie din tabel va fi denumit record sau datapoint.\n",
        "\n",
        "Asemănarea cu Numpy se păstrează în ceea ce privește tipurile pe care le pot avea elementele din celulele din tabel."
      ],
      "metadata": {
        "id": "acCwGH4Idlwa"
      }
    },
    {
      "cell_type": "code",
      "source": [
        "import pandas as pd\n",
        "\n",
        "filepath = \"./beer_profile_and_ratings.csv\""
      ],
      "metadata": {
        "id": "UMr4qZqYo7Jp"
      },
      "execution_count": null,
      "outputs": []
    },
    {
      "cell_type": "markdown",
      "source": [
        "Citirea unui dataframe:"
      ],
      "metadata": {
        "id": "Qd_n1dmUqNcJ"
      }
    },
    {
      "cell_type": "code",
      "source": [
        "df = pd.read_csv(filepath)"
      ],
      "metadata": {
        "id": "ggMMYcamqQJ0"
      },
      "execution_count": null,
      "outputs": []
    },
    {
      "cell_type": "markdown",
      "source": [
        "Salvare unui dataframe:\n"
      ],
      "metadata": {
        "id": "NKclIrDMqQxw"
      }
    },
    {
      "cell_type": "code",
      "source": [
        "df.to_csv(\"./my_dataframe.csv\")"
      ],
      "metadata": {
        "id": "5ekgTd7LqUpy"
      },
      "execution_count": null,
      "outputs": []
    },
    {
      "cell_type": "markdown",
      "source": [
        "Putem vedea primele N linii dintr-un dataframe. Valoarea default pentru numărul de linii afișate este 5:"
      ],
      "metadata": {
        "id": "XwrzEyj-qYF5"
      }
    },
    {
      "cell_type": "code",
      "source": [
        "df.head()"
      ],
      "metadata": {
        "colab": {
          "base_uri": "https://localhost:8080/",
          "height": 629
        },
        "id": "TdxJS8XLqa5M",
        "outputId": "7ec6629b-419d-434f-ecf1-eca37725c503"
      },
      "execution_count": null,
      "outputs": [
        {
          "output_type": "execute_result",
          "data": {
            "text/plain": [
              "                           Name    Style  \\\n",
              "0                         Amber  Altbier   \n",
              "1                    Double Bag  Altbier   \n",
              "2                Long Trail Ale  Altbier   \n",
              "3                  Doppelsticke  Altbier   \n",
              "4  Sleigh'r Dark Doüble Alt Ale  Altbier   \n",
              "\n",
              "                                            Brewery  \\\n",
              "0                               Alaskan Brewing Co.   \n",
              "1                            Long Trail Brewing Co.   \n",
              "2                            Long Trail Brewing Co.   \n",
              "3  Uerige Obergärige Hausbrauerei GmbH / Zum Uerige   \n",
              "4                           Ninkasi Brewing Company   \n",
              "\n",
              "                                    Beer Name (Full)  \\\n",
              "0                  Alaskan Brewing Co. Alaskan Amber   \n",
              "1                  Long Trail Brewing Co. Double Bag   \n",
              "2              Long Trail Brewing Co. Long Trail Ale   \n",
              "3  Uerige Obergärige Hausbrauerei GmbH / Zum Ueri...   \n",
              "4  Ninkasi Brewing Company Sleigh'r Dark Doüble A...   \n",
              "\n",
              "                                         Description  ABV  Min IBU  Max IBU  \\\n",
              "0  Notes:Richly malty and long on the palate, wit...  5.3       25       50   \n",
              "1  Notes:This malty, full-bodied double alt is al...  7.2       25       50   \n",
              "2  Notes:Long Trail Ale is a full-bodied amber al...  5.0       25       50   \n",
              "3                                             Notes:  8.5       25       50   \n",
              "4  Notes:Called 'Dark Double Alt' on the label.Se...  7.2       25       50   \n",
              "\n",
              "   Astringency  Body  ...  Fruits  Hoppy  Spices  Malty  review_aroma  \\\n",
              "0           13    32  ...      33     57       8    111      3.498994   \n",
              "1           12    57  ...      24     35      12     84      3.798337   \n",
              "2           14    37  ...      10     54       4     62      3.409814   \n",
              "3           13    55  ...      49     40      16    119      4.148098   \n",
              "4           25    51  ...      11     51      20     95      3.625000   \n",
              "\n",
              "   review_appearance  review_palate  review_taste  review_overall  \\\n",
              "0           3.636821       3.556338      3.643863        3.847082   \n",
              "1           3.846154       3.904366      4.024948        4.034304   \n",
              "2           3.667109       3.600796      3.631300        3.830239   \n",
              "3           4.033967       4.150815      4.205163        4.005435   \n",
              "4           3.973958       3.734375      3.765625        3.817708   \n",
              "\n",
              "   number_of_reviews  \n",
              "0                497  \n",
              "1                481  \n",
              "2                377  \n",
              "3                368  \n",
              "4                 96  \n",
              "\n",
              "[5 rows x 25 columns]"
            ],
            "text/html": [
              "\n",
              "  <div id=\"df-de182254-88ca-4972-8dd5-6ca452a02b10\">\n",
              "    <div class=\"colab-df-container\">\n",
              "      <div>\n",
              "<style scoped>\n",
              "    .dataframe tbody tr th:only-of-type {\n",
              "        vertical-align: middle;\n",
              "    }\n",
              "\n",
              "    .dataframe tbody tr th {\n",
              "        vertical-align: top;\n",
              "    }\n",
              "\n",
              "    .dataframe thead th {\n",
              "        text-align: right;\n",
              "    }\n",
              "</style>\n",
              "<table border=\"1\" class=\"dataframe\">\n",
              "  <thead>\n",
              "    <tr style=\"text-align: right;\">\n",
              "      <th></th>\n",
              "      <th>Name</th>\n",
              "      <th>Style</th>\n",
              "      <th>Brewery</th>\n",
              "      <th>Beer Name (Full)</th>\n",
              "      <th>Description</th>\n",
              "      <th>ABV</th>\n",
              "      <th>Min IBU</th>\n",
              "      <th>Max IBU</th>\n",
              "      <th>Astringency</th>\n",
              "      <th>Body</th>\n",
              "      <th>...</th>\n",
              "      <th>Fruits</th>\n",
              "      <th>Hoppy</th>\n",
              "      <th>Spices</th>\n",
              "      <th>Malty</th>\n",
              "      <th>review_aroma</th>\n",
              "      <th>review_appearance</th>\n",
              "      <th>review_palate</th>\n",
              "      <th>review_taste</th>\n",
              "      <th>review_overall</th>\n",
              "      <th>number_of_reviews</th>\n",
              "    </tr>\n",
              "  </thead>\n",
              "  <tbody>\n",
              "    <tr>\n",
              "      <th>0</th>\n",
              "      <td>Amber</td>\n",
              "      <td>Altbier</td>\n",
              "      <td>Alaskan Brewing Co.</td>\n",
              "      <td>Alaskan Brewing Co. Alaskan Amber</td>\n",
              "      <td>Notes:Richly malty and long on the palate, wit...</td>\n",
              "      <td>5.3</td>\n",
              "      <td>25</td>\n",
              "      <td>50</td>\n",
              "      <td>13</td>\n",
              "      <td>32</td>\n",
              "      <td>...</td>\n",
              "      <td>33</td>\n",
              "      <td>57</td>\n",
              "      <td>8</td>\n",
              "      <td>111</td>\n",
              "      <td>3.498994</td>\n",
              "      <td>3.636821</td>\n",
              "      <td>3.556338</td>\n",
              "      <td>3.643863</td>\n",
              "      <td>3.847082</td>\n",
              "      <td>497</td>\n",
              "    </tr>\n",
              "    <tr>\n",
              "      <th>1</th>\n",
              "      <td>Double Bag</td>\n",
              "      <td>Altbier</td>\n",
              "      <td>Long Trail Brewing Co.</td>\n",
              "      <td>Long Trail Brewing Co. Double Bag</td>\n",
              "      <td>Notes:This malty, full-bodied double alt is al...</td>\n",
              "      <td>7.2</td>\n",
              "      <td>25</td>\n",
              "      <td>50</td>\n",
              "      <td>12</td>\n",
              "      <td>57</td>\n",
              "      <td>...</td>\n",
              "      <td>24</td>\n",
              "      <td>35</td>\n",
              "      <td>12</td>\n",
              "      <td>84</td>\n",
              "      <td>3.798337</td>\n",
              "      <td>3.846154</td>\n",
              "      <td>3.904366</td>\n",
              "      <td>4.024948</td>\n",
              "      <td>4.034304</td>\n",
              "      <td>481</td>\n",
              "    </tr>\n",
              "    <tr>\n",
              "      <th>2</th>\n",
              "      <td>Long Trail Ale</td>\n",
              "      <td>Altbier</td>\n",
              "      <td>Long Trail Brewing Co.</td>\n",
              "      <td>Long Trail Brewing Co. Long Trail Ale</td>\n",
              "      <td>Notes:Long Trail Ale is a full-bodied amber al...</td>\n",
              "      <td>5.0</td>\n",
              "      <td>25</td>\n",
              "      <td>50</td>\n",
              "      <td>14</td>\n",
              "      <td>37</td>\n",
              "      <td>...</td>\n",
              "      <td>10</td>\n",
              "      <td>54</td>\n",
              "      <td>4</td>\n",
              "      <td>62</td>\n",
              "      <td>3.409814</td>\n",
              "      <td>3.667109</td>\n",
              "      <td>3.600796</td>\n",
              "      <td>3.631300</td>\n",
              "      <td>3.830239</td>\n",
              "      <td>377</td>\n",
              "    </tr>\n",
              "    <tr>\n",
              "      <th>3</th>\n",
              "      <td>Doppelsticke</td>\n",
              "      <td>Altbier</td>\n",
              "      <td>Uerige Obergärige Hausbrauerei GmbH / Zum Uerige</td>\n",
              "      <td>Uerige Obergärige Hausbrauerei GmbH / Zum Ueri...</td>\n",
              "      <td>Notes:</td>\n",
              "      <td>8.5</td>\n",
              "      <td>25</td>\n",
              "      <td>50</td>\n",
              "      <td>13</td>\n",
              "      <td>55</td>\n",
              "      <td>...</td>\n",
              "      <td>49</td>\n",
              "      <td>40</td>\n",
              "      <td>16</td>\n",
              "      <td>119</td>\n",
              "      <td>4.148098</td>\n",
              "      <td>4.033967</td>\n",
              "      <td>4.150815</td>\n",
              "      <td>4.205163</td>\n",
              "      <td>4.005435</td>\n",
              "      <td>368</td>\n",
              "    </tr>\n",
              "    <tr>\n",
              "      <th>4</th>\n",
              "      <td>Sleigh'r Dark Doüble Alt Ale</td>\n",
              "      <td>Altbier</td>\n",
              "      <td>Ninkasi Brewing Company</td>\n",
              "      <td>Ninkasi Brewing Company Sleigh'r Dark Doüble A...</td>\n",
              "      <td>Notes:Called 'Dark Double Alt' on the label.Se...</td>\n",
              "      <td>7.2</td>\n",
              "      <td>25</td>\n",
              "      <td>50</td>\n",
              "      <td>25</td>\n",
              "      <td>51</td>\n",
              "      <td>...</td>\n",
              "      <td>11</td>\n",
              "      <td>51</td>\n",
              "      <td>20</td>\n",
              "      <td>95</td>\n",
              "      <td>3.625000</td>\n",
              "      <td>3.973958</td>\n",
              "      <td>3.734375</td>\n",
              "      <td>3.765625</td>\n",
              "      <td>3.817708</td>\n",
              "      <td>96</td>\n",
              "    </tr>\n",
              "  </tbody>\n",
              "</table>\n",
              "<p>5 rows × 25 columns</p>\n",
              "</div>\n",
              "      <button class=\"colab-df-convert\" onclick=\"convertToInteractive('df-de182254-88ca-4972-8dd5-6ca452a02b10')\"\n",
              "              title=\"Convert this dataframe to an interactive table.\"\n",
              "              style=\"display:none;\">\n",
              "        \n",
              "  <svg xmlns=\"http://www.w3.org/2000/svg\" height=\"24px\"viewBox=\"0 0 24 24\"\n",
              "       width=\"24px\">\n",
              "    <path d=\"M0 0h24v24H0V0z\" fill=\"none\"/>\n",
              "    <path d=\"M18.56 5.44l.94 2.06.94-2.06 2.06-.94-2.06-.94-.94-2.06-.94 2.06-2.06.94zm-11 1L8.5 8.5l.94-2.06 2.06-.94-2.06-.94L8.5 2.5l-.94 2.06-2.06.94zm10 10l.94 2.06.94-2.06 2.06-.94-2.06-.94-.94-2.06-.94 2.06-2.06.94z\"/><path d=\"M17.41 7.96l-1.37-1.37c-.4-.4-.92-.59-1.43-.59-.52 0-1.04.2-1.43.59L10.3 9.45l-7.72 7.72c-.78.78-.78 2.05 0 2.83L4 21.41c.39.39.9.59 1.41.59.51 0 1.02-.2 1.41-.59l7.78-7.78 2.81-2.81c.8-.78.8-2.07 0-2.86zM5.41 20L4 18.59l7.72-7.72 1.47 1.35L5.41 20z\"/>\n",
              "  </svg>\n",
              "      </button>\n",
              "      \n",
              "  <style>\n",
              "    .colab-df-container {\n",
              "      display:flex;\n",
              "      flex-wrap:wrap;\n",
              "      gap: 12px;\n",
              "    }\n",
              "\n",
              "    .colab-df-convert {\n",
              "      background-color: #E8F0FE;\n",
              "      border: none;\n",
              "      border-radius: 50%;\n",
              "      cursor: pointer;\n",
              "      display: none;\n",
              "      fill: #1967D2;\n",
              "      height: 32px;\n",
              "      padding: 0 0 0 0;\n",
              "      width: 32px;\n",
              "    }\n",
              "\n",
              "    .colab-df-convert:hover {\n",
              "      background-color: #E2EBFA;\n",
              "      box-shadow: 0px 1px 2px rgba(60, 64, 67, 0.3), 0px 1px 3px 1px rgba(60, 64, 67, 0.15);\n",
              "      fill: #174EA6;\n",
              "    }\n",
              "\n",
              "    [theme=dark] .colab-df-convert {\n",
              "      background-color: #3B4455;\n",
              "      fill: #D2E3FC;\n",
              "    }\n",
              "\n",
              "    [theme=dark] .colab-df-convert:hover {\n",
              "      background-color: #434B5C;\n",
              "      box-shadow: 0px 1px 3px 1px rgba(0, 0, 0, 0.15);\n",
              "      filter: drop-shadow(0px 1px 2px rgba(0, 0, 0, 0.3));\n",
              "      fill: #FFFFFF;\n",
              "    }\n",
              "  </style>\n",
              "\n",
              "      <script>\n",
              "        const buttonEl =\n",
              "          document.querySelector('#df-de182254-88ca-4972-8dd5-6ca452a02b10 button.colab-df-convert');\n",
              "        buttonEl.style.display =\n",
              "          google.colab.kernel.accessAllowed ? 'block' : 'none';\n",
              "\n",
              "        async function convertToInteractive(key) {\n",
              "          const element = document.querySelector('#df-de182254-88ca-4972-8dd5-6ca452a02b10');\n",
              "          const dataTable =\n",
              "            await google.colab.kernel.invokeFunction('convertToInteractive',\n",
              "                                                     [key], {});\n",
              "          if (!dataTable) return;\n",
              "\n",
              "          const docLinkHtml = 'Like what you see? Visit the ' +\n",
              "            '<a target=\"_blank\" href=https://colab.research.google.com/notebooks/data_table.ipynb>data table notebook</a>'\n",
              "            + ' to learn more about interactive tables.';\n",
              "          element.innerHTML = '';\n",
              "          dataTable['output_type'] = 'display_data';\n",
              "          await google.colab.output.renderOutput(dataTable, element);\n",
              "          const docLink = document.createElement('div');\n",
              "          docLink.innerHTML = docLinkHtml;\n",
              "          element.appendChild(docLink);\n",
              "        }\n",
              "      </script>\n",
              "    </div>\n",
              "  </div>\n",
              "  "
            ]
          },
          "metadata": {},
          "execution_count": 49
        }
      ]
    },
    {
      "cell_type": "markdown",
      "source": [
        "Similar, putem vedea și ultimele N linii dintr-un dataframe. Valoarea default pentru numărul de linii afișate este tot 5:"
      ],
      "metadata": {
        "id": "0-JhIotIq91s"
      }
    },
    {
      "cell_type": "code",
      "source": [
        "df.tail()"
      ],
      "metadata": {
        "colab": {
          "base_uri": "https://localhost:8080/",
          "height": 802
        },
        "id": "C08cHaYsrD75",
        "outputId": "f4ec3310-b336-4866-9872-1089f7ea9401"
      },
      "execution_count": null,
      "outputs": [
        {
          "output_type": "execute_result",
          "data": {
            "text/plain": [
              "                                          Name          Style  \\\n",
              "3192                           Winter Shredder  Winter Warmer   \n",
              "3193                        The First Snow Ale  Winter Warmer   \n",
              "3194                       Red Nose Winter Ale  Winter Warmer   \n",
              "3195                      Fish Tale Winterfish  Winter Warmer   \n",
              "3196  Frosted Frog Christmas Ale - Barrel-Aged  Winter Warmer   \n",
              "\n",
              "                                      Brewery  \\\n",
              "3192                       Cisco Brewers Inc.   \n",
              "3193               RJ Rockers Brewing Company   \n",
              "3194         Natty Greene's Pub & Brewing Co.   \n",
              "3195  Fish Brewing Company / Fishbowl Brewpub   \n",
              "3196                     Hoppin' Frog Brewery   \n",
              "\n",
              "                                       Beer Name (Full)  \\\n",
              "3192                 Cisco Brewers Inc. Winter Shredder   \n",
              "3193          RJ Rockers Brewing Company First Snow Ale   \n",
              "3194  Natty Greene's Pub & Brewing Co. Red Nose Wint...   \n",
              "3195  Fish Brewing Company / Fishbowl Brewpub Fish T...   \n",
              "3196  Hoppin' Frog Brewery Barrel Aged Frosted Frog ...   \n",
              "\n",
              "                                            Description  ABV  Min IBU  \\\n",
              "3192                                             Notes:  8.8       35   \n",
              "3193  Notes:This hearty American pale ale contains a...  6.0       35   \n",
              "3194                                             Notes:  6.8       35   \n",
              "3195                                             Notes:  7.5       35   \n",
              "3196  Notes:The essence of Christmas is captured in ...  8.6       35   \n",
              "\n",
              "      Max IBU  Astringency  Body  ...  Fruits  Hoppy  Spices  Malty  \\\n",
              "3192       50           15    37  ...      23     45      67     74   \n",
              "3193       50           15    31  ...      54     14     140     58   \n",
              "3194       50            8    44  ...      26     21      96     77   \n",
              "3195       50           11    36  ...      81    110      18     73   \n",
              "3196       50            8    50  ...      33     16     148     69   \n",
              "\n",
              "      review_aroma  review_appearance  review_palate  review_taste  \\\n",
              "3192      4.125000           3.875000       3.875000      3.750000   \n",
              "3193      3.950000           3.750000       3.760000      3.790000   \n",
              "3194      3.576923           3.711538       3.596154      3.673077   \n",
              "3195      3.902299           3.885057       3.862069      3.902299   \n",
              "3196      3.888889           3.694444       3.833333      3.555556   \n",
              "\n",
              "      review_overall  number_of_reviews  \n",
              "3192        4.000000                  4  \n",
              "3193        3.730000                 50  \n",
              "3194        3.711538                 26  \n",
              "3195        3.879310                 87  \n",
              "3196        3.527778                 18  \n",
              "\n",
              "[5 rows x 25 columns]"
            ],
            "text/html": [
              "\n",
              "  <div id=\"df-35b1cc98-db8c-4cb2-8c03-da6b6f2364dc\">\n",
              "    <div class=\"colab-df-container\">\n",
              "      <div>\n",
              "<style scoped>\n",
              "    .dataframe tbody tr th:only-of-type {\n",
              "        vertical-align: middle;\n",
              "    }\n",
              "\n",
              "    .dataframe tbody tr th {\n",
              "        vertical-align: top;\n",
              "    }\n",
              "\n",
              "    .dataframe thead th {\n",
              "        text-align: right;\n",
              "    }\n",
              "</style>\n",
              "<table border=\"1\" class=\"dataframe\">\n",
              "  <thead>\n",
              "    <tr style=\"text-align: right;\">\n",
              "      <th></th>\n",
              "      <th>Name</th>\n",
              "      <th>Style</th>\n",
              "      <th>Brewery</th>\n",
              "      <th>Beer Name (Full)</th>\n",
              "      <th>Description</th>\n",
              "      <th>ABV</th>\n",
              "      <th>Min IBU</th>\n",
              "      <th>Max IBU</th>\n",
              "      <th>Astringency</th>\n",
              "      <th>Body</th>\n",
              "      <th>...</th>\n",
              "      <th>Fruits</th>\n",
              "      <th>Hoppy</th>\n",
              "      <th>Spices</th>\n",
              "      <th>Malty</th>\n",
              "      <th>review_aroma</th>\n",
              "      <th>review_appearance</th>\n",
              "      <th>review_palate</th>\n",
              "      <th>review_taste</th>\n",
              "      <th>review_overall</th>\n",
              "      <th>number_of_reviews</th>\n",
              "    </tr>\n",
              "  </thead>\n",
              "  <tbody>\n",
              "    <tr>\n",
              "      <th>3192</th>\n",
              "      <td>Winter Shredder</td>\n",
              "      <td>Winter Warmer</td>\n",
              "      <td>Cisco Brewers Inc.</td>\n",
              "      <td>Cisco Brewers Inc. Winter Shredder</td>\n",
              "      <td>Notes:</td>\n",
              "      <td>8.8</td>\n",
              "      <td>35</td>\n",
              "      <td>50</td>\n",
              "      <td>15</td>\n",
              "      <td>37</td>\n",
              "      <td>...</td>\n",
              "      <td>23</td>\n",
              "      <td>45</td>\n",
              "      <td>67</td>\n",
              "      <td>74</td>\n",
              "      <td>4.125000</td>\n",
              "      <td>3.875000</td>\n",
              "      <td>3.875000</td>\n",
              "      <td>3.750000</td>\n",
              "      <td>4.000000</td>\n",
              "      <td>4</td>\n",
              "    </tr>\n",
              "    <tr>\n",
              "      <th>3193</th>\n",
              "      <td>The First Snow Ale</td>\n",
              "      <td>Winter Warmer</td>\n",
              "      <td>RJ Rockers Brewing Company</td>\n",
              "      <td>RJ Rockers Brewing Company First Snow Ale</td>\n",
              "      <td>Notes:This hearty American pale ale contains a...</td>\n",
              "      <td>6.0</td>\n",
              "      <td>35</td>\n",
              "      <td>50</td>\n",
              "      <td>15</td>\n",
              "      <td>31</td>\n",
              "      <td>...</td>\n",
              "      <td>54</td>\n",
              "      <td>14</td>\n",
              "      <td>140</td>\n",
              "      <td>58</td>\n",
              "      <td>3.950000</td>\n",
              "      <td>3.750000</td>\n",
              "      <td>3.760000</td>\n",
              "      <td>3.790000</td>\n",
              "      <td>3.730000</td>\n",
              "      <td>50</td>\n",
              "    </tr>\n",
              "    <tr>\n",
              "      <th>3194</th>\n",
              "      <td>Red Nose Winter Ale</td>\n",
              "      <td>Winter Warmer</td>\n",
              "      <td>Natty Greene's Pub &amp; Brewing Co.</td>\n",
              "      <td>Natty Greene's Pub &amp; Brewing Co. Red Nose Wint...</td>\n",
              "      <td>Notes:</td>\n",
              "      <td>6.8</td>\n",
              "      <td>35</td>\n",
              "      <td>50</td>\n",
              "      <td>8</td>\n",
              "      <td>44</td>\n",
              "      <td>...</td>\n",
              "      <td>26</td>\n",
              "      <td>21</td>\n",
              "      <td>96</td>\n",
              "      <td>77</td>\n",
              "      <td>3.576923</td>\n",
              "      <td>3.711538</td>\n",
              "      <td>3.596154</td>\n",
              "      <td>3.673077</td>\n",
              "      <td>3.711538</td>\n",
              "      <td>26</td>\n",
              "    </tr>\n",
              "    <tr>\n",
              "      <th>3195</th>\n",
              "      <td>Fish Tale Winterfish</td>\n",
              "      <td>Winter Warmer</td>\n",
              "      <td>Fish Brewing Company / Fishbowl Brewpub</td>\n",
              "      <td>Fish Brewing Company / Fishbowl Brewpub Fish T...</td>\n",
              "      <td>Notes:</td>\n",
              "      <td>7.5</td>\n",
              "      <td>35</td>\n",
              "      <td>50</td>\n",
              "      <td>11</td>\n",
              "      <td>36</td>\n",
              "      <td>...</td>\n",
              "      <td>81</td>\n",
              "      <td>110</td>\n",
              "      <td>18</td>\n",
              "      <td>73</td>\n",
              "      <td>3.902299</td>\n",
              "      <td>3.885057</td>\n",
              "      <td>3.862069</td>\n",
              "      <td>3.902299</td>\n",
              "      <td>3.879310</td>\n",
              "      <td>87</td>\n",
              "    </tr>\n",
              "    <tr>\n",
              "      <th>3196</th>\n",
              "      <td>Frosted Frog Christmas Ale - Barrel-Aged</td>\n",
              "      <td>Winter Warmer</td>\n",
              "      <td>Hoppin' Frog Brewery</td>\n",
              "      <td>Hoppin' Frog Brewery Barrel Aged Frosted Frog ...</td>\n",
              "      <td>Notes:The essence of Christmas is captured in ...</td>\n",
              "      <td>8.6</td>\n",
              "      <td>35</td>\n",
              "      <td>50</td>\n",
              "      <td>8</td>\n",
              "      <td>50</td>\n",
              "      <td>...</td>\n",
              "      <td>33</td>\n",
              "      <td>16</td>\n",
              "      <td>148</td>\n",
              "      <td>69</td>\n",
              "      <td>3.888889</td>\n",
              "      <td>3.694444</td>\n",
              "      <td>3.833333</td>\n",
              "      <td>3.555556</td>\n",
              "      <td>3.527778</td>\n",
              "      <td>18</td>\n",
              "    </tr>\n",
              "  </tbody>\n",
              "</table>\n",
              "<p>5 rows × 25 columns</p>\n",
              "</div>\n",
              "      <button class=\"colab-df-convert\" onclick=\"convertToInteractive('df-35b1cc98-db8c-4cb2-8c03-da6b6f2364dc')\"\n",
              "              title=\"Convert this dataframe to an interactive table.\"\n",
              "              style=\"display:none;\">\n",
              "        \n",
              "  <svg xmlns=\"http://www.w3.org/2000/svg\" height=\"24px\"viewBox=\"0 0 24 24\"\n",
              "       width=\"24px\">\n",
              "    <path d=\"M0 0h24v24H0V0z\" fill=\"none\"/>\n",
              "    <path d=\"M18.56 5.44l.94 2.06.94-2.06 2.06-.94-2.06-.94-.94-2.06-.94 2.06-2.06.94zm-11 1L8.5 8.5l.94-2.06 2.06-.94-2.06-.94L8.5 2.5l-.94 2.06-2.06.94zm10 10l.94 2.06.94-2.06 2.06-.94-2.06-.94-.94-2.06-.94 2.06-2.06.94z\"/><path d=\"M17.41 7.96l-1.37-1.37c-.4-.4-.92-.59-1.43-.59-.52 0-1.04.2-1.43.59L10.3 9.45l-7.72 7.72c-.78.78-.78 2.05 0 2.83L4 21.41c.39.39.9.59 1.41.59.51 0 1.02-.2 1.41-.59l7.78-7.78 2.81-2.81c.8-.78.8-2.07 0-2.86zM5.41 20L4 18.59l7.72-7.72 1.47 1.35L5.41 20z\"/>\n",
              "  </svg>\n",
              "      </button>\n",
              "      \n",
              "  <style>\n",
              "    .colab-df-container {\n",
              "      display:flex;\n",
              "      flex-wrap:wrap;\n",
              "      gap: 12px;\n",
              "    }\n",
              "\n",
              "    .colab-df-convert {\n",
              "      background-color: #E8F0FE;\n",
              "      border: none;\n",
              "      border-radius: 50%;\n",
              "      cursor: pointer;\n",
              "      display: none;\n",
              "      fill: #1967D2;\n",
              "      height: 32px;\n",
              "      padding: 0 0 0 0;\n",
              "      width: 32px;\n",
              "    }\n",
              "\n",
              "    .colab-df-convert:hover {\n",
              "      background-color: #E2EBFA;\n",
              "      box-shadow: 0px 1px 2px rgba(60, 64, 67, 0.3), 0px 1px 3px 1px rgba(60, 64, 67, 0.15);\n",
              "      fill: #174EA6;\n",
              "    }\n",
              "\n",
              "    [theme=dark] .colab-df-convert {\n",
              "      background-color: #3B4455;\n",
              "      fill: #D2E3FC;\n",
              "    }\n",
              "\n",
              "    [theme=dark] .colab-df-convert:hover {\n",
              "      background-color: #434B5C;\n",
              "      box-shadow: 0px 1px 3px 1px rgba(0, 0, 0, 0.15);\n",
              "      filter: drop-shadow(0px 1px 2px rgba(0, 0, 0, 0.3));\n",
              "      fill: #FFFFFF;\n",
              "    }\n",
              "  </style>\n",
              "\n",
              "      <script>\n",
              "        const buttonEl =\n",
              "          document.querySelector('#df-35b1cc98-db8c-4cb2-8c03-da6b6f2364dc button.colab-df-convert');\n",
              "        buttonEl.style.display =\n",
              "          google.colab.kernel.accessAllowed ? 'block' : 'none';\n",
              "\n",
              "        async function convertToInteractive(key) {\n",
              "          const element = document.querySelector('#df-35b1cc98-db8c-4cb2-8c03-da6b6f2364dc');\n",
              "          const dataTable =\n",
              "            await google.colab.kernel.invokeFunction('convertToInteractive',\n",
              "                                                     [key], {});\n",
              "          if (!dataTable) return;\n",
              "\n",
              "          const docLinkHtml = 'Like what you see? Visit the ' +\n",
              "            '<a target=\"_blank\" href=https://colab.research.google.com/notebooks/data_table.ipynb>data table notebook</a>'\n",
              "            + ' to learn more about interactive tables.';\n",
              "          element.innerHTML = '';\n",
              "          dataTable['output_type'] = 'display_data';\n",
              "          await google.colab.output.renderOutput(dataTable, element);\n",
              "          const docLink = document.createElement('div');\n",
              "          docLink.innerHTML = docLinkHtml;\n",
              "          element.appendChild(docLink);\n",
              "        }\n",
              "      </script>\n",
              "    </div>\n",
              "  </div>\n",
              "  "
            ]
          },
          "metadata": {},
          "execution_count": 52
        }
      ]
    },
    {
      "cell_type": "markdown",
      "source": [
        "## Operații pe coloane"
      ],
      "metadata": {
        "id": "zqORCeUcrT6_"
      }
    },
    {
      "cell_type": "markdown",
      "source": [
        "Observăm că în dataframe-urile de mai sus nu au fost afișate toate coloanele. Putem accesa lista lor folosind _columns_:"
      ],
      "metadata": {
        "id": "zP-1RnhyqVUO"
      }
    },
    {
      "cell_type": "code",
      "source": [
        "df.columns"
      ],
      "metadata": {
        "colab": {
          "base_uri": "https://localhost:8080/"
        },
        "id": "9wWm_r_bqKcW",
        "outputId": "d6a2233a-306e-4361-83c6-6b1c47103300"
      },
      "execution_count": null,
      "outputs": [
        {
          "output_type": "execute_result",
          "data": {
            "text/plain": [
              "Index(['Name', 'Style', 'Brewery', 'Beer Name (Full)', 'Description', 'ABV',\n",
              "       'Min IBU', 'Max IBU', 'Astringency', 'Body', 'Alcohol', 'Bitter',\n",
              "       'Sweet', 'Sour', 'Salty', 'Fruits', 'Hoppy', 'Spices', 'Malty',\n",
              "       'review_aroma', 'review_appearance', 'review_palate', 'review_taste',\n",
              "       'review_overall', 'number_of_reviews'],\n",
              "      dtype='object')"
            ]
          },
          "metadata": {},
          "execution_count": 51
        }
      ]
    },
    {
      "cell_type": "markdown",
      "source": [
        "Probabil nu ne interesează toate aceste coloane în analiza noastră. Hai să renunțăm la o parte dintre ele:"
      ],
      "metadata": {
        "id": "B6dxijT_qnnD"
      }
    },
    {
      "cell_type": "code",
      "source": [
        "df = df.drop(columns = [\"ABV\", \"Min IBU\", \"Max IBU\", \"Name\", \"Brewery\", \"number_of_reviews\"])\n",
        "df.head(2)"
      ],
      "metadata": {
        "colab": {
          "base_uri": "https://localhost:8080/",
          "height": 367
        },
        "id": "FJLMuQZuqwA4",
        "outputId": "7e5c0846-fb3c-4de6-b707-c10c44beb791"
      },
      "execution_count": null,
      "outputs": [
        {
          "output_type": "execute_result",
          "data": {
            "text/plain": [
              "     Style                   Beer Name (Full)  \\\n",
              "0  Altbier  Alaskan Brewing Co. Alaskan Amber   \n",
              "1  Altbier  Long Trail Brewing Co. Double Bag   \n",
              "\n",
              "                                         Description  Astringency  Body  \\\n",
              "0  Notes:Richly malty and long on the palate, wit...           13    32   \n",
              "1  Notes:This malty, full-bodied double alt is al...           12    57   \n",
              "\n",
              "   Alcohol  Bitter  Sweet  Sour  Salty  Fruits  Hoppy  Spices  Malty  \\\n",
              "0        9      47     74    33      0      33     57       8    111   \n",
              "1       18      33     55    16      0      24     35      12     84   \n",
              "\n",
              "   review_aroma  review_appearance  review_palate  review_taste  \\\n",
              "0      3.498994           3.636821       3.556338      3.643863   \n",
              "1      3.798337           3.846154       3.904366      4.024948   \n",
              "\n",
              "   review_overall  \n",
              "0        3.847082  \n",
              "1        4.034304  "
            ],
            "text/html": [
              "\n",
              "  <div id=\"df-bbea1141-9516-4843-a589-4270279ea856\">\n",
              "    <div class=\"colab-df-container\">\n",
              "      <div>\n",
              "<style scoped>\n",
              "    .dataframe tbody tr th:only-of-type {\n",
              "        vertical-align: middle;\n",
              "    }\n",
              "\n",
              "    .dataframe tbody tr th {\n",
              "        vertical-align: top;\n",
              "    }\n",
              "\n",
              "    .dataframe thead th {\n",
              "        text-align: right;\n",
              "    }\n",
              "</style>\n",
              "<table border=\"1\" class=\"dataframe\">\n",
              "  <thead>\n",
              "    <tr style=\"text-align: right;\">\n",
              "      <th></th>\n",
              "      <th>Style</th>\n",
              "      <th>Beer Name (Full)</th>\n",
              "      <th>Description</th>\n",
              "      <th>Astringency</th>\n",
              "      <th>Body</th>\n",
              "      <th>Alcohol</th>\n",
              "      <th>Bitter</th>\n",
              "      <th>Sweet</th>\n",
              "      <th>Sour</th>\n",
              "      <th>Salty</th>\n",
              "      <th>Fruits</th>\n",
              "      <th>Hoppy</th>\n",
              "      <th>Spices</th>\n",
              "      <th>Malty</th>\n",
              "      <th>review_aroma</th>\n",
              "      <th>review_appearance</th>\n",
              "      <th>review_palate</th>\n",
              "      <th>review_taste</th>\n",
              "      <th>review_overall</th>\n",
              "    </tr>\n",
              "  </thead>\n",
              "  <tbody>\n",
              "    <tr>\n",
              "      <th>0</th>\n",
              "      <td>Altbier</td>\n",
              "      <td>Alaskan Brewing Co. Alaskan Amber</td>\n",
              "      <td>Notes:Richly malty and long on the palate, wit...</td>\n",
              "      <td>13</td>\n",
              "      <td>32</td>\n",
              "      <td>9</td>\n",
              "      <td>47</td>\n",
              "      <td>74</td>\n",
              "      <td>33</td>\n",
              "      <td>0</td>\n",
              "      <td>33</td>\n",
              "      <td>57</td>\n",
              "      <td>8</td>\n",
              "      <td>111</td>\n",
              "      <td>3.498994</td>\n",
              "      <td>3.636821</td>\n",
              "      <td>3.556338</td>\n",
              "      <td>3.643863</td>\n",
              "      <td>3.847082</td>\n",
              "    </tr>\n",
              "    <tr>\n",
              "      <th>1</th>\n",
              "      <td>Altbier</td>\n",
              "      <td>Long Trail Brewing Co. Double Bag</td>\n",
              "      <td>Notes:This malty, full-bodied double alt is al...</td>\n",
              "      <td>12</td>\n",
              "      <td>57</td>\n",
              "      <td>18</td>\n",
              "      <td>33</td>\n",
              "      <td>55</td>\n",
              "      <td>16</td>\n",
              "      <td>0</td>\n",
              "      <td>24</td>\n",
              "      <td>35</td>\n",
              "      <td>12</td>\n",
              "      <td>84</td>\n",
              "      <td>3.798337</td>\n",
              "      <td>3.846154</td>\n",
              "      <td>3.904366</td>\n",
              "      <td>4.024948</td>\n",
              "      <td>4.034304</td>\n",
              "    </tr>\n",
              "  </tbody>\n",
              "</table>\n",
              "</div>\n",
              "      <button class=\"colab-df-convert\" onclick=\"convertToInteractive('df-bbea1141-9516-4843-a589-4270279ea856')\"\n",
              "              title=\"Convert this dataframe to an interactive table.\"\n",
              "              style=\"display:none;\">\n",
              "        \n",
              "  <svg xmlns=\"http://www.w3.org/2000/svg\" height=\"24px\"viewBox=\"0 0 24 24\"\n",
              "       width=\"24px\">\n",
              "    <path d=\"M0 0h24v24H0V0z\" fill=\"none\"/>\n",
              "    <path d=\"M18.56 5.44l.94 2.06.94-2.06 2.06-.94-2.06-.94-.94-2.06-.94 2.06-2.06.94zm-11 1L8.5 8.5l.94-2.06 2.06-.94-2.06-.94L8.5 2.5l-.94 2.06-2.06.94zm10 10l.94 2.06.94-2.06 2.06-.94-2.06-.94-.94-2.06-.94 2.06-2.06.94z\"/><path d=\"M17.41 7.96l-1.37-1.37c-.4-.4-.92-.59-1.43-.59-.52 0-1.04.2-1.43.59L10.3 9.45l-7.72 7.72c-.78.78-.78 2.05 0 2.83L4 21.41c.39.39.9.59 1.41.59.51 0 1.02-.2 1.41-.59l7.78-7.78 2.81-2.81c.8-.78.8-2.07 0-2.86zM5.41 20L4 18.59l7.72-7.72 1.47 1.35L5.41 20z\"/>\n",
              "  </svg>\n",
              "      </button>\n",
              "      \n",
              "  <style>\n",
              "    .colab-df-container {\n",
              "      display:flex;\n",
              "      flex-wrap:wrap;\n",
              "      gap: 12px;\n",
              "    }\n",
              "\n",
              "    .colab-df-convert {\n",
              "      background-color: #E8F0FE;\n",
              "      border: none;\n",
              "      border-radius: 50%;\n",
              "      cursor: pointer;\n",
              "      display: none;\n",
              "      fill: #1967D2;\n",
              "      height: 32px;\n",
              "      padding: 0 0 0 0;\n",
              "      width: 32px;\n",
              "    }\n",
              "\n",
              "    .colab-df-convert:hover {\n",
              "      background-color: #E2EBFA;\n",
              "      box-shadow: 0px 1px 2px rgba(60, 64, 67, 0.3), 0px 1px 3px 1px rgba(60, 64, 67, 0.15);\n",
              "      fill: #174EA6;\n",
              "    }\n",
              "\n",
              "    [theme=dark] .colab-df-convert {\n",
              "      background-color: #3B4455;\n",
              "      fill: #D2E3FC;\n",
              "    }\n",
              "\n",
              "    [theme=dark] .colab-df-convert:hover {\n",
              "      background-color: #434B5C;\n",
              "      box-shadow: 0px 1px 3px 1px rgba(0, 0, 0, 0.15);\n",
              "      filter: drop-shadow(0px 1px 2px rgba(0, 0, 0, 0.3));\n",
              "      fill: #FFFFFF;\n",
              "    }\n",
              "  </style>\n",
              "\n",
              "      <script>\n",
              "        const buttonEl =\n",
              "          document.querySelector('#df-bbea1141-9516-4843-a589-4270279ea856 button.colab-df-convert');\n",
              "        buttonEl.style.display =\n",
              "          google.colab.kernel.accessAllowed ? 'block' : 'none';\n",
              "\n",
              "        async function convertToInteractive(key) {\n",
              "          const element = document.querySelector('#df-bbea1141-9516-4843-a589-4270279ea856');\n",
              "          const dataTable =\n",
              "            await google.colab.kernel.invokeFunction('convertToInteractive',\n",
              "                                                     [key], {});\n",
              "          if (!dataTable) return;\n",
              "\n",
              "          const docLinkHtml = 'Like what you see? Visit the ' +\n",
              "            '<a target=\"_blank\" href=https://colab.research.google.com/notebooks/data_table.ipynb>data table notebook</a>'\n",
              "            + ' to learn more about interactive tables.';\n",
              "          element.innerHTML = '';\n",
              "          dataTable['output_type'] = 'display_data';\n",
              "          await google.colab.output.renderOutput(dataTable, element);\n",
              "          const docLink = document.createElement('div');\n",
              "          docLink.innerHTML = docLinkHtml;\n",
              "          element.appendChild(docLink);\n",
              "        }\n",
              "      </script>\n",
              "    </div>\n",
              "  </div>\n",
              "  "
            ]
          },
          "metadata": {},
          "execution_count": 60
        }
      ]
    },
    {
      "cell_type": "markdown",
      "source": [
        "În aceeași temă, putem adăuga coloane noi în dataframe-ul nostru:"
      ],
      "metadata": {
        "id": "vtr8vexvtp2t"
      }
    },
    {
      "cell_type": "code",
      "source": [
        "df[\"mean_review\"] = (df[\"review_aroma\"] + df[\"review_appearance\"] + df[\"review_palate\"] + df[\"review_taste\"]) / 4\n",
        "df.head(2)"
      ],
      "metadata": {
        "colab": {
          "base_uri": "https://localhost:8080/",
          "height": 367
        },
        "id": "3bygRMiltpCJ",
        "outputId": "84a7b466-9146-451c-ba4a-8713a298dbfb"
      },
      "execution_count": null,
      "outputs": [
        {
          "output_type": "execute_result",
          "data": {
            "text/plain": [
              "     Style                   Beer Name (Full)  \\\n",
              "0  Altbier  Alaskan Brewing Co. Alaskan Amber   \n",
              "1  Altbier  Long Trail Brewing Co. Double Bag   \n",
              "\n",
              "                                         Description  Astringency  Body  \\\n",
              "0  Notes:Richly malty and long on the palate, wit...           13    32   \n",
              "1  Notes:This malty, full-bodied double alt is al...           12    57   \n",
              "\n",
              "   Alcohol  Bitter  Sweet  Sour  Salty  Fruits  Hoppy  Spices  Malty  \\\n",
              "0        9      47     74    33      0      33     57       8    111   \n",
              "1       18      33     55    16      0      24     35      12     84   \n",
              "\n",
              "   review_aroma  review_appearance  review_palate  review_taste  \\\n",
              "0      3.498994           3.636821       3.556338      3.643863   \n",
              "1      3.798337           3.846154       3.904366      4.024948   \n",
              "\n",
              "   review_overall  mean_review  \n",
              "0        3.847082     3.584004  \n",
              "1        4.034304     3.893451  "
            ],
            "text/html": [
              "\n",
              "  <div id=\"df-5fd25d03-5549-48b5-9beb-86bad2bc8831\">\n",
              "    <div class=\"colab-df-container\">\n",
              "      <div>\n",
              "<style scoped>\n",
              "    .dataframe tbody tr th:only-of-type {\n",
              "        vertical-align: middle;\n",
              "    }\n",
              "\n",
              "    .dataframe tbody tr th {\n",
              "        vertical-align: top;\n",
              "    }\n",
              "\n",
              "    .dataframe thead th {\n",
              "        text-align: right;\n",
              "    }\n",
              "</style>\n",
              "<table border=\"1\" class=\"dataframe\">\n",
              "  <thead>\n",
              "    <tr style=\"text-align: right;\">\n",
              "      <th></th>\n",
              "      <th>Style</th>\n",
              "      <th>Beer Name (Full)</th>\n",
              "      <th>Description</th>\n",
              "      <th>Astringency</th>\n",
              "      <th>Body</th>\n",
              "      <th>Alcohol</th>\n",
              "      <th>Bitter</th>\n",
              "      <th>Sweet</th>\n",
              "      <th>Sour</th>\n",
              "      <th>Salty</th>\n",
              "      <th>Fruits</th>\n",
              "      <th>Hoppy</th>\n",
              "      <th>Spices</th>\n",
              "      <th>Malty</th>\n",
              "      <th>review_aroma</th>\n",
              "      <th>review_appearance</th>\n",
              "      <th>review_palate</th>\n",
              "      <th>review_taste</th>\n",
              "      <th>review_overall</th>\n",
              "      <th>mean_review</th>\n",
              "    </tr>\n",
              "  </thead>\n",
              "  <tbody>\n",
              "    <tr>\n",
              "      <th>0</th>\n",
              "      <td>Altbier</td>\n",
              "      <td>Alaskan Brewing Co. Alaskan Amber</td>\n",
              "      <td>Notes:Richly malty and long on the palate, wit...</td>\n",
              "      <td>13</td>\n",
              "      <td>32</td>\n",
              "      <td>9</td>\n",
              "      <td>47</td>\n",
              "      <td>74</td>\n",
              "      <td>33</td>\n",
              "      <td>0</td>\n",
              "      <td>33</td>\n",
              "      <td>57</td>\n",
              "      <td>8</td>\n",
              "      <td>111</td>\n",
              "      <td>3.498994</td>\n",
              "      <td>3.636821</td>\n",
              "      <td>3.556338</td>\n",
              "      <td>3.643863</td>\n",
              "      <td>3.847082</td>\n",
              "      <td>3.584004</td>\n",
              "    </tr>\n",
              "    <tr>\n",
              "      <th>1</th>\n",
              "      <td>Altbier</td>\n",
              "      <td>Long Trail Brewing Co. Double Bag</td>\n",
              "      <td>Notes:This malty, full-bodied double alt is al...</td>\n",
              "      <td>12</td>\n",
              "      <td>57</td>\n",
              "      <td>18</td>\n",
              "      <td>33</td>\n",
              "      <td>55</td>\n",
              "      <td>16</td>\n",
              "      <td>0</td>\n",
              "      <td>24</td>\n",
              "      <td>35</td>\n",
              "      <td>12</td>\n",
              "      <td>84</td>\n",
              "      <td>3.798337</td>\n",
              "      <td>3.846154</td>\n",
              "      <td>3.904366</td>\n",
              "      <td>4.024948</td>\n",
              "      <td>4.034304</td>\n",
              "      <td>3.893451</td>\n",
              "    </tr>\n",
              "  </tbody>\n",
              "</table>\n",
              "</div>\n",
              "      <button class=\"colab-df-convert\" onclick=\"convertToInteractive('df-5fd25d03-5549-48b5-9beb-86bad2bc8831')\"\n",
              "              title=\"Convert this dataframe to an interactive table.\"\n",
              "              style=\"display:none;\">\n",
              "        \n",
              "  <svg xmlns=\"http://www.w3.org/2000/svg\" height=\"24px\"viewBox=\"0 0 24 24\"\n",
              "       width=\"24px\">\n",
              "    <path d=\"M0 0h24v24H0V0z\" fill=\"none\"/>\n",
              "    <path d=\"M18.56 5.44l.94 2.06.94-2.06 2.06-.94-2.06-.94-.94-2.06-.94 2.06-2.06.94zm-11 1L8.5 8.5l.94-2.06 2.06-.94-2.06-.94L8.5 2.5l-.94 2.06-2.06.94zm10 10l.94 2.06.94-2.06 2.06-.94-2.06-.94-.94-2.06-.94 2.06-2.06.94z\"/><path d=\"M17.41 7.96l-1.37-1.37c-.4-.4-.92-.59-1.43-.59-.52 0-1.04.2-1.43.59L10.3 9.45l-7.72 7.72c-.78.78-.78 2.05 0 2.83L4 21.41c.39.39.9.59 1.41.59.51 0 1.02-.2 1.41-.59l7.78-7.78 2.81-2.81c.8-.78.8-2.07 0-2.86zM5.41 20L4 18.59l7.72-7.72 1.47 1.35L5.41 20z\"/>\n",
              "  </svg>\n",
              "      </button>\n",
              "      \n",
              "  <style>\n",
              "    .colab-df-container {\n",
              "      display:flex;\n",
              "      flex-wrap:wrap;\n",
              "      gap: 12px;\n",
              "    }\n",
              "\n",
              "    .colab-df-convert {\n",
              "      background-color: #E8F0FE;\n",
              "      border: none;\n",
              "      border-radius: 50%;\n",
              "      cursor: pointer;\n",
              "      display: none;\n",
              "      fill: #1967D2;\n",
              "      height: 32px;\n",
              "      padding: 0 0 0 0;\n",
              "      width: 32px;\n",
              "    }\n",
              "\n",
              "    .colab-df-convert:hover {\n",
              "      background-color: #E2EBFA;\n",
              "      box-shadow: 0px 1px 2px rgba(60, 64, 67, 0.3), 0px 1px 3px 1px rgba(60, 64, 67, 0.15);\n",
              "      fill: #174EA6;\n",
              "    }\n",
              "\n",
              "    [theme=dark] .colab-df-convert {\n",
              "      background-color: #3B4455;\n",
              "      fill: #D2E3FC;\n",
              "    }\n",
              "\n",
              "    [theme=dark] .colab-df-convert:hover {\n",
              "      background-color: #434B5C;\n",
              "      box-shadow: 0px 1px 3px 1px rgba(0, 0, 0, 0.15);\n",
              "      filter: drop-shadow(0px 1px 2px rgba(0, 0, 0, 0.3));\n",
              "      fill: #FFFFFF;\n",
              "    }\n",
              "  </style>\n",
              "\n",
              "      <script>\n",
              "        const buttonEl =\n",
              "          document.querySelector('#df-5fd25d03-5549-48b5-9beb-86bad2bc8831 button.colab-df-convert');\n",
              "        buttonEl.style.display =\n",
              "          google.colab.kernel.accessAllowed ? 'block' : 'none';\n",
              "\n",
              "        async function convertToInteractive(key) {\n",
              "          const element = document.querySelector('#df-5fd25d03-5549-48b5-9beb-86bad2bc8831');\n",
              "          const dataTable =\n",
              "            await google.colab.kernel.invokeFunction('convertToInteractive',\n",
              "                                                     [key], {});\n",
              "          if (!dataTable) return;\n",
              "\n",
              "          const docLinkHtml = 'Like what you see? Visit the ' +\n",
              "            '<a target=\"_blank\" href=https://colab.research.google.com/notebooks/data_table.ipynb>data table notebook</a>'\n",
              "            + ' to learn more about interactive tables.';\n",
              "          element.innerHTML = '';\n",
              "          dataTable['output_type'] = 'display_data';\n",
              "          await google.colab.output.renderOutput(dataTable, element);\n",
              "          const docLink = document.createElement('div');\n",
              "          docLink.innerHTML = docLinkHtml;\n",
              "          element.appendChild(docLink);\n",
              "        }\n",
              "      </script>\n",
              "    </div>\n",
              "  </div>\n",
              "  "
            ]
          },
          "metadata": {},
          "execution_count": 61
        }
      ]
    },
    {
      "cell_type": "markdown",
      "source": [
        "Coloana \"mean_review\" a fost calculată direct ca o medie între alte coloane. Dar dacă vrem să facem mai multe operații pe inputul unei coloane?"
      ],
      "metadata": {
        "id": "tFJDD6PPvEk9"
      }
    },
    {
      "cell_type": "code",
      "source": [
        "df[\"desc_length\"] = df[\"Description\"].apply(lambda description: len(description.split()))\n",
        "df.head(1)"
      ],
      "metadata": {
        "colab": {
          "base_uri": "https://localhost:8080/",
          "height": 278
        },
        "id": "V2JKHJUJvX6M",
        "outputId": "c3659b31-7630-480d-e3b2-a36acc37dcb9"
      },
      "execution_count": null,
      "outputs": [
        {
          "output_type": "execute_result",
          "data": {
            "text/plain": [
              "     Style                   Beer Name (Full)  \\\n",
              "0  Altbier  Alaskan Brewing Co. Alaskan Amber   \n",
              "\n",
              "                                         Description  Astringency  Body  \\\n",
              "0  Notes:Richly malty and long on the palate, wit...           13    32   \n",
              "\n",
              "   Alcohol  Bitter  Sweet  Sour  Salty  ...  Hoppy  Spices  Malty  \\\n",
              "0        9      47     74    33      0  ...     57       8    111   \n",
              "\n",
              "   review_aroma  review_appearance  review_palate  review_taste  \\\n",
              "0      3.498994           3.636821       3.556338      3.643863   \n",
              "\n",
              "   review_overall  mean_review  desc_length  \n",
              "0        3.847082     3.584004           24  \n",
              "\n",
              "[1 rows x 21 columns]"
            ],
            "text/html": [
              "\n",
              "  <div id=\"df-0cff6fbd-eaa5-44dc-aa2c-e76effd95e47\">\n",
              "    <div class=\"colab-df-container\">\n",
              "      <div>\n",
              "<style scoped>\n",
              "    .dataframe tbody tr th:only-of-type {\n",
              "        vertical-align: middle;\n",
              "    }\n",
              "\n",
              "    .dataframe tbody tr th {\n",
              "        vertical-align: top;\n",
              "    }\n",
              "\n",
              "    .dataframe thead th {\n",
              "        text-align: right;\n",
              "    }\n",
              "</style>\n",
              "<table border=\"1\" class=\"dataframe\">\n",
              "  <thead>\n",
              "    <tr style=\"text-align: right;\">\n",
              "      <th></th>\n",
              "      <th>Style</th>\n",
              "      <th>Beer Name (Full)</th>\n",
              "      <th>Description</th>\n",
              "      <th>Astringency</th>\n",
              "      <th>Body</th>\n",
              "      <th>Alcohol</th>\n",
              "      <th>Bitter</th>\n",
              "      <th>Sweet</th>\n",
              "      <th>Sour</th>\n",
              "      <th>Salty</th>\n",
              "      <th>...</th>\n",
              "      <th>Hoppy</th>\n",
              "      <th>Spices</th>\n",
              "      <th>Malty</th>\n",
              "      <th>review_aroma</th>\n",
              "      <th>review_appearance</th>\n",
              "      <th>review_palate</th>\n",
              "      <th>review_taste</th>\n",
              "      <th>review_overall</th>\n",
              "      <th>mean_review</th>\n",
              "      <th>desc_length</th>\n",
              "    </tr>\n",
              "  </thead>\n",
              "  <tbody>\n",
              "    <tr>\n",
              "      <th>0</th>\n",
              "      <td>Altbier</td>\n",
              "      <td>Alaskan Brewing Co. Alaskan Amber</td>\n",
              "      <td>Notes:Richly malty and long on the palate, wit...</td>\n",
              "      <td>13</td>\n",
              "      <td>32</td>\n",
              "      <td>9</td>\n",
              "      <td>47</td>\n",
              "      <td>74</td>\n",
              "      <td>33</td>\n",
              "      <td>0</td>\n",
              "      <td>...</td>\n",
              "      <td>57</td>\n",
              "      <td>8</td>\n",
              "      <td>111</td>\n",
              "      <td>3.498994</td>\n",
              "      <td>3.636821</td>\n",
              "      <td>3.556338</td>\n",
              "      <td>3.643863</td>\n",
              "      <td>3.847082</td>\n",
              "      <td>3.584004</td>\n",
              "      <td>24</td>\n",
              "    </tr>\n",
              "  </tbody>\n",
              "</table>\n",
              "<p>1 rows × 21 columns</p>\n",
              "</div>\n",
              "      <button class=\"colab-df-convert\" onclick=\"convertToInteractive('df-0cff6fbd-eaa5-44dc-aa2c-e76effd95e47')\"\n",
              "              title=\"Convert this dataframe to an interactive table.\"\n",
              "              style=\"display:none;\">\n",
              "        \n",
              "  <svg xmlns=\"http://www.w3.org/2000/svg\" height=\"24px\"viewBox=\"0 0 24 24\"\n",
              "       width=\"24px\">\n",
              "    <path d=\"M0 0h24v24H0V0z\" fill=\"none\"/>\n",
              "    <path d=\"M18.56 5.44l.94 2.06.94-2.06 2.06-.94-2.06-.94-.94-2.06-.94 2.06-2.06.94zm-11 1L8.5 8.5l.94-2.06 2.06-.94-2.06-.94L8.5 2.5l-.94 2.06-2.06.94zm10 10l.94 2.06.94-2.06 2.06-.94-2.06-.94-.94-2.06-.94 2.06-2.06.94z\"/><path d=\"M17.41 7.96l-1.37-1.37c-.4-.4-.92-.59-1.43-.59-.52 0-1.04.2-1.43.59L10.3 9.45l-7.72 7.72c-.78.78-.78 2.05 0 2.83L4 21.41c.39.39.9.59 1.41.59.51 0 1.02-.2 1.41-.59l7.78-7.78 2.81-2.81c.8-.78.8-2.07 0-2.86zM5.41 20L4 18.59l7.72-7.72 1.47 1.35L5.41 20z\"/>\n",
              "  </svg>\n",
              "      </button>\n",
              "      \n",
              "  <style>\n",
              "    .colab-df-container {\n",
              "      display:flex;\n",
              "      flex-wrap:wrap;\n",
              "      gap: 12px;\n",
              "    }\n",
              "\n",
              "    .colab-df-convert {\n",
              "      background-color: #E8F0FE;\n",
              "      border: none;\n",
              "      border-radius: 50%;\n",
              "      cursor: pointer;\n",
              "      display: none;\n",
              "      fill: #1967D2;\n",
              "      height: 32px;\n",
              "      padding: 0 0 0 0;\n",
              "      width: 32px;\n",
              "    }\n",
              "\n",
              "    .colab-df-convert:hover {\n",
              "      background-color: #E2EBFA;\n",
              "      box-shadow: 0px 1px 2px rgba(60, 64, 67, 0.3), 0px 1px 3px 1px rgba(60, 64, 67, 0.15);\n",
              "      fill: #174EA6;\n",
              "    }\n",
              "\n",
              "    [theme=dark] .colab-df-convert {\n",
              "      background-color: #3B4455;\n",
              "      fill: #D2E3FC;\n",
              "    }\n",
              "\n",
              "    [theme=dark] .colab-df-convert:hover {\n",
              "      background-color: #434B5C;\n",
              "      box-shadow: 0px 1px 3px 1px rgba(0, 0, 0, 0.15);\n",
              "      filter: drop-shadow(0px 1px 2px rgba(0, 0, 0, 0.3));\n",
              "      fill: #FFFFFF;\n",
              "    }\n",
              "  </style>\n",
              "\n",
              "      <script>\n",
              "        const buttonEl =\n",
              "          document.querySelector('#df-0cff6fbd-eaa5-44dc-aa2c-e76effd95e47 button.colab-df-convert');\n",
              "        buttonEl.style.display =\n",
              "          google.colab.kernel.accessAllowed ? 'block' : 'none';\n",
              "\n",
              "        async function convertToInteractive(key) {\n",
              "          const element = document.querySelector('#df-0cff6fbd-eaa5-44dc-aa2c-e76effd95e47');\n",
              "          const dataTable =\n",
              "            await google.colab.kernel.invokeFunction('convertToInteractive',\n",
              "                                                     [key], {});\n",
              "          if (!dataTable) return;\n",
              "\n",
              "          const docLinkHtml = 'Like what you see? Visit the ' +\n",
              "            '<a target=\"_blank\" href=https://colab.research.google.com/notebooks/data_table.ipynb>data table notebook</a>'\n",
              "            + ' to learn more about interactive tables.';\n",
              "          element.innerHTML = '';\n",
              "          dataTable['output_type'] = 'display_data';\n",
              "          await google.colab.output.renderOutput(dataTable, element);\n",
              "          const docLink = document.createElement('div');\n",
              "          docLink.innerHTML = docLinkHtml;\n",
              "          element.appendChild(docLink);\n",
              "        }\n",
              "      </script>\n",
              "    </div>\n",
              "  </div>\n",
              "  "
            ]
          },
          "metadata": {},
          "execution_count": 63
        }
      ]
    },
    {
      "cell_type": "markdown",
      "source": [
        "Indexarea unei coloane din df:"
      ],
      "metadata": {
        "id": "Dxl0s2ddw05t"
      }
    },
    {
      "cell_type": "code",
      "source": [
        "df[\"Style\"]"
      ],
      "metadata": {
        "colab": {
          "base_uri": "https://localhost:8080/"
        },
        "id": "piT8L71bw1RS",
        "outputId": "86b23c54-0942-4c91-ab04-c6a754621df2"
      },
      "execution_count": null,
      "outputs": [
        {
          "output_type": "execute_result",
          "data": {
            "text/plain": [
              "0             Altbier\n",
              "1             Altbier\n",
              "2             Altbier\n",
              "3             Altbier\n",
              "4             Altbier\n",
              "            ...      \n",
              "3192    Winter Warmer\n",
              "3193    Winter Warmer\n",
              "3194    Winter Warmer\n",
              "3195    Winter Warmer\n",
              "3196    Winter Warmer\n",
              "Name: Style, Length: 3197, dtype: object"
            ]
          },
          "metadata": {},
          "execution_count": 68
        }
      ]
    },
    {
      "cell_type": "markdown",
      "source": [
        "Putem vedea câte stiluri diferite de bere există în setul de date folosind funcția _unique()_:"
      ],
      "metadata": {
        "id": "VorpqtroznpK"
      }
    },
    {
      "cell_type": "code",
      "source": [
        "df[\"Style\"].unique()"
      ],
      "metadata": {
        "colab": {
          "base_uri": "https://localhost:8080/"
        },
        "id": "H3QwtB24xGpj",
        "outputId": "d9eda07d-448f-4fb6-9ffd-ebfcc0437ee4"
      },
      "execution_count": null,
      "outputs": [
        {
          "output_type": "execute_result",
          "data": {
            "text/plain": [
              "array(['Altbier', 'Barleywine - American', 'Barleywine - English',\n",
              "       'Bitter - English Extra Special / Strong Bitter (ESB)',\n",
              "       'Bitter - English', 'Bière de Champagne / Bière Brut',\n",
              "       'Blonde Ale - American', 'Blonde Ale - Belgian',\n",
              "       'Bock - Doppelbock', 'Bock - Eisbock', 'Bock - Maibock',\n",
              "       'Bock - Traditional', 'Bock - Weizenbock', 'Braggot', 'Brett Beer',\n",
              "       'Brown Ale - American', 'Brown Ale - Belgian Dark',\n",
              "       'Brown Ale - English', 'California Common / Steam Beer',\n",
              "       'Chile Beer', 'Cream Ale', 'Dubbel',\n",
              "       'Farmhouse Ale - Bière de Garde', 'Farmhouse Ale - Sahti',\n",
              "       'Farmhouse Ale - Saison', 'Fruit and Field Beer',\n",
              "       'Gruit / Ancient Herbed Ale', 'Happoshu', 'Herb and Spice Beer',\n",
              "       'IPA - American', 'IPA - Belgian',\n",
              "       'IPA - Black / Cascadian Dark Ale', 'IPA - English',\n",
              "       'IPA - Imperial', 'IPA - New England', 'Kvass', 'Kölsch',\n",
              "       'Lager - Adjunct', 'Lager - American Amber / Red',\n",
              "       'Lager - American', 'Lager - European / Dortmunder Export',\n",
              "       'Lager - European Dark', 'Lager - European Pale',\n",
              "       'Lager - European Strong', 'Lager - Helles',\n",
              "       'Lager - India Pale Lager (IPL)', 'Lager - Japanese Rice',\n",
              "       'Lager - Kellerbier / Zwickelbier', 'Lager - Light',\n",
              "       'Lager - Malt Liquor', 'Lager - Munich Dunkel',\n",
              "       'Lager - Märzen / Oktoberfest', 'Lager - Rauchbier',\n",
              "       'Lager - Schwarzbier', 'Lager - Vienna', 'Lambic - Faro',\n",
              "       'Lambic - Fruit', 'Lambic - Gueuze', 'Lambic - Traditional',\n",
              "       'Low Alcohol Beer', 'Mild Ale - English Dark',\n",
              "       'Mild Ale - English Pale', 'Old Ale', 'Pale Ale - American',\n",
              "       'Pale Ale - Belgian', 'Pale Ale - English',\n",
              "       'Pilsner - Bohemian / Czech', 'Pilsner - German',\n",
              "       'Pilsner - Imperial', 'Porter - American', 'Porter - Baltic',\n",
              "       'Porter - English', 'Porter - Imperial', 'Porter - Robust',\n",
              "       'Porter - Smoked', 'Pumpkin Beer', 'Quadrupel (Quad)',\n",
              "       'Red Ale - American Amber / Red', 'Red Ale - Imperial',\n",
              "       'Red Ale - Irish', 'Rye Beer - Roggenbier', 'Rye Beer',\n",
              "       'Scotch Ale / Wee Heavy', 'Scottish Ale', 'Smoked Beer',\n",
              "       'Sour - Berliner Weisse', 'Sour - Flanders Oud Bruin',\n",
              "       'Sour - Flanders Red Ale', 'Sour - Gose',\n",
              "       'Stout - American Imperial', 'Stout - American', 'Stout - English',\n",
              "       'Stout - Foreign / Export', 'Stout - Irish Dry', 'Stout - Oatmeal',\n",
              "       'Stout - Russian Imperial', 'Stout - Sweet / Milk',\n",
              "       'Strong Ale - American', 'Strong Ale - Belgian Dark',\n",
              "       'Strong Ale - Belgian Pale', 'Strong Ale - English', 'Tripel',\n",
              "       'Wheat Beer - American Dark', 'Wheat Beer - American Pale',\n",
              "       'Wheat Beer - Dunkelweizen', 'Wheat Beer - Hefeweizen',\n",
              "       'Wheat Beer - Kristallweizen', 'Wheat Beer - Wheatwine',\n",
              "       'Wheat Beer - Witbier', 'Wild Ale', 'Winter Warmer'], dtype=object)"
            ]
          },
          "metadata": {},
          "execution_count": 75
        }
      ]
    },
    {
      "cell_type": "markdown",
      "source": [
        "Ce alte variante avem?"
      ],
      "metadata": {
        "id": "Ih8HmhDNxBYB"
      }
    },
    {
      "cell_type": "code",
      "source": [
        "set(df[\"Style\"])"
      ],
      "metadata": {
        "colab": {
          "base_uri": "https://localhost:8080/"
        },
        "id": "GeAvd3nD0KeI",
        "outputId": "c186ff5e-2a01-44fb-c54d-5afb01839cc6"
      },
      "execution_count": null,
      "outputs": [
        {
          "output_type": "execute_result",
          "data": {
            "text/plain": [
              "{'Altbier',\n",
              " 'Barleywine - American',\n",
              " 'Barleywine - English',\n",
              " 'Bitter - English',\n",
              " 'Bitter - English Extra Special / Strong Bitter (ESB)',\n",
              " 'Bière de Champagne / Bière Brut',\n",
              " 'Blonde Ale - American',\n",
              " 'Blonde Ale - Belgian',\n",
              " 'Bock - Doppelbock',\n",
              " 'Bock - Eisbock',\n",
              " 'Bock - Maibock',\n",
              " 'Bock - Traditional',\n",
              " 'Bock - Weizenbock',\n",
              " 'Braggot',\n",
              " 'Brett Beer',\n",
              " 'Brown Ale - American',\n",
              " 'Brown Ale - Belgian Dark',\n",
              " 'Brown Ale - English',\n",
              " 'California Common / Steam Beer',\n",
              " 'Chile Beer',\n",
              " 'Cream Ale',\n",
              " 'Dubbel',\n",
              " 'Farmhouse Ale - Bière de Garde',\n",
              " 'Farmhouse Ale - Sahti',\n",
              " 'Farmhouse Ale - Saison',\n",
              " 'Fruit and Field Beer',\n",
              " 'Gruit / Ancient Herbed Ale',\n",
              " 'Happoshu',\n",
              " 'Herb and Spice Beer',\n",
              " 'IPA - American',\n",
              " 'IPA - Belgian',\n",
              " 'IPA - Black / Cascadian Dark Ale',\n",
              " 'IPA - English',\n",
              " 'IPA - Imperial',\n",
              " 'IPA - New England',\n",
              " 'Kvass',\n",
              " 'Kölsch',\n",
              " 'Lager - Adjunct',\n",
              " 'Lager - American',\n",
              " 'Lager - American Amber / Red',\n",
              " 'Lager - European / Dortmunder Export',\n",
              " 'Lager - European Dark',\n",
              " 'Lager - European Pale',\n",
              " 'Lager - European Strong',\n",
              " 'Lager - Helles',\n",
              " 'Lager - India Pale Lager (IPL)',\n",
              " 'Lager - Japanese Rice',\n",
              " 'Lager - Kellerbier / Zwickelbier',\n",
              " 'Lager - Light',\n",
              " 'Lager - Malt Liquor',\n",
              " 'Lager - Munich Dunkel',\n",
              " 'Lager - Märzen / Oktoberfest',\n",
              " 'Lager - Rauchbier',\n",
              " 'Lager - Schwarzbier',\n",
              " 'Lager - Vienna',\n",
              " 'Lambic - Faro',\n",
              " 'Lambic - Fruit',\n",
              " 'Lambic - Gueuze',\n",
              " 'Lambic - Traditional',\n",
              " 'Low Alcohol Beer',\n",
              " 'Mild Ale - English Dark',\n",
              " 'Mild Ale - English Pale',\n",
              " 'Old Ale',\n",
              " 'Pale Ale - American',\n",
              " 'Pale Ale - Belgian',\n",
              " 'Pale Ale - English',\n",
              " 'Pilsner - Bohemian / Czech',\n",
              " 'Pilsner - German',\n",
              " 'Pilsner - Imperial',\n",
              " 'Porter - American',\n",
              " 'Porter - Baltic',\n",
              " 'Porter - English',\n",
              " 'Porter - Imperial',\n",
              " 'Porter - Robust',\n",
              " 'Porter - Smoked',\n",
              " 'Pumpkin Beer',\n",
              " 'Quadrupel (Quad)',\n",
              " 'Red Ale - American Amber / Red',\n",
              " 'Red Ale - Imperial',\n",
              " 'Red Ale - Irish',\n",
              " 'Rye Beer',\n",
              " 'Rye Beer - Roggenbier',\n",
              " 'Scotch Ale / Wee Heavy',\n",
              " 'Scottish Ale',\n",
              " 'Smoked Beer',\n",
              " 'Sour - Berliner Weisse',\n",
              " 'Sour - Flanders Oud Bruin',\n",
              " 'Sour - Flanders Red Ale',\n",
              " 'Sour - Gose',\n",
              " 'Stout - American',\n",
              " 'Stout - American Imperial',\n",
              " 'Stout - English',\n",
              " 'Stout - Foreign / Export',\n",
              " 'Stout - Irish Dry',\n",
              " 'Stout - Oatmeal',\n",
              " 'Stout - Russian Imperial',\n",
              " 'Stout - Sweet / Milk',\n",
              " 'Strong Ale - American',\n",
              " 'Strong Ale - Belgian Dark',\n",
              " 'Strong Ale - Belgian Pale',\n",
              " 'Strong Ale - English',\n",
              " 'Tripel',\n",
              " 'Wheat Beer - American Dark',\n",
              " 'Wheat Beer - American Pale',\n",
              " 'Wheat Beer - Dunkelweizen',\n",
              " 'Wheat Beer - Hefeweizen',\n",
              " 'Wheat Beer - Kristallweizen',\n",
              " 'Wheat Beer - Wheatwine',\n",
              " 'Wheat Beer - Witbier',\n",
              " 'Wild Ale',\n",
              " 'Winter Warmer'}"
            ]
          },
          "metadata": {},
          "execution_count": 109
        }
      ]
    },
    {
      "cell_type": "markdown",
      "source": [
        "## Operații pe linii"
      ],
      "metadata": {
        "id": "3wIf_-mQtduv"
      }
    },
    {
      "cell_type": "markdown",
      "source": [
        "Putem accesa linii custom din dataframe folosind funcția _take()_:"
      ],
      "metadata": {
        "id": "zl_uaNALv9l6"
      }
    },
    {
      "cell_type": "code",
      "source": [
        "df.take([0, 2, 1000])"
      ],
      "metadata": {
        "colab": {
          "base_uri": "https://localhost:8080/",
          "height": 497
        },
        "id": "aksUingtwB6O",
        "outputId": "c3b683ca-4db9-4830-e0d9-aa988e07e387"
      },
      "execution_count": null,
      "outputs": [
        {
          "output_type": "execute_result",
          "data": {
            "text/plain": [
              "        Style                       Beer Name (Full)  \\\n",
              "0     Altbier      Alaskan Brewing Co. Alaskan Amber   \n",
              "2     Altbier  Long Trail Brewing Co. Long Trail Ale   \n",
              "1000   Kölsch    Stoudts Brewing Co. Karnival Kolsch   \n",
              "\n",
              "                                            Description  Astringency  Body  \\\n",
              "0     Notes:Richly malty and long on the palate, wit...           13    32   \n",
              "2     Notes:Long Trail Ale is a full-bodied amber al...           14    37   \n",
              "1000                                             Notes:           39    38   \n",
              "\n",
              "      Alcohol  Bitter  Sweet  Sour  Salty  ...  Hoppy  Spices  Malty  \\\n",
              "0           9      47     74    33      0  ...     57       8    111   \n",
              "2           6      42     43    11      0  ...     54       4     62   \n",
              "1000       10      41     26    35      1  ...     69      12     69   \n",
              "\n",
              "      review_aroma  review_appearance  review_palate  review_taste  \\\n",
              "0         3.498994           3.636821       3.556338      3.643863   \n",
              "2         3.409814           3.667109       3.600796      3.631300   \n",
              "1000      3.693966           3.896552       3.905172      3.866379   \n",
              "\n",
              "      review_overall  mean_review  desc_length  \n",
              "0           3.847082     3.584004           24  \n",
              "2           3.830239     3.577255           64  \n",
              "1000        4.081897     3.840517            1  \n",
              "\n",
              "[3 rows x 21 columns]"
            ],
            "text/html": [
              "\n",
              "  <div id=\"df-a6a69472-3555-4954-8c89-13d9605da6a1\">\n",
              "    <div class=\"colab-df-container\">\n",
              "      <div>\n",
              "<style scoped>\n",
              "    .dataframe tbody tr th:only-of-type {\n",
              "        vertical-align: middle;\n",
              "    }\n",
              "\n",
              "    .dataframe tbody tr th {\n",
              "        vertical-align: top;\n",
              "    }\n",
              "\n",
              "    .dataframe thead th {\n",
              "        text-align: right;\n",
              "    }\n",
              "</style>\n",
              "<table border=\"1\" class=\"dataframe\">\n",
              "  <thead>\n",
              "    <tr style=\"text-align: right;\">\n",
              "      <th></th>\n",
              "      <th>Style</th>\n",
              "      <th>Beer Name (Full)</th>\n",
              "      <th>Description</th>\n",
              "      <th>Astringency</th>\n",
              "      <th>Body</th>\n",
              "      <th>Alcohol</th>\n",
              "      <th>Bitter</th>\n",
              "      <th>Sweet</th>\n",
              "      <th>Sour</th>\n",
              "      <th>Salty</th>\n",
              "      <th>...</th>\n",
              "      <th>Hoppy</th>\n",
              "      <th>Spices</th>\n",
              "      <th>Malty</th>\n",
              "      <th>review_aroma</th>\n",
              "      <th>review_appearance</th>\n",
              "      <th>review_palate</th>\n",
              "      <th>review_taste</th>\n",
              "      <th>review_overall</th>\n",
              "      <th>mean_review</th>\n",
              "      <th>desc_length</th>\n",
              "    </tr>\n",
              "  </thead>\n",
              "  <tbody>\n",
              "    <tr>\n",
              "      <th>0</th>\n",
              "      <td>Altbier</td>\n",
              "      <td>Alaskan Brewing Co. Alaskan Amber</td>\n",
              "      <td>Notes:Richly malty and long on the palate, wit...</td>\n",
              "      <td>13</td>\n",
              "      <td>32</td>\n",
              "      <td>9</td>\n",
              "      <td>47</td>\n",
              "      <td>74</td>\n",
              "      <td>33</td>\n",
              "      <td>0</td>\n",
              "      <td>...</td>\n",
              "      <td>57</td>\n",
              "      <td>8</td>\n",
              "      <td>111</td>\n",
              "      <td>3.498994</td>\n",
              "      <td>3.636821</td>\n",
              "      <td>3.556338</td>\n",
              "      <td>3.643863</td>\n",
              "      <td>3.847082</td>\n",
              "      <td>3.584004</td>\n",
              "      <td>24</td>\n",
              "    </tr>\n",
              "    <tr>\n",
              "      <th>2</th>\n",
              "      <td>Altbier</td>\n",
              "      <td>Long Trail Brewing Co. Long Trail Ale</td>\n",
              "      <td>Notes:Long Trail Ale is a full-bodied amber al...</td>\n",
              "      <td>14</td>\n",
              "      <td>37</td>\n",
              "      <td>6</td>\n",
              "      <td>42</td>\n",
              "      <td>43</td>\n",
              "      <td>11</td>\n",
              "      <td>0</td>\n",
              "      <td>...</td>\n",
              "      <td>54</td>\n",
              "      <td>4</td>\n",
              "      <td>62</td>\n",
              "      <td>3.409814</td>\n",
              "      <td>3.667109</td>\n",
              "      <td>3.600796</td>\n",
              "      <td>3.631300</td>\n",
              "      <td>3.830239</td>\n",
              "      <td>3.577255</td>\n",
              "      <td>64</td>\n",
              "    </tr>\n",
              "    <tr>\n",
              "      <th>1000</th>\n",
              "      <td>Kölsch</td>\n",
              "      <td>Stoudts Brewing Co. Karnival Kolsch</td>\n",
              "      <td>Notes:</td>\n",
              "      <td>39</td>\n",
              "      <td>38</td>\n",
              "      <td>10</td>\n",
              "      <td>41</td>\n",
              "      <td>26</td>\n",
              "      <td>35</td>\n",
              "      <td>1</td>\n",
              "      <td>...</td>\n",
              "      <td>69</td>\n",
              "      <td>12</td>\n",
              "      <td>69</td>\n",
              "      <td>3.693966</td>\n",
              "      <td>3.896552</td>\n",
              "      <td>3.905172</td>\n",
              "      <td>3.866379</td>\n",
              "      <td>4.081897</td>\n",
              "      <td>3.840517</td>\n",
              "      <td>1</td>\n",
              "    </tr>\n",
              "  </tbody>\n",
              "</table>\n",
              "<p>3 rows × 21 columns</p>\n",
              "</div>\n",
              "      <button class=\"colab-df-convert\" onclick=\"convertToInteractive('df-a6a69472-3555-4954-8c89-13d9605da6a1')\"\n",
              "              title=\"Convert this dataframe to an interactive table.\"\n",
              "              style=\"display:none;\">\n",
              "        \n",
              "  <svg xmlns=\"http://www.w3.org/2000/svg\" height=\"24px\"viewBox=\"0 0 24 24\"\n",
              "       width=\"24px\">\n",
              "    <path d=\"M0 0h24v24H0V0z\" fill=\"none\"/>\n",
              "    <path d=\"M18.56 5.44l.94 2.06.94-2.06 2.06-.94-2.06-.94-.94-2.06-.94 2.06-2.06.94zm-11 1L8.5 8.5l.94-2.06 2.06-.94-2.06-.94L8.5 2.5l-.94 2.06-2.06.94zm10 10l.94 2.06.94-2.06 2.06-.94-2.06-.94-.94-2.06-.94 2.06-2.06.94z\"/><path d=\"M17.41 7.96l-1.37-1.37c-.4-.4-.92-.59-1.43-.59-.52 0-1.04.2-1.43.59L10.3 9.45l-7.72 7.72c-.78.78-.78 2.05 0 2.83L4 21.41c.39.39.9.59 1.41.59.51 0 1.02-.2 1.41-.59l7.78-7.78 2.81-2.81c.8-.78.8-2.07 0-2.86zM5.41 20L4 18.59l7.72-7.72 1.47 1.35L5.41 20z\"/>\n",
              "  </svg>\n",
              "      </button>\n",
              "      \n",
              "  <style>\n",
              "    .colab-df-container {\n",
              "      display:flex;\n",
              "      flex-wrap:wrap;\n",
              "      gap: 12px;\n",
              "    }\n",
              "\n",
              "    .colab-df-convert {\n",
              "      background-color: #E8F0FE;\n",
              "      border: none;\n",
              "      border-radius: 50%;\n",
              "      cursor: pointer;\n",
              "      display: none;\n",
              "      fill: #1967D2;\n",
              "      height: 32px;\n",
              "      padding: 0 0 0 0;\n",
              "      width: 32px;\n",
              "    }\n",
              "\n",
              "    .colab-df-convert:hover {\n",
              "      background-color: #E2EBFA;\n",
              "      box-shadow: 0px 1px 2px rgba(60, 64, 67, 0.3), 0px 1px 3px 1px rgba(60, 64, 67, 0.15);\n",
              "      fill: #174EA6;\n",
              "    }\n",
              "\n",
              "    [theme=dark] .colab-df-convert {\n",
              "      background-color: #3B4455;\n",
              "      fill: #D2E3FC;\n",
              "    }\n",
              "\n",
              "    [theme=dark] .colab-df-convert:hover {\n",
              "      background-color: #434B5C;\n",
              "      box-shadow: 0px 1px 3px 1px rgba(0, 0, 0, 0.15);\n",
              "      filter: drop-shadow(0px 1px 2px rgba(0, 0, 0, 0.3));\n",
              "      fill: #FFFFFF;\n",
              "    }\n",
              "  </style>\n",
              "\n",
              "      <script>\n",
              "        const buttonEl =\n",
              "          document.querySelector('#df-a6a69472-3555-4954-8c89-13d9605da6a1 button.colab-df-convert');\n",
              "        buttonEl.style.display =\n",
              "          google.colab.kernel.accessAllowed ? 'block' : 'none';\n",
              "\n",
              "        async function convertToInteractive(key) {\n",
              "          const element = document.querySelector('#df-a6a69472-3555-4954-8c89-13d9605da6a1');\n",
              "          const dataTable =\n",
              "            await google.colab.kernel.invokeFunction('convertToInteractive',\n",
              "                                                     [key], {});\n",
              "          if (!dataTable) return;\n",
              "\n",
              "          const docLinkHtml = 'Like what you see? Visit the ' +\n",
              "            '<a target=\"_blank\" href=https://colab.research.google.com/notebooks/data_table.ipynb>data table notebook</a>'\n",
              "            + ' to learn more about interactive tables.';\n",
              "          element.innerHTML = '';\n",
              "          dataTable['output_type'] = 'display_data';\n",
              "          await google.colab.output.renderOutput(dataTable, element);\n",
              "          const docLink = document.createElement('div');\n",
              "          docLink.innerHTML = docLinkHtml;\n",
              "          element.appendChild(docLink);\n",
              "        }\n",
              "      </script>\n",
              "    </div>\n",
              "  </div>\n",
              "  "
            ]
          },
          "metadata": {},
          "execution_count": 110
        }
      ]
    },
    {
      "cell_type": "markdown",
      "source": [
        "Sau funcțiile _loc_ și _iloc_:"
      ],
      "metadata": {
        "id": "EPP0FzY2xpCr"
      }
    },
    {
      "cell_type": "code",
      "source": [
        "df.iloc[[0, 1]]"
      ],
      "metadata": {
        "colab": {
          "base_uri": "https://localhost:8080/",
          "height": 396
        },
        "id": "V_ILXCIbxpRR",
        "outputId": "cc51dc7f-959a-46f9-86c9-7db89c3ced64"
      },
      "execution_count": null,
      "outputs": [
        {
          "output_type": "execute_result",
          "data": {
            "text/plain": [
              "     Style                   Beer Name (Full)  \\\n",
              "0  Altbier  Alaskan Brewing Co. Alaskan Amber   \n",
              "1  Altbier  Long Trail Brewing Co. Double Bag   \n",
              "\n",
              "                                         Description  Astringency  Body  \\\n",
              "0  Notes:Richly malty and long on the palate, wit...           13    32   \n",
              "1  Notes:This malty, full-bodied double alt is al...           12    57   \n",
              "\n",
              "   Alcohol  Bitter  Sweet  Sour  Salty  ...  Hoppy  Spices  Malty  \\\n",
              "0        9      47     74    33      0  ...     57       8    111   \n",
              "1       18      33     55    16      0  ...     35      12     84   \n",
              "\n",
              "   review_aroma  review_appearance  review_palate  review_taste  \\\n",
              "0      3.498994           3.636821       3.556338      3.643863   \n",
              "1      3.798337           3.846154       3.904366      4.024948   \n",
              "\n",
              "   review_overall  mean_review  desc_length  \n",
              "0        3.847082     3.584004           24  \n",
              "1        4.034304     3.893451          113  \n",
              "\n",
              "[2 rows x 21 columns]"
            ],
            "text/html": [
              "\n",
              "  <div id=\"df-3bf18823-4777-4d9e-8d91-12ae8ca4c28b\">\n",
              "    <div class=\"colab-df-container\">\n",
              "      <div>\n",
              "<style scoped>\n",
              "    .dataframe tbody tr th:only-of-type {\n",
              "        vertical-align: middle;\n",
              "    }\n",
              "\n",
              "    .dataframe tbody tr th {\n",
              "        vertical-align: top;\n",
              "    }\n",
              "\n",
              "    .dataframe thead th {\n",
              "        text-align: right;\n",
              "    }\n",
              "</style>\n",
              "<table border=\"1\" class=\"dataframe\">\n",
              "  <thead>\n",
              "    <tr style=\"text-align: right;\">\n",
              "      <th></th>\n",
              "      <th>Style</th>\n",
              "      <th>Beer Name (Full)</th>\n",
              "      <th>Description</th>\n",
              "      <th>Astringency</th>\n",
              "      <th>Body</th>\n",
              "      <th>Alcohol</th>\n",
              "      <th>Bitter</th>\n",
              "      <th>Sweet</th>\n",
              "      <th>Sour</th>\n",
              "      <th>Salty</th>\n",
              "      <th>...</th>\n",
              "      <th>Hoppy</th>\n",
              "      <th>Spices</th>\n",
              "      <th>Malty</th>\n",
              "      <th>review_aroma</th>\n",
              "      <th>review_appearance</th>\n",
              "      <th>review_palate</th>\n",
              "      <th>review_taste</th>\n",
              "      <th>review_overall</th>\n",
              "      <th>mean_review</th>\n",
              "      <th>desc_length</th>\n",
              "    </tr>\n",
              "  </thead>\n",
              "  <tbody>\n",
              "    <tr>\n",
              "      <th>0</th>\n",
              "      <td>Altbier</td>\n",
              "      <td>Alaskan Brewing Co. Alaskan Amber</td>\n",
              "      <td>Notes:Richly malty and long on the palate, wit...</td>\n",
              "      <td>13</td>\n",
              "      <td>32</td>\n",
              "      <td>9</td>\n",
              "      <td>47</td>\n",
              "      <td>74</td>\n",
              "      <td>33</td>\n",
              "      <td>0</td>\n",
              "      <td>...</td>\n",
              "      <td>57</td>\n",
              "      <td>8</td>\n",
              "      <td>111</td>\n",
              "      <td>3.498994</td>\n",
              "      <td>3.636821</td>\n",
              "      <td>3.556338</td>\n",
              "      <td>3.643863</td>\n",
              "      <td>3.847082</td>\n",
              "      <td>3.584004</td>\n",
              "      <td>24</td>\n",
              "    </tr>\n",
              "    <tr>\n",
              "      <th>1</th>\n",
              "      <td>Altbier</td>\n",
              "      <td>Long Trail Brewing Co. Double Bag</td>\n",
              "      <td>Notes:This malty, full-bodied double alt is al...</td>\n",
              "      <td>12</td>\n",
              "      <td>57</td>\n",
              "      <td>18</td>\n",
              "      <td>33</td>\n",
              "      <td>55</td>\n",
              "      <td>16</td>\n",
              "      <td>0</td>\n",
              "      <td>...</td>\n",
              "      <td>35</td>\n",
              "      <td>12</td>\n",
              "      <td>84</td>\n",
              "      <td>3.798337</td>\n",
              "      <td>3.846154</td>\n",
              "      <td>3.904366</td>\n",
              "      <td>4.024948</td>\n",
              "      <td>4.034304</td>\n",
              "      <td>3.893451</td>\n",
              "      <td>113</td>\n",
              "    </tr>\n",
              "  </tbody>\n",
              "</table>\n",
              "<p>2 rows × 21 columns</p>\n",
              "</div>\n",
              "      <button class=\"colab-df-convert\" onclick=\"convertToInteractive('df-3bf18823-4777-4d9e-8d91-12ae8ca4c28b')\"\n",
              "              title=\"Convert this dataframe to an interactive table.\"\n",
              "              style=\"display:none;\">\n",
              "        \n",
              "  <svg xmlns=\"http://www.w3.org/2000/svg\" height=\"24px\"viewBox=\"0 0 24 24\"\n",
              "       width=\"24px\">\n",
              "    <path d=\"M0 0h24v24H0V0z\" fill=\"none\"/>\n",
              "    <path d=\"M18.56 5.44l.94 2.06.94-2.06 2.06-.94-2.06-.94-.94-2.06-.94 2.06-2.06.94zm-11 1L8.5 8.5l.94-2.06 2.06-.94-2.06-.94L8.5 2.5l-.94 2.06-2.06.94zm10 10l.94 2.06.94-2.06 2.06-.94-2.06-.94-.94-2.06-.94 2.06-2.06.94z\"/><path d=\"M17.41 7.96l-1.37-1.37c-.4-.4-.92-.59-1.43-.59-.52 0-1.04.2-1.43.59L10.3 9.45l-7.72 7.72c-.78.78-.78 2.05 0 2.83L4 21.41c.39.39.9.59 1.41.59.51 0 1.02-.2 1.41-.59l7.78-7.78 2.81-2.81c.8-.78.8-2.07 0-2.86zM5.41 20L4 18.59l7.72-7.72 1.47 1.35L5.41 20z\"/>\n",
              "  </svg>\n",
              "      </button>\n",
              "      \n",
              "  <style>\n",
              "    .colab-df-container {\n",
              "      display:flex;\n",
              "      flex-wrap:wrap;\n",
              "      gap: 12px;\n",
              "    }\n",
              "\n",
              "    .colab-df-convert {\n",
              "      background-color: #E8F0FE;\n",
              "      border: none;\n",
              "      border-radius: 50%;\n",
              "      cursor: pointer;\n",
              "      display: none;\n",
              "      fill: #1967D2;\n",
              "      height: 32px;\n",
              "      padding: 0 0 0 0;\n",
              "      width: 32px;\n",
              "    }\n",
              "\n",
              "    .colab-df-convert:hover {\n",
              "      background-color: #E2EBFA;\n",
              "      box-shadow: 0px 1px 2px rgba(60, 64, 67, 0.3), 0px 1px 3px 1px rgba(60, 64, 67, 0.15);\n",
              "      fill: #174EA6;\n",
              "    }\n",
              "\n",
              "    [theme=dark] .colab-df-convert {\n",
              "      background-color: #3B4455;\n",
              "      fill: #D2E3FC;\n",
              "    }\n",
              "\n",
              "    [theme=dark] .colab-df-convert:hover {\n",
              "      background-color: #434B5C;\n",
              "      box-shadow: 0px 1px 3px 1px rgba(0, 0, 0, 0.15);\n",
              "      filter: drop-shadow(0px 1px 2px rgba(0, 0, 0, 0.3));\n",
              "      fill: #FFFFFF;\n",
              "    }\n",
              "  </style>\n",
              "\n",
              "      <script>\n",
              "        const buttonEl =\n",
              "          document.querySelector('#df-3bf18823-4777-4d9e-8d91-12ae8ca4c28b button.colab-df-convert');\n",
              "        buttonEl.style.display =\n",
              "          google.colab.kernel.accessAllowed ? 'block' : 'none';\n",
              "\n",
              "        async function convertToInteractive(key) {\n",
              "          const element = document.querySelector('#df-3bf18823-4777-4d9e-8d91-12ae8ca4c28b');\n",
              "          const dataTable =\n",
              "            await google.colab.kernel.invokeFunction('convertToInteractive',\n",
              "                                                     [key], {});\n",
              "          if (!dataTable) return;\n",
              "\n",
              "          const docLinkHtml = 'Like what you see? Visit the ' +\n",
              "            '<a target=\"_blank\" href=https://colab.research.google.com/notebooks/data_table.ipynb>data table notebook</a>'\n",
              "            + ' to learn more about interactive tables.';\n",
              "          element.innerHTML = '';\n",
              "          dataTable['output_type'] = 'display_data';\n",
              "          await google.colab.output.renderOutput(dataTable, element);\n",
              "          const docLink = document.createElement('div');\n",
              "          docLink.innerHTML = docLinkHtml;\n",
              "          element.appendChild(docLink);\n",
              "        }\n",
              "      </script>\n",
              "    </div>\n",
              "  </div>\n",
              "  "
            ]
          },
          "metadata": {},
          "execution_count": 71
        }
      ]
    },
    {
      "cell_type": "markdown",
      "source": [
        "Spre deosebire de _take_, _iloc_ poate returna lista informațiilor pentru un singur element:"
      ],
      "metadata": {
        "id": "2Ua8JXBAyA52"
      }
    },
    {
      "cell_type": "code",
      "source": [
        "df.iloc[1]"
      ],
      "metadata": {
        "colab": {
          "base_uri": "https://localhost:8080/"
        },
        "id": "hbIAkmP2yIgn",
        "outputId": "79d7cd5e-62c2-4fef-892a-597f8bbac240"
      },
      "execution_count": null,
      "outputs": [
        {
          "output_type": "execute_result",
          "data": {
            "text/plain": [
              "Style                                                          Altbier\n",
              "Beer Name (Full)                     Long Trail Brewing Co. Double Bag\n",
              "Description          Notes:This malty, full-bodied double alt is al...\n",
              "Astringency                                                         12\n",
              "Body                                                                57\n",
              "Alcohol                                                             18\n",
              "Bitter                                                              33\n",
              "Sweet                                                               55\n",
              "Sour                                                                16\n",
              "Salty                                                                0\n",
              "Fruits                                                              24\n",
              "Hoppy                                                               35\n",
              "Spices                                                              12\n",
              "Malty                                                               84\n",
              "review_aroma                                                  3.798337\n",
              "review_appearance                                             3.846154\n",
              "review_palate                                                 3.904366\n",
              "review_taste                                                  4.024948\n",
              "review_overall                                                4.034304\n",
              "mean_review                                                   3.893451\n",
              "desc_length                                                        113\n",
              "Name: 1, dtype: object"
            ]
          },
          "metadata": {},
          "execution_count": 74
        }
      ]
    },
    {
      "cell_type": "markdown",
      "source": [
        "Cum accesăm descrierea berii de pe rândul 3?"
      ],
      "metadata": {
        "id": "89MZT26yyM1R"
      }
    },
    {
      "cell_type": "code",
      "source": [
        "df.iloc[3][2]"
      ],
      "metadata": {
        "colab": {
          "base_uri": "https://localhost:8080/",
          "height": 36
        },
        "id": "rBO2z-j8yTvI",
        "outputId": "a8d8ce5b-8ed8-4c46-f260-3f0e08d25dfe"
      },
      "execution_count": null,
      "outputs": [
        {
          "output_type": "execute_result",
          "data": {
            "text/plain": [
              "'Notes:'"
            ],
            "application/vnd.google.colaboratory.intrinsic+json": {
              "type": "string"
            }
          },
          "metadata": {},
          "execution_count": 112
        }
      ]
    },
    {
      "cell_type": "code",
      "source": [
        "df.iloc[3][\"Description\"]"
      ],
      "metadata": {
        "colab": {
          "base_uri": "https://localhost:8080/",
          "height": 36
        },
        "id": "Pz1zDOmIkaTb",
        "outputId": "a57db33b-06cd-4a8f-ae8c-eb1903d93146"
      },
      "execution_count": null,
      "outputs": [
        {
          "output_type": "execute_result",
          "data": {
            "text/plain": [
              "'Notes:'"
            ],
            "application/vnd.google.colaboratory.intrinsic+json": {
              "type": "string"
            }
          },
          "metadata": {},
          "execution_count": 113
        }
      ]
    },
    {
      "cell_type": "code",
      "source": [
        "df.iloc[3, 2]"
      ],
      "metadata": {
        "colab": {
          "base_uri": "https://localhost:8080/",
          "height": 36
        },
        "id": "dFyh2fV-keRv",
        "outputId": "dc531c2a-2efc-45d0-d36b-55a428f55ef7"
      },
      "execution_count": null,
      "outputs": [
        {
          "output_type": "execute_result",
          "data": {
            "text/plain": [
              "'Notes:'"
            ],
            "application/vnd.google.colaboratory.intrinsic+json": {
              "type": "string"
            }
          },
          "metadata": {},
          "execution_count": 115
        }
      ]
    },
    {
      "cell_type": "code",
      "source": [
        "df.loc[3]"
      ],
      "metadata": {
        "colab": {
          "base_uri": "https://localhost:8080/"
        },
        "id": "esyfOu6dkuCN",
        "outputId": "80d5dc63-a7ca-4a66-edc6-85b298eda1e4"
      },
      "execution_count": null,
      "outputs": [
        {
          "output_type": "execute_result",
          "data": {
            "text/plain": [
              "Style                                                          Altbier\n",
              "Beer Name (Full)     Uerige Obergärige Hausbrauerei GmbH / Zum Ueri...\n",
              "Description                                                     Notes:\n",
              "Astringency                                                         13\n",
              "Body                                                                55\n",
              "Alcohol                                                             31\n",
              "Bitter                                                              47\n",
              "Sweet                                                              101\n",
              "Sour                                                                18\n",
              "Salty                                                                1\n",
              "Fruits                                                              49\n",
              "Hoppy                                                               40\n",
              "Spices                                                              16\n",
              "Malty                                                              119\n",
              "review_aroma                                                  4.148098\n",
              "review_appearance                                             4.033967\n",
              "review_palate                                                 4.150815\n",
              "review_taste                                                  4.205163\n",
              "review_overall                                                4.005435\n",
              "mean_review                                                   4.134511\n",
              "desc_length                                                          1\n",
              "Name: 3, dtype: object"
            ]
          },
          "metadata": {},
          "execution_count": 119
        }
      ]
    },
    {
      "cell_type": "markdown",
      "source": [
        "Cum accesăm numele datapointurilor din intervalul 2-5?"
      ],
      "metadata": {
        "id": "YcL8btDnzUHY"
      }
    },
    {
      "cell_type": "code",
      "source": [
        "df[2:6][\"Beer Name (Full)\"]"
      ],
      "metadata": {
        "colab": {
          "base_uri": "https://localhost:8080/"
        },
        "id": "BcwFlX5Gzcae",
        "outputId": "e69420fb-cfd9-42dd-c0f0-d411cee6a217"
      },
      "execution_count": null,
      "outputs": [
        {
          "output_type": "execute_result",
          "data": {
            "text/plain": [
              "2                Long Trail Brewing Co. Long Trail Ale\n",
              "3    Uerige Obergärige Hausbrauerei GmbH / Zum Ueri...\n",
              "4    Ninkasi Brewing Company Sleigh'r Dark Doüble A...\n",
              "5    Uerige Obergärige Hausbrauerei GmbH / Zum Ueri...\n",
              "Name: Beer Name (Full), dtype: object"
            ]
          },
          "metadata": {},
          "execution_count": 123
        }
      ]
    },
    {
      "cell_type": "markdown",
      "source": [
        "## Alte funcții"
      ],
      "metadata": {
        "id": "Ca11UwMW0TrM"
      }
    },
    {
      "cell_type": "markdown",
      "source": [
        "Putem realiza un summary cu mai multe informații despre dataframe-ul dat:"
      ],
      "metadata": {
        "id": "IgvdwlGosU1E"
      }
    },
    {
      "cell_type": "code",
      "source": [
        "df.describe()"
      ],
      "metadata": {
        "colab": {
          "base_uri": "https://localhost:8080/",
          "height": 364
        },
        "id": "HXRPegY0sfHs",
        "outputId": "b3cf9cd8-1fcc-4ce0-bba9-bd7c68fec584"
      },
      "execution_count": null,
      "outputs": [
        {
          "output_type": "execute_result",
          "data": {
            "text/plain": [
              "       Astringency         Body      Alcohol       Bitter        Sweet  \\\n",
              "count  3197.000000  3197.000000  3197.000000  3197.000000  3197.000000   \n",
              "mean     16.515796    46.129496    17.055990    36.364404    58.270879   \n",
              "std      10.410661    25.947842    17.331334    25.791152    34.281310   \n",
              "min       0.000000     0.000000     0.000000     0.000000     0.000000   \n",
              "25%       9.000000    29.000000     6.000000    17.000000    33.000000   \n",
              "50%      14.000000    40.000000    11.000000    31.000000    54.000000   \n",
              "75%      21.000000    58.000000    22.000000    52.000000    77.000000   \n",
              "max      81.000000   175.000000   139.000000   150.000000   263.000000   \n",
              "\n",
              "              Sour        Salty       Fruits        Hoppy       Spices  \\\n",
              "count  3197.000000  3197.000000  3197.000000  3197.000000  3197.000000   \n",
              "mean     33.145449     1.017204    38.529559    40.924617    18.345637   \n",
              "std      35.780172     2.132651    32.296646    30.403641    23.756582   \n",
              "min       0.000000     0.000000     0.000000     0.000000     0.000000   \n",
              "25%      11.000000     0.000000    12.000000    18.000000     4.000000   \n",
              "50%      22.000000     0.000000    29.000000    33.000000    10.000000   \n",
              "75%      42.000000     1.000000    60.000000    56.000000    23.000000   \n",
              "max     284.000000    48.000000   175.000000   172.000000   184.000000   \n",
              "\n",
              "             Malty  review_aroma  review_appearance  review_palate  \\\n",
              "count  3197.000000   3197.000000        3197.000000    3197.000000   \n",
              "mean     75.330935      3.638789           3.754393       3.660428   \n",
              "std      39.909338      0.503209           0.403416       0.449937   \n",
              "min       0.000000      1.509615           1.571429       1.285714   \n",
              "25%      45.000000      3.422559           3.604651       3.470021   \n",
              "50%      73.000000      3.720183           3.833333       3.741667   \n",
              "75%     103.000000      3.978000           4.000000       3.965587   \n",
              "max     239.000000      5.000000           4.666667       5.000000   \n",
              "\n",
              "       review_taste  review_overall  number_of_reviews  \n",
              "count   3197.000000     3197.000000        3197.000000  \n",
              "mean       3.702496        3.747522         233.284955  \n",
              "std        0.510361        0.444288         361.811847  \n",
              "min        1.214286        1.136364           1.000000  \n",
              "25%        3.500000        3.566667          23.000000  \n",
              "50%        3.791667        3.830239          93.000000  \n",
              "75%        4.033333        4.032847         284.000000  \n",
              "max        5.000000        5.000000        3290.000000  "
            ],
            "text/html": [
              "\n",
              "  <div id=\"df-b6fcd56b-6a19-4e5f-affc-c6e98614e229\">\n",
              "    <div class=\"colab-df-container\">\n",
              "      <div>\n",
              "<style scoped>\n",
              "    .dataframe tbody tr th:only-of-type {\n",
              "        vertical-align: middle;\n",
              "    }\n",
              "\n",
              "    .dataframe tbody tr th {\n",
              "        vertical-align: top;\n",
              "    }\n",
              "\n",
              "    .dataframe thead th {\n",
              "        text-align: right;\n",
              "    }\n",
              "</style>\n",
              "<table border=\"1\" class=\"dataframe\">\n",
              "  <thead>\n",
              "    <tr style=\"text-align: right;\">\n",
              "      <th></th>\n",
              "      <th>Astringency</th>\n",
              "      <th>Body</th>\n",
              "      <th>Alcohol</th>\n",
              "      <th>Bitter</th>\n",
              "      <th>Sweet</th>\n",
              "      <th>Sour</th>\n",
              "      <th>Salty</th>\n",
              "      <th>Fruits</th>\n",
              "      <th>Hoppy</th>\n",
              "      <th>Spices</th>\n",
              "      <th>Malty</th>\n",
              "      <th>review_aroma</th>\n",
              "      <th>review_appearance</th>\n",
              "      <th>review_palate</th>\n",
              "      <th>review_taste</th>\n",
              "      <th>review_overall</th>\n",
              "      <th>number_of_reviews</th>\n",
              "    </tr>\n",
              "  </thead>\n",
              "  <tbody>\n",
              "    <tr>\n",
              "      <th>count</th>\n",
              "      <td>3197.000000</td>\n",
              "      <td>3197.000000</td>\n",
              "      <td>3197.000000</td>\n",
              "      <td>3197.000000</td>\n",
              "      <td>3197.000000</td>\n",
              "      <td>3197.000000</td>\n",
              "      <td>3197.000000</td>\n",
              "      <td>3197.000000</td>\n",
              "      <td>3197.000000</td>\n",
              "      <td>3197.000000</td>\n",
              "      <td>3197.000000</td>\n",
              "      <td>3197.000000</td>\n",
              "      <td>3197.000000</td>\n",
              "      <td>3197.000000</td>\n",
              "      <td>3197.000000</td>\n",
              "      <td>3197.000000</td>\n",
              "      <td>3197.000000</td>\n",
              "    </tr>\n",
              "    <tr>\n",
              "      <th>mean</th>\n",
              "      <td>16.515796</td>\n",
              "      <td>46.129496</td>\n",
              "      <td>17.055990</td>\n",
              "      <td>36.364404</td>\n",
              "      <td>58.270879</td>\n",
              "      <td>33.145449</td>\n",
              "      <td>1.017204</td>\n",
              "      <td>38.529559</td>\n",
              "      <td>40.924617</td>\n",
              "      <td>18.345637</td>\n",
              "      <td>75.330935</td>\n",
              "      <td>3.638789</td>\n",
              "      <td>3.754393</td>\n",
              "      <td>3.660428</td>\n",
              "      <td>3.702496</td>\n",
              "      <td>3.747522</td>\n",
              "      <td>233.284955</td>\n",
              "    </tr>\n",
              "    <tr>\n",
              "      <th>std</th>\n",
              "      <td>10.410661</td>\n",
              "      <td>25.947842</td>\n",
              "      <td>17.331334</td>\n",
              "      <td>25.791152</td>\n",
              "      <td>34.281310</td>\n",
              "      <td>35.780172</td>\n",
              "      <td>2.132651</td>\n",
              "      <td>32.296646</td>\n",
              "      <td>30.403641</td>\n",
              "      <td>23.756582</td>\n",
              "      <td>39.909338</td>\n",
              "      <td>0.503209</td>\n",
              "      <td>0.403416</td>\n",
              "      <td>0.449937</td>\n",
              "      <td>0.510361</td>\n",
              "      <td>0.444288</td>\n",
              "      <td>361.811847</td>\n",
              "    </tr>\n",
              "    <tr>\n",
              "      <th>min</th>\n",
              "      <td>0.000000</td>\n",
              "      <td>0.000000</td>\n",
              "      <td>0.000000</td>\n",
              "      <td>0.000000</td>\n",
              "      <td>0.000000</td>\n",
              "      <td>0.000000</td>\n",
              "      <td>0.000000</td>\n",
              "      <td>0.000000</td>\n",
              "      <td>0.000000</td>\n",
              "      <td>0.000000</td>\n",
              "      <td>0.000000</td>\n",
              "      <td>1.509615</td>\n",
              "      <td>1.571429</td>\n",
              "      <td>1.285714</td>\n",
              "      <td>1.214286</td>\n",
              "      <td>1.136364</td>\n",
              "      <td>1.000000</td>\n",
              "    </tr>\n",
              "    <tr>\n",
              "      <th>25%</th>\n",
              "      <td>9.000000</td>\n",
              "      <td>29.000000</td>\n",
              "      <td>6.000000</td>\n",
              "      <td>17.000000</td>\n",
              "      <td>33.000000</td>\n",
              "      <td>11.000000</td>\n",
              "      <td>0.000000</td>\n",
              "      <td>12.000000</td>\n",
              "      <td>18.000000</td>\n",
              "      <td>4.000000</td>\n",
              "      <td>45.000000</td>\n",
              "      <td>3.422559</td>\n",
              "      <td>3.604651</td>\n",
              "      <td>3.470021</td>\n",
              "      <td>3.500000</td>\n",
              "      <td>3.566667</td>\n",
              "      <td>23.000000</td>\n",
              "    </tr>\n",
              "    <tr>\n",
              "      <th>50%</th>\n",
              "      <td>14.000000</td>\n",
              "      <td>40.000000</td>\n",
              "      <td>11.000000</td>\n",
              "      <td>31.000000</td>\n",
              "      <td>54.000000</td>\n",
              "      <td>22.000000</td>\n",
              "      <td>0.000000</td>\n",
              "      <td>29.000000</td>\n",
              "      <td>33.000000</td>\n",
              "      <td>10.000000</td>\n",
              "      <td>73.000000</td>\n",
              "      <td>3.720183</td>\n",
              "      <td>3.833333</td>\n",
              "      <td>3.741667</td>\n",
              "      <td>3.791667</td>\n",
              "      <td>3.830239</td>\n",
              "      <td>93.000000</td>\n",
              "    </tr>\n",
              "    <tr>\n",
              "      <th>75%</th>\n",
              "      <td>21.000000</td>\n",
              "      <td>58.000000</td>\n",
              "      <td>22.000000</td>\n",
              "      <td>52.000000</td>\n",
              "      <td>77.000000</td>\n",
              "      <td>42.000000</td>\n",
              "      <td>1.000000</td>\n",
              "      <td>60.000000</td>\n",
              "      <td>56.000000</td>\n",
              "      <td>23.000000</td>\n",
              "      <td>103.000000</td>\n",
              "      <td>3.978000</td>\n",
              "      <td>4.000000</td>\n",
              "      <td>3.965587</td>\n",
              "      <td>4.033333</td>\n",
              "      <td>4.032847</td>\n",
              "      <td>284.000000</td>\n",
              "    </tr>\n",
              "    <tr>\n",
              "      <th>max</th>\n",
              "      <td>81.000000</td>\n",
              "      <td>175.000000</td>\n",
              "      <td>139.000000</td>\n",
              "      <td>150.000000</td>\n",
              "      <td>263.000000</td>\n",
              "      <td>284.000000</td>\n",
              "      <td>48.000000</td>\n",
              "      <td>175.000000</td>\n",
              "      <td>172.000000</td>\n",
              "      <td>184.000000</td>\n",
              "      <td>239.000000</td>\n",
              "      <td>5.000000</td>\n",
              "      <td>4.666667</td>\n",
              "      <td>5.000000</td>\n",
              "      <td>5.000000</td>\n",
              "      <td>5.000000</td>\n",
              "      <td>3290.000000</td>\n",
              "    </tr>\n",
              "  </tbody>\n",
              "</table>\n",
              "</div>\n",
              "      <button class=\"colab-df-convert\" onclick=\"convertToInteractive('df-b6fcd56b-6a19-4e5f-affc-c6e98614e229')\"\n",
              "              title=\"Convert this dataframe to an interactive table.\"\n",
              "              style=\"display:none;\">\n",
              "        \n",
              "  <svg xmlns=\"http://www.w3.org/2000/svg\" height=\"24px\"viewBox=\"0 0 24 24\"\n",
              "       width=\"24px\">\n",
              "    <path d=\"M0 0h24v24H0V0z\" fill=\"none\"/>\n",
              "    <path d=\"M18.56 5.44l.94 2.06.94-2.06 2.06-.94-2.06-.94-.94-2.06-.94 2.06-2.06.94zm-11 1L8.5 8.5l.94-2.06 2.06-.94-2.06-.94L8.5 2.5l-.94 2.06-2.06.94zm10 10l.94 2.06.94-2.06 2.06-.94-2.06-.94-.94-2.06-.94 2.06-2.06.94z\"/><path d=\"M17.41 7.96l-1.37-1.37c-.4-.4-.92-.59-1.43-.59-.52 0-1.04.2-1.43.59L10.3 9.45l-7.72 7.72c-.78.78-.78 2.05 0 2.83L4 21.41c.39.39.9.59 1.41.59.51 0 1.02-.2 1.41-.59l7.78-7.78 2.81-2.81c.8-.78.8-2.07 0-2.86zM5.41 20L4 18.59l7.72-7.72 1.47 1.35L5.41 20z\"/>\n",
              "  </svg>\n",
              "      </button>\n",
              "      \n",
              "  <style>\n",
              "    .colab-df-container {\n",
              "      display:flex;\n",
              "      flex-wrap:wrap;\n",
              "      gap: 12px;\n",
              "    }\n",
              "\n",
              "    .colab-df-convert {\n",
              "      background-color: #E8F0FE;\n",
              "      border: none;\n",
              "      border-radius: 50%;\n",
              "      cursor: pointer;\n",
              "      display: none;\n",
              "      fill: #1967D2;\n",
              "      height: 32px;\n",
              "      padding: 0 0 0 0;\n",
              "      width: 32px;\n",
              "    }\n",
              "\n",
              "    .colab-df-convert:hover {\n",
              "      background-color: #E2EBFA;\n",
              "      box-shadow: 0px 1px 2px rgba(60, 64, 67, 0.3), 0px 1px 3px 1px rgba(60, 64, 67, 0.15);\n",
              "      fill: #174EA6;\n",
              "    }\n",
              "\n",
              "    [theme=dark] .colab-df-convert {\n",
              "      background-color: #3B4455;\n",
              "      fill: #D2E3FC;\n",
              "    }\n",
              "\n",
              "    [theme=dark] .colab-df-convert:hover {\n",
              "      background-color: #434B5C;\n",
              "      box-shadow: 0px 1px 3px 1px rgba(0, 0, 0, 0.15);\n",
              "      filter: drop-shadow(0px 1px 2px rgba(0, 0, 0, 0.3));\n",
              "      fill: #FFFFFF;\n",
              "    }\n",
              "  </style>\n",
              "\n",
              "      <script>\n",
              "        const buttonEl =\n",
              "          document.querySelector('#df-b6fcd56b-6a19-4e5f-affc-c6e98614e229 button.colab-df-convert');\n",
              "        buttonEl.style.display =\n",
              "          google.colab.kernel.accessAllowed ? 'block' : 'none';\n",
              "\n",
              "        async function convertToInteractive(key) {\n",
              "          const element = document.querySelector('#df-b6fcd56b-6a19-4e5f-affc-c6e98614e229');\n",
              "          const dataTable =\n",
              "            await google.colab.kernel.invokeFunction('convertToInteractive',\n",
              "                                                     [key], {});\n",
              "          if (!dataTable) return;\n",
              "\n",
              "          const docLinkHtml = 'Like what you see? Visit the ' +\n",
              "            '<a target=\"_blank\" href=https://colab.research.google.com/notebooks/data_table.ipynb>data table notebook</a>'\n",
              "            + ' to learn more about interactive tables.';\n",
              "          element.innerHTML = '';\n",
              "          dataTable['output_type'] = 'display_data';\n",
              "          await google.colab.output.renderOutput(dataTable, element);\n",
              "          const docLink = document.createElement('div');\n",
              "          docLink.innerHTML = docLinkHtml;\n",
              "          element.appendChild(docLink);\n",
              "        }\n",
              "      </script>\n",
              "    </div>\n",
              "  </div>\n",
              "  "
            ]
          },
          "metadata": {},
          "execution_count": 55
        }
      ]
    },
    {
      "cell_type": "markdown",
      "source": [
        "Filtrarea funcționează ca la numpy:"
      ],
      "metadata": {
        "id": "RlJPIoXu0Qy2"
      }
    },
    {
      "cell_type": "code",
      "source": [
        "df[df[\"Spices\"] == 7]"
      ],
      "metadata": {
        "colab": {
          "base_uri": "https://localhost:8080/",
          "height": 1000
        },
        "id": "CvAApJ6f1ouT",
        "outputId": "a568f54b-956a-4dcf-87e2-6a618f32b023"
      },
      "execution_count": null,
      "outputs": [
        {
          "output_type": "execute_result",
          "data": {
            "text/plain": [
              "                                                  Style  \\\n",
              "16                                              Altbier   \n",
              "23                                              Altbier   \n",
              "108   Bitter - English Extra Special / Strong Bitter...   \n",
              "113   Bitter - English Extra Special / Strong Bitter...   \n",
              "118   Bitter - English Extra Special / Strong Bitter...   \n",
              "...                                                 ...   \n",
              "2968                         Wheat Beer - American Pale   \n",
              "2972                         Wheat Beer - American Pale   \n",
              "3078                        Wheat Beer - Kristallweizen   \n",
              "3095                             Wheat Beer - Wheatwine   \n",
              "3134                                           Wild Ale   \n",
              "\n",
              "                                       Beer Name (Full)  \\\n",
              "16                  Rising Tide Brewing Company Ishmael   \n",
              "23                        Mission Brewery Mission Amber   \n",
              "108             Greene King / Morland Brewery Abbot Ale   \n",
              "113         Foster's Group Limited Foster's Premium Ale   \n",
              "118          Short's Brewing Company Short's Autumn Ale   \n",
              "...                                                 ...   \n",
              "2968        Tommyknocker Brewery Jack Whacker Wheat Ale   \n",
              "2972  Peak Organic Brewing Company Peak Organic Summ...   \n",
              "3078   Kulmbacher Brauerei AG Kapuziner Kristall-Weizen   \n",
              "3095  Baird Brewing Company / Fishmarket Taproom Wes...   \n",
              "3134         Russian River Brewing Company Supplication   \n",
              "\n",
              "                                            Description  Astringency  Body  \\\n",
              "16    Notes:Ishmael is our richly-flavored American ...           17    41   \n",
              "23                                               Notes:           24    36   \n",
              "108   Notes:Hailed by the late beer writer Michael J...            9    42   \n",
              "113                                              Notes:           21    43   \n",
              "118   Notes:A malty amber ale over toned with slight...           17    41   \n",
              "...                                                 ...          ...   ...   \n",
              "2968  Notes:An American-style wheat ale brewed with ...           12    32   \n",
              "2972  Notes:A traditional summer wheat beer marries ...           18    34   \n",
              "3078                                             Notes:            3     8   \n",
              "3095  Notes:Brewer's Notes: Wheat Wine is a beer sty...           18    45   \n",
              "3134  Notes:Brown Ale aged in used Pinot Noir barrel...           22    38   \n",
              "\n",
              "      Alcohol  Bitter  Sweet  Sour  Salty  ...  Hoppy  Spices  Malty  \\\n",
              "16          1      55     43    18      1  ...     80       7    103   \n",
              "23          9      59     55    20      2  ...     80       7    132   \n",
              "108         5      30     63    16      3  ...     51       7     92   \n",
              "113        15      45     53    17      0  ...     73       7     95   \n",
              "118        15      66     68    33      0  ...     94       7    107   \n",
              "...       ...     ...    ...   ...    ...  ...    ...     ...    ...   \n",
              "2968        9      13     30    91      0  ...     25       7     64   \n",
              "2972        8      60     13    59      1  ...     77       7     67   \n",
              "3078        1       4      5     5      0  ...      5       7     14   \n",
              "3095       33      37     96    63      0  ...     32       7     70   \n",
              "3134        9       5     26   123      3  ...     20       7      9   \n",
              "\n",
              "      review_aroma  review_appearance  review_palate  review_taste  \\\n",
              "16        3.528571           3.914286       3.814286      3.914286   \n",
              "23        3.588235           3.735294       3.411765      3.588235   \n",
              "108       3.500000           3.873512       3.712798      3.633929   \n",
              "113       2.701613           3.387097       3.044355      2.919355   \n",
              "118       3.520270           3.641892       3.547297      3.486486   \n",
              "...            ...                ...            ...           ...   \n",
              "2968      3.302326           3.402326       3.355814      3.381395   \n",
              "2972      3.782051           3.782051       3.858974      3.846154   \n",
              "3078      3.142857           3.285714       3.214286      3.214286   \n",
              "3095      3.791667           3.750000       3.791667      3.666667   \n",
              "3134      4.431624           4.291548       4.377018      4.566002   \n",
              "\n",
              "      review_overall  mean_review  desc_length  \n",
              "16          3.900000     3.792857           41  \n",
              "23          3.470588     3.580882            1  \n",
              "108         3.764881     3.680060           65  \n",
              "113         3.104839     3.013105            1  \n",
              "118         3.540541     3.548986           27  \n",
              "...              ...          ...          ...  \n",
              "2968        3.527907     3.360465           46  \n",
              "2972        3.974359     3.817308           27  \n",
              "3078        3.428571     3.214286            1  \n",
              "3095        3.791667     3.750000          225  \n",
              "3134        4.431624     4.416548           50  \n",
              "\n",
              "[152 rows x 21 columns]"
            ],
            "text/html": [
              "\n",
              "  <div id=\"df-92cf9bb5-e434-443b-86ef-55748cdde0fc\">\n",
              "    <div class=\"colab-df-container\">\n",
              "      <div>\n",
              "<style scoped>\n",
              "    .dataframe tbody tr th:only-of-type {\n",
              "        vertical-align: middle;\n",
              "    }\n",
              "\n",
              "    .dataframe tbody tr th {\n",
              "        vertical-align: top;\n",
              "    }\n",
              "\n",
              "    .dataframe thead th {\n",
              "        text-align: right;\n",
              "    }\n",
              "</style>\n",
              "<table border=\"1\" class=\"dataframe\">\n",
              "  <thead>\n",
              "    <tr style=\"text-align: right;\">\n",
              "      <th></th>\n",
              "      <th>Style</th>\n",
              "      <th>Beer Name (Full)</th>\n",
              "      <th>Description</th>\n",
              "      <th>Astringency</th>\n",
              "      <th>Body</th>\n",
              "      <th>Alcohol</th>\n",
              "      <th>Bitter</th>\n",
              "      <th>Sweet</th>\n",
              "      <th>Sour</th>\n",
              "      <th>Salty</th>\n",
              "      <th>...</th>\n",
              "      <th>Hoppy</th>\n",
              "      <th>Spices</th>\n",
              "      <th>Malty</th>\n",
              "      <th>review_aroma</th>\n",
              "      <th>review_appearance</th>\n",
              "      <th>review_palate</th>\n",
              "      <th>review_taste</th>\n",
              "      <th>review_overall</th>\n",
              "      <th>mean_review</th>\n",
              "      <th>desc_length</th>\n",
              "    </tr>\n",
              "  </thead>\n",
              "  <tbody>\n",
              "    <tr>\n",
              "      <th>16</th>\n",
              "      <td>Altbier</td>\n",
              "      <td>Rising Tide Brewing Company Ishmael</td>\n",
              "      <td>Notes:Ishmael is our richly-flavored American ...</td>\n",
              "      <td>17</td>\n",
              "      <td>41</td>\n",
              "      <td>1</td>\n",
              "      <td>55</td>\n",
              "      <td>43</td>\n",
              "      <td>18</td>\n",
              "      <td>1</td>\n",
              "      <td>...</td>\n",
              "      <td>80</td>\n",
              "      <td>7</td>\n",
              "      <td>103</td>\n",
              "      <td>3.528571</td>\n",
              "      <td>3.914286</td>\n",
              "      <td>3.814286</td>\n",
              "      <td>3.914286</td>\n",
              "      <td>3.900000</td>\n",
              "      <td>3.792857</td>\n",
              "      <td>41</td>\n",
              "    </tr>\n",
              "    <tr>\n",
              "      <th>23</th>\n",
              "      <td>Altbier</td>\n",
              "      <td>Mission Brewery Mission Amber</td>\n",
              "      <td>Notes:</td>\n",
              "      <td>24</td>\n",
              "      <td>36</td>\n",
              "      <td>9</td>\n",
              "      <td>59</td>\n",
              "      <td>55</td>\n",
              "      <td>20</td>\n",
              "      <td>2</td>\n",
              "      <td>...</td>\n",
              "      <td>80</td>\n",
              "      <td>7</td>\n",
              "      <td>132</td>\n",
              "      <td>3.588235</td>\n",
              "      <td>3.735294</td>\n",
              "      <td>3.411765</td>\n",
              "      <td>3.588235</td>\n",
              "      <td>3.470588</td>\n",
              "      <td>3.580882</td>\n",
              "      <td>1</td>\n",
              "    </tr>\n",
              "    <tr>\n",
              "      <th>108</th>\n",
              "      <td>Bitter - English Extra Special / Strong Bitter...</td>\n",
              "      <td>Greene King / Morland Brewery Abbot Ale</td>\n",
              "      <td>Notes:Hailed by the late beer writer Michael J...</td>\n",
              "      <td>9</td>\n",
              "      <td>42</td>\n",
              "      <td>5</td>\n",
              "      <td>30</td>\n",
              "      <td>63</td>\n",
              "      <td>16</td>\n",
              "      <td>3</td>\n",
              "      <td>...</td>\n",
              "      <td>51</td>\n",
              "      <td>7</td>\n",
              "      <td>92</td>\n",
              "      <td>3.500000</td>\n",
              "      <td>3.873512</td>\n",
              "      <td>3.712798</td>\n",
              "      <td>3.633929</td>\n",
              "      <td>3.764881</td>\n",
              "      <td>3.680060</td>\n",
              "      <td>65</td>\n",
              "    </tr>\n",
              "    <tr>\n",
              "      <th>113</th>\n",
              "      <td>Bitter - English Extra Special / Strong Bitter...</td>\n",
              "      <td>Foster's Group Limited Foster's Premium Ale</td>\n",
              "      <td>Notes:</td>\n",
              "      <td>21</td>\n",
              "      <td>43</td>\n",
              "      <td>15</td>\n",
              "      <td>45</td>\n",
              "      <td>53</td>\n",
              "      <td>17</td>\n",
              "      <td>0</td>\n",
              "      <td>...</td>\n",
              "      <td>73</td>\n",
              "      <td>7</td>\n",
              "      <td>95</td>\n",
              "      <td>2.701613</td>\n",
              "      <td>3.387097</td>\n",
              "      <td>3.044355</td>\n",
              "      <td>2.919355</td>\n",
              "      <td>3.104839</td>\n",
              "      <td>3.013105</td>\n",
              "      <td>1</td>\n",
              "    </tr>\n",
              "    <tr>\n",
              "      <th>118</th>\n",
              "      <td>Bitter - English Extra Special / Strong Bitter...</td>\n",
              "      <td>Short's Brewing Company Short's Autumn Ale</td>\n",
              "      <td>Notes:A malty amber ale over toned with slight...</td>\n",
              "      <td>17</td>\n",
              "      <td>41</td>\n",
              "      <td>15</td>\n",
              "      <td>66</td>\n",
              "      <td>68</td>\n",
              "      <td>33</td>\n",
              "      <td>0</td>\n",
              "      <td>...</td>\n",
              "      <td>94</td>\n",
              "      <td>7</td>\n",
              "      <td>107</td>\n",
              "      <td>3.520270</td>\n",
              "      <td>3.641892</td>\n",
              "      <td>3.547297</td>\n",
              "      <td>3.486486</td>\n",
              "      <td>3.540541</td>\n",
              "      <td>3.548986</td>\n",
              "      <td>27</td>\n",
              "    </tr>\n",
              "    <tr>\n",
              "      <th>...</th>\n",
              "      <td>...</td>\n",
              "      <td>...</td>\n",
              "      <td>...</td>\n",
              "      <td>...</td>\n",
              "      <td>...</td>\n",
              "      <td>...</td>\n",
              "      <td>...</td>\n",
              "      <td>...</td>\n",
              "      <td>...</td>\n",
              "      <td>...</td>\n",
              "      <td>...</td>\n",
              "      <td>...</td>\n",
              "      <td>...</td>\n",
              "      <td>...</td>\n",
              "      <td>...</td>\n",
              "      <td>...</td>\n",
              "      <td>...</td>\n",
              "      <td>...</td>\n",
              "      <td>...</td>\n",
              "      <td>...</td>\n",
              "      <td>...</td>\n",
              "    </tr>\n",
              "    <tr>\n",
              "      <th>2968</th>\n",
              "      <td>Wheat Beer - American Pale</td>\n",
              "      <td>Tommyknocker Brewery Jack Whacker Wheat Ale</td>\n",
              "      <td>Notes:An American-style wheat ale brewed with ...</td>\n",
              "      <td>12</td>\n",
              "      <td>32</td>\n",
              "      <td>9</td>\n",
              "      <td>13</td>\n",
              "      <td>30</td>\n",
              "      <td>91</td>\n",
              "      <td>0</td>\n",
              "      <td>...</td>\n",
              "      <td>25</td>\n",
              "      <td>7</td>\n",
              "      <td>64</td>\n",
              "      <td>3.302326</td>\n",
              "      <td>3.402326</td>\n",
              "      <td>3.355814</td>\n",
              "      <td>3.381395</td>\n",
              "      <td>3.527907</td>\n",
              "      <td>3.360465</td>\n",
              "      <td>46</td>\n",
              "    </tr>\n",
              "    <tr>\n",
              "      <th>2972</th>\n",
              "      <td>Wheat Beer - American Pale</td>\n",
              "      <td>Peak Organic Brewing Company Peak Organic Summ...</td>\n",
              "      <td>Notes:A traditional summer wheat beer marries ...</td>\n",
              "      <td>18</td>\n",
              "      <td>34</td>\n",
              "      <td>8</td>\n",
              "      <td>60</td>\n",
              "      <td>13</td>\n",
              "      <td>59</td>\n",
              "      <td>1</td>\n",
              "      <td>...</td>\n",
              "      <td>77</td>\n",
              "      <td>7</td>\n",
              "      <td>67</td>\n",
              "      <td>3.782051</td>\n",
              "      <td>3.782051</td>\n",
              "      <td>3.858974</td>\n",
              "      <td>3.846154</td>\n",
              "      <td>3.974359</td>\n",
              "      <td>3.817308</td>\n",
              "      <td>27</td>\n",
              "    </tr>\n",
              "    <tr>\n",
              "      <th>3078</th>\n",
              "      <td>Wheat Beer - Kristallweizen</td>\n",
              "      <td>Kulmbacher Brauerei AG Kapuziner Kristall-Weizen</td>\n",
              "      <td>Notes:</td>\n",
              "      <td>3</td>\n",
              "      <td>8</td>\n",
              "      <td>1</td>\n",
              "      <td>4</td>\n",
              "      <td>5</td>\n",
              "      <td>5</td>\n",
              "      <td>0</td>\n",
              "      <td>...</td>\n",
              "      <td>5</td>\n",
              "      <td>7</td>\n",
              "      <td>14</td>\n",
              "      <td>3.142857</td>\n",
              "      <td>3.285714</td>\n",
              "      <td>3.214286</td>\n",
              "      <td>3.214286</td>\n",
              "      <td>3.428571</td>\n",
              "      <td>3.214286</td>\n",
              "      <td>1</td>\n",
              "    </tr>\n",
              "    <tr>\n",
              "      <th>3095</th>\n",
              "      <td>Wheat Beer - Wheatwine</td>\n",
              "      <td>Baird Brewing Company / Fishmarket Taproom Wes...</td>\n",
              "      <td>Notes:Brewer's Notes: Wheat Wine is a beer sty...</td>\n",
              "      <td>18</td>\n",
              "      <td>45</td>\n",
              "      <td>33</td>\n",
              "      <td>37</td>\n",
              "      <td>96</td>\n",
              "      <td>63</td>\n",
              "      <td>0</td>\n",
              "      <td>...</td>\n",
              "      <td>32</td>\n",
              "      <td>7</td>\n",
              "      <td>70</td>\n",
              "      <td>3.791667</td>\n",
              "      <td>3.750000</td>\n",
              "      <td>3.791667</td>\n",
              "      <td>3.666667</td>\n",
              "      <td>3.791667</td>\n",
              "      <td>3.750000</td>\n",
              "      <td>225</td>\n",
              "    </tr>\n",
              "    <tr>\n",
              "      <th>3134</th>\n",
              "      <td>Wild Ale</td>\n",
              "      <td>Russian River Brewing Company Supplication</td>\n",
              "      <td>Notes:Brown Ale aged in used Pinot Noir barrel...</td>\n",
              "      <td>22</td>\n",
              "      <td>38</td>\n",
              "      <td>9</td>\n",
              "      <td>5</td>\n",
              "      <td>26</td>\n",
              "      <td>123</td>\n",
              "      <td>3</td>\n",
              "      <td>...</td>\n",
              "      <td>20</td>\n",
              "      <td>7</td>\n",
              "      <td>9</td>\n",
              "      <td>4.431624</td>\n",
              "      <td>4.291548</td>\n",
              "      <td>4.377018</td>\n",
              "      <td>4.566002</td>\n",
              "      <td>4.431624</td>\n",
              "      <td>4.416548</td>\n",
              "      <td>50</td>\n",
              "    </tr>\n",
              "  </tbody>\n",
              "</table>\n",
              "<p>152 rows × 21 columns</p>\n",
              "</div>\n",
              "      <button class=\"colab-df-convert\" onclick=\"convertToInteractive('df-92cf9bb5-e434-443b-86ef-55748cdde0fc')\"\n",
              "              title=\"Convert this dataframe to an interactive table.\"\n",
              "              style=\"display:none;\">\n",
              "        \n",
              "  <svg xmlns=\"http://www.w3.org/2000/svg\" height=\"24px\"viewBox=\"0 0 24 24\"\n",
              "       width=\"24px\">\n",
              "    <path d=\"M0 0h24v24H0V0z\" fill=\"none\"/>\n",
              "    <path d=\"M18.56 5.44l.94 2.06.94-2.06 2.06-.94-2.06-.94-.94-2.06-.94 2.06-2.06.94zm-11 1L8.5 8.5l.94-2.06 2.06-.94-2.06-.94L8.5 2.5l-.94 2.06-2.06.94zm10 10l.94 2.06.94-2.06 2.06-.94-2.06-.94-.94-2.06-.94 2.06-2.06.94z\"/><path d=\"M17.41 7.96l-1.37-1.37c-.4-.4-.92-.59-1.43-.59-.52 0-1.04.2-1.43.59L10.3 9.45l-7.72 7.72c-.78.78-.78 2.05 0 2.83L4 21.41c.39.39.9.59 1.41.59.51 0 1.02-.2 1.41-.59l7.78-7.78 2.81-2.81c.8-.78.8-2.07 0-2.86zM5.41 20L4 18.59l7.72-7.72 1.47 1.35L5.41 20z\"/>\n",
              "  </svg>\n",
              "      </button>\n",
              "      \n",
              "  <style>\n",
              "    .colab-df-container {\n",
              "      display:flex;\n",
              "      flex-wrap:wrap;\n",
              "      gap: 12px;\n",
              "    }\n",
              "\n",
              "    .colab-df-convert {\n",
              "      background-color: #E8F0FE;\n",
              "      border: none;\n",
              "      border-radius: 50%;\n",
              "      cursor: pointer;\n",
              "      display: none;\n",
              "      fill: #1967D2;\n",
              "      height: 32px;\n",
              "      padding: 0 0 0 0;\n",
              "      width: 32px;\n",
              "    }\n",
              "\n",
              "    .colab-df-convert:hover {\n",
              "      background-color: #E2EBFA;\n",
              "      box-shadow: 0px 1px 2px rgba(60, 64, 67, 0.3), 0px 1px 3px 1px rgba(60, 64, 67, 0.15);\n",
              "      fill: #174EA6;\n",
              "    }\n",
              "\n",
              "    [theme=dark] .colab-df-convert {\n",
              "      background-color: #3B4455;\n",
              "      fill: #D2E3FC;\n",
              "    }\n",
              "\n",
              "    [theme=dark] .colab-df-convert:hover {\n",
              "      background-color: #434B5C;\n",
              "      box-shadow: 0px 1px 3px 1px rgba(0, 0, 0, 0.15);\n",
              "      filter: drop-shadow(0px 1px 2px rgba(0, 0, 0, 0.3));\n",
              "      fill: #FFFFFF;\n",
              "    }\n",
              "  </style>\n",
              "\n",
              "      <script>\n",
              "        const buttonEl =\n",
              "          document.querySelector('#df-92cf9bb5-e434-443b-86ef-55748cdde0fc button.colab-df-convert');\n",
              "        buttonEl.style.display =\n",
              "          google.colab.kernel.accessAllowed ? 'block' : 'none';\n",
              "\n",
              "        async function convertToInteractive(key) {\n",
              "          const element = document.querySelector('#df-92cf9bb5-e434-443b-86ef-55748cdde0fc');\n",
              "          const dataTable =\n",
              "            await google.colab.kernel.invokeFunction('convertToInteractive',\n",
              "                                                     [key], {});\n",
              "          if (!dataTable) return;\n",
              "\n",
              "          const docLinkHtml = 'Like what you see? Visit the ' +\n",
              "            '<a target=\"_blank\" href=https://colab.research.google.com/notebooks/data_table.ipynb>data table notebook</a>'\n",
              "            + ' to learn more about interactive tables.';\n",
              "          element.innerHTML = '';\n",
              "          dataTable['output_type'] = 'display_data';\n",
              "          await google.colab.output.renderOutput(dataTable, element);\n",
              "          const docLink = document.createElement('div');\n",
              "          docLink.innerHTML = docLinkHtml;\n",
              "          element.appendChild(docLink);\n",
              "        }\n",
              "      </script>\n",
              "    </div>\n",
              "  </div>\n",
              "  "
            ]
          },
          "metadata": {},
          "execution_count": 78
        }
      ]
    },
    {
      "cell_type": "code",
      "source": [
        "df[df[\"Spices\"] > 100]"
      ],
      "metadata": {
        "colab": {
          "base_uri": "https://localhost:8080/",
          "height": 1000
        },
        "id": "_yreREGb13Hp",
        "outputId": "a523613b-0697-44aa-bf2e-f71acf681b06"
      },
      "execution_count": null,
      "outputs": [
        {
          "output_type": "execute_result",
          "data": {
            "text/plain": [
              "                   Style                                   Beer Name (Full)  \\\n",
              "344   Bock - Traditional  Boston Beer Company (Samuel Adams) Samuel Adam...   \n",
              "406              Braggot                   The People's Pint Slippery Slope   \n",
              "407              Braggot                  Dansk Mjød A/S Old Danish Braggot   \n",
              "536           Chile Beer                            Rogue Ales Chipotle Ale   \n",
              "539           Chile Beer  Twisted Pine Brewing Company Billy's Chilies B...   \n",
              "...                  ...                                                ...   \n",
              "3181       Winter Warmer              Sly Fox Brewing Company Christmas Ale   \n",
              "3182       Winter Warmer    Hoppin' Frog Brewery Frosted Frog Christmas Ale   \n",
              "3183       Winter Warmer           Fat Heads Brewery & Saloon Christmas Ale   \n",
              "3193       Winter Warmer          RJ Rockers Brewing Company First Snow Ale   \n",
              "3196       Winter Warmer  Hoppin' Frog Brewery Barrel Aged Frosted Frog ...   \n",
              "\n",
              "                                            Description  Astringency  Body  \\\n",
              "344                                              Notes:            9   127   \n",
              "406   Notes:A special blend of 1/2 cider, 1/4 malt a...           27    32   \n",
              "407                                              Notes:            6    70   \n",
              "536   Notes:Label of 22 oz bottle:8 Ingredients: Har...           13    30   \n",
              "539   Notes:Our chili beer is made with five differe...           13    22   \n",
              "...                                                 ...          ...   ...   \n",
              "3181  Notes:This malty, full-bodied red ale is made ...           10    51   \n",
              "3182  Notes:The essence of Christmas is captured in ...            6    40   \n",
              "3183  Notes:Once upon a frozen evening way up north,...           12    45   \n",
              "3193  Notes:This hearty American pale ale contains a...           15    31   \n",
              "3196  Notes:The essence of Christmas is captured in ...            8    50   \n",
              "\n",
              "      Alcohol  Bitter  Sweet  Sour  Salty  ...  Hoppy  Spices  Malty  \\\n",
              "344        32      30    129    16      0  ...     14     103    130   \n",
              "406        32      14    141   114      0  ...     26     107     70   \n",
              "407        37       9    169    18      0  ...     14     120    119   \n",
              "536        25      32     21     7      0  ...     40     170     47   \n",
              "539        37      11     23    15      0  ...      9     184     22   \n",
              "...       ...     ...    ...   ...    ...  ...    ...     ...    ...   \n",
              "3181       10      14     51    12      1  ...     14     123     51   \n",
              "3182       37      23     64    14      0  ...     24     124     66   \n",
              "3183       19      10     62     5      0  ...     30     123     70   \n",
              "3193       23      16     54    43      0  ...     14     140     58   \n",
              "3196       49      13     71    17      0  ...     16     148     69   \n",
              "\n",
              "      review_aroma  review_appearance  review_palate  review_taste  \\\n",
              "344       3.900000           3.900000       4.000000      4.300000   \n",
              "406       3.743590           3.628205       3.589744      3.769231   \n",
              "407       4.027778           3.750000       3.805556      3.833333   \n",
              "536       3.557549           3.732436       3.629297      3.629297   \n",
              "539       3.604651           3.325581       3.325581      3.383721   \n",
              "...            ...                ...            ...           ...   \n",
              "3181      4.000000           3.928571       3.821429      4.071429   \n",
              "3182      3.957944           3.733645       3.593458      3.565421   \n",
              "3183      4.000000           3.875000       4.083333      4.208333   \n",
              "3193      3.950000           3.750000       3.760000      3.790000   \n",
              "3196      3.888889           3.694444       3.833333      3.555556   \n",
              "\n",
              "      review_overall  mean_review  desc_length  \n",
              "344         4.200000     4.025000            1  \n",
              "406         3.512821     3.682692           16  \n",
              "407         3.638889     3.854167            1  \n",
              "536         3.421525     3.637145           86  \n",
              "539         3.209302     3.409883           33  \n",
              "...              ...          ...          ...  \n",
              "3181        4.142857     3.955357           49  \n",
              "3182        3.429907     3.712617           35  \n",
              "3183        4.125000     4.041666           92  \n",
              "3193        3.730000     3.812500           38  \n",
              "3196        3.527778     3.743055           35  \n",
              "\n",
              "[69 rows x 21 columns]"
            ],
            "text/html": [
              "\n",
              "  <div id=\"df-7eda74c0-13cf-4bd6-9c0a-e177589cb1c4\">\n",
              "    <div class=\"colab-df-container\">\n",
              "      <div>\n",
              "<style scoped>\n",
              "    .dataframe tbody tr th:only-of-type {\n",
              "        vertical-align: middle;\n",
              "    }\n",
              "\n",
              "    .dataframe tbody tr th {\n",
              "        vertical-align: top;\n",
              "    }\n",
              "\n",
              "    .dataframe thead th {\n",
              "        text-align: right;\n",
              "    }\n",
              "</style>\n",
              "<table border=\"1\" class=\"dataframe\">\n",
              "  <thead>\n",
              "    <tr style=\"text-align: right;\">\n",
              "      <th></th>\n",
              "      <th>Style</th>\n",
              "      <th>Beer Name (Full)</th>\n",
              "      <th>Description</th>\n",
              "      <th>Astringency</th>\n",
              "      <th>Body</th>\n",
              "      <th>Alcohol</th>\n",
              "      <th>Bitter</th>\n",
              "      <th>Sweet</th>\n",
              "      <th>Sour</th>\n",
              "      <th>Salty</th>\n",
              "      <th>...</th>\n",
              "      <th>Hoppy</th>\n",
              "      <th>Spices</th>\n",
              "      <th>Malty</th>\n",
              "      <th>review_aroma</th>\n",
              "      <th>review_appearance</th>\n",
              "      <th>review_palate</th>\n",
              "      <th>review_taste</th>\n",
              "      <th>review_overall</th>\n",
              "      <th>mean_review</th>\n",
              "      <th>desc_length</th>\n",
              "    </tr>\n",
              "  </thead>\n",
              "  <tbody>\n",
              "    <tr>\n",
              "      <th>344</th>\n",
              "      <td>Bock - Traditional</td>\n",
              "      <td>Boston Beer Company (Samuel Adams) Samuel Adam...</td>\n",
              "      <td>Notes:</td>\n",
              "      <td>9</td>\n",
              "      <td>127</td>\n",
              "      <td>32</td>\n",
              "      <td>30</td>\n",
              "      <td>129</td>\n",
              "      <td>16</td>\n",
              "      <td>0</td>\n",
              "      <td>...</td>\n",
              "      <td>14</td>\n",
              "      <td>103</td>\n",
              "      <td>130</td>\n",
              "      <td>3.900000</td>\n",
              "      <td>3.900000</td>\n",
              "      <td>4.000000</td>\n",
              "      <td>4.300000</td>\n",
              "      <td>4.200000</td>\n",
              "      <td>4.025000</td>\n",
              "      <td>1</td>\n",
              "    </tr>\n",
              "    <tr>\n",
              "      <th>406</th>\n",
              "      <td>Braggot</td>\n",
              "      <td>The People's Pint Slippery Slope</td>\n",
              "      <td>Notes:A special blend of 1/2 cider, 1/4 malt a...</td>\n",
              "      <td>27</td>\n",
              "      <td>32</td>\n",
              "      <td>32</td>\n",
              "      <td>14</td>\n",
              "      <td>141</td>\n",
              "      <td>114</td>\n",
              "      <td>0</td>\n",
              "      <td>...</td>\n",
              "      <td>26</td>\n",
              "      <td>107</td>\n",
              "      <td>70</td>\n",
              "      <td>3.743590</td>\n",
              "      <td>3.628205</td>\n",
              "      <td>3.589744</td>\n",
              "      <td>3.769231</td>\n",
              "      <td>3.512821</td>\n",
              "      <td>3.682692</td>\n",
              "      <td>16</td>\n",
              "    </tr>\n",
              "    <tr>\n",
              "      <th>407</th>\n",
              "      <td>Braggot</td>\n",
              "      <td>Dansk Mjød A/S Old Danish Braggot</td>\n",
              "      <td>Notes:</td>\n",
              "      <td>6</td>\n",
              "      <td>70</td>\n",
              "      <td>37</td>\n",
              "      <td>9</td>\n",
              "      <td>169</td>\n",
              "      <td>18</td>\n",
              "      <td>0</td>\n",
              "      <td>...</td>\n",
              "      <td>14</td>\n",
              "      <td>120</td>\n",
              "      <td>119</td>\n",
              "      <td>4.027778</td>\n",
              "      <td>3.750000</td>\n",
              "      <td>3.805556</td>\n",
              "      <td>3.833333</td>\n",
              "      <td>3.638889</td>\n",
              "      <td>3.854167</td>\n",
              "      <td>1</td>\n",
              "    </tr>\n",
              "    <tr>\n",
              "      <th>536</th>\n",
              "      <td>Chile Beer</td>\n",
              "      <td>Rogue Ales Chipotle Ale</td>\n",
              "      <td>Notes:Label of 22 oz bottle:8 Ingredients: Har...</td>\n",
              "      <td>13</td>\n",
              "      <td>30</td>\n",
              "      <td>25</td>\n",
              "      <td>32</td>\n",
              "      <td>21</td>\n",
              "      <td>7</td>\n",
              "      <td>0</td>\n",
              "      <td>...</td>\n",
              "      <td>40</td>\n",
              "      <td>170</td>\n",
              "      <td>47</td>\n",
              "      <td>3.557549</td>\n",
              "      <td>3.732436</td>\n",
              "      <td>3.629297</td>\n",
              "      <td>3.629297</td>\n",
              "      <td>3.421525</td>\n",
              "      <td>3.637145</td>\n",
              "      <td>86</td>\n",
              "    </tr>\n",
              "    <tr>\n",
              "      <th>539</th>\n",
              "      <td>Chile Beer</td>\n",
              "      <td>Twisted Pine Brewing Company Billy's Chilies B...</td>\n",
              "      <td>Notes:Our chili beer is made with five differe...</td>\n",
              "      <td>13</td>\n",
              "      <td>22</td>\n",
              "      <td>37</td>\n",
              "      <td>11</td>\n",
              "      <td>23</td>\n",
              "      <td>15</td>\n",
              "      <td>0</td>\n",
              "      <td>...</td>\n",
              "      <td>9</td>\n",
              "      <td>184</td>\n",
              "      <td>22</td>\n",
              "      <td>3.604651</td>\n",
              "      <td>3.325581</td>\n",
              "      <td>3.325581</td>\n",
              "      <td>3.383721</td>\n",
              "      <td>3.209302</td>\n",
              "      <td>3.409883</td>\n",
              "      <td>33</td>\n",
              "    </tr>\n",
              "    <tr>\n",
              "      <th>...</th>\n",
              "      <td>...</td>\n",
              "      <td>...</td>\n",
              "      <td>...</td>\n",
              "      <td>...</td>\n",
              "      <td>...</td>\n",
              "      <td>...</td>\n",
              "      <td>...</td>\n",
              "      <td>...</td>\n",
              "      <td>...</td>\n",
              "      <td>...</td>\n",
              "      <td>...</td>\n",
              "      <td>...</td>\n",
              "      <td>...</td>\n",
              "      <td>...</td>\n",
              "      <td>...</td>\n",
              "      <td>...</td>\n",
              "      <td>...</td>\n",
              "      <td>...</td>\n",
              "      <td>...</td>\n",
              "      <td>...</td>\n",
              "      <td>...</td>\n",
              "    </tr>\n",
              "    <tr>\n",
              "      <th>3181</th>\n",
              "      <td>Winter Warmer</td>\n",
              "      <td>Sly Fox Brewing Company Christmas Ale</td>\n",
              "      <td>Notes:This malty, full-bodied red ale is made ...</td>\n",
              "      <td>10</td>\n",
              "      <td>51</td>\n",
              "      <td>10</td>\n",
              "      <td>14</td>\n",
              "      <td>51</td>\n",
              "      <td>12</td>\n",
              "      <td>1</td>\n",
              "      <td>...</td>\n",
              "      <td>14</td>\n",
              "      <td>123</td>\n",
              "      <td>51</td>\n",
              "      <td>4.000000</td>\n",
              "      <td>3.928571</td>\n",
              "      <td>3.821429</td>\n",
              "      <td>4.071429</td>\n",
              "      <td>4.142857</td>\n",
              "      <td>3.955357</td>\n",
              "      <td>49</td>\n",
              "    </tr>\n",
              "    <tr>\n",
              "      <th>3182</th>\n",
              "      <td>Winter Warmer</td>\n",
              "      <td>Hoppin' Frog Brewery Frosted Frog Christmas Ale</td>\n",
              "      <td>Notes:The essence of Christmas is captured in ...</td>\n",
              "      <td>6</td>\n",
              "      <td>40</td>\n",
              "      <td>37</td>\n",
              "      <td>23</td>\n",
              "      <td>64</td>\n",
              "      <td>14</td>\n",
              "      <td>0</td>\n",
              "      <td>...</td>\n",
              "      <td>24</td>\n",
              "      <td>124</td>\n",
              "      <td>66</td>\n",
              "      <td>3.957944</td>\n",
              "      <td>3.733645</td>\n",
              "      <td>3.593458</td>\n",
              "      <td>3.565421</td>\n",
              "      <td>3.429907</td>\n",
              "      <td>3.712617</td>\n",
              "      <td>35</td>\n",
              "    </tr>\n",
              "    <tr>\n",
              "      <th>3183</th>\n",
              "      <td>Winter Warmer</td>\n",
              "      <td>Fat Heads Brewery &amp; Saloon Christmas Ale</td>\n",
              "      <td>Notes:Once upon a frozen evening way up north,...</td>\n",
              "      <td>12</td>\n",
              "      <td>45</td>\n",
              "      <td>19</td>\n",
              "      <td>10</td>\n",
              "      <td>62</td>\n",
              "      <td>5</td>\n",
              "      <td>0</td>\n",
              "      <td>...</td>\n",
              "      <td>30</td>\n",
              "      <td>123</td>\n",
              "      <td>70</td>\n",
              "      <td>4.000000</td>\n",
              "      <td>3.875000</td>\n",
              "      <td>4.083333</td>\n",
              "      <td>4.208333</td>\n",
              "      <td>4.125000</td>\n",
              "      <td>4.041666</td>\n",
              "      <td>92</td>\n",
              "    </tr>\n",
              "    <tr>\n",
              "      <th>3193</th>\n",
              "      <td>Winter Warmer</td>\n",
              "      <td>RJ Rockers Brewing Company First Snow Ale</td>\n",
              "      <td>Notes:This hearty American pale ale contains a...</td>\n",
              "      <td>15</td>\n",
              "      <td>31</td>\n",
              "      <td>23</td>\n",
              "      <td>16</td>\n",
              "      <td>54</td>\n",
              "      <td>43</td>\n",
              "      <td>0</td>\n",
              "      <td>...</td>\n",
              "      <td>14</td>\n",
              "      <td>140</td>\n",
              "      <td>58</td>\n",
              "      <td>3.950000</td>\n",
              "      <td>3.750000</td>\n",
              "      <td>3.760000</td>\n",
              "      <td>3.790000</td>\n",
              "      <td>3.730000</td>\n",
              "      <td>3.812500</td>\n",
              "      <td>38</td>\n",
              "    </tr>\n",
              "    <tr>\n",
              "      <th>3196</th>\n",
              "      <td>Winter Warmer</td>\n",
              "      <td>Hoppin' Frog Brewery Barrel Aged Frosted Frog ...</td>\n",
              "      <td>Notes:The essence of Christmas is captured in ...</td>\n",
              "      <td>8</td>\n",
              "      <td>50</td>\n",
              "      <td>49</td>\n",
              "      <td>13</td>\n",
              "      <td>71</td>\n",
              "      <td>17</td>\n",
              "      <td>0</td>\n",
              "      <td>...</td>\n",
              "      <td>16</td>\n",
              "      <td>148</td>\n",
              "      <td>69</td>\n",
              "      <td>3.888889</td>\n",
              "      <td>3.694444</td>\n",
              "      <td>3.833333</td>\n",
              "      <td>3.555556</td>\n",
              "      <td>3.527778</td>\n",
              "      <td>3.743055</td>\n",
              "      <td>35</td>\n",
              "    </tr>\n",
              "  </tbody>\n",
              "</table>\n",
              "<p>69 rows × 21 columns</p>\n",
              "</div>\n",
              "      <button class=\"colab-df-convert\" onclick=\"convertToInteractive('df-7eda74c0-13cf-4bd6-9c0a-e177589cb1c4')\"\n",
              "              title=\"Convert this dataframe to an interactive table.\"\n",
              "              style=\"display:none;\">\n",
              "        \n",
              "  <svg xmlns=\"http://www.w3.org/2000/svg\" height=\"24px\"viewBox=\"0 0 24 24\"\n",
              "       width=\"24px\">\n",
              "    <path d=\"M0 0h24v24H0V0z\" fill=\"none\"/>\n",
              "    <path d=\"M18.56 5.44l.94 2.06.94-2.06 2.06-.94-2.06-.94-.94-2.06-.94 2.06-2.06.94zm-11 1L8.5 8.5l.94-2.06 2.06-.94-2.06-.94L8.5 2.5l-.94 2.06-2.06.94zm10 10l.94 2.06.94-2.06 2.06-.94-2.06-.94-.94-2.06-.94 2.06-2.06.94z\"/><path d=\"M17.41 7.96l-1.37-1.37c-.4-.4-.92-.59-1.43-.59-.52 0-1.04.2-1.43.59L10.3 9.45l-7.72 7.72c-.78.78-.78 2.05 0 2.83L4 21.41c.39.39.9.59 1.41.59.51 0 1.02-.2 1.41-.59l7.78-7.78 2.81-2.81c.8-.78.8-2.07 0-2.86zM5.41 20L4 18.59l7.72-7.72 1.47 1.35L5.41 20z\"/>\n",
              "  </svg>\n",
              "      </button>\n",
              "      \n",
              "  <style>\n",
              "    .colab-df-container {\n",
              "      display:flex;\n",
              "      flex-wrap:wrap;\n",
              "      gap: 12px;\n",
              "    }\n",
              "\n",
              "    .colab-df-convert {\n",
              "      background-color: #E8F0FE;\n",
              "      border: none;\n",
              "      border-radius: 50%;\n",
              "      cursor: pointer;\n",
              "      display: none;\n",
              "      fill: #1967D2;\n",
              "      height: 32px;\n",
              "      padding: 0 0 0 0;\n",
              "      width: 32px;\n",
              "    }\n",
              "\n",
              "    .colab-df-convert:hover {\n",
              "      background-color: #E2EBFA;\n",
              "      box-shadow: 0px 1px 2px rgba(60, 64, 67, 0.3), 0px 1px 3px 1px rgba(60, 64, 67, 0.15);\n",
              "      fill: #174EA6;\n",
              "    }\n",
              "\n",
              "    [theme=dark] .colab-df-convert {\n",
              "      background-color: #3B4455;\n",
              "      fill: #D2E3FC;\n",
              "    }\n",
              "\n",
              "    [theme=dark] .colab-df-convert:hover {\n",
              "      background-color: #434B5C;\n",
              "      box-shadow: 0px 1px 3px 1px rgba(0, 0, 0, 0.15);\n",
              "      filter: drop-shadow(0px 1px 2px rgba(0, 0, 0, 0.3));\n",
              "      fill: #FFFFFF;\n",
              "    }\n",
              "  </style>\n",
              "\n",
              "      <script>\n",
              "        const buttonEl =\n",
              "          document.querySelector('#df-7eda74c0-13cf-4bd6-9c0a-e177589cb1c4 button.colab-df-convert');\n",
              "        buttonEl.style.display =\n",
              "          google.colab.kernel.accessAllowed ? 'block' : 'none';\n",
              "\n",
              "        async function convertToInteractive(key) {\n",
              "          const element = document.querySelector('#df-7eda74c0-13cf-4bd6-9c0a-e177589cb1c4');\n",
              "          const dataTable =\n",
              "            await google.colab.kernel.invokeFunction('convertToInteractive',\n",
              "                                                     [key], {});\n",
              "          if (!dataTable) return;\n",
              "\n",
              "          const docLinkHtml = 'Like what you see? Visit the ' +\n",
              "            '<a target=\"_blank\" href=https://colab.research.google.com/notebooks/data_table.ipynb>data table notebook</a>'\n",
              "            + ' to learn more about interactive tables.';\n",
              "          element.innerHTML = '';\n",
              "          dataTable['output_type'] = 'display_data';\n",
              "          await google.colab.output.renderOutput(dataTable, element);\n",
              "          const docLink = document.createElement('div');\n",
              "          docLink.innerHTML = docLinkHtml;\n",
              "          element.appendChild(docLink);\n",
              "        }\n",
              "      </script>\n",
              "    </div>\n",
              "  </div>\n",
              "  "
            ]
          },
          "metadata": {},
          "execution_count": 83
        }
      ]
    },
    {
      "cell_type": "markdown",
      "source": [
        "Un dataframe poate fi construit și pornind de la un dicționar:"
      ],
      "metadata": {
        "id": "0tplPhAD2mvo"
      }
    },
    {
      "cell_type": "code",
      "source": [
        "data = {'col_1': [3, 2, 1, 0], 'col_2': ['a', 'b', 'c', 'd']}\n",
        "\n",
        "df1 = pd.DataFrame.from_dict(data)\n",
        "df1"
      ],
      "metadata": {
        "colab": {
          "base_uri": "https://localhost:8080/",
          "height": 175
        },
        "id": "8TJ85dlV2q0_",
        "outputId": "5ee92843-ee58-4aa4-86da-a8f0536b65a0"
      },
      "execution_count": null,
      "outputs": [
        {
          "output_type": "execute_result",
          "data": {
            "text/plain": [
              "   col_1 col_2\n",
              "0      3     a\n",
              "1      2     b\n",
              "2      1     c\n",
              "3      0     d"
            ],
            "text/html": [
              "\n",
              "  <div id=\"df-93d5c072-ba29-4157-9a07-390867f5d339\">\n",
              "    <div class=\"colab-df-container\">\n",
              "      <div>\n",
              "<style scoped>\n",
              "    .dataframe tbody tr th:only-of-type {\n",
              "        vertical-align: middle;\n",
              "    }\n",
              "\n",
              "    .dataframe tbody tr th {\n",
              "        vertical-align: top;\n",
              "    }\n",
              "\n",
              "    .dataframe thead th {\n",
              "        text-align: right;\n",
              "    }\n",
              "</style>\n",
              "<table border=\"1\" class=\"dataframe\">\n",
              "  <thead>\n",
              "    <tr style=\"text-align: right;\">\n",
              "      <th></th>\n",
              "      <th>col_1</th>\n",
              "      <th>col_2</th>\n",
              "    </tr>\n",
              "  </thead>\n",
              "  <tbody>\n",
              "    <tr>\n",
              "      <th>0</th>\n",
              "      <td>3</td>\n",
              "      <td>a</td>\n",
              "    </tr>\n",
              "    <tr>\n",
              "      <th>1</th>\n",
              "      <td>2</td>\n",
              "      <td>b</td>\n",
              "    </tr>\n",
              "    <tr>\n",
              "      <th>2</th>\n",
              "      <td>1</td>\n",
              "      <td>c</td>\n",
              "    </tr>\n",
              "    <tr>\n",
              "      <th>3</th>\n",
              "      <td>0</td>\n",
              "      <td>d</td>\n",
              "    </tr>\n",
              "  </tbody>\n",
              "</table>\n",
              "</div>\n",
              "      <button class=\"colab-df-convert\" onclick=\"convertToInteractive('df-93d5c072-ba29-4157-9a07-390867f5d339')\"\n",
              "              title=\"Convert this dataframe to an interactive table.\"\n",
              "              style=\"display:none;\">\n",
              "        \n",
              "  <svg xmlns=\"http://www.w3.org/2000/svg\" height=\"24px\"viewBox=\"0 0 24 24\"\n",
              "       width=\"24px\">\n",
              "    <path d=\"M0 0h24v24H0V0z\" fill=\"none\"/>\n",
              "    <path d=\"M18.56 5.44l.94 2.06.94-2.06 2.06-.94-2.06-.94-.94-2.06-.94 2.06-2.06.94zm-11 1L8.5 8.5l.94-2.06 2.06-.94-2.06-.94L8.5 2.5l-.94 2.06-2.06.94zm10 10l.94 2.06.94-2.06 2.06-.94-2.06-.94-.94-2.06-.94 2.06-2.06.94z\"/><path d=\"M17.41 7.96l-1.37-1.37c-.4-.4-.92-.59-1.43-.59-.52 0-1.04.2-1.43.59L10.3 9.45l-7.72 7.72c-.78.78-.78 2.05 0 2.83L4 21.41c.39.39.9.59 1.41.59.51 0 1.02-.2 1.41-.59l7.78-7.78 2.81-2.81c.8-.78.8-2.07 0-2.86zM5.41 20L4 18.59l7.72-7.72 1.47 1.35L5.41 20z\"/>\n",
              "  </svg>\n",
              "      </button>\n",
              "      \n",
              "  <style>\n",
              "    .colab-df-container {\n",
              "      display:flex;\n",
              "      flex-wrap:wrap;\n",
              "      gap: 12px;\n",
              "    }\n",
              "\n",
              "    .colab-df-convert {\n",
              "      background-color: #E8F0FE;\n",
              "      border: none;\n",
              "      border-radius: 50%;\n",
              "      cursor: pointer;\n",
              "      display: none;\n",
              "      fill: #1967D2;\n",
              "      height: 32px;\n",
              "      padding: 0 0 0 0;\n",
              "      width: 32px;\n",
              "    }\n",
              "\n",
              "    .colab-df-convert:hover {\n",
              "      background-color: #E2EBFA;\n",
              "      box-shadow: 0px 1px 2px rgba(60, 64, 67, 0.3), 0px 1px 3px 1px rgba(60, 64, 67, 0.15);\n",
              "      fill: #174EA6;\n",
              "    }\n",
              "\n",
              "    [theme=dark] .colab-df-convert {\n",
              "      background-color: #3B4455;\n",
              "      fill: #D2E3FC;\n",
              "    }\n",
              "\n",
              "    [theme=dark] .colab-df-convert:hover {\n",
              "      background-color: #434B5C;\n",
              "      box-shadow: 0px 1px 3px 1px rgba(0, 0, 0, 0.15);\n",
              "      filter: drop-shadow(0px 1px 2px rgba(0, 0, 0, 0.3));\n",
              "      fill: #FFFFFF;\n",
              "    }\n",
              "  </style>\n",
              "\n",
              "      <script>\n",
              "        const buttonEl =\n",
              "          document.querySelector('#df-93d5c072-ba29-4157-9a07-390867f5d339 button.colab-df-convert');\n",
              "        buttonEl.style.display =\n",
              "          google.colab.kernel.accessAllowed ? 'block' : 'none';\n",
              "\n",
              "        async function convertToInteractive(key) {\n",
              "          const element = document.querySelector('#df-93d5c072-ba29-4157-9a07-390867f5d339');\n",
              "          const dataTable =\n",
              "            await google.colab.kernel.invokeFunction('convertToInteractive',\n",
              "                                                     [key], {});\n",
              "          if (!dataTable) return;\n",
              "\n",
              "          const docLinkHtml = 'Like what you see? Visit the ' +\n",
              "            '<a target=\"_blank\" href=https://colab.research.google.com/notebooks/data_table.ipynb>data table notebook</a>'\n",
              "            + ' to learn more about interactive tables.';\n",
              "          element.innerHTML = '';\n",
              "          dataTable['output_type'] = 'display_data';\n",
              "          await google.colab.output.renderOutput(dataTable, element);\n",
              "          const docLink = document.createElement('div');\n",
              "          docLink.innerHTML = docLinkHtml;\n",
              "          element.appendChild(docLink);\n",
              "        }\n",
              "      </script>\n",
              "    </div>\n",
              "  </div>\n",
              "  "
            ]
          },
          "metadata": {},
          "execution_count": 86
        }
      ]
    },
    {
      "cell_type": "markdown",
      "source": [
        "Dacă avem 2 dataframe-uri, le putem concatena la nivel de linii:"
      ],
      "metadata": {
        "id": "UsAwy3QX2uGY"
      }
    },
    {
      "cell_type": "code",
      "source": [
        "df2 = df1.copy()\n",
        "\n",
        "df_concat = pd.concat([df1, df2], axis=0)\n",
        "df_concat"
      ],
      "metadata": {
        "colab": {
          "base_uri": "https://localhost:8080/",
          "height": 300
        },
        "id": "KulO8CUP23e3",
        "outputId": "db3bef76-30aa-46d9-d745-5b03aadde309"
      },
      "execution_count": null,
      "outputs": [
        {
          "output_type": "execute_result",
          "data": {
            "text/plain": [
              "   col_1 col_2\n",
              "0      3     a\n",
              "1      2     b\n",
              "2      1     c\n",
              "3      0     d\n",
              "0      3     a\n",
              "1      2     b\n",
              "2      1     c\n",
              "3      0     d"
            ],
            "text/html": [
              "\n",
              "  <div id=\"df-63fcf2ab-90a9-4cb4-a4a8-b09b532c1008\">\n",
              "    <div class=\"colab-df-container\">\n",
              "      <div>\n",
              "<style scoped>\n",
              "    .dataframe tbody tr th:only-of-type {\n",
              "        vertical-align: middle;\n",
              "    }\n",
              "\n",
              "    .dataframe tbody tr th {\n",
              "        vertical-align: top;\n",
              "    }\n",
              "\n",
              "    .dataframe thead th {\n",
              "        text-align: right;\n",
              "    }\n",
              "</style>\n",
              "<table border=\"1\" class=\"dataframe\">\n",
              "  <thead>\n",
              "    <tr style=\"text-align: right;\">\n",
              "      <th></th>\n",
              "      <th>col_1</th>\n",
              "      <th>col_2</th>\n",
              "    </tr>\n",
              "  </thead>\n",
              "  <tbody>\n",
              "    <tr>\n",
              "      <th>0</th>\n",
              "      <td>3</td>\n",
              "      <td>a</td>\n",
              "    </tr>\n",
              "    <tr>\n",
              "      <th>1</th>\n",
              "      <td>2</td>\n",
              "      <td>b</td>\n",
              "    </tr>\n",
              "    <tr>\n",
              "      <th>2</th>\n",
              "      <td>1</td>\n",
              "      <td>c</td>\n",
              "    </tr>\n",
              "    <tr>\n",
              "      <th>3</th>\n",
              "      <td>0</td>\n",
              "      <td>d</td>\n",
              "    </tr>\n",
              "    <tr>\n",
              "      <th>0</th>\n",
              "      <td>3</td>\n",
              "      <td>a</td>\n",
              "    </tr>\n",
              "    <tr>\n",
              "      <th>1</th>\n",
              "      <td>2</td>\n",
              "      <td>b</td>\n",
              "    </tr>\n",
              "    <tr>\n",
              "      <th>2</th>\n",
              "      <td>1</td>\n",
              "      <td>c</td>\n",
              "    </tr>\n",
              "    <tr>\n",
              "      <th>3</th>\n",
              "      <td>0</td>\n",
              "      <td>d</td>\n",
              "    </tr>\n",
              "  </tbody>\n",
              "</table>\n",
              "</div>\n",
              "      <button class=\"colab-df-convert\" onclick=\"convertToInteractive('df-63fcf2ab-90a9-4cb4-a4a8-b09b532c1008')\"\n",
              "              title=\"Convert this dataframe to an interactive table.\"\n",
              "              style=\"display:none;\">\n",
              "        \n",
              "  <svg xmlns=\"http://www.w3.org/2000/svg\" height=\"24px\"viewBox=\"0 0 24 24\"\n",
              "       width=\"24px\">\n",
              "    <path d=\"M0 0h24v24H0V0z\" fill=\"none\"/>\n",
              "    <path d=\"M18.56 5.44l.94 2.06.94-2.06 2.06-.94-2.06-.94-.94-2.06-.94 2.06-2.06.94zm-11 1L8.5 8.5l.94-2.06 2.06-.94-2.06-.94L8.5 2.5l-.94 2.06-2.06.94zm10 10l.94 2.06.94-2.06 2.06-.94-2.06-.94-.94-2.06-.94 2.06-2.06.94z\"/><path d=\"M17.41 7.96l-1.37-1.37c-.4-.4-.92-.59-1.43-.59-.52 0-1.04.2-1.43.59L10.3 9.45l-7.72 7.72c-.78.78-.78 2.05 0 2.83L4 21.41c.39.39.9.59 1.41.59.51 0 1.02-.2 1.41-.59l7.78-7.78 2.81-2.81c.8-.78.8-2.07 0-2.86zM5.41 20L4 18.59l7.72-7.72 1.47 1.35L5.41 20z\"/>\n",
              "  </svg>\n",
              "      </button>\n",
              "      \n",
              "  <style>\n",
              "    .colab-df-container {\n",
              "      display:flex;\n",
              "      flex-wrap:wrap;\n",
              "      gap: 12px;\n",
              "    }\n",
              "\n",
              "    .colab-df-convert {\n",
              "      background-color: #E8F0FE;\n",
              "      border: none;\n",
              "      border-radius: 50%;\n",
              "      cursor: pointer;\n",
              "      display: none;\n",
              "      fill: #1967D2;\n",
              "      height: 32px;\n",
              "      padding: 0 0 0 0;\n",
              "      width: 32px;\n",
              "    }\n",
              "\n",
              "    .colab-df-convert:hover {\n",
              "      background-color: #E2EBFA;\n",
              "      box-shadow: 0px 1px 2px rgba(60, 64, 67, 0.3), 0px 1px 3px 1px rgba(60, 64, 67, 0.15);\n",
              "      fill: #174EA6;\n",
              "    }\n",
              "\n",
              "    [theme=dark] .colab-df-convert {\n",
              "      background-color: #3B4455;\n",
              "      fill: #D2E3FC;\n",
              "    }\n",
              "\n",
              "    [theme=dark] .colab-df-convert:hover {\n",
              "      background-color: #434B5C;\n",
              "      box-shadow: 0px 1px 3px 1px rgba(0, 0, 0, 0.15);\n",
              "      filter: drop-shadow(0px 1px 2px rgba(0, 0, 0, 0.3));\n",
              "      fill: #FFFFFF;\n",
              "    }\n",
              "  </style>\n",
              "\n",
              "      <script>\n",
              "        const buttonEl =\n",
              "          document.querySelector('#df-63fcf2ab-90a9-4cb4-a4a8-b09b532c1008 button.colab-df-convert');\n",
              "        buttonEl.style.display =\n",
              "          google.colab.kernel.accessAllowed ? 'block' : 'none';\n",
              "\n",
              "        async function convertToInteractive(key) {\n",
              "          const element = document.querySelector('#df-63fcf2ab-90a9-4cb4-a4a8-b09b532c1008');\n",
              "          const dataTable =\n",
              "            await google.colab.kernel.invokeFunction('convertToInteractive',\n",
              "                                                     [key], {});\n",
              "          if (!dataTable) return;\n",
              "\n",
              "          const docLinkHtml = 'Like what you see? Visit the ' +\n",
              "            '<a target=\"_blank\" href=https://colab.research.google.com/notebooks/data_table.ipynb>data table notebook</a>'\n",
              "            + ' to learn more about interactive tables.';\n",
              "          element.innerHTML = '';\n",
              "          dataTable['output_type'] = 'display_data';\n",
              "          await google.colab.output.renderOutput(dataTable, element);\n",
              "          const docLink = document.createElement('div');\n",
              "          docLink.innerHTML = docLinkHtml;\n",
              "          element.appendChild(docLink);\n",
              "        }\n",
              "      </script>\n",
              "    </div>\n",
              "  </div>\n",
              "  "
            ]
          },
          "metadata": {},
          "execution_count": 88
        }
      ]
    },
    {
      "cell_type": "markdown",
      "source": [
        "Sau la nivel de coloane:"
      ],
      "metadata": {
        "id": "B9rzPUv423pm"
      }
    },
    {
      "cell_type": "code",
      "source": [
        "df_concat = pd.concat([df1, df2], axis=1)\n",
        "df_concat"
      ],
      "metadata": {
        "colab": {
          "base_uri": "https://localhost:8080/",
          "height": 175
        },
        "id": "el_2Iv6G25ju",
        "outputId": "5ce03d06-9b4f-4d78-f383-fe1f77bec226"
      },
      "execution_count": null,
      "outputs": [
        {
          "output_type": "execute_result",
          "data": {
            "text/plain": [
              "   col_1 col_2  col_1 col_2\n",
              "0      3     a      3     a\n",
              "1      2     b      2     b\n",
              "2      1     c      1     c\n",
              "3      0     d      0     d"
            ],
            "text/html": [
              "\n",
              "  <div id=\"df-c4a1b5bc-4ae1-496f-a64b-f61d46cb1265\">\n",
              "    <div class=\"colab-df-container\">\n",
              "      <div>\n",
              "<style scoped>\n",
              "    .dataframe tbody tr th:only-of-type {\n",
              "        vertical-align: middle;\n",
              "    }\n",
              "\n",
              "    .dataframe tbody tr th {\n",
              "        vertical-align: top;\n",
              "    }\n",
              "\n",
              "    .dataframe thead th {\n",
              "        text-align: right;\n",
              "    }\n",
              "</style>\n",
              "<table border=\"1\" class=\"dataframe\">\n",
              "  <thead>\n",
              "    <tr style=\"text-align: right;\">\n",
              "      <th></th>\n",
              "      <th>col_1</th>\n",
              "      <th>col_2</th>\n",
              "      <th>col_1</th>\n",
              "      <th>col_2</th>\n",
              "    </tr>\n",
              "  </thead>\n",
              "  <tbody>\n",
              "    <tr>\n",
              "      <th>0</th>\n",
              "      <td>3</td>\n",
              "      <td>a</td>\n",
              "      <td>3</td>\n",
              "      <td>a</td>\n",
              "    </tr>\n",
              "    <tr>\n",
              "      <th>1</th>\n",
              "      <td>2</td>\n",
              "      <td>b</td>\n",
              "      <td>2</td>\n",
              "      <td>b</td>\n",
              "    </tr>\n",
              "    <tr>\n",
              "      <th>2</th>\n",
              "      <td>1</td>\n",
              "      <td>c</td>\n",
              "      <td>1</td>\n",
              "      <td>c</td>\n",
              "    </tr>\n",
              "    <tr>\n",
              "      <th>3</th>\n",
              "      <td>0</td>\n",
              "      <td>d</td>\n",
              "      <td>0</td>\n",
              "      <td>d</td>\n",
              "    </tr>\n",
              "  </tbody>\n",
              "</table>\n",
              "</div>\n",
              "      <button class=\"colab-df-convert\" onclick=\"convertToInteractive('df-c4a1b5bc-4ae1-496f-a64b-f61d46cb1265')\"\n",
              "              title=\"Convert this dataframe to an interactive table.\"\n",
              "              style=\"display:none;\">\n",
              "        \n",
              "  <svg xmlns=\"http://www.w3.org/2000/svg\" height=\"24px\"viewBox=\"0 0 24 24\"\n",
              "       width=\"24px\">\n",
              "    <path d=\"M0 0h24v24H0V0z\" fill=\"none\"/>\n",
              "    <path d=\"M18.56 5.44l.94 2.06.94-2.06 2.06-.94-2.06-.94-.94-2.06-.94 2.06-2.06.94zm-11 1L8.5 8.5l.94-2.06 2.06-.94-2.06-.94L8.5 2.5l-.94 2.06-2.06.94zm10 10l.94 2.06.94-2.06 2.06-.94-2.06-.94-.94-2.06-.94 2.06-2.06.94z\"/><path d=\"M17.41 7.96l-1.37-1.37c-.4-.4-.92-.59-1.43-.59-.52 0-1.04.2-1.43.59L10.3 9.45l-7.72 7.72c-.78.78-.78 2.05 0 2.83L4 21.41c.39.39.9.59 1.41.59.51 0 1.02-.2 1.41-.59l7.78-7.78 2.81-2.81c.8-.78.8-2.07 0-2.86zM5.41 20L4 18.59l7.72-7.72 1.47 1.35L5.41 20z\"/>\n",
              "  </svg>\n",
              "      </button>\n",
              "      \n",
              "  <style>\n",
              "    .colab-df-container {\n",
              "      display:flex;\n",
              "      flex-wrap:wrap;\n",
              "      gap: 12px;\n",
              "    }\n",
              "\n",
              "    .colab-df-convert {\n",
              "      background-color: #E8F0FE;\n",
              "      border: none;\n",
              "      border-radius: 50%;\n",
              "      cursor: pointer;\n",
              "      display: none;\n",
              "      fill: #1967D2;\n",
              "      height: 32px;\n",
              "      padding: 0 0 0 0;\n",
              "      width: 32px;\n",
              "    }\n",
              "\n",
              "    .colab-df-convert:hover {\n",
              "      background-color: #E2EBFA;\n",
              "      box-shadow: 0px 1px 2px rgba(60, 64, 67, 0.3), 0px 1px 3px 1px rgba(60, 64, 67, 0.15);\n",
              "      fill: #174EA6;\n",
              "    }\n",
              "\n",
              "    [theme=dark] .colab-df-convert {\n",
              "      background-color: #3B4455;\n",
              "      fill: #D2E3FC;\n",
              "    }\n",
              "\n",
              "    [theme=dark] .colab-df-convert:hover {\n",
              "      background-color: #434B5C;\n",
              "      box-shadow: 0px 1px 3px 1px rgba(0, 0, 0, 0.15);\n",
              "      filter: drop-shadow(0px 1px 2px rgba(0, 0, 0, 0.3));\n",
              "      fill: #FFFFFF;\n",
              "    }\n",
              "  </style>\n",
              "\n",
              "      <script>\n",
              "        const buttonEl =\n",
              "          document.querySelector('#df-c4a1b5bc-4ae1-496f-a64b-f61d46cb1265 button.colab-df-convert');\n",
              "        buttonEl.style.display =\n",
              "          google.colab.kernel.accessAllowed ? 'block' : 'none';\n",
              "\n",
              "        async function convertToInteractive(key) {\n",
              "          const element = document.querySelector('#df-c4a1b5bc-4ae1-496f-a64b-f61d46cb1265');\n",
              "          const dataTable =\n",
              "            await google.colab.kernel.invokeFunction('convertToInteractive',\n",
              "                                                     [key], {});\n",
              "          if (!dataTable) return;\n",
              "\n",
              "          const docLinkHtml = 'Like what you see? Visit the ' +\n",
              "            '<a target=\"_blank\" href=https://colab.research.google.com/notebooks/data_table.ipynb>data table notebook</a>'\n",
              "            + ' to learn more about interactive tables.';\n",
              "          element.innerHTML = '';\n",
              "          dataTable['output_type'] = 'display_data';\n",
              "          await google.colab.output.renderOutput(dataTable, element);\n",
              "          const docLink = document.createElement('div');\n",
              "          docLink.innerHTML = docLinkHtml;\n",
              "          element.appendChild(docLink);\n",
              "        }\n",
              "      </script>\n",
              "    </div>\n",
              "  </div>\n",
              "  "
            ]
          },
          "metadata": {},
          "execution_count": 89
        }
      ]
    },
    {
      "cell_type": "markdown",
      "source": [
        "## MatPlotLib"
      ],
      "metadata": {
        "id": "wJzYdT1VoGY1"
      }
    },
    {
      "cell_type": "markdown",
      "source": [
        "Matplotlib vine de la Mathematical Plotting Library. Este folosit pentru a realiza analiza exploratorie și vizualizarea datelor.\n",
        "\n",
        "De ce este important să analizezi și să vizualizezi datele?\n",
        "\n",
        "Un exemplu foarte bun care surprinde această nevoie este \"Cvartetul lui Anscome\"(\"Anscombe's quartet\"). Acest exemplu cuprinde 4 dataset-uri care sunt aproape identice din punct de vedere statistic. Au aproximativ aceeași medie pe Ox și Oy, aceeași deviație standard pe ambele axe, aceeași corelație între valorile absciselor și ale ordonatelor. Implicit, dacă ar fi să aplicăm \"în orb\" un model liniar, așa cum este regresia liniară în care nu vom intra în detalii. Dacă încercăm să facem o vizualizare a acestor 4 dataset-uri vom obține niște concluzii cel puțin interesante. Primul dataset pare să urmeze o relație liniară cu puțin noise gaussian pe alocuri. Al doilea dataset pe de alta parte surprinde o relație neliniară între puncte care ar putea fi cel mai bine modelată de o regresie polinomială și nu de această regresie liniară. Al treilea este tot un dataset cu o relație liniară existentă între caracteristicile lui, totuși prezentând un outlier important. Ultimul dataset curpinde și el un outlier mult mai pregnant, dar fiindcă aproape toate punctele au aceeași valoare pe Ox, deci nu putem trage o concluzie vizavi de corelația lor. În esență, cea mai importantă idee este că datele pot să difere foarte mult, iar uneori instrumentele pe care le oferă statistica nu sunt suficiente pentru a explica acele dataseturi pe de o parte, iar pe de alta uneori vizualizarea datelor ne poate furniza insight-uri legat de ce modele am putea folosi pentru aceste date și ne pot ajuta să gasim noi feature-uri."
      ],
      "metadata": {
        "id": "smfjSxLt32gi"
      }
    },
    {
      "cell_type": "markdown",
      "source": [
        "![image.png](data:image/png;base64,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)"
      ],
      "metadata": {
        "id": "dY9hVnf24xbD"
      }
    },
    {
      "cell_type": "markdown",
      "source": [
        "Cele mai folosite funcții din matplotlib se găsesc în submodulul pyplot, iar alias-ul de import folosit cel mai des este plt."
      ],
      "metadata": {
        "id": "gJ6l5BbV43rA"
      }
    },
    {
      "cell_type": "code",
      "source": [
        "import matplotlib.pyplot as plt\n",
        "import numpy as np"
      ],
      "metadata": {
        "id": "jUOP5pWC4_gI"
      },
      "execution_count": null,
      "outputs": []
    },
    {
      "cell_type": "markdown",
      "source": [
        "## Tipuri de plot-uri"
      ],
      "metadata": {
        "id": "GgGOxBZU5Kd4"
      }
    },
    {
      "cell_type": "markdown",
      "source": [
        "Liniar:"
      ],
      "metadata": {
        "id": "kFjkIeCi5Mf4"
      }
    },
    {
      "cell_type": "code",
      "source": [
        "x = np.array([1, 2, 3, 4, 5, 6])\n",
        "y = np.array([1, 5, 3, 5, 7, 8])\n",
        "\n",
        "plt.plot(x, y)\n",
        "plt.show()"
      ],
      "metadata": {
        "colab": {
          "base_uri": "https://localhost:8080/",
          "height": 265
        },
        "id": "kwY6BuFc5NSz",
        "outputId": "70b9b148-ad32-47a8-eb7f-a73b1a57d64d"
      },
      "execution_count": null,
      "outputs": [
        {
          "output_type": "display_data",
          "data": {
            "text/plain": [
              "<Figure size 432x288 with 1 Axes>"
            ],
            "image/png": "[encoded data removed]"
          },
          "metadata": {
            "needs_background": "light"
          }
        }
      ]
    },
    {
      "cell_type": "markdown",
      "source": [
        "Scattered:"
      ],
      "metadata": {
        "id": "xTz-oVBf5RAb"
      }
    },
    {
      "cell_type": "code",
      "source": [
        "x_values = np.array([5, 7, 8, 7, 2, 17, 2, 9, 4, 11, 12, 9, 6])\n",
        "y_values = np.array([99, 86, 87, 88, 111, 86, 103, 87, 94, 78, 77, 85, 86])\n",
        "\n",
        "\n",
        "plt.scatter(x, y)\n",
        "plt.show()"
      ],
      "metadata": {
        "colab": {
          "base_uri": "https://localhost:8080/",
          "height": 265
        },
        "id": "7agqnqF25YH2",
        "outputId": "e611cf96-80bb-472e-e670-e6573c1def80"
      },
      "execution_count": null,
      "outputs": [
        {
          "output_type": "display_data",
          "data": {
            "text/plain": [
              "<Figure size 432x288 with 1 Axes>"
            ],
            "image/png": "[encoded data removed]"
          },
          "metadata": {
            "needs_background": "light"
          }
        }
      ]
    },
    {
      "cell_type": "markdown",
      "source": [
        "Histogramă:"
      ],
      "metadata": {
        "id": "EmKBYfOA5eK0"
      }
    },
    {
      "cell_type": "code",
      "source": [
        "x = np.random.normal(170, 10, 250)\n",
        "\n",
        "plt.hist(x)\n",
        "plt.show()"
      ],
      "metadata": {
        "colab": {
          "base_uri": "https://localhost:8080/",
          "height": 265
        },
        "id": "C9zv5m0g5kph",
        "outputId": "db5ff2aa-36db-446d-da82-cc49b1ebf147"
      },
      "execution_count": null,
      "outputs": [
        {
          "output_type": "display_data",
          "data": {
            "text/plain": [
              "<Figure size 432x288 with 1 Axes>"
            ],
            "image/png": "[encoded data removed]"
          },
          "metadata": {
            "needs_background": "light"
          }
        }
      ]
    },
    {
      "cell_type": "markdown",
      "source": [
        "Barchart:"
      ],
      "metadata": {
        "id": "0rUnw8w45qri"
      }
    },
    {
      "cell_type": "code",
      "source": [
        "fig = plt.figure()\n",
        "ax = fig.add_axes([1, 1, 1, 1])\n",
        "langs = ['C', 'C++', 'Java', 'Python', 'PHP']\n",
        "students = [23, 17, 35, 29, 12]\n",
        "ax.bar(langs, students)\n",
        "plt.show()"
      ],
      "metadata": {
        "colab": {
          "base_uri": "https://localhost:8080/",
          "height": 336
        },
        "id": "vyutl2w65sXK",
        "outputId": "b51dc944-d1bc-4a27-e299-5cdc8e663670"
      },
      "execution_count": null,
      "outputs": [
        {
          "output_type": "display_data",
          "data": {
            "text/plain": [
              "<Figure size 432x288 with 1 Axes>"
            ],
            "image/png": "[encoded data removed]"
          },
          "metadata": {
            "needs_background": "light"
          }
        }
      ]
    },
    {
      "cell_type": "markdown",
      "source": [
        "## WorldCloud"
      ],
      "metadata": {
        "id": "l56VUVCncsfv"
      }
    },
    {
      "cell_type": "code",
      "execution_count": null,
      "metadata": {
        "id": "LVd4-qbi0_fO",
        "colab": {
          "base_uri": "https://localhost:8080/"
        },
        "outputId": "f8a5156e-532e-4152-a262-a2e34c9f8757"
      },
      "outputs": [
        {
          "output_type": "stream",
          "name": "stdout",
          "text": [
            "Looking in indexes: https://pypi.org/simple, https://us-python.pkg.dev/colab-wheels/public/simple/\n",
            "Requirement already satisfied: wordcloud in /usr/local/lib/python3.8/dist-packages (1.8.2.2)\n",
            "Requirement already satisfied: numpy>=1.6.1 in /usr/local/lib/python3.8/dist-packages (from wordcloud) (1.22.4)\n",
            "Requirement already satisfied: matplotlib in /usr/local/lib/python3.8/dist-packages (from wordcloud) (3.5.3)\n",
            "Requirement already satisfied: pillow in /usr/local/lib/python3.8/dist-packages (from wordcloud) (8.4.0)\n",
            "Requirement already satisfied: fonttools>=4.22.0 in /usr/local/lib/python3.8/dist-packages (from matplotlib->wordcloud) (4.38.0)\n",
            "Requirement already satisfied: kiwisolver>=1.0.1 in /usr/local/lib/python3.8/dist-packages (from matplotlib->wordcloud) (1.4.4)\n",
            "Requirement already satisfied: cycler>=0.10 in /usr/local/lib/python3.8/dist-packages (from matplotlib->wordcloud) (0.11.0)\n",
            "Requirement already satisfied: python-dateutil>=2.7 in /usr/local/lib/python3.8/dist-packages (from matplotlib->wordcloud) (2.8.2)\n",
            "Requirement already satisfied: packaging>=20.0 in /usr/local/lib/python3.8/dist-packages (from matplotlib->wordcloud) (23.0)\n",
            "Requirement already satisfied: pyparsing>=2.2.1 in /usr/local/lib/python3.8/dist-packages (from matplotlib->wordcloud) (3.0.9)\n",
            "Requirement already satisfied: six>=1.5 in /usr/local/lib/python3.8/dist-packages (from python-dateutil>=2.7->matplotlib->wordcloud) (1.15.0)\n"
          ]
        }
      ],
      "source": [
        "!pip install wordcloud"
      ]
    },
    {
      "cell_type": "code",
      "execution_count": null,
      "metadata": {
        "colab": {
          "base_uri": "https://localhost:8080/",
          "height": 198
        },
        "id": "g39Nkrwm0Tbr",
        "outputId": "89cbe1d3-a052-46a4-bdc2-4a3aae12dbac"
      },
      "outputs": [
        {
          "output_type": "display_data",
          "data": {
            "text/plain": [
              "<Figure size 432x288 with 1 Axes>"
            ],
            "image/png": "[encoded data removed]"
          },
          "metadata": {
            "needs_background": "light"
          }
        }
      ],
      "source": [
        "from wordcloud import WordCloud\n",
        "\n",
        "text = \" \".join(df[\"Description\"].to_list())\n",
        "\n",
        "wordcloud = WordCloud(max_font_size=50, max_words=100, background_color=\"white\").generate(text)\n",
        "\n",
        "plt.figure()\n",
        "plt.imshow(wordcloud, interpolation=\"bilinear\")\n",
        "plt.axis(\"off\")\n",
        "plt.show()"
      ]
    }
  ]
}